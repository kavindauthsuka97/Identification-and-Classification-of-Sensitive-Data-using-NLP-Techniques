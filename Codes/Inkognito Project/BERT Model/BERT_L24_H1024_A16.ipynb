{
  "cells": [
    {
      "cell_type": "code",
      "execution_count": 1,
      "metadata": {
        "id": "8foc2IVmRiLu"
      },
      "outputs": [],
      "source": [
        "import seaborn as sns\n",
        "from imblearn.over_sampling import RandomOverSampler\n",
        "from collections import Counter\n",
        "import matplotlib.pyplot as plt"
      ]
    },
    {
      "cell_type": "code",
      "execution_count": 2,
      "metadata": {
        "colab": {
          "base_uri": "https://localhost:8080/"
        },
        "id": "drPMht9HxIJn",
        "outputId": "9e94815c-12ea-42cd-97c4-7525262a0efd"
      },
      "outputs": [
        {
          "output_type": "stream",
          "name": "stdout",
          "text": [
            "Looking in indexes: https://pypi.org/simple, https://us-python.pkg.dev/colab-wheels/public/simple/\n",
            "Requirement already satisfied: tensorflow in /usr/local/lib/python3.8/dist-packages (2.11.0)\n",
            "Requirement already satisfied: flatbuffers>=2.0 in /usr/local/lib/python3.8/dist-packages (from tensorflow) (23.1.21)\n",
            "Requirement already satisfied: packaging in /usr/local/lib/python3.8/dist-packages (from tensorflow) (23.0)\n",
            "Requirement already satisfied: setuptools in /usr/local/lib/python3.8/dist-packages (from tensorflow) (57.4.0)\n",
            "Requirement already satisfied: tensorflow-estimator<2.12,>=2.11.0 in /usr/local/lib/python3.8/dist-packages (from tensorflow) (2.11.0)\n",
            "Requirement already satisfied: termcolor>=1.1.0 in /usr/local/lib/python3.8/dist-packages (from tensorflow) (2.2.0)\n",
            "Requirement already satisfied: libclang>=13.0.0 in /usr/local/lib/python3.8/dist-packages (from tensorflow) (15.0.6.1)\n",
            "Requirement already satisfied: opt-einsum>=2.3.2 in /usr/local/lib/python3.8/dist-packages (from tensorflow) (3.3.0)\n",
            "Requirement already satisfied: keras<2.12,>=2.11.0 in /usr/local/lib/python3.8/dist-packages (from tensorflow) (2.11.0)\n",
            "Requirement already satisfied: typing-extensions>=3.6.6 in /usr/local/lib/python3.8/dist-packages (from tensorflow) (4.5.0)\n",
            "Requirement already satisfied: absl-py>=1.0.0 in /usr/local/lib/python3.8/dist-packages (from tensorflow) (1.4.0)\n",
            "Requirement already satisfied: protobuf<3.20,>=3.9.2 in /usr/local/lib/python3.8/dist-packages (from tensorflow) (3.19.6)\n",
            "Requirement already satisfied: numpy>=1.20 in /usr/local/lib/python3.8/dist-packages (from tensorflow) (1.22.4)\n",
            "Requirement already satisfied: tensorflow-io-gcs-filesystem>=0.23.1 in /usr/local/lib/python3.8/dist-packages (from tensorflow) (0.31.0)\n",
            "Requirement already satisfied: gast<=0.4.0,>=0.2.1 in /usr/local/lib/python3.8/dist-packages (from tensorflow) (0.4.0)\n",
            "Requirement already satisfied: google-pasta>=0.1.1 in /usr/local/lib/python3.8/dist-packages (from tensorflow) (0.2.0)\n",
            "Requirement already satisfied: astunparse>=1.6.0 in /usr/local/lib/python3.8/dist-packages (from tensorflow) (1.6.3)\n",
            "Requirement already satisfied: wrapt>=1.11.0 in /usr/local/lib/python3.8/dist-packages (from tensorflow) (1.15.0)\n",
            "Requirement already satisfied: six>=1.12.0 in /usr/local/lib/python3.8/dist-packages (from tensorflow) (1.15.0)\n",
            "Requirement already satisfied: tensorboard<2.12,>=2.11 in /usr/local/lib/python3.8/dist-packages (from tensorflow) (2.11.2)\n",
            "Requirement already satisfied: h5py>=2.9.0 in /usr/local/lib/python3.8/dist-packages (from tensorflow) (3.1.0)\n",
            "Requirement already satisfied: grpcio<2.0,>=1.24.3 in /usr/local/lib/python3.8/dist-packages (from tensorflow) (1.51.3)\n",
            "Requirement already satisfied: wheel<1.0,>=0.23.0 in /usr/local/lib/python3.8/dist-packages (from astunparse>=1.6.0->tensorflow) (0.38.4)\n",
            "Requirement already satisfied: requests<3,>=2.21.0 in /usr/local/lib/python3.8/dist-packages (from tensorboard<2.12,>=2.11->tensorflow) (2.25.1)\n",
            "Requirement already satisfied: tensorboard-plugin-wit>=1.6.0 in /usr/local/lib/python3.8/dist-packages (from tensorboard<2.12,>=2.11->tensorflow) (1.8.1)\n",
            "Requirement already satisfied: google-auth-oauthlib<0.5,>=0.4.1 in /usr/local/lib/python3.8/dist-packages (from tensorboard<2.12,>=2.11->tensorflow) (0.4.6)\n",
            "Requirement already satisfied: tensorboard-data-server<0.7.0,>=0.6.0 in /usr/local/lib/python3.8/dist-packages (from tensorboard<2.12,>=2.11->tensorflow) (0.6.1)\n",
            "Requirement already satisfied: markdown>=2.6.8 in /usr/local/lib/python3.8/dist-packages (from tensorboard<2.12,>=2.11->tensorflow) (3.4.1)\n",
            "Requirement already satisfied: google-auth<3,>=1.6.3 in /usr/local/lib/python3.8/dist-packages (from tensorboard<2.12,>=2.11->tensorflow) (2.16.1)\n",
            "Requirement already satisfied: werkzeug>=1.0.1 in /usr/local/lib/python3.8/dist-packages (from tensorboard<2.12,>=2.11->tensorflow) (2.2.3)\n",
            "Requirement already satisfied: rsa<5,>=3.1.4 in /usr/local/lib/python3.8/dist-packages (from google-auth<3,>=1.6.3->tensorboard<2.12,>=2.11->tensorflow) (4.9)\n",
            "Requirement already satisfied: cachetools<6.0,>=2.0.0 in /usr/local/lib/python3.8/dist-packages (from google-auth<3,>=1.6.3->tensorboard<2.12,>=2.11->tensorflow) (5.3.0)\n",
            "Requirement already satisfied: pyasn1-modules>=0.2.1 in /usr/local/lib/python3.8/dist-packages (from google-auth<3,>=1.6.3->tensorboard<2.12,>=2.11->tensorflow) (0.2.8)\n",
            "Requirement already satisfied: requests-oauthlib>=0.7.0 in /usr/local/lib/python3.8/dist-packages (from google-auth-oauthlib<0.5,>=0.4.1->tensorboard<2.12,>=2.11->tensorflow) (1.3.1)\n",
            "Requirement already satisfied: importlib-metadata>=4.4 in /usr/local/lib/python3.8/dist-packages (from markdown>=2.6.8->tensorboard<2.12,>=2.11->tensorflow) (6.0.0)\n",
            "Requirement already satisfied: urllib3<1.27,>=1.21.1 in /usr/local/lib/python3.8/dist-packages (from requests<3,>=2.21.0->tensorboard<2.12,>=2.11->tensorflow) (1.26.14)\n",
            "Requirement already satisfied: chardet<5,>=3.0.2 in /usr/local/lib/python3.8/dist-packages (from requests<3,>=2.21.0->tensorboard<2.12,>=2.11->tensorflow) (4.0.0)\n",
            "Requirement already satisfied: certifi>=2017.4.17 in /usr/local/lib/python3.8/dist-packages (from requests<3,>=2.21.0->tensorboard<2.12,>=2.11->tensorflow) (2022.12.7)\n",
            "Requirement already satisfied: idna<3,>=2.5 in /usr/local/lib/python3.8/dist-packages (from requests<3,>=2.21.0->tensorboard<2.12,>=2.11->tensorflow) (2.10)\n",
            "Requirement already satisfied: MarkupSafe>=2.1.1 in /usr/local/lib/python3.8/dist-packages (from werkzeug>=1.0.1->tensorboard<2.12,>=2.11->tensorflow) (2.1.2)\n",
            "Requirement already satisfied: zipp>=0.5 in /usr/local/lib/python3.8/dist-packages (from importlib-metadata>=4.4->markdown>=2.6.8->tensorboard<2.12,>=2.11->tensorflow) (3.15.0)\n",
            "Requirement already satisfied: pyasn1<0.5.0,>=0.4.6 in /usr/local/lib/python3.8/dist-packages (from pyasn1-modules>=0.2.1->google-auth<3,>=1.6.3->tensorboard<2.12,>=2.11->tensorflow) (0.4.8)\n",
            "Requirement already satisfied: oauthlib>=3.0.0 in /usr/local/lib/python3.8/dist-packages (from requests-oauthlib>=0.7.0->google-auth-oauthlib<0.5,>=0.4.1->tensorboard<2.12,>=2.11->tensorflow) (3.2.2)\n"
          ]
        }
      ],
      "source": [
        "!pip install tensorflow\n",
        "import tensorflow as tf"
      ]
    },
    {
      "cell_type": "code",
      "execution_count": 3,
      "metadata": {
        "id": "7iToPLqQP1RX",
        "scrolled": true,
        "colab": {
          "base_uri": "https://localhost:8080/"
        },
        "outputId": "2fb48570-9471-4212-9007-4d21fa8ea238"
      },
      "outputs": [
        {
          "output_type": "stream",
          "name": "stdout",
          "text": [
            "Looking in indexes: https://pypi.org/simple, https://us-python.pkg.dev/colab-wheels/public/simple/\n",
            "Requirement already satisfied: tensorflow_hub in /usr/local/lib/python3.8/dist-packages (0.12.0)\n",
            "Requirement already satisfied: protobuf>=3.8.0 in /usr/local/lib/python3.8/dist-packages (from tensorflow_hub) (3.19.6)\n",
            "Requirement already satisfied: numpy>=1.12.0 in /usr/local/lib/python3.8/dist-packages (from tensorflow_hub) (1.22.4)\n"
          ]
        }
      ],
      "source": [
        "!pip install tensorflow_hub\n",
        "import tensorflow_hub as hub"
      ]
    },
    {
      "cell_type": "code",
      "execution_count": 4,
      "metadata": {
        "colab": {
          "base_uri": "https://localhost:8080/"
        },
        "id": "zsDW-X7dQMKY",
        "outputId": "cb3b1f30-2fc5-42c5-fa96-9d09992f9509"
      },
      "outputs": [
        {
          "output_type": "stream",
          "name": "stdout",
          "text": [
            "Looking in indexes: https://pypi.org/simple, https://us-python.pkg.dev/colab-wheels/public/simple/\n",
            "Collecting tensorflow_text\n",
            "  Downloading tensorflow_text-2.11.0-cp38-cp38-manylinux_2_17_x86_64.manylinux2014_x86_64.whl (5.8 MB)\n",
            "\u001b[2K     \u001b[90m━━━━━━━━━━━━━━━━━━━━━━━━━━━━━━━━━━━━━━━━\u001b[0m \u001b[32m5.8/5.8 MB\u001b[0m \u001b[31m93.3 MB/s\u001b[0m eta \u001b[36m0:00:00\u001b[0m\n",
            "\u001b[?25hRequirement already satisfied: tensorflow<2.12,>=2.11.0 in /usr/local/lib/python3.8/dist-packages (from tensorflow_text) (2.11.0)\n",
            "Requirement already satisfied: tensorflow-hub>=0.8.0 in /usr/local/lib/python3.8/dist-packages (from tensorflow_text) (0.12.0)\n",
            "Requirement already satisfied: setuptools in /usr/local/lib/python3.8/dist-packages (from tensorflow<2.12,>=2.11.0->tensorflow_text) (57.4.0)\n",
            "Requirement already satisfied: keras<2.12,>=2.11.0 in /usr/local/lib/python3.8/dist-packages (from tensorflow<2.12,>=2.11.0->tensorflow_text) (2.11.0)\n",
            "Requirement already satisfied: flatbuffers>=2.0 in /usr/local/lib/python3.8/dist-packages (from tensorflow<2.12,>=2.11.0->tensorflow_text) (23.1.21)\n",
            "Requirement already satisfied: astunparse>=1.6.0 in /usr/local/lib/python3.8/dist-packages (from tensorflow<2.12,>=2.11.0->tensorflow_text) (1.6.3)\n",
            "Requirement already satisfied: absl-py>=1.0.0 in /usr/local/lib/python3.8/dist-packages (from tensorflow<2.12,>=2.11.0->tensorflow_text) (1.4.0)\n",
            "Requirement already satisfied: libclang>=13.0.0 in /usr/local/lib/python3.8/dist-packages (from tensorflow<2.12,>=2.11.0->tensorflow_text) (15.0.6.1)\n",
            "Requirement already satisfied: termcolor>=1.1.0 in /usr/local/lib/python3.8/dist-packages (from tensorflow<2.12,>=2.11.0->tensorflow_text) (2.2.0)\n",
            "Requirement already satisfied: gast<=0.4.0,>=0.2.1 in /usr/local/lib/python3.8/dist-packages (from tensorflow<2.12,>=2.11.0->tensorflow_text) (0.4.0)\n",
            "Requirement already satisfied: wrapt>=1.11.0 in /usr/local/lib/python3.8/dist-packages (from tensorflow<2.12,>=2.11.0->tensorflow_text) (1.15.0)\n",
            "Requirement already satisfied: tensorflow-io-gcs-filesystem>=0.23.1 in /usr/local/lib/python3.8/dist-packages (from tensorflow<2.12,>=2.11.0->tensorflow_text) (0.31.0)\n",
            "Requirement already satisfied: tensorflow-estimator<2.12,>=2.11.0 in /usr/local/lib/python3.8/dist-packages (from tensorflow<2.12,>=2.11.0->tensorflow_text) (2.11.0)\n",
            "Requirement already satisfied: h5py>=2.9.0 in /usr/local/lib/python3.8/dist-packages (from tensorflow<2.12,>=2.11.0->tensorflow_text) (3.1.0)\n",
            "Requirement already satisfied: numpy>=1.20 in /usr/local/lib/python3.8/dist-packages (from tensorflow<2.12,>=2.11.0->tensorflow_text) (1.22.4)\n",
            "Requirement already satisfied: grpcio<2.0,>=1.24.3 in /usr/local/lib/python3.8/dist-packages (from tensorflow<2.12,>=2.11.0->tensorflow_text) (1.51.3)\n",
            "Requirement already satisfied: packaging in /usr/local/lib/python3.8/dist-packages (from tensorflow<2.12,>=2.11.0->tensorflow_text) (23.0)\n",
            "Requirement already satisfied: six>=1.12.0 in /usr/local/lib/python3.8/dist-packages (from tensorflow<2.12,>=2.11.0->tensorflow_text) (1.15.0)\n",
            "Requirement already satisfied: google-pasta>=0.1.1 in /usr/local/lib/python3.8/dist-packages (from tensorflow<2.12,>=2.11.0->tensorflow_text) (0.2.0)\n",
            "Requirement already satisfied: typing-extensions>=3.6.6 in /usr/local/lib/python3.8/dist-packages (from tensorflow<2.12,>=2.11.0->tensorflow_text) (4.5.0)\n",
            "Requirement already satisfied: tensorboard<2.12,>=2.11 in /usr/local/lib/python3.8/dist-packages (from tensorflow<2.12,>=2.11.0->tensorflow_text) (2.11.2)\n",
            "Requirement already satisfied: protobuf<3.20,>=3.9.2 in /usr/local/lib/python3.8/dist-packages (from tensorflow<2.12,>=2.11.0->tensorflow_text) (3.19.6)\n",
            "Requirement already satisfied: opt-einsum>=2.3.2 in /usr/local/lib/python3.8/dist-packages (from tensorflow<2.12,>=2.11.0->tensorflow_text) (3.3.0)\n",
            "Requirement already satisfied: wheel<1.0,>=0.23.0 in /usr/local/lib/python3.8/dist-packages (from astunparse>=1.6.0->tensorflow<2.12,>=2.11.0->tensorflow_text) (0.38.4)\n",
            "Requirement already satisfied: markdown>=2.6.8 in /usr/local/lib/python3.8/dist-packages (from tensorboard<2.12,>=2.11->tensorflow<2.12,>=2.11.0->tensorflow_text) (3.4.1)\n",
            "Requirement already satisfied: werkzeug>=1.0.1 in /usr/local/lib/python3.8/dist-packages (from tensorboard<2.12,>=2.11->tensorflow<2.12,>=2.11.0->tensorflow_text) (2.2.3)\n",
            "Requirement already satisfied: requests<3,>=2.21.0 in /usr/local/lib/python3.8/dist-packages (from tensorboard<2.12,>=2.11->tensorflow<2.12,>=2.11.0->tensorflow_text) (2.25.1)\n",
            "Requirement already satisfied: tensorboard-plugin-wit>=1.6.0 in /usr/local/lib/python3.8/dist-packages (from tensorboard<2.12,>=2.11->tensorflow<2.12,>=2.11.0->tensorflow_text) (1.8.1)\n",
            "Requirement already satisfied: tensorboard-data-server<0.7.0,>=0.6.0 in /usr/local/lib/python3.8/dist-packages (from tensorboard<2.12,>=2.11->tensorflow<2.12,>=2.11.0->tensorflow_text) (0.6.1)\n",
            "Requirement already satisfied: google-auth<3,>=1.6.3 in /usr/local/lib/python3.8/dist-packages (from tensorboard<2.12,>=2.11->tensorflow<2.12,>=2.11.0->tensorflow_text) (2.16.1)\n",
            "Requirement already satisfied: google-auth-oauthlib<0.5,>=0.4.1 in /usr/local/lib/python3.8/dist-packages (from tensorboard<2.12,>=2.11->tensorflow<2.12,>=2.11.0->tensorflow_text) (0.4.6)\n",
            "Requirement already satisfied: rsa<5,>=3.1.4 in /usr/local/lib/python3.8/dist-packages (from google-auth<3,>=1.6.3->tensorboard<2.12,>=2.11->tensorflow<2.12,>=2.11.0->tensorflow_text) (4.9)\n",
            "Requirement already satisfied: cachetools<6.0,>=2.0.0 in /usr/local/lib/python3.8/dist-packages (from google-auth<3,>=1.6.3->tensorboard<2.12,>=2.11->tensorflow<2.12,>=2.11.0->tensorflow_text) (5.3.0)\n",
            "Requirement already satisfied: pyasn1-modules>=0.2.1 in /usr/local/lib/python3.8/dist-packages (from google-auth<3,>=1.6.3->tensorboard<2.12,>=2.11->tensorflow<2.12,>=2.11.0->tensorflow_text) (0.2.8)\n",
            "Requirement already satisfied: requests-oauthlib>=0.7.0 in /usr/local/lib/python3.8/dist-packages (from google-auth-oauthlib<0.5,>=0.4.1->tensorboard<2.12,>=2.11->tensorflow<2.12,>=2.11.0->tensorflow_text) (1.3.1)\n",
            "Requirement already satisfied: importlib-metadata>=4.4 in /usr/local/lib/python3.8/dist-packages (from markdown>=2.6.8->tensorboard<2.12,>=2.11->tensorflow<2.12,>=2.11.0->tensorflow_text) (6.0.0)\n",
            "Requirement already satisfied: urllib3<1.27,>=1.21.1 in /usr/local/lib/python3.8/dist-packages (from requests<3,>=2.21.0->tensorboard<2.12,>=2.11->tensorflow<2.12,>=2.11.0->tensorflow_text) (1.26.14)\n",
            "Requirement already satisfied: chardet<5,>=3.0.2 in /usr/local/lib/python3.8/dist-packages (from requests<3,>=2.21.0->tensorboard<2.12,>=2.11->tensorflow<2.12,>=2.11.0->tensorflow_text) (4.0.0)\n",
            "Requirement already satisfied: certifi>=2017.4.17 in /usr/local/lib/python3.8/dist-packages (from requests<3,>=2.21.0->tensorboard<2.12,>=2.11->tensorflow<2.12,>=2.11.0->tensorflow_text) (2022.12.7)\n",
            "Requirement already satisfied: idna<3,>=2.5 in /usr/local/lib/python3.8/dist-packages (from requests<3,>=2.21.0->tensorboard<2.12,>=2.11->tensorflow<2.12,>=2.11.0->tensorflow_text) (2.10)\n",
            "Requirement already satisfied: MarkupSafe>=2.1.1 in /usr/local/lib/python3.8/dist-packages (from werkzeug>=1.0.1->tensorboard<2.12,>=2.11->tensorflow<2.12,>=2.11.0->tensorflow_text) (2.1.2)\n",
            "Requirement already satisfied: zipp>=0.5 in /usr/local/lib/python3.8/dist-packages (from importlib-metadata>=4.4->markdown>=2.6.8->tensorboard<2.12,>=2.11->tensorflow<2.12,>=2.11.0->tensorflow_text) (3.15.0)\n",
            "Requirement already satisfied: pyasn1<0.5.0,>=0.4.6 in /usr/local/lib/python3.8/dist-packages (from pyasn1-modules>=0.2.1->google-auth<3,>=1.6.3->tensorboard<2.12,>=2.11->tensorflow<2.12,>=2.11.0->tensorflow_text) (0.4.8)\n",
            "Requirement already satisfied: oauthlib>=3.0.0 in /usr/local/lib/python3.8/dist-packages (from requests-oauthlib>=0.7.0->google-auth-oauthlib<0.5,>=0.4.1->tensorboard<2.12,>=2.11->tensorflow<2.12,>=2.11.0->tensorflow_text) (3.2.2)\n",
            "Installing collected packages: tensorflow_text\n",
            "Successfully installed tensorflow_text-2.11.0\n"
          ]
        }
      ],
      "source": [
        "!pip install tensorflow_text"
      ]
    },
    {
      "cell_type": "code",
      "execution_count": 5,
      "metadata": {
        "id": "nKoO_r_aQQh1"
      },
      "outputs": [],
      "source": [
        "import tensorflow_text as text"
      ]
    },
    {
      "cell_type": "markdown",
      "metadata": {
        "id": "ynVjNs-RQ-I8"
      },
      "source": [
        "### **Data Preprocessing**"
      ]
    },
    {
      "cell_type": "code",
      "execution_count": 6,
      "metadata": {
        "id": "m5dJeD6IQ7G6"
      },
      "outputs": [],
      "source": [
        "import pandas as pd\n",
        "\n",
        "data = pd.read_csv(\"updated_inkognito_trainingset.csv\")"
      ]
    },
    {
      "cell_type": "code",
      "execution_count": 7,
      "metadata": {
        "id": "OBJjf_Bh28cD"
      },
      "outputs": [],
      "source": [
        "df = data.iloc[:1500,:]"
      ]
    },
    {
      "cell_type": "code",
      "execution_count": 8,
      "metadata": {
        "colab": {
          "base_uri": "https://localhost:8080/"
        },
        "id": "3PJvsgbrRLf3",
        "outputId": "4dcdb762-8a18-41fb-c812-64a7be047973"
      },
      "outputs": [
        {
          "output_type": "stream",
          "name": "stderr",
          "text": [
            "/usr/local/lib/python3.8/dist-packages/pandas/core/frame.py:4906: SettingWithCopyWarning: \n",
            "A value is trying to be set on a copy of a slice from a DataFrame\n",
            "\n",
            "See the caveats in the documentation: https://pandas.pydata.org/pandas-docs/stable/user_guide/indexing.html#returning-a-view-versus-a-copy\n",
            "  return super().drop(\n"
          ]
        }
      ],
      "source": [
        "df.drop('Unnamed: 0',axis=1,inplace=True)"
      ]
    },
    {
      "cell_type": "code",
      "execution_count": 9,
      "metadata": {
        "colab": {
          "base_uri": "https://localhost:8080/",
          "height": 296
        },
        "id": "yv1lAU7URciz",
        "outputId": "3030de84-887c-4e54-c3e5-9ecb9adc5074"
      },
      "outputs": [
        {
          "output_type": "execute_result",
          "data": {
            "text/plain": [
              "<AxesSubplot:xlabel='Status', ylabel='count'>"
            ]
          },
          "metadata": {},
          "execution_count": 9
        },
        {
          "output_type": "display_data",
          "data": {
            "text/plain": [
              "<Figure size 432x288 with 1 Axes>"
            ],
            "image/png": "[encoded data removed]"
          },
          "metadata": {
            "needs_background": "light"
          }
        }
      ],
      "source": [
        "sns.countplot(x=df['Status'])"
      ]
    },
    {
      "cell_type": "code",
      "execution_count": 10,
      "metadata": {
        "colab": {
          "base_uri": "https://localhost:8080/"
        },
        "id": "_W_OONXFSmtN",
        "outputId": "d5c4f927-f9a9-4a3b-dad8-ad655c168de5"
      },
      "outputs": [
        {
          "output_type": "execute_result",
          "data": {
            "text/plain": [
              "False    1018\n",
              "True      482\n",
              "Name: Status, dtype: int64"
            ]
          },
          "metadata": {},
          "execution_count": 10
        }
      ],
      "source": [
        "df['Status'].value_counts()"
      ]
    },
    {
      "cell_type": "code",
      "execution_count": 11,
      "metadata": {
        "colab": {
          "base_uri": "https://localhost:8080/",
          "height": 206
        },
        "id": "4IKbkotVRxTQ",
        "outputId": "c45a260c-a654-4141-9973-8271818d24ce"
      },
      "outputs": [
        {
          "output_type": "execute_result",
          "data": {
            "text/plain": [
              "                                                text  Status\n",
              "0  @115712 I understand. I would like to assist y...   False\n",
              "1      @sprintcare and how do you propose we do that   False\n",
              "2  @sprintcare I have sent several private messag...   False\n",
              "3  @115712 Please send us a Private Message so th...   False\n",
              "4                                 @sprintcare I did.   False"
            ],
            "text/html": [
              "\n",
              "  <div id=\"df-e7b3ce43-f289-4912-9f54-aafc148fa82c\">\n",
              "    <div class=\"colab-df-container\">\n",
              "      <div>\n",
              "<style scoped>\n",
              "    .dataframe tbody tr th:only-of-type {\n",
              "        vertical-align: middle;\n",
              "    }\n",
              "\n",
              "    .dataframe tbody tr th {\n",
              "        vertical-align: top;\n",
              "    }\n",
              "\n",
              "    .dataframe thead th {\n",
              "        text-align: right;\n",
              "    }\n",
              "</style>\n",
              "<table border=\"1\" class=\"dataframe\">\n",
              "  <thead>\n",
              "    <tr style=\"text-align: right;\">\n",
              "      <th></th>\n",
              "      <th>text</th>\n",
              "      <th>Status</th>\n",
              "    </tr>\n",
              "  </thead>\n",
              "  <tbody>\n",
              "    <tr>\n",
              "      <th>0</th>\n",
              "      <td>@115712 I understand. I would like to assist y...</td>\n",
              "      <td>False</td>\n",
              "    </tr>\n",
              "    <tr>\n",
              "      <th>1</th>\n",
              "      <td>@sprintcare and how do you propose we do that</td>\n",
              "      <td>False</td>\n",
              "    </tr>\n",
              "    <tr>\n",
              "      <th>2</th>\n",
              "      <td>@sprintcare I have sent several private messag...</td>\n",
              "      <td>False</td>\n",
              "    </tr>\n",
              "    <tr>\n",
              "      <th>3</th>\n",
              "      <td>@115712 Please send us a Private Message so th...</td>\n",
              "      <td>False</td>\n",
              "    </tr>\n",
              "    <tr>\n",
              "      <th>4</th>\n",
              "      <td>@sprintcare I did.</td>\n",
              "      <td>False</td>\n",
              "    </tr>\n",
              "  </tbody>\n",
              "</table>\n",
              "</div>\n",
              "      <button class=\"colab-df-convert\" onclick=\"convertToInteractive('df-e7b3ce43-f289-4912-9f54-aafc148fa82c')\"\n",
              "              title=\"Convert this dataframe to an interactive table.\"\n",
              "              style=\"display:none;\">\n",
              "        \n",
              "  <svg xmlns=\"http://www.w3.org/2000/svg\" height=\"24px\"viewBox=\"0 0 24 24\"\n",
              "       width=\"24px\">\n",
              "    <path d=\"M0 0h24v24H0V0z\" fill=\"none\"/>\n",
              "    <path d=\"M18.56 5.44l.94 2.06.94-2.06 2.06-.94-2.06-.94-.94-2.06-.94 2.06-2.06.94zm-11 1L8.5 8.5l.94-2.06 2.06-.94-2.06-.94L8.5 2.5l-.94 2.06-2.06.94zm10 10l.94 2.06.94-2.06 2.06-.94-2.06-.94-.94-2.06-.94 2.06-2.06.94z\"/><path d=\"M17.41 7.96l-1.37-1.37c-.4-.4-.92-.59-1.43-.59-.52 0-1.04.2-1.43.59L10.3 9.45l-7.72 7.72c-.78.78-.78 2.05 0 2.83L4 21.41c.39.39.9.59 1.41.59.51 0 1.02-.2 1.41-.59l7.78-7.78 2.81-2.81c.8-.78.8-2.07 0-2.86zM5.41 20L4 18.59l7.72-7.72 1.47 1.35L5.41 20z\"/>\n",
              "  </svg>\n",
              "      </button>\n",
              "      \n",
              "  <style>\n",
              "    .colab-df-container {\n",
              "      display:flex;\n",
              "      flex-wrap:wrap;\n",
              "      gap: 12px;\n",
              "    }\n",
              "\n",
              "    .colab-df-convert {\n",
              "      background-color: #E8F0FE;\n",
              "      border: none;\n",
              "      border-radius: 50%;\n",
              "      cursor: pointer;\n",
              "      display: none;\n",
              "      fill: #1967D2;\n",
              "      height: 32px;\n",
              "      padding: 0 0 0 0;\n",
              "      width: 32px;\n",
              "    }\n",
              "\n",
              "    .colab-df-convert:hover {\n",
              "      background-color: #E2EBFA;\n",
              "      box-shadow: 0px 1px 2px rgba(60, 64, 67, 0.3), 0px 1px 3px 1px rgba(60, 64, 67, 0.15);\n",
              "      fill: #174EA6;\n",
              "    }\n",
              "\n",
              "    [theme=dark] .colab-df-convert {\n",
              "      background-color: #3B4455;\n",
              "      fill: #D2E3FC;\n",
              "    }\n",
              "\n",
              "    [theme=dark] .colab-df-convert:hover {\n",
              "      background-color: #434B5C;\n",
              "      box-shadow: 0px 1px 3px 1px rgba(0, 0, 0, 0.15);\n",
              "      filter: drop-shadow(0px 1px 2px rgba(0, 0, 0, 0.3));\n",
              "      fill: #FFFFFF;\n",
              "    }\n",
              "  </style>\n",
              "\n",
              "      <script>\n",
              "        const buttonEl =\n",
              "          document.querySelector('#df-e7b3ce43-f289-4912-9f54-aafc148fa82c button.colab-df-convert');\n",
              "        buttonEl.style.display =\n",
              "          google.colab.kernel.accessAllowed ? 'block' : 'none';\n",
              "\n",
              "        async function convertToInteractive(key) {\n",
              "          const element = document.querySelector('#df-e7b3ce43-f289-4912-9f54-aafc148fa82c');\n",
              "          const dataTable =\n",
              "            await google.colab.kernel.invokeFunction('convertToInteractive',\n",
              "                                                     [key], {});\n",
              "          if (!dataTable) return;\n",
              "\n",
              "          const docLinkHtml = 'Like what you see? Visit the ' +\n",
              "            '<a target=\"_blank\" href=https://colab.research.google.com/notebooks/data_table.ipynb>data table notebook</a>'\n",
              "            + ' to learn more about interactive tables.';\n",
              "          element.innerHTML = '';\n",
              "          dataTable['output_type'] = 'display_data';\n",
              "          await google.colab.output.renderOutput(dataTable, element);\n",
              "          const docLink = document.createElement('div');\n",
              "          docLink.innerHTML = docLinkHtml;\n",
              "          element.appendChild(docLink);\n",
              "        }\n",
              "      </script>\n",
              "    </div>\n",
              "  </div>\n",
              "  "
            ]
          },
          "metadata": {},
          "execution_count": 11
        }
      ],
      "source": [
        "df.head()\n",
        "# False -> 0\n",
        "# True -> 1"
      ]
    },
    {
      "cell_type": "code",
      "execution_count": 12,
      "metadata": {
        "colab": {
          "base_uri": "https://localhost:8080/"
        },
        "id": "2xeEKsw-XaPQ",
        "outputId": "f5430b27-aa9e-44cb-c985-ac3b5c7d15e1"
      },
      "outputs": [
        {
          "output_type": "execute_result",
          "data": {
            "text/plain": [
              "text      object\n",
              "Status      bool\n",
              "dtype: object"
            ]
          },
          "metadata": {},
          "execution_count": 12
        }
      ],
      "source": [
        "df.dtypes"
      ]
    },
    {
      "cell_type": "code",
      "execution_count": 13,
      "metadata": {
        "colab": {
          "base_uri": "https://localhost:8080/"
        },
        "id": "mzhFIHN_XdYF",
        "outputId": "7a6632b9-e2aa-413e-ba68-9643314563d4"
      },
      "outputs": [
        {
          "output_type": "stream",
          "name": "stderr",
          "text": [
            "<ipython-input-13-df1dec9dc489>:1: SettingWithCopyWarning: \n",
            "A value is trying to be set on a copy of a slice from a DataFrame.\n",
            "Try using .loc[row_indexer,col_indexer] = value instead\n",
            "\n",
            "See the caveats in the documentation: https://pandas.pydata.org/pandas-docs/stable/user_guide/indexing.html#returning-a-view-versus-a-copy\n",
            "  df['Status'] = df['Status'].astype(str)\n"
          ]
        }
      ],
      "source": [
        "df['Status'] = df['Status'].astype(str)"
      ]
    },
    {
      "cell_type": "code",
      "execution_count": 14,
      "metadata": {
        "colab": {
          "base_uri": "https://localhost:8080/"
        },
        "id": "D2-FlIQOXhIz",
        "outputId": "938d137d-7824-4dfa-dc1b-8722de807b14"
      },
      "outputs": [
        {
          "output_type": "execute_result",
          "data": {
            "text/plain": [
              "text      object\n",
              "Status    object\n",
              "dtype: object"
            ]
          },
          "metadata": {},
          "execution_count": 14
        }
      ],
      "source": [
        "df.dtypes"
      ]
    },
    {
      "cell_type": "markdown",
      "metadata": {
        "id": "K0P7a_rbSw4p"
      },
      "source": [
        "**Handling class imbalancing using oversampling technique**"
      ]
    },
    {
      "cell_type": "code",
      "execution_count": 15,
      "metadata": {
        "id": "xAXt_P7JYuxY"
      },
      "outputs": [],
      "source": [
        "X = df[['text']]\n",
        "y = df['Status']"
      ]
    },
    {
      "cell_type": "code",
      "execution_count": 16,
      "metadata": {
        "id": "J77eDg1TaSkS"
      },
      "outputs": [],
      "source": [
        "# Convert the text data and binary response variable to arrays\n",
        "X_array = X.to_numpy()\n",
        "y_array = y.to_numpy()\n"
      ]
    },
    {
      "cell_type": "code",
      "execution_count": 17,
      "metadata": {
        "id": "oSb3xH7ragEq"
      },
      "outputs": [],
      "source": [
        "# Randomly oversample the binary response variable\n",
        "ros = RandomOverSampler()\n",
        "X_resampled, y_resampled = ros.fit_resample(X_array.reshape(-1,1), y_array)\n"
      ]
    },
    {
      "cell_type": "code",
      "execution_count": 18,
      "metadata": {
        "id": "rD4VxFDcaw6H"
      },
      "outputs": [],
      "source": [
        "# Convert the resampled data back to a dataframe\n",
        "df_new = pd.DataFrame({'text': X_resampled.ravel(), 'Status': y_resampled})"
      ]
    },
    {
      "cell_type": "code",
      "execution_count": 19,
      "metadata": {
        "colab": {
          "base_uri": "https://localhost:8080/",
          "height": 206
        },
        "id": "TjVR3-iOa-z1",
        "outputId": "97b7baf2-cf78-4548-ad1c-4d3d062f0ef8"
      },
      "outputs": [
        {
          "output_type": "execute_result",
          "data": {
            "text/plain": [
              "                                                text Status\n",
              "0  @115712 I understand. I would like to assist y...  False\n",
              "1      @sprintcare and how do you propose we do that  False\n",
              "2  @sprintcare I have sent several private messag...  False\n",
              "3  @115712 Please send us a Private Message so th...  False\n",
              "4                                 @sprintcare I did.  False"
            ],
            "text/html": [
              "\n",
              "  <div id=\"df-9b6f2eb3-ffa3-4d34-92fd-f90889261879\">\n",
              "    <div class=\"colab-df-container\">\n",
              "      <div>\n",
              "<style scoped>\n",
              "    .dataframe tbody tr th:only-of-type {\n",
              "        vertical-align: middle;\n",
              "    }\n",
              "\n",
              "    .dataframe tbody tr th {\n",
              "        vertical-align: top;\n",
              "    }\n",
              "\n",
              "    .dataframe thead th {\n",
              "        text-align: right;\n",
              "    }\n",
              "</style>\n",
              "<table border=\"1\" class=\"dataframe\">\n",
              "  <thead>\n",
              "    <tr style=\"text-align: right;\">\n",
              "      <th></th>\n",
              "      <th>text</th>\n",
              "      <th>Status</th>\n",
              "    </tr>\n",
              "  </thead>\n",
              "  <tbody>\n",
              "    <tr>\n",
              "      <th>0</th>\n",
              "      <td>@115712 I understand. I would like to assist y...</td>\n",
              "      <td>False</td>\n",
              "    </tr>\n",
              "    <tr>\n",
              "      <th>1</th>\n",
              "      <td>@sprintcare and how do you propose we do that</td>\n",
              "      <td>False</td>\n",
              "    </tr>\n",
              "    <tr>\n",
              "      <th>2</th>\n",
              "      <td>@sprintcare I have sent several private messag...</td>\n",
              "      <td>False</td>\n",
              "    </tr>\n",
              "    <tr>\n",
              "      <th>3</th>\n",
              "      <td>@115712 Please send us a Private Message so th...</td>\n",
              "      <td>False</td>\n",
              "    </tr>\n",
              "    <tr>\n",
              "      <th>4</th>\n",
              "      <td>@sprintcare I did.</td>\n",
              "      <td>False</td>\n",
              "    </tr>\n",
              "  </tbody>\n",
              "</table>\n",
              "</div>\n",
              "      <button class=\"colab-df-convert\" onclick=\"convertToInteractive('df-9b6f2eb3-ffa3-4d34-92fd-f90889261879')\"\n",
              "              title=\"Convert this dataframe to an interactive table.\"\n",
              "              style=\"display:none;\">\n",
              "        \n",
              "  <svg xmlns=\"http://www.w3.org/2000/svg\" height=\"24px\"viewBox=\"0 0 24 24\"\n",
              "       width=\"24px\">\n",
              "    <path d=\"M0 0h24v24H0V0z\" fill=\"none\"/>\n",
              "    <path d=\"M18.56 5.44l.94 2.06.94-2.06 2.06-.94-2.06-.94-.94-2.06-.94 2.06-2.06.94zm-11 1L8.5 8.5l.94-2.06 2.06-.94-2.06-.94L8.5 2.5l-.94 2.06-2.06.94zm10 10l.94 2.06.94-2.06 2.06-.94-2.06-.94-.94-2.06-.94 2.06-2.06.94z\"/><path d=\"M17.41 7.96l-1.37-1.37c-.4-.4-.92-.59-1.43-.59-.52 0-1.04.2-1.43.59L10.3 9.45l-7.72 7.72c-.78.78-.78 2.05 0 2.83L4 21.41c.39.39.9.59 1.41.59.51 0 1.02-.2 1.41-.59l7.78-7.78 2.81-2.81c.8-.78.8-2.07 0-2.86zM5.41 20L4 18.59l7.72-7.72 1.47 1.35L5.41 20z\"/>\n",
              "  </svg>\n",
              "      </button>\n",
              "      \n",
              "  <style>\n",
              "    .colab-df-container {\n",
              "      display:flex;\n",
              "      flex-wrap:wrap;\n",
              "      gap: 12px;\n",
              "    }\n",
              "\n",
              "    .colab-df-convert {\n",
              "      background-color: #E8F0FE;\n",
              "      border: none;\n",
              "      border-radius: 50%;\n",
              "      cursor: pointer;\n",
              "      display: none;\n",
              "      fill: #1967D2;\n",
              "      height: 32px;\n",
              "      padding: 0 0 0 0;\n",
              "      width: 32px;\n",
              "    }\n",
              "\n",
              "    .colab-df-convert:hover {\n",
              "      background-color: #E2EBFA;\n",
              "      box-shadow: 0px 1px 2px rgba(60, 64, 67, 0.3), 0px 1px 3px 1px rgba(60, 64, 67, 0.15);\n",
              "      fill: #174EA6;\n",
              "    }\n",
              "\n",
              "    [theme=dark] .colab-df-convert {\n",
              "      background-color: #3B4455;\n",
              "      fill: #D2E3FC;\n",
              "    }\n",
              "\n",
              "    [theme=dark] .colab-df-convert:hover {\n",
              "      background-color: #434B5C;\n",
              "      box-shadow: 0px 1px 3px 1px rgba(0, 0, 0, 0.15);\n",
              "      filter: drop-shadow(0px 1px 2px rgba(0, 0, 0, 0.3));\n",
              "      fill: #FFFFFF;\n",
              "    }\n",
              "  </style>\n",
              "\n",
              "      <script>\n",
              "        const buttonEl =\n",
              "          document.querySelector('#df-9b6f2eb3-ffa3-4d34-92fd-f90889261879 button.colab-df-convert');\n",
              "        buttonEl.style.display =\n",
              "          google.colab.kernel.accessAllowed ? 'block' : 'none';\n",
              "\n",
              "        async function convertToInteractive(key) {\n",
              "          const element = document.querySelector('#df-9b6f2eb3-ffa3-4d34-92fd-f90889261879');\n",
              "          const dataTable =\n",
              "            await google.colab.kernel.invokeFunction('convertToInteractive',\n",
              "                                                     [key], {});\n",
              "          if (!dataTable) return;\n",
              "\n",
              "          const docLinkHtml = 'Like what you see? Visit the ' +\n",
              "            '<a target=\"_blank\" href=https://colab.research.google.com/notebooks/data_table.ipynb>data table notebook</a>'\n",
              "            + ' to learn more about interactive tables.';\n",
              "          element.innerHTML = '';\n",
              "          dataTable['output_type'] = 'display_data';\n",
              "          await google.colab.output.renderOutput(dataTable, element);\n",
              "          const docLink = document.createElement('div');\n",
              "          docLink.innerHTML = docLinkHtml;\n",
              "          element.appendChild(docLink);\n",
              "        }\n",
              "      </script>\n",
              "    </div>\n",
              "  </div>\n",
              "  "
            ]
          },
          "metadata": {},
          "execution_count": 19
        }
      ],
      "source": [
        "df_new.head()"
      ]
    },
    {
      "cell_type": "code",
      "execution_count": 20,
      "metadata": {
        "colab": {
          "base_uri": "https://localhost:8080/"
        },
        "id": "RTRvwpc9bA8Z",
        "outputId": "1ac5e7bb-1220-4e95-a75f-ce1f9ee5746f"
      },
      "outputs": [
        {
          "output_type": "execute_result",
          "data": {
            "text/plain": [
              "False    1018\n",
              "True     1018\n",
              "Name: Status, dtype: int64"
            ]
          },
          "metadata": {},
          "execution_count": 20
        }
      ],
      "source": [
        "df_new['Status'].value_counts()"
      ]
    },
    {
      "cell_type": "code",
      "execution_count": 21,
      "metadata": {
        "colab": {
          "base_uri": "https://localhost:8080/",
          "height": 296
        },
        "id": "2PjuyL28bLjB",
        "outputId": "8ad8af8b-9a55-4c15-85bd-961d841f7867"
      },
      "outputs": [
        {
          "output_type": "execute_result",
          "data": {
            "text/plain": [
              "<AxesSubplot:xlabel='Status', ylabel='count'>"
            ]
          },
          "metadata": {},
          "execution_count": 21
        },
        {
          "output_type": "display_data",
          "data": {
            "text/plain": [
              "<Figure size 432x288 with 1 Axes>"
            ],
            "image/png": "[encoded data removed]"
          },
          "metadata": {
            "needs_background": "light"
          }
        }
      ],
      "source": [
        "sns.countplot(x=df_new['Status'])"
      ]
    },
    {
      "cell_type": "markdown",
      "metadata": {
        "id": "NR1YV6tccxyh"
      },
      "source": [
        "**Binary Encoding**"
      ]
    },
    {
      "cell_type": "code",
      "execution_count": 22,
      "metadata": {
        "id": "t76Qp_Arb54c"
      },
      "outputs": [],
      "source": [
        "df_new = pd.get_dummies(df_new, columns=['Status']) #to convert the categorical variable to numerical"
      ]
    },
    {
      "cell_type": "code",
      "execution_count": 23,
      "metadata": {
        "colab": {
          "base_uri": "https://localhost:8080/"
        },
        "id": "VfX7oE8xcZrg",
        "outputId": "ef541514-60a8-4bfa-adc3-69918c0c44aa"
      },
      "outputs": [
        {
          "output_type": "execute_result",
          "data": {
            "text/plain": [
              "Index(['text', 'Status_False', 'Status_True'], dtype='object')"
            ]
          },
          "metadata": {},
          "execution_count": 23
        }
      ],
      "source": [
        "df_new.columns"
      ]
    },
    {
      "cell_type": "code",
      "execution_count": 24,
      "metadata": {
        "id": "9bFAb2aoceUb"
      },
      "outputs": [],
      "source": [
        "df_new.drop('Status_False',axis=1,inplace=True)"
      ]
    },
    {
      "cell_type": "code",
      "execution_count": 25,
      "metadata": {
        "id": "_cn2qjKgchsZ"
      },
      "outputs": [],
      "source": [
        "df_new = df_new.rename(columns={'Status_True': 'Status'})"
      ]
    },
    {
      "cell_type": "code",
      "execution_count": 26,
      "metadata": {
        "colab": {
          "base_uri": "https://localhost:8080/"
        },
        "id": "r3LhuUklcpVQ",
        "outputId": "fbcdb983-f223-4a63-b233-248e3716700f"
      },
      "outputs": [
        {
          "output_type": "execute_result",
          "data": {
            "text/plain": [
              "0    1018\n",
              "1    1018\n",
              "Name: Status, dtype: int64"
            ]
          },
          "metadata": {},
          "execution_count": 26
        }
      ],
      "source": [
        "df_new['Status'].value_counts()"
      ]
    },
    {
      "cell_type": "code",
      "execution_count": 27,
      "metadata": {
        "colab": {
          "base_uri": "https://localhost:8080/",
          "height": 206
        },
        "id": "jz2O0bzVcuoI",
        "outputId": "269aec58-2ba4-4e1f-bade-82b14615ef3a"
      },
      "outputs": [
        {
          "output_type": "execute_result",
          "data": {
            "text/plain": [
              "                                                text  Status\n",
              "0  @115712 I understand. I would like to assist y...       0\n",
              "1      @sprintcare and how do you propose we do that       0\n",
              "2  @sprintcare I have sent several private messag...       0\n",
              "3  @115712 Please send us a Private Message so th...       0\n",
              "4                                 @sprintcare I did.       0"
            ],
            "text/html": [
              "\n",
              "  <div id=\"df-73a2587e-27be-45ae-aa0e-4df7801c9081\">\n",
              "    <div class=\"colab-df-container\">\n",
              "      <div>\n",
              "<style scoped>\n",
              "    .dataframe tbody tr th:only-of-type {\n",
              "        vertical-align: middle;\n",
              "    }\n",
              "\n",
              "    .dataframe tbody tr th {\n",
              "        vertical-align: top;\n",
              "    }\n",
              "\n",
              "    .dataframe thead th {\n",
              "        text-align: right;\n",
              "    }\n",
              "</style>\n",
              "<table border=\"1\" class=\"dataframe\">\n",
              "  <thead>\n",
              "    <tr style=\"text-align: right;\">\n",
              "      <th></th>\n",
              "      <th>text</th>\n",
              "      <th>Status</th>\n",
              "    </tr>\n",
              "  </thead>\n",
              "  <tbody>\n",
              "    <tr>\n",
              "      <th>0</th>\n",
              "      <td>@115712 I understand. I would like to assist y...</td>\n",
              "      <td>0</td>\n",
              "    </tr>\n",
              "    <tr>\n",
              "      <th>1</th>\n",
              "      <td>@sprintcare and how do you propose we do that</td>\n",
              "      <td>0</td>\n",
              "    </tr>\n",
              "    <tr>\n",
              "      <th>2</th>\n",
              "      <td>@sprintcare I have sent several private messag...</td>\n",
              "      <td>0</td>\n",
              "    </tr>\n",
              "    <tr>\n",
              "      <th>3</th>\n",
              "      <td>@115712 Please send us a Private Message so th...</td>\n",
              "      <td>0</td>\n",
              "    </tr>\n",
              "    <tr>\n",
              "      <th>4</th>\n",
              "      <td>@sprintcare I did.</td>\n",
              "      <td>0</td>\n",
              "    </tr>\n",
              "  </tbody>\n",
              "</table>\n",
              "</div>\n",
              "      <button class=\"colab-df-convert\" onclick=\"convertToInteractive('df-73a2587e-27be-45ae-aa0e-4df7801c9081')\"\n",
              "              title=\"Convert this dataframe to an interactive table.\"\n",
              "              style=\"display:none;\">\n",
              "        \n",
              "  <svg xmlns=\"http://www.w3.org/2000/svg\" height=\"24px\"viewBox=\"0 0 24 24\"\n",
              "       width=\"24px\">\n",
              "    <path d=\"M0 0h24v24H0V0z\" fill=\"none\"/>\n",
              "    <path d=\"M18.56 5.44l.94 2.06.94-2.06 2.06-.94-2.06-.94-.94-2.06-.94 2.06-2.06.94zm-11 1L8.5 8.5l.94-2.06 2.06-.94-2.06-.94L8.5 2.5l-.94 2.06-2.06.94zm10 10l.94 2.06.94-2.06 2.06-.94-2.06-.94-.94-2.06-.94 2.06-2.06.94z\"/><path d=\"M17.41 7.96l-1.37-1.37c-.4-.4-.92-.59-1.43-.59-.52 0-1.04.2-1.43.59L10.3 9.45l-7.72 7.72c-.78.78-.78 2.05 0 2.83L4 21.41c.39.39.9.59 1.41.59.51 0 1.02-.2 1.41-.59l7.78-7.78 2.81-2.81c.8-.78.8-2.07 0-2.86zM5.41 20L4 18.59l7.72-7.72 1.47 1.35L5.41 20z\"/>\n",
              "  </svg>\n",
              "      </button>\n",
              "      \n",
              "  <style>\n",
              "    .colab-df-container {\n",
              "      display:flex;\n",
              "      flex-wrap:wrap;\n",
              "      gap: 12px;\n",
              "    }\n",
              "\n",
              "    .colab-df-convert {\n",
              "      background-color: #E8F0FE;\n",
              "      border: none;\n",
              "      border-radius: 50%;\n",
              "      cursor: pointer;\n",
              "      display: none;\n",
              "      fill: #1967D2;\n",
              "      height: 32px;\n",
              "      padding: 0 0 0 0;\n",
              "      width: 32px;\n",
              "    }\n",
              "\n",
              "    .colab-df-convert:hover {\n",
              "      background-color: #E2EBFA;\n",
              "      box-shadow: 0px 1px 2px rgba(60, 64, 67, 0.3), 0px 1px 3px 1px rgba(60, 64, 67, 0.15);\n",
              "      fill: #174EA6;\n",
              "    }\n",
              "\n",
              "    [theme=dark] .colab-df-convert {\n",
              "      background-color: #3B4455;\n",
              "      fill: #D2E3FC;\n",
              "    }\n",
              "\n",
              "    [theme=dark] .colab-df-convert:hover {\n",
              "      background-color: #434B5C;\n",
              "      box-shadow: 0px 1px 3px 1px rgba(0, 0, 0, 0.15);\n",
              "      filter: drop-shadow(0px 1px 2px rgba(0, 0, 0, 0.3));\n",
              "      fill: #FFFFFF;\n",
              "    }\n",
              "  </style>\n",
              "\n",
              "      <script>\n",
              "        const buttonEl =\n",
              "          document.querySelector('#df-73a2587e-27be-45ae-aa0e-4df7801c9081 button.colab-df-convert');\n",
              "        buttonEl.style.display =\n",
              "          google.colab.kernel.accessAllowed ? 'block' : 'none';\n",
              "\n",
              "        async function convertToInteractive(key) {\n",
              "          const element = document.querySelector('#df-73a2587e-27be-45ae-aa0e-4df7801c9081');\n",
              "          const dataTable =\n",
              "            await google.colab.kernel.invokeFunction('convertToInteractive',\n",
              "                                                     [key], {});\n",
              "          if (!dataTable) return;\n",
              "\n",
              "          const docLinkHtml = 'Like what you see? Visit the ' +\n",
              "            '<a target=\"_blank\" href=https://colab.research.google.com/notebooks/data_table.ipynb>data table notebook</a>'\n",
              "            + ' to learn more about interactive tables.';\n",
              "          element.innerHTML = '';\n",
              "          dataTable['output_type'] = 'display_data';\n",
              "          await google.colab.output.renderOutput(dataTable, element);\n",
              "          const docLink = document.createElement('div');\n",
              "          docLink.innerHTML = docLinkHtml;\n",
              "          element.appendChild(docLink);\n",
              "        }\n",
              "      </script>\n",
              "    </div>\n",
              "  </div>\n",
              "  "
            ]
          },
          "metadata": {},
          "execution_count": 27
        }
      ],
      "source": [
        "df_new.head()"
      ]
    },
    {
      "cell_type": "code",
      "execution_count": 28,
      "metadata": {
        "colab": {
          "base_uri": "https://localhost:8080/"
        },
        "id": "uM-fNTf_4GAo",
        "outputId": "e22a9919-0f80-4bc5-b371-ecce3d47347a"
      },
      "outputs": [
        {
          "output_type": "execute_result",
          "data": {
            "text/plain": [
              "(2036, 2)"
            ]
          },
          "metadata": {},
          "execution_count": 28
        }
      ],
      "source": [
        "df_new.shape"
      ]
    },
    {
      "cell_type": "markdown",
      "metadata": {
        "id": "OuPE1fnA-zN5"
      },
      "source": [
        "### **Build the BERT Model**"
      ]
    },
    {
      "cell_type": "code",
      "execution_count": 29,
      "metadata": {
        "id": "dHtZ8pVb-uJE"
      },
      "outputs": [],
      "source": [
        "#split the dataset\n",
        "from sklearn.model_selection import train_test_split\n",
        "\n",
        "X_train, X_test, y_train, y_test = train_test_split(df_new['text'],df_new['Status'], test_size = 1/4, stratify =df_new['Status'])\n",
        "# stratify -> ensure that the class distribution of the data is the same in both sets"
      ]
    },
    {
      "cell_type": "code",
      "execution_count": 30,
      "metadata": {
        "colab": {
          "base_uri": "https://localhost:8080/"
        },
        "id": "LZ5tCZtT_WEi",
        "outputId": "9276cf13-e414-41bd-d795-77a8f4535a61"
      },
      "outputs": [
        {
          "output_type": "execute_result",
          "data": {
            "text/plain": [
              "((1527,), (1527,))"
            ]
          },
          "metadata": {},
          "execution_count": 30
        }
      ],
      "source": [
        "X_train.shape , y_train.shape"
      ]
    },
    {
      "cell_type": "code",
      "execution_count": 31,
      "metadata": {
        "colab": {
          "base_uri": "https://localhost:8080/"
        },
        "id": "Ur31kP8X_ZvO",
        "outputId": "f3c3d362-41e3-4fa3-e611-181a9832d7d0"
      },
      "outputs": [
        {
          "output_type": "execute_result",
          "data": {
            "text/plain": [
              "((509,), (509,))"
            ]
          },
          "metadata": {},
          "execution_count": 31
        }
      ],
      "source": [
        "X_test.shape , y_test.shape"
      ]
    },
    {
      "cell_type": "code",
      "execution_count": 32,
      "metadata": {
        "colab": {
          "base_uri": "https://localhost:8080/"
        },
        "id": "4d3xuowU_h_B",
        "outputId": "79fc5c51-a769-4389-dd65-f7364df76341"
      },
      "outputs": [
        {
          "output_type": "execute_result",
          "data": {
            "text/plain": [
              "Counter({1: 763, 0: 764})"
            ]
          },
          "metadata": {},
          "execution_count": 32
        }
      ],
      "source": [
        "Counter(y_train) # class distribution of y_train"
      ]
    },
    {
      "cell_type": "code",
      "execution_count": 33,
      "metadata": {
        "colab": {
          "base_uri": "https://localhost:8080/"
        },
        "id": "lDFZQdJdAVNI",
        "outputId": "ca2eee8a-6801-4419-dc82-d5b3af297a00"
      },
      "outputs": [
        {
          "output_type": "execute_result",
          "data": {
            "text/plain": [
              "Counter({0: 254, 1: 255})"
            ]
          },
          "metadata": {},
          "execution_count": 33
        }
      ],
      "source": [
        "Counter(y_test) #class distribution of y_test"
      ]
    },
    {
      "cell_type": "markdown",
      "metadata": {
        "id": "wcBPwblUAnAc"
      },
      "source": [
        "Here we use Functional model to build the BERT layers"
      ]
    },
    {
      "cell_type": "code",
      "execution_count": 34,
      "metadata": {
        "colab": {
          "base_uri": "https://localhost:8080/"
        },
        "id": "KwjRiS0jA2lo",
        "outputId": "26755720-2500-49a1-9681-a7688a0ddd6d"
      },
      "outputs": [
        {
          "output_type": "stream",
          "name": "stderr",
          "text": [
            "WARNING:tensorflow:Please fix your imports. Module tensorflow.python.training.tracking.data_structures has been moved to tensorflow.python.trackable.data_structures. The old module will be deleted in version 2.11.\n"
          ]
        }
      ],
      "source": [
        "# L-12 bert model urls\n",
        "#preprocess url\n",
        "bert_preprocess = hub.KerasLayer(\"https://tfhub.dev/tensorflow/bert_en_uncased_preprocess/3\")\n",
        "\n",
        "#encoder url\n",
        "bert_encoder = hub.KerasLayer(\"https://tfhub.dev/tensorflow/bert_en_uncased_L-24_H-1024_A-16/4\")"
      ]
    },
    {
      "cell_type": "markdown",
      "metadata": {
        "id": "vsVrzF-9Nt64"
      },
      "source": [
        "#### **BERT with FFNN**"
      ]
    },
    {
      "cell_type": "code",
      "execution_count": 35,
      "metadata": {
        "colab": {
          "base_uri": "https://localhost:8080/"
        },
        "id": "rnskIweYAd9e",
        "outputId": "50c12c81-fddf-4f83-fd98-fe1b43065484"
      },
      "outputs": [
        {
          "output_type": "stream",
          "name": "stderr",
          "text": [
            "WARNING:tensorflow:From /usr/local/lib/python3.8/dist-packages/tensorflow/python/autograph/pyct/static_analysis/liveness.py:83: Analyzer.lamba_check (from tensorflow.python.autograph.pyct.static_analysis.liveness) is deprecated and will be removed after 2023-09-23.\n",
            "Instructions for updating:\n",
            "Lambda fuctions will be no more assumed to be used in the statement where they are used, or at least in the same block. https://github.com/tensorflow/tensorflow/issues/56089\n"
          ]
        }
      ],
      "source": [
        "# Bert layers\n",
        "text_input = tf.keras.layers.Input(shape=(), dtype=tf.string, name='text') #input layer. name -> text column name\n",
        "preprocessed_text = bert_preprocess(text_input) #preprocess layer\n",
        "outputs = bert_encoder(preprocessed_text) #bert encoder layer\n",
        "# output shape = (number of records, 1024)\n",
        "# each sentence size = (1024,1)\n",
        "\n",
        "# Neural network layers\n",
        "l = tf.keras.layers.Dropout(0.1, name=\"dropout\")(outputs['pooled_output']) #dropout layer\n",
        "## output['pooled_output'] is the input of this layer and output of previous layer\n",
        "## output['pooled_output'] gives the bert embdded values\n",
        "l = tf.keras.layers.Dense(1, activation='sigmoid', name=\"output\")(l) #dense layer / last layer\n",
        "\n",
        "# Use inputs and outputs to construct a final model\n",
        "model = tf.keras.Model(inputs=[text_input], outputs = [l])"
      ]
    },
    {
      "cell_type": "code",
      "execution_count": 36,
      "metadata": {
        "colab": {
          "base_uri": "https://localhost:8080/"
        },
        "id": "Yz80NnVxBUhi",
        "outputId": "b48ebdfd-cfb2-4806-d5dd-141b139eef24"
      },
      "outputs": [
        {
          "output_type": "execute_result",
          "data": {
            "text/plain": [
              "<KerasTensor: shape=(None, 1024) dtype=float32 (created by layer 'keras_layer_1')>"
            ]
          },
          "metadata": {},
          "execution_count": 36
        }
      ],
      "source": [
        "outputs['pooled_output'] #get the shape of bert embedding values"
      ]
    },
    {
      "cell_type": "code",
      "execution_count": 37,
      "metadata": {
        "colab": {
          "base_uri": "https://localhost:8080/"
        },
        "id": "u7N9dzZ4BYu_",
        "outputId": "0df4721f-0445-4291-97bd-f445895b62eb"
      },
      "outputs": [
        {
          "output_type": "stream",
          "name": "stdout",
          "text": [
            "Model: \"model\"\n",
            "__________________________________________________________________________________________________\n",
            " Layer (type)                   Output Shape         Param #     Connected to                     \n",
            "==================================================================================================\n",
            " text (InputLayer)              [(None,)]            0           []                               \n",
            "                                                                                                  \n",
            " keras_layer (KerasLayer)       {'input_type_ids':   0           ['text[0][0]']                   \n",
            "                                (None, 128),                                                      \n",
            "                                 'input_word_ids':                                                \n",
            "                                (None, 128),                                                      \n",
            "                                 'input_mask': (Non                                               \n",
            "                                e, 128)}                                                          \n",
            "                                                                                                  \n",
            " keras_layer_1 (KerasLayer)     {'default': (None,   335141889   ['keras_layer[0][0]',            \n",
            "                                1024),                            'keras_layer[0][1]',            \n",
            "                                 'sequence_output':               'keras_layer[0][2]']            \n",
            "                                 (None, 128, 1024),                                               \n",
            "                                 'encoder_outputs':                                               \n",
            "                                 [(None, 128, 1024)                                               \n",
            "                                , (None, 128, 1024)                                               \n",
            "                                , (None, 128, 1024)                                               \n",
            "                                , (None, 128, 1024)                                               \n",
            "                                , (None, 128, 1024)                                               \n",
            "                                , (None, 128, 1024)                                               \n",
            "                                , (None, 128, 1024)                                               \n",
            "                                , (None, 128, 1024)                                               \n",
            "                                , (None, 128, 1024)                                               \n",
            "                                , (None, 128, 1024)                                               \n",
            "                                , (None, 128, 1024)                                               \n",
            "                                , (None, 128, 1024)                                               \n",
            "                                , (None, 128, 1024)                                               \n",
            "                                , (None, 128, 1024)                                               \n",
            "                                , (None, 128, 1024)                                               \n",
            "                                , (None, 128, 1024)                                               \n",
            "                                , (None, 128, 1024)                                               \n",
            "                                , (None, 128, 1024)                                               \n",
            "                                , (None, 128, 1024)                                               \n",
            "                                , (None, 128, 1024)                                               \n",
            "                                , (None, 128, 1024)                                               \n",
            "                                , (None, 128, 1024)                                               \n",
            "                                , (None, 128, 1024)                                               \n",
            "                                , (None, 128, 1024)                                               \n",
            "                                ],                                                                \n",
            "                                 'pooled_output': (                                               \n",
            "                                None, 1024)}                                                      \n",
            "                                                                                                  \n",
            " dropout (Dropout)              (None, 1024)         0           ['keras_layer_1[0][25]']         \n",
            "                                                                                                  \n",
            " output (Dense)                 (None, 1)            1025        ['dropout[0][0]']                \n",
            "                                                                                                  \n",
            "==================================================================================================\n",
            "Total params: 335,142,914\n",
            "Trainable params: 1,025\n",
            "Non-trainable params: 335,141,889\n",
            "__________________________________________________________________________________________________\n"
          ]
        }
      ],
      "source": [
        "model.summary()"
      ]
    },
    {
      "cell_type": "code",
      "execution_count": 38,
      "metadata": {
        "id": "LhYu5gddMLMl"
      },
      "outputs": [],
      "source": [
        "# compile the model\n",
        "model.compile(optimizer='adam',\n",
        "              loss='binary_crossentropy',\n",
        "              metrics='accuracy')"
      ]
    },
    {
      "cell_type": "code",
      "execution_count": 39,
      "metadata": {
        "colab": {
          "base_uri": "https://localhost:8080/"
        },
        "id": "KRF1i-88MiWN",
        "outputId": "65e98469-7705-4243-e63c-497e6e6f1a05"
      },
      "outputs": [
        {
          "output_type": "stream",
          "name": "stdout",
          "text": [
            "Epoch 1/100\n",
            "34/34 [==============================] - 68s 1s/step - loss: 0.7031 - accuracy: 0.5693 - val_loss: 0.6266 - val_accuracy: 0.6688\n",
            "Epoch 2/100\n",
            "34/34 [==============================] - 50s 1s/step - loss: 0.6511 - accuracy: 0.6273 - val_loss: 0.6148 - val_accuracy: 0.6885\n",
            "Epoch 3/100\n",
            "34/34 [==============================] - 50s 1s/step - loss: 0.6166 - accuracy: 0.6657 - val_loss: 0.6140 - val_accuracy: 0.6950\n",
            "Epoch 4/100\n",
            "34/34 [==============================] - 50s 1s/step - loss: 0.6121 - accuracy: 0.6620 - val_loss: 0.6319 - val_accuracy: 0.6492\n",
            "Epoch 5/100\n",
            "34/34 [==============================] - 50s 1s/step - loss: 0.6011 - accuracy: 0.6948 - val_loss: 0.5740 - val_accuracy: 0.7081\n",
            "Epoch 6/100\n",
            "34/34 [==============================] - 50s 1s/step - loss: 0.6066 - accuracy: 0.6573 - val_loss: 0.5752 - val_accuracy: 0.7081\n",
            "Epoch 7/100\n",
            "34/34 [==============================] - 51s 2s/step - loss: 0.5985 - accuracy: 0.6929 - val_loss: 0.5628 - val_accuracy: 0.7124\n",
            "Epoch 8/100\n",
            "34/34 [==============================] - 43s 1s/step - loss: 0.5930 - accuracy: 0.6788 - val_loss: 0.5741 - val_accuracy: 0.7277\n",
            "Epoch 9/100\n",
            "34/34 [==============================] - 51s 2s/step - loss: 0.5931 - accuracy: 0.6854 - val_loss: 0.5798 - val_accuracy: 0.7190\n",
            "Epoch 10/100\n",
            "34/34 [==============================] - 51s 2s/step - loss: 0.6206 - accuracy: 0.6657 - val_loss: 0.5779 - val_accuracy: 0.7168\n",
            "Epoch 11/100\n",
            "34/34 [==============================] - 51s 2s/step - loss: 0.5640 - accuracy: 0.7097 - val_loss: 0.5482 - val_accuracy: 0.7233\n",
            "Epoch 12/100\n",
            "34/34 [==============================] - 51s 2s/step - loss: 0.5599 - accuracy: 0.7097 - val_loss: 0.5471 - val_accuracy: 0.7386\n",
            "Epoch 13/100\n",
            "34/34 [==============================] - 51s 2s/step - loss: 0.5592 - accuracy: 0.7247 - val_loss: 0.5644 - val_accuracy: 0.7059\n",
            "Epoch 14/100\n",
            "34/34 [==============================] - 51s 2s/step - loss: 0.5569 - accuracy: 0.7238 - val_loss: 0.5322 - val_accuracy: 0.7603\n",
            "Epoch 15/100\n",
            "34/34 [==============================] - 44s 1s/step - loss: 0.5541 - accuracy: 0.7107 - val_loss: 0.5899 - val_accuracy: 0.6688\n",
            "Epoch 16/100\n",
            "34/34 [==============================] - 51s 2s/step - loss: 0.5530 - accuracy: 0.7238 - val_loss: 0.5554 - val_accuracy: 0.7124\n",
            "Epoch 17/100\n",
            "34/34 [==============================] - 51s 2s/step - loss: 0.5415 - accuracy: 0.7331 - val_loss: 0.5217 - val_accuracy: 0.7734\n",
            "Epoch 18/100\n",
            "34/34 [==============================] - 51s 2s/step - loss: 0.5417 - accuracy: 0.7257 - val_loss: 0.5359 - val_accuracy: 0.7582\n",
            "Epoch 19/100\n",
            "34/34 [==============================] - 51s 2s/step - loss: 0.5410 - accuracy: 0.7313 - val_loss: 0.5178 - val_accuracy: 0.7625\n",
            "Epoch 20/100\n",
            "34/34 [==============================] - 51s 2s/step - loss: 0.5282 - accuracy: 0.7622 - val_loss: 0.5613 - val_accuracy: 0.6972\n",
            "Epoch 21/100\n",
            "34/34 [==============================] - 51s 2s/step - loss: 0.5304 - accuracy: 0.7341 - val_loss: 0.5110 - val_accuracy: 0.7887\n",
            "Epoch 22/100\n",
            "34/34 [==============================] - 44s 1s/step - loss: 0.5274 - accuracy: 0.7584 - val_loss: 0.5502 - val_accuracy: 0.7168\n",
            "Epoch 23/100\n",
            "34/34 [==============================] - 51s 2s/step - loss: 0.5289 - accuracy: 0.7472 - val_loss: 0.5051 - val_accuracy: 0.7887\n",
            "Epoch 24/100\n",
            "34/34 [==============================] - 51s 2s/step - loss: 0.5215 - accuracy: 0.7369 - val_loss: 0.5081 - val_accuracy: 0.7734\n",
            "Epoch 25/100\n",
            "34/34 [==============================] - 51s 2s/step - loss: 0.5221 - accuracy: 0.7463 - val_loss: 0.5016 - val_accuracy: 0.7930\n",
            "Epoch 26/100\n",
            "34/34 [==============================] - 51s 2s/step - loss: 0.4998 - accuracy: 0.7566 - val_loss: 0.4984 - val_accuracy: 0.7887\n",
            "Epoch 27/100\n",
            "34/34 [==============================] - 51s 2s/step - loss: 0.5193 - accuracy: 0.7612 - val_loss: 0.4978 - val_accuracy: 0.7843\n",
            "Epoch 28/100\n",
            "34/34 [==============================] - 51s 2s/step - loss: 0.5218 - accuracy: 0.7650 - val_loss: 0.4927 - val_accuracy: 0.7930\n",
            "Epoch 29/100\n",
            "34/34 [==============================] - 51s 2s/step - loss: 0.5140 - accuracy: 0.7444 - val_loss: 0.4922 - val_accuracy: 0.7843\n",
            "Epoch 30/100\n",
            "34/34 [==============================] - 51s 2s/step - loss: 0.5132 - accuracy: 0.7594 - val_loss: 0.4978 - val_accuracy: 0.7930\n",
            "Epoch 31/100\n",
            "34/34 [==============================] - 52s 2s/step - loss: 0.5028 - accuracy: 0.7772 - val_loss: 0.5255 - val_accuracy: 0.7342\n",
            "Epoch 32/100\n",
            "34/34 [==============================] - 51s 2s/step - loss: 0.5245 - accuracy: 0.7397 - val_loss: 0.5006 - val_accuracy: 0.7691\n",
            "Epoch 33/100\n",
            "34/34 [==============================] - 51s 2s/step - loss: 0.4951 - accuracy: 0.7809 - val_loss: 0.4842 - val_accuracy: 0.7996\n",
            "Epoch 34/100\n",
            "34/34 [==============================] - 51s 2s/step - loss: 0.4852 - accuracy: 0.7790 - val_loss: 0.5079 - val_accuracy: 0.7603\n",
            "Epoch 35/100\n",
            "34/34 [==============================] - 44s 1s/step - loss: 0.4917 - accuracy: 0.7790 - val_loss: 0.4822 - val_accuracy: 0.8061\n",
            "Epoch 36/100\n",
            "34/34 [==============================] - 51s 2s/step - loss: 0.4854 - accuracy: 0.7846 - val_loss: 0.4781 - val_accuracy: 0.8148\n",
            "Epoch 37/100\n",
            "34/34 [==============================] - 51s 2s/step - loss: 0.4813 - accuracy: 0.7837 - val_loss: 0.4754 - val_accuracy: 0.8148\n",
            "Epoch 38/100\n",
            "34/34 [==============================] - 51s 2s/step - loss: 0.4894 - accuracy: 0.7875 - val_loss: 0.4909 - val_accuracy: 0.7996\n",
            "Epoch 39/100\n",
            "34/34 [==============================] - 51s 2s/step - loss: 0.4786 - accuracy: 0.8015 - val_loss: 0.4769 - val_accuracy: 0.8017\n",
            "Epoch 40/100\n",
            "34/34 [==============================] - 51s 2s/step - loss: 0.4865 - accuracy: 0.7818 - val_loss: 0.4712 - val_accuracy: 0.8061\n",
            "Epoch 41/100\n",
            "34/34 [==============================] - 44s 1s/step - loss: 0.4861 - accuracy: 0.7762 - val_loss: 0.4988 - val_accuracy: 0.7625\n",
            "Epoch 42/100\n",
            "34/34 [==============================] - 51s 2s/step - loss: 0.4800 - accuracy: 0.7865 - val_loss: 0.4717 - val_accuracy: 0.8039\n",
            "Epoch 43/100\n",
            "34/34 [==============================] - 52s 2s/step - loss: 0.4833 - accuracy: 0.7968 - val_loss: 0.4692 - val_accuracy: 0.8039\n",
            "Epoch 44/100\n",
            "34/34 [==============================] - 44s 1s/step - loss: 0.5099 - accuracy: 0.7725 - val_loss: 0.4867 - val_accuracy: 0.8039\n",
            "Epoch 45/100\n",
            "34/34 [==============================] - 51s 2s/step - loss: 0.4817 - accuracy: 0.7809 - val_loss: 0.4646 - val_accuracy: 0.8170\n",
            "Epoch 46/100\n",
            "34/34 [==============================] - 51s 2s/step - loss: 0.4703 - accuracy: 0.7921 - val_loss: 0.4630 - val_accuracy: 0.8192\n",
            "Epoch 47/100\n",
            "34/34 [==============================] - 51s 2s/step - loss: 0.4883 - accuracy: 0.7846 - val_loss: 0.4630 - val_accuracy: 0.8126\n",
            "Epoch 48/100\n",
            "34/34 [==============================] - 44s 1s/step - loss: 0.4715 - accuracy: 0.7903 - val_loss: 0.4624 - val_accuracy: 0.8192\n",
            "Epoch 49/100\n",
            "34/34 [==============================] - 51s 2s/step - loss: 0.4731 - accuracy: 0.7949 - val_loss: 0.4609 - val_accuracy: 0.8083\n",
            "Epoch 50/100\n",
            "34/34 [==============================] - 51s 2s/step - loss: 0.4752 - accuracy: 0.7865 - val_loss: 0.4629 - val_accuracy: 0.8061\n",
            "Epoch 51/100\n",
            "34/34 [==============================] - 44s 1s/step - loss: 0.4621 - accuracy: 0.8015 - val_loss: 0.4610 - val_accuracy: 0.8192\n",
            "Epoch 52/100\n",
            "34/34 [==============================] - 51s 2s/step - loss: 0.4687 - accuracy: 0.7996 - val_loss: 0.4595 - val_accuracy: 0.8083\n",
            "Epoch 53/100\n",
            "34/34 [==============================] - 51s 2s/step - loss: 0.4669 - accuracy: 0.7884 - val_loss: 0.4560 - val_accuracy: 0.8279\n",
            "Epoch 54/100\n",
            "34/34 [==============================] - 51s 2s/step - loss: 0.4661 - accuracy: 0.7949 - val_loss: 0.4602 - val_accuracy: 0.8061\n",
            "Epoch 55/100\n",
            "34/34 [==============================] - 51s 2s/step - loss: 0.4626 - accuracy: 0.7949 - val_loss: 0.4541 - val_accuracy: 0.8279\n",
            "Epoch 56/100\n",
            "34/34 [==============================] - 51s 2s/step - loss: 0.4656 - accuracy: 0.8034 - val_loss: 0.4573 - val_accuracy: 0.8214\n",
            "Epoch 57/100\n",
            "34/34 [==============================] - 51s 2s/step - loss: 0.4605 - accuracy: 0.8052 - val_loss: 0.4535 - val_accuracy: 0.8148\n",
            "Epoch 58/100\n",
            "34/34 [==============================] - 51s 2s/step - loss: 0.4520 - accuracy: 0.8034 - val_loss: 0.5041 - val_accuracy: 0.7451\n",
            "Epoch 59/100\n",
            "34/34 [==============================] - 51s 2s/step - loss: 0.4796 - accuracy: 0.7959 - val_loss: 0.4500 - val_accuracy: 0.8301\n",
            "Epoch 60/100\n",
            "34/34 [==============================] - 44s 1s/step - loss: 0.4558 - accuracy: 0.8062 - val_loss: 0.4513 - val_accuracy: 0.8257\n",
            "Epoch 61/100\n",
            "34/34 [==============================] - 51s 2s/step - loss: 0.4696 - accuracy: 0.7931 - val_loss: 0.4555 - val_accuracy: 0.8039\n",
            "Epoch 62/100\n",
            "34/34 [==============================] - 51s 2s/step - loss: 0.4603 - accuracy: 0.7978 - val_loss: 0.4567 - val_accuracy: 0.8214\n",
            "Epoch 63/100\n",
            "34/34 [==============================] - 51s 2s/step - loss: 0.4594 - accuracy: 0.7978 - val_loss: 0.4487 - val_accuracy: 0.8214\n",
            "Epoch 64/100\n",
            "34/34 [==============================] - 51s 2s/step - loss: 0.4611 - accuracy: 0.7978 - val_loss: 0.4498 - val_accuracy: 0.8148\n",
            "Epoch 65/100\n",
            "34/34 [==============================] - 51s 2s/step - loss: 0.4515 - accuracy: 0.8071 - val_loss: 0.4441 - val_accuracy: 0.8301\n",
            "Epoch 66/100\n",
            "34/34 [==============================] - 51s 2s/step - loss: 0.4399 - accuracy: 0.8202 - val_loss: 0.4463 - val_accuracy: 0.8257\n",
            "Epoch 67/100\n",
            "34/34 [==============================] - 51s 2s/step - loss: 0.4625 - accuracy: 0.8015 - val_loss: 0.4874 - val_accuracy: 0.7908\n",
            "Epoch 68/100\n",
            "34/34 [==============================] - 51s 2s/step - loss: 0.4647 - accuracy: 0.7875 - val_loss: 0.4418 - val_accuracy: 0.8322\n",
            "Epoch 69/100\n",
            "34/34 [==============================] - 51s 2s/step - loss: 0.4390 - accuracy: 0.8202 - val_loss: 0.4528 - val_accuracy: 0.8105\n",
            "Epoch 70/100\n",
            "34/34 [==============================] - 51s 2s/step - loss: 0.4551 - accuracy: 0.8034 - val_loss: 0.4401 - val_accuracy: 0.8257\n",
            "Epoch 71/100\n",
            "34/34 [==============================] - 51s 2s/step - loss: 0.4523 - accuracy: 0.8090 - val_loss: 0.4406 - val_accuracy: 0.8322\n",
            "Epoch 72/100\n",
            "34/34 [==============================] - 44s 1s/step - loss: 0.4490 - accuracy: 0.8118 - val_loss: 0.5154 - val_accuracy: 0.7277\n",
            "Epoch 73/100\n",
            "34/34 [==============================] - 44s 1s/step - loss: 0.4579 - accuracy: 0.8071 - val_loss: 0.4393 - val_accuracy: 0.8322\n",
            "Epoch 74/100\n",
            "34/34 [==============================] - 51s 2s/step - loss: 0.4712 - accuracy: 0.7912 - val_loss: 0.4371 - val_accuracy: 0.8279\n",
            "Epoch 75/100\n",
            "34/34 [==============================] - 51s 2s/step - loss: 0.4613 - accuracy: 0.8052 - val_loss: 0.4374 - val_accuracy: 0.8322\n",
            "Epoch 76/100\n",
            "34/34 [==============================] - 51s 2s/step - loss: 0.4489 - accuracy: 0.7865 - val_loss: 0.4366 - val_accuracy: 0.8366\n",
            "Epoch 77/100\n",
            "34/34 [==============================] - 44s 1s/step - loss: 0.4416 - accuracy: 0.8212 - val_loss: 0.4355 - val_accuracy: 0.8344\n",
            "Epoch 78/100\n",
            "34/34 [==============================] - 51s 2s/step - loss: 0.4545 - accuracy: 0.8109 - val_loss: 0.4359 - val_accuracy: 0.8344\n",
            "Epoch 79/100\n",
            "34/34 [==============================] - 51s 2s/step - loss: 0.4437 - accuracy: 0.8024 - val_loss: 0.4377 - val_accuracy: 0.8279\n",
            "Epoch 80/100\n",
            "34/34 [==============================] - 51s 2s/step - loss: 0.4425 - accuracy: 0.8155 - val_loss: 0.4382 - val_accuracy: 0.8257\n",
            "Epoch 81/100\n",
            "34/34 [==============================] - 51s 2s/step - loss: 0.4602 - accuracy: 0.8034 - val_loss: 0.4533 - val_accuracy: 0.8105\n",
            "Epoch 82/100\n",
            "34/34 [==============================] - 51s 2s/step - loss: 0.4423 - accuracy: 0.8109 - val_loss: 0.4323 - val_accuracy: 0.8344\n",
            "Epoch 83/100\n",
            "34/34 [==============================] - 51s 2s/step - loss: 0.4404 - accuracy: 0.8193 - val_loss: 0.4401 - val_accuracy: 0.8235\n",
            "Epoch 84/100\n",
            "34/34 [==============================] - 51s 2s/step - loss: 0.4479 - accuracy: 0.8099 - val_loss: 0.4808 - val_accuracy: 0.7647\n",
            "Epoch 85/100\n",
            "34/34 [==============================] - 51s 2s/step - loss: 0.4528 - accuracy: 0.7968 - val_loss: 0.4509 - val_accuracy: 0.8105\n",
            "Epoch 86/100\n",
            "34/34 [==============================] - 51s 2s/step - loss: 0.4458 - accuracy: 0.8109 - val_loss: 0.4419 - val_accuracy: 0.8235\n",
            "Epoch 87/100\n",
            "34/34 [==============================] - 51s 2s/step - loss: 0.4350 - accuracy: 0.8071 - val_loss: 0.4412 - val_accuracy: 0.8192\n",
            "Epoch 88/100\n",
            "34/34 [==============================] - 51s 2s/step - loss: 0.4463 - accuracy: 0.8043 - val_loss: 0.4341 - val_accuracy: 0.8257\n",
            "Epoch 89/100\n",
            "34/34 [==============================] - 51s 2s/step - loss: 0.4542 - accuracy: 0.8071 - val_loss: 0.4542 - val_accuracy: 0.8017\n",
            "Epoch 90/100\n",
            "34/34 [==============================] - 51s 2s/step - loss: 0.4354 - accuracy: 0.8081 - val_loss: 0.4294 - val_accuracy: 0.8344\n",
            "Epoch 91/100\n",
            "34/34 [==============================] - 44s 1s/step - loss: 0.4268 - accuracy: 0.8249 - val_loss: 0.4490 - val_accuracy: 0.8083\n",
            "Epoch 92/100\n",
            "34/34 [==============================] - 51s 2s/step - loss: 0.4421 - accuracy: 0.7959 - val_loss: 0.4368 - val_accuracy: 0.8257\n",
            "Epoch 93/100\n",
            "34/34 [==============================] - 52s 2s/step - loss: 0.4372 - accuracy: 0.8006 - val_loss: 0.4518 - val_accuracy: 0.7996\n",
            "Epoch 94/100\n",
            "34/34 [==============================] - 51s 2s/step - loss: 0.4461 - accuracy: 0.8146 - val_loss: 0.4235 - val_accuracy: 0.8366\n",
            "Epoch 95/100\n",
            "34/34 [==============================] - 51s 2s/step - loss: 0.4569 - accuracy: 0.8071 - val_loss: 0.4412 - val_accuracy: 0.8257\n",
            "Epoch 96/100\n",
            "34/34 [==============================] - 51s 2s/step - loss: 0.4372 - accuracy: 0.8127 - val_loss: 0.4246 - val_accuracy: 0.8344\n",
            "Epoch 97/100\n",
            "34/34 [==============================] - 44s 1s/step - loss: 0.4424 - accuracy: 0.8062 - val_loss: 0.4337 - val_accuracy: 0.8279\n",
            "Epoch 98/100\n",
            "34/34 [==============================] - 51s 2s/step - loss: 0.4468 - accuracy: 0.7940 - val_loss: 0.4353 - val_accuracy: 0.8235\n",
            "Epoch 99/100\n",
            "34/34 [==============================] - 51s 2s/step - loss: 0.4377 - accuracy: 0.8221 - val_loss: 0.4291 - val_accuracy: 0.8301\n",
            "Epoch 100/100\n",
            "34/34 [==============================] - 51s 2s/step - loss: 0.4318 - accuracy: 0.8118 - val_loss: 0.4248 - val_accuracy: 0.8322\n"
          ]
        }
      ],
      "source": [
        "#train the model\n",
        "model_history = model.fit(X_train, y_train,validation_split=0.3, epochs=100)"
      ]
    },
    {
      "cell_type": "code",
      "execution_count": 40,
      "metadata": {
        "colab": {
          "base_uri": "https://localhost:8080/",
          "height": 279
        },
        "id": "VPWaAk0DMzPS",
        "outputId": "e33031c6-0dbe-431e-ba69-6e7c3908f94b"
      },
      "outputs": [
        {
          "output_type": "display_data",
          "data": {
            "text/plain": [
              "<Figure size 432x288 with 1 Axes>"
            ],
            "image/png": "[encoded data removed]"
          },
          "metadata": {
            "needs_background": "light"
          }
        }
      ],
      "source": [
        "plt.plot(model.history.history['loss'],label='Training Loss')\n",
        "plt.plot(model.history.history['val_loss'],label='Validation Loss')\n",
        "plt.xlabel('# epochs')\n",
        "plt.ylabel('loss')\n",
        "plt.legend()\n",
        "plt.show()"
      ]
    },
    {
      "cell_type": "code",
      "execution_count": 41,
      "metadata": {
        "colab": {
          "base_uri": "https://localhost:8080/",
          "height": 279
        },
        "id": "dK3rLy0XN9U_",
        "outputId": "d8b3dc4d-b636-48b8-bfbe-666414aa64b4"
      },
      "outputs": [
        {
          "output_type": "display_data",
          "data": {
            "text/plain": [
              "<Figure size 432x288 with 1 Axes>"
            ],
            "image/png": "[encoded data removed]"
          },
          "metadata": {
            "needs_background": "light"
          }
        }
      ],
      "source": [
        "plt.plot(model.history.history['accuracy'],label='Training Accuracy')\n",
        "plt.plot(model.history.history['val_accuracy'],label='Validation Accuracy')\n",
        "plt.xlabel('# epochs')\n",
        "plt.ylabel('accuracy')\n",
        "plt.legend()\n",
        "plt.show()"
      ]
    },
    {
      "cell_type": "code",
      "execution_count": 42,
      "metadata": {
        "colab": {
          "base_uri": "https://localhost:8080/"
        },
        "id": "eE01njKFbVmX",
        "outputId": "3e7bd926-dc88-407c-aee9-b83512de4029"
      },
      "outputs": [
        {
          "output_type": "stream",
          "name": "stdout",
          "text": [
            "16/16 [==============================] - 15s 900ms/step\n"
          ]
        }
      ],
      "source": [
        "y_predicted = model.predict(X_test) #predict the unseen data. this is 2 dimensional array\n",
        "y_predicted = y_predicted.flatten() #one dimensional array"
      ]
    },
    {
      "cell_type": "code",
      "execution_count": 43,
      "metadata": {
        "colab": {
          "base_uri": "https://localhost:8080/"
        },
        "id": "MWClXWKSdEnT",
        "outputId": "1e4b7ef2-b897-4c77-94eb-077e5b3d1dca"
      },
      "outputs": [
        {
          "output_type": "execute_result",
          "data": {
            "text/plain": [
              "(509,)"
            ]
          },
          "metadata": {},
          "execution_count": 43
        }
      ],
      "source": [
        "import numpy as np\n",
        "\n",
        "# if predicted values > 0.5, set it as 1. o/w set as 0\n",
        "y_predicted = np.where(y_predicted > 0.5, 1, 0)\n",
        "y_predicted.shape"
      ]
    },
    {
      "cell_type": "code",
      "execution_count": 44,
      "metadata": {
        "id": "y528WFO9dL3c"
      },
      "outputs": [],
      "source": [
        "#get the confusion matrix and classification report\n",
        "from sklearn.metrics import confusion_matrix, classification_report\n",
        "\n",
        "cm = confusion_matrix(y_test, y_predicted)"
      ]
    },
    {
      "cell_type": "code",
      "execution_count": 45,
      "metadata": {
        "colab": {
          "base_uri": "https://localhost:8080/",
          "height": 296
        },
        "id": "5nt-HxVVddnB",
        "outputId": "3916f909-5993-4a95-80c5-216dd7179877"
      },
      "outputs": [
        {
          "output_type": "execute_result",
          "data": {
            "text/plain": [
              "Text(33.0, 0.5, 'Truth')"
            ]
          },
          "metadata": {},
          "execution_count": 45
        },
        {
          "output_type": "display_data",
          "data": {
            "text/plain": [
              "<Figure size 432x288 with 2 Axes>"
            ],
            "image/png": "[encoded data removed]"
          },
          "metadata": {
            "needs_background": "light"
          }
        }
      ],
      "source": [
        "from matplotlib import pyplot as plt\n",
        "import seaborn as sn\n",
        "sn.heatmap(cm, annot=True, fmt='d')\n",
        "plt.xlabel('Predicted')\n",
        "plt.ylabel('Truth')"
      ]
    },
    {
      "cell_type": "code",
      "execution_count": 46,
      "metadata": {
        "colab": {
          "base_uri": "https://localhost:8080/"
        },
        "id": "jwi2onogdheU",
        "outputId": "22c1c103-72e4-4673-bb86-9b7b9cbe7b18"
      },
      "outputs": [
        {
          "output_type": "stream",
          "name": "stdout",
          "text": [
            "              precision    recall  f1-score   support\n",
            "\n",
            "           0       0.81      0.88      0.85       254\n",
            "           1       0.87      0.80      0.83       255\n",
            "\n",
            "    accuracy                           0.84       509\n",
            "   macro avg       0.84      0.84      0.84       509\n",
            "weighted avg       0.84      0.84      0.84       509\n",
            "\n"
          ]
        }
      ],
      "source": [
        "print(classification_report(y_test, y_predicted))"
      ]
    }
  ],
  "metadata": {
    "accelerator": "GPU",
    "colab": {
      "provenance": []
    },
    "gpuClass": "standard",
    "kernelspec": {
      "display_name": "Python 3 (ipykernel)",
      "language": "python",
      "name": "python3"
    },
    "language_info": {
      "codemirror_mode": {
        "name": "ipython",
        "version": 3
      },
      "file_extension": ".py",
      "mimetype": "text/x-python",
      "name": "python",
      "nbconvert_exporter": "python",
      "pygments_lexer": "ipython3",
      "version": "3.9.13"
    }
  },
  "nbformat": 4,
  "nbformat_minor": 0
}