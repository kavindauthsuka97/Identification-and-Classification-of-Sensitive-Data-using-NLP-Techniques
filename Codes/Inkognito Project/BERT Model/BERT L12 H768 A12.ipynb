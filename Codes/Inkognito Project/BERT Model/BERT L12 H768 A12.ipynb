{
  "cells": [
    {
      "cell_type": "code",
      "execution_count": 1,
      "metadata": {
        "id": "8foc2IVmRiLu"
      },
      "outputs": [],
      "source": [
        "import seaborn as sns\n",
        "from imblearn.over_sampling import RandomOverSampler\n",
        "from collections import Counter\n",
        "import matplotlib.pyplot as plt"
      ]
    },
    {
      "cell_type": "code",
      "execution_count": 2,
      "metadata": {
        "id": "7iToPLqQP1RX"
      },
      "outputs": [],
      "source": [
        "import tensorflow as tf\n",
        "import tensorflow_hub as hub"
      ]
    },
    {
      "cell_type": "code",
      "execution_count": 3,
      "metadata": {
        "colab": {
          "base_uri": "https://localhost:8080/"
        },
        "id": "zsDW-X7dQMKY",
        "outputId": "26b5be2e-5968-4168-a8ea-e5102347dc20"
      },
      "outputs": [
        {
          "output_type": "stream",
          "name": "stdout",
          "text": [
            "Looking in indexes: https://pypi.org/simple, https://us-python.pkg.dev/colab-wheels/public/simple/\n",
            "Collecting tensorflow_text\n",
            "  Downloading tensorflow_text-2.11.0-cp38-cp38-manylinux_2_17_x86_64.manylinux2014_x86_64.whl (5.8 MB)\n",
            "\u001b[2K     \u001b[90m━━━━━━━━━━━━━━━━━━━━━━━━━━━━━━━━━━━━━━━━\u001b[0m \u001b[32m5.8/5.8 MB\u001b[0m \u001b[31m48.3 MB/s\u001b[0m eta \u001b[36m0:00:00\u001b[0m\n",
            "\u001b[?25hRequirement already satisfied: tensorflow<2.12,>=2.11.0 in /usr/local/lib/python3.8/dist-packages (from tensorflow_text) (2.11.0)\n",
            "Requirement already satisfied: tensorflow-hub>=0.8.0 in /usr/local/lib/python3.8/dist-packages (from tensorflow_text) (0.12.0)\n",
            "Requirement already satisfied: tensorboard<2.12,>=2.11 in /usr/local/lib/python3.8/dist-packages (from tensorflow<2.12,>=2.11.0->tensorflow_text) (2.11.2)\n",
            "Requirement already satisfied: termcolor>=1.1.0 in /usr/local/lib/python3.8/dist-packages (from tensorflow<2.12,>=2.11.0->tensorflow_text) (2.2.0)\n",
            "Requirement already satisfied: libclang>=13.0.0 in /usr/local/lib/python3.8/dist-packages (from tensorflow<2.12,>=2.11.0->tensorflow_text) (15.0.6.1)\n",
            "Requirement already satisfied: absl-py>=1.0.0 in /usr/local/lib/python3.8/dist-packages (from tensorflow<2.12,>=2.11.0->tensorflow_text) (1.4.0)\n",
            "Requirement already satisfied: h5py>=2.9.0 in /usr/local/lib/python3.8/dist-packages (from tensorflow<2.12,>=2.11.0->tensorflow_text) (3.1.0)\n",
            "Requirement already satisfied: astunparse>=1.6.0 in /usr/local/lib/python3.8/dist-packages (from tensorflow<2.12,>=2.11.0->tensorflow_text) (1.6.3)\n",
            "Requirement already satisfied: numpy>=1.20 in /usr/local/lib/python3.8/dist-packages (from tensorflow<2.12,>=2.11.0->tensorflow_text) (1.21.6)\n",
            "Requirement already satisfied: six>=1.12.0 in /usr/local/lib/python3.8/dist-packages (from tensorflow<2.12,>=2.11.0->tensorflow_text) (1.15.0)\n",
            "Requirement already satisfied: typing-extensions>=3.6.6 in /usr/local/lib/python3.8/dist-packages (from tensorflow<2.12,>=2.11.0->tensorflow_text) (4.4.0)\n",
            "Requirement already satisfied: wrapt>=1.11.0 in /usr/local/lib/python3.8/dist-packages (from tensorflow<2.12,>=2.11.0->tensorflow_text) (1.14.1)\n",
            "Requirement already satisfied: google-pasta>=0.1.1 in /usr/local/lib/python3.8/dist-packages (from tensorflow<2.12,>=2.11.0->tensorflow_text) (0.2.0)\n",
            "Requirement already satisfied: keras<2.12,>=2.11.0 in /usr/local/lib/python3.8/dist-packages (from tensorflow<2.12,>=2.11.0->tensorflow_text) (2.11.0)\n",
            "Requirement already satisfied: protobuf<3.20,>=3.9.2 in /usr/local/lib/python3.8/dist-packages (from tensorflow<2.12,>=2.11.0->tensorflow_text) (3.19.6)\n",
            "Requirement already satisfied: gast<=0.4.0,>=0.2.1 in /usr/local/lib/python3.8/dist-packages (from tensorflow<2.12,>=2.11.0->tensorflow_text) (0.4.0)\n",
            "Requirement already satisfied: flatbuffers>=2.0 in /usr/local/lib/python3.8/dist-packages (from tensorflow<2.12,>=2.11.0->tensorflow_text) (23.1.21)\n",
            "Requirement already satisfied: tensorflow-estimator<2.12,>=2.11.0 in /usr/local/lib/python3.8/dist-packages (from tensorflow<2.12,>=2.11.0->tensorflow_text) (2.11.0)\n",
            "Requirement already satisfied: setuptools in /usr/local/lib/python3.8/dist-packages (from tensorflow<2.12,>=2.11.0->tensorflow_text) (57.4.0)\n",
            "Requirement already satisfied: opt-einsum>=2.3.2 in /usr/local/lib/python3.8/dist-packages (from tensorflow<2.12,>=2.11.0->tensorflow_text) (3.3.0)\n",
            "Requirement already satisfied: packaging in /usr/local/lib/python3.8/dist-packages (from tensorflow<2.12,>=2.11.0->tensorflow_text) (23.0)\n",
            "Requirement already satisfied: grpcio<2.0,>=1.24.3 in /usr/local/lib/python3.8/dist-packages (from tensorflow<2.12,>=2.11.0->tensorflow_text) (1.51.1)\n",
            "Requirement already satisfied: tensorflow-io-gcs-filesystem>=0.23.1 in /usr/local/lib/python3.8/dist-packages (from tensorflow<2.12,>=2.11.0->tensorflow_text) (0.30.0)\n",
            "Requirement already satisfied: wheel<1.0,>=0.23.0 in /usr/local/lib/python3.8/dist-packages (from astunparse>=1.6.0->tensorflow<2.12,>=2.11.0->tensorflow_text) (0.38.4)\n",
            "Requirement already satisfied: google-auth<3,>=1.6.3 in /usr/local/lib/python3.8/dist-packages (from tensorboard<2.12,>=2.11->tensorflow<2.12,>=2.11.0->tensorflow_text) (2.16.0)\n",
            "Requirement already satisfied: tensorboard-plugin-wit>=1.6.0 in /usr/local/lib/python3.8/dist-packages (from tensorboard<2.12,>=2.11->tensorflow<2.12,>=2.11.0->tensorflow_text) (1.8.1)\n",
            "Requirement already satisfied: tensorboard-data-server<0.7.0,>=0.6.0 in /usr/local/lib/python3.8/dist-packages (from tensorboard<2.12,>=2.11->tensorflow<2.12,>=2.11.0->tensorflow_text) (0.6.1)\n",
            "Requirement already satisfied: werkzeug>=1.0.1 in /usr/local/lib/python3.8/dist-packages (from tensorboard<2.12,>=2.11->tensorflow<2.12,>=2.11.0->tensorflow_text) (1.0.1)\n",
            "Requirement already satisfied: markdown>=2.6.8 in /usr/local/lib/python3.8/dist-packages (from tensorboard<2.12,>=2.11->tensorflow<2.12,>=2.11.0->tensorflow_text) (3.4.1)\n",
            "Requirement already satisfied: google-auth-oauthlib<0.5,>=0.4.1 in /usr/local/lib/python3.8/dist-packages (from tensorboard<2.12,>=2.11->tensorflow<2.12,>=2.11.0->tensorflow_text) (0.4.6)\n",
            "Requirement already satisfied: requests<3,>=2.21.0 in /usr/local/lib/python3.8/dist-packages (from tensorboard<2.12,>=2.11->tensorflow<2.12,>=2.11.0->tensorflow_text) (2.25.1)\n",
            "Requirement already satisfied: cachetools<6.0,>=2.0.0 in /usr/local/lib/python3.8/dist-packages (from google-auth<3,>=1.6.3->tensorboard<2.12,>=2.11->tensorflow<2.12,>=2.11.0->tensorflow_text) (5.3.0)\n",
            "Requirement already satisfied: rsa<5,>=3.1.4 in /usr/local/lib/python3.8/dist-packages (from google-auth<3,>=1.6.3->tensorboard<2.12,>=2.11->tensorflow<2.12,>=2.11.0->tensorflow_text) (4.9)\n",
            "Requirement already satisfied: pyasn1-modules>=0.2.1 in /usr/local/lib/python3.8/dist-packages (from google-auth<3,>=1.6.3->tensorboard<2.12,>=2.11->tensorflow<2.12,>=2.11.0->tensorflow_text) (0.2.8)\n",
            "Requirement already satisfied: requests-oauthlib>=0.7.0 in /usr/local/lib/python3.8/dist-packages (from google-auth-oauthlib<0.5,>=0.4.1->tensorboard<2.12,>=2.11->tensorflow<2.12,>=2.11.0->tensorflow_text) (1.3.1)\n",
            "Requirement already satisfied: importlib-metadata>=4.4 in /usr/local/lib/python3.8/dist-packages (from markdown>=2.6.8->tensorboard<2.12,>=2.11->tensorflow<2.12,>=2.11.0->tensorflow_text) (6.0.0)\n",
            "Requirement already satisfied: urllib3<1.27,>=1.21.1 in /usr/local/lib/python3.8/dist-packages (from requests<3,>=2.21.0->tensorboard<2.12,>=2.11->tensorflow<2.12,>=2.11.0->tensorflow_text) (1.24.3)\n",
            "Requirement already satisfied: chardet<5,>=3.0.2 in /usr/local/lib/python3.8/dist-packages (from requests<3,>=2.21.0->tensorboard<2.12,>=2.11->tensorflow<2.12,>=2.11.0->tensorflow_text) (4.0.0)\n",
            "Requirement already satisfied: idna<3,>=2.5 in /usr/local/lib/python3.8/dist-packages (from requests<3,>=2.21.0->tensorboard<2.12,>=2.11->tensorflow<2.12,>=2.11.0->tensorflow_text) (2.10)\n",
            "Requirement already satisfied: certifi>=2017.4.17 in /usr/local/lib/python3.8/dist-packages (from requests<3,>=2.21.0->tensorboard<2.12,>=2.11->tensorflow<2.12,>=2.11.0->tensorflow_text) (2022.12.7)\n",
            "Requirement already satisfied: zipp>=0.5 in /usr/local/lib/python3.8/dist-packages (from importlib-metadata>=4.4->markdown>=2.6.8->tensorboard<2.12,>=2.11->tensorflow<2.12,>=2.11.0->tensorflow_text) (3.12.1)\n",
            "Requirement already satisfied: pyasn1<0.5.0,>=0.4.6 in /usr/local/lib/python3.8/dist-packages (from pyasn1-modules>=0.2.1->google-auth<3,>=1.6.3->tensorboard<2.12,>=2.11->tensorflow<2.12,>=2.11.0->tensorflow_text) (0.4.8)\n",
            "Requirement already satisfied: oauthlib>=3.0.0 in /usr/local/lib/python3.8/dist-packages (from requests-oauthlib>=0.7.0->google-auth-oauthlib<0.5,>=0.4.1->tensorboard<2.12,>=2.11->tensorflow<2.12,>=2.11.0->tensorflow_text) (3.2.2)\n",
            "Installing collected packages: tensorflow_text\n",
            "Successfully installed tensorflow_text-2.11.0\n"
          ]
        }
      ],
      "source": [
        "!pip install tensorflow_text"
      ]
    },
    {
      "cell_type": "code",
      "execution_count": 4,
      "metadata": {
        "id": "nKoO_r_aQQh1"
      },
      "outputs": [],
      "source": [
        "import tensorflow_text as text"
      ]
    },
    {
      "cell_type": "markdown",
      "metadata": {
        "id": "ynVjNs-RQ-I8"
      },
      "source": [
        "### **Data Preprocessing**"
      ]
    },
    {
      "cell_type": "code",
      "execution_count": 5,
      "metadata": {
        "id": "m5dJeD6IQ7G6"
      },
      "outputs": [],
      "source": [
        "import pandas as pd\n",
        "\n",
        "data = pd.read_csv(\"updated_inkognito_trainingset.csv\")"
      ]
    },
    {
      "cell_type": "code",
      "source": [
        "df = data.iloc[:1500,:]"
      ],
      "metadata": {
        "id": "OBJjf_Bh28cD"
      },
      "execution_count": 6,
      "outputs": []
    },
    {
      "cell_type": "code",
      "execution_count": 7,
      "metadata": {
        "id": "3PJvsgbrRLf3",
        "colab": {
          "base_uri": "https://localhost:8080/"
        },
        "outputId": "ee4ffb40-ab90-4dde-b98f-350836b99081"
      },
      "outputs": [
        {
          "output_type": "stream",
          "name": "stderr",
          "text": [
            "/usr/local/lib/python3.8/dist-packages/pandas/core/frame.py:4906: SettingWithCopyWarning: \n",
            "A value is trying to be set on a copy of a slice from a DataFrame\n",
            "\n",
            "See the caveats in the documentation: https://pandas.pydata.org/pandas-docs/stable/user_guide/indexing.html#returning-a-view-versus-a-copy\n",
            "  return super().drop(\n"
          ]
        }
      ],
      "source": [
        "df.drop('Unnamed: 0',axis=1,inplace=True)"
      ]
    },
    {
      "cell_type": "code",
      "execution_count": 8,
      "metadata": {
        "colab": {
          "base_uri": "https://localhost:8080/",
          "height": 296
        },
        "id": "yv1lAU7URciz",
        "outputId": "036629b2-6a86-4ee8-c4fa-648b09d39b02"
      },
      "outputs": [
        {
          "output_type": "execute_result",
          "data": {
            "text/plain": [
              "<matplotlib.axes._subplots.AxesSubplot at 0x7f37aa0dd6d0>"
            ]
          },
          "metadata": {},
          "execution_count": 8
        },
        {
          "output_type": "display_data",
          "data": {
            "text/plain": [
              "<Figure size 432x288 with 1 Axes>"
            ],
            "image/png": "[encoded data removed]"
          },
          "metadata": {
            "needs_background": "light"
          }
        }
      ],
      "source": [
        "sns.countplot(x=df['Status'])"
      ]
    },
    {
      "cell_type": "code",
      "execution_count": 9,
      "metadata": {
        "colab": {
          "base_uri": "https://localhost:8080/"
        },
        "id": "_W_OONXFSmtN",
        "outputId": "e9c3173b-bc58-4902-8dcc-4c9d0a48779f"
      },
      "outputs": [
        {
          "output_type": "execute_result",
          "data": {
            "text/plain": [
              "False    1018\n",
              "True      482\n",
              "Name: Status, dtype: int64"
            ]
          },
          "metadata": {},
          "execution_count": 9
        }
      ],
      "source": [
        "df['Status'].value_counts()"
      ]
    },
    {
      "cell_type": "code",
      "execution_count": 10,
      "metadata": {
        "colab": {
          "base_uri": "https://localhost:8080/",
          "height": 206
        },
        "id": "4IKbkotVRxTQ",
        "outputId": "672bb37b-41cd-4726-f568-6d7b822feee3"
      },
      "outputs": [
        {
          "output_type": "execute_result",
          "data": {
            "text/plain": [
              "                                                text  Status\n",
              "0  @115712 I understand. I would like to assist y...   False\n",
              "1      @sprintcare and how do you propose we do that   False\n",
              "2  @sprintcare I have sent several private messag...   False\n",
              "3  @115712 Please send us a Private Message so th...   False\n",
              "4                                 @sprintcare I did.   False"
            ],
            "text/html": [
              "\n",
              "  <div id=\"df-14158dd0-db6d-49d5-9d0b-abfd02a70ea4\">\n",
              "    <div class=\"colab-df-container\">\n",
              "      <div>\n",
              "<style scoped>\n",
              "    .dataframe tbody tr th:only-of-type {\n",
              "        vertical-align: middle;\n",
              "    }\n",
              "\n",
              "    .dataframe tbody tr th {\n",
              "        vertical-align: top;\n",
              "    }\n",
              "\n",
              "    .dataframe thead th {\n",
              "        text-align: right;\n",
              "    }\n",
              "</style>\n",
              "<table border=\"1\" class=\"dataframe\">\n",
              "  <thead>\n",
              "    <tr style=\"text-align: right;\">\n",
              "      <th></th>\n",
              "      <th>text</th>\n",
              "      <th>Status</th>\n",
              "    </tr>\n",
              "  </thead>\n",
              "  <tbody>\n",
              "    <tr>\n",
              "      <th>0</th>\n",
              "      <td>@115712 I understand. I would like to assist y...</td>\n",
              "      <td>False</td>\n",
              "    </tr>\n",
              "    <tr>\n",
              "      <th>1</th>\n",
              "      <td>@sprintcare and how do you propose we do that</td>\n",
              "      <td>False</td>\n",
              "    </tr>\n",
              "    <tr>\n",
              "      <th>2</th>\n",
              "      <td>@sprintcare I have sent several private messag...</td>\n",
              "      <td>False</td>\n",
              "    </tr>\n",
              "    <tr>\n",
              "      <th>3</th>\n",
              "      <td>@115712 Please send us a Private Message so th...</td>\n",
              "      <td>False</td>\n",
              "    </tr>\n",
              "    <tr>\n",
              "      <th>4</th>\n",
              "      <td>@sprintcare I did.</td>\n",
              "      <td>False</td>\n",
              "    </tr>\n",
              "  </tbody>\n",
              "</table>\n",
              "</div>\n",
              "      <button class=\"colab-df-convert\" onclick=\"convertToInteractive('df-14158dd0-db6d-49d5-9d0b-abfd02a70ea4')\"\n",
              "              title=\"Convert this dataframe to an interactive table.\"\n",
              "              style=\"display:none;\">\n",
              "        \n",
              "  <svg xmlns=\"http://www.w3.org/2000/svg\" height=\"24px\"viewBox=\"0 0 24 24\"\n",
              "       width=\"24px\">\n",
              "    <path d=\"M0 0h24v24H0V0z\" fill=\"none\"/>\n",
              "    <path d=\"M18.56 5.44l.94 2.06.94-2.06 2.06-.94-2.06-.94-.94-2.06-.94 2.06-2.06.94zm-11 1L8.5 8.5l.94-2.06 2.06-.94-2.06-.94L8.5 2.5l-.94 2.06-2.06.94zm10 10l.94 2.06.94-2.06 2.06-.94-2.06-.94-.94-2.06-.94 2.06-2.06.94z\"/><path d=\"M17.41 7.96l-1.37-1.37c-.4-.4-.92-.59-1.43-.59-.52 0-1.04.2-1.43.59L10.3 9.45l-7.72 7.72c-.78.78-.78 2.05 0 2.83L4 21.41c.39.39.9.59 1.41.59.51 0 1.02-.2 1.41-.59l7.78-7.78 2.81-2.81c.8-.78.8-2.07 0-2.86zM5.41 20L4 18.59l7.72-7.72 1.47 1.35L5.41 20z\"/>\n",
              "  </svg>\n",
              "      </button>\n",
              "      \n",
              "  <style>\n",
              "    .colab-df-container {\n",
              "      display:flex;\n",
              "      flex-wrap:wrap;\n",
              "      gap: 12px;\n",
              "    }\n",
              "\n",
              "    .colab-df-convert {\n",
              "      background-color: #E8F0FE;\n",
              "      border: none;\n",
              "      border-radius: 50%;\n",
              "      cursor: pointer;\n",
              "      display: none;\n",
              "      fill: #1967D2;\n",
              "      height: 32px;\n",
              "      padding: 0 0 0 0;\n",
              "      width: 32px;\n",
              "    }\n",
              "\n",
              "    .colab-df-convert:hover {\n",
              "      background-color: #E2EBFA;\n",
              "      box-shadow: 0px 1px 2px rgba(60, 64, 67, 0.3), 0px 1px 3px 1px rgba(60, 64, 67, 0.15);\n",
              "      fill: #174EA6;\n",
              "    }\n",
              "\n",
              "    [theme=dark] .colab-df-convert {\n",
              "      background-color: #3B4455;\n",
              "      fill: #D2E3FC;\n",
              "    }\n",
              "\n",
              "    [theme=dark] .colab-df-convert:hover {\n",
              "      background-color: #434B5C;\n",
              "      box-shadow: 0px 1px 3px 1px rgba(0, 0, 0, 0.15);\n",
              "      filter: drop-shadow(0px 1px 2px rgba(0, 0, 0, 0.3));\n",
              "      fill: #FFFFFF;\n",
              "    }\n",
              "  </style>\n",
              "\n",
              "      <script>\n",
              "        const buttonEl =\n",
              "          document.querySelector('#df-14158dd0-db6d-49d5-9d0b-abfd02a70ea4 button.colab-df-convert');\n",
              "        buttonEl.style.display =\n",
              "          google.colab.kernel.accessAllowed ? 'block' : 'none';\n",
              "\n",
              "        async function convertToInteractive(key) {\n",
              "          const element = document.querySelector('#df-14158dd0-db6d-49d5-9d0b-abfd02a70ea4');\n",
              "          const dataTable =\n",
              "            await google.colab.kernel.invokeFunction('convertToInteractive',\n",
              "                                                     [key], {});\n",
              "          if (!dataTable) return;\n",
              "\n",
              "          const docLinkHtml = 'Like what you see? Visit the ' +\n",
              "            '<a target=\"_blank\" href=https://colab.research.google.com/notebooks/data_table.ipynb>data table notebook</a>'\n",
              "            + ' to learn more about interactive tables.';\n",
              "          element.innerHTML = '';\n",
              "          dataTable['output_type'] = 'display_data';\n",
              "          await google.colab.output.renderOutput(dataTable, element);\n",
              "          const docLink = document.createElement('div');\n",
              "          docLink.innerHTML = docLinkHtml;\n",
              "          element.appendChild(docLink);\n",
              "        }\n",
              "      </script>\n",
              "    </div>\n",
              "  </div>\n",
              "  "
            ]
          },
          "metadata": {},
          "execution_count": 10
        }
      ],
      "source": [
        "df.head()\n",
        "# False -> 0\n",
        "# True -> 1"
      ]
    },
    {
      "cell_type": "code",
      "execution_count": 11,
      "metadata": {
        "colab": {
          "base_uri": "https://localhost:8080/"
        },
        "id": "2xeEKsw-XaPQ",
        "outputId": "f0a2736a-7b35-4ea9-f388-9d5963d5385f"
      },
      "outputs": [
        {
          "output_type": "execute_result",
          "data": {
            "text/plain": [
              "text      object\n",
              "Status      bool\n",
              "dtype: object"
            ]
          },
          "metadata": {},
          "execution_count": 11
        }
      ],
      "source": [
        "df.dtypes"
      ]
    },
    {
      "cell_type": "code",
      "execution_count": 12,
      "metadata": {
        "id": "mzhFIHN_XdYF",
        "colab": {
          "base_uri": "https://localhost:8080/"
        },
        "outputId": "fbf48421-acba-48bf-ab02-462a34142acf"
      },
      "outputs": [
        {
          "output_type": "stream",
          "name": "stderr",
          "text": [
            "<ipython-input-12-df1dec9dc489>:1: SettingWithCopyWarning: \n",
            "A value is trying to be set on a copy of a slice from a DataFrame.\n",
            "Try using .loc[row_indexer,col_indexer] = value instead\n",
            "\n",
            "See the caveats in the documentation: https://pandas.pydata.org/pandas-docs/stable/user_guide/indexing.html#returning-a-view-versus-a-copy\n",
            "  df['Status'] = df['Status'].astype(str)\n"
          ]
        }
      ],
      "source": [
        "df['Status'] = df['Status'].astype(str)"
      ]
    },
    {
      "cell_type": "code",
      "execution_count": 13,
      "metadata": {
        "colab": {
          "base_uri": "https://localhost:8080/"
        },
        "id": "D2-FlIQOXhIz",
        "outputId": "5f5994d3-2e17-4f5a-caa8-3bda1236ac0e"
      },
      "outputs": [
        {
          "output_type": "execute_result",
          "data": {
            "text/plain": [
              "text      object\n",
              "Status    object\n",
              "dtype: object"
            ]
          },
          "metadata": {},
          "execution_count": 13
        }
      ],
      "source": [
        "df.dtypes"
      ]
    },
    {
      "cell_type": "markdown",
      "metadata": {
        "id": "K0P7a_rbSw4p"
      },
      "source": [
        "**Handling class imbalancing using oversampling technique**"
      ]
    },
    {
      "cell_type": "code",
      "execution_count": 14,
      "metadata": {
        "id": "xAXt_P7JYuxY"
      },
      "outputs": [],
      "source": [
        "X = df[['text']]\n",
        "y = df['Status']"
      ]
    },
    {
      "cell_type": "code",
      "execution_count": 15,
      "metadata": {
        "id": "J77eDg1TaSkS"
      },
      "outputs": [],
      "source": [
        "# Convert the text data and binary response variable to arrays\n",
        "X_array = X.to_numpy()\n",
        "y_array = y.to_numpy()\n"
      ]
    },
    {
      "cell_type": "code",
      "execution_count": 16,
      "metadata": {
        "id": "oSb3xH7ragEq"
      },
      "outputs": [],
      "source": [
        "# Randomly oversample the binary response variable\n",
        "ros = RandomOverSampler()\n",
        "X_resampled, y_resampled = ros.fit_resample(X_array.reshape(-1,1), y_array)\n"
      ]
    },
    {
      "cell_type": "code",
      "execution_count": 17,
      "metadata": {
        "id": "rD4VxFDcaw6H"
      },
      "outputs": [],
      "source": [
        "# Convert the resampled data back to a dataframe\n",
        "df_new = pd.DataFrame({'text': X_resampled.ravel(), 'Status': y_resampled})"
      ]
    },
    {
      "cell_type": "code",
      "execution_count": 18,
      "metadata": {
        "colab": {
          "base_uri": "https://localhost:8080/",
          "height": 206
        },
        "id": "TjVR3-iOa-z1",
        "outputId": "358b06f6-c6c1-43df-c1a2-c413e359b396"
      },
      "outputs": [
        {
          "output_type": "execute_result",
          "data": {
            "text/plain": [
              "                                                text Status\n",
              "0  @115712 I understand. I would like to assist y...  False\n",
              "1      @sprintcare and how do you propose we do that  False\n",
              "2  @sprintcare I have sent several private messag...  False\n",
              "3  @115712 Please send us a Private Message so th...  False\n",
              "4                                 @sprintcare I did.  False"
            ],
            "text/html": [
              "\n",
              "  <div id=\"df-7a06360a-a908-4bbc-8df6-47425e6353ed\">\n",
              "    <div class=\"colab-df-container\">\n",
              "      <div>\n",
              "<style scoped>\n",
              "    .dataframe tbody tr th:only-of-type {\n",
              "        vertical-align: middle;\n",
              "    }\n",
              "\n",
              "    .dataframe tbody tr th {\n",
              "        vertical-align: top;\n",
              "    }\n",
              "\n",
              "    .dataframe thead th {\n",
              "        text-align: right;\n",
              "    }\n",
              "</style>\n",
              "<table border=\"1\" class=\"dataframe\">\n",
              "  <thead>\n",
              "    <tr style=\"text-align: right;\">\n",
              "      <th></th>\n",
              "      <th>text</th>\n",
              "      <th>Status</th>\n",
              "    </tr>\n",
              "  </thead>\n",
              "  <tbody>\n",
              "    <tr>\n",
              "      <th>0</th>\n",
              "      <td>@115712 I understand. I would like to assist y...</td>\n",
              "      <td>False</td>\n",
              "    </tr>\n",
              "    <tr>\n",
              "      <th>1</th>\n",
              "      <td>@sprintcare and how do you propose we do that</td>\n",
              "      <td>False</td>\n",
              "    </tr>\n",
              "    <tr>\n",
              "      <th>2</th>\n",
              "      <td>@sprintcare I have sent several private messag...</td>\n",
              "      <td>False</td>\n",
              "    </tr>\n",
              "    <tr>\n",
              "      <th>3</th>\n",
              "      <td>@115712 Please send us a Private Message so th...</td>\n",
              "      <td>False</td>\n",
              "    </tr>\n",
              "    <tr>\n",
              "      <th>4</th>\n",
              "      <td>@sprintcare I did.</td>\n",
              "      <td>False</td>\n",
              "    </tr>\n",
              "  </tbody>\n",
              "</table>\n",
              "</div>\n",
              "      <button class=\"colab-df-convert\" onclick=\"convertToInteractive('df-7a06360a-a908-4bbc-8df6-47425e6353ed')\"\n",
              "              title=\"Convert this dataframe to an interactive table.\"\n",
              "              style=\"display:none;\">\n",
              "        \n",
              "  <svg xmlns=\"http://www.w3.org/2000/svg\" height=\"24px\"viewBox=\"0 0 24 24\"\n",
              "       width=\"24px\">\n",
              "    <path d=\"M0 0h24v24H0V0z\" fill=\"none\"/>\n",
              "    <path d=\"M18.56 5.44l.94 2.06.94-2.06 2.06-.94-2.06-.94-.94-2.06-.94 2.06-2.06.94zm-11 1L8.5 8.5l.94-2.06 2.06-.94-2.06-.94L8.5 2.5l-.94 2.06-2.06.94zm10 10l.94 2.06.94-2.06 2.06-.94-2.06-.94-.94-2.06-.94 2.06-2.06.94z\"/><path d=\"M17.41 7.96l-1.37-1.37c-.4-.4-.92-.59-1.43-.59-.52 0-1.04.2-1.43.59L10.3 9.45l-7.72 7.72c-.78.78-.78 2.05 0 2.83L4 21.41c.39.39.9.59 1.41.59.51 0 1.02-.2 1.41-.59l7.78-7.78 2.81-2.81c.8-.78.8-2.07 0-2.86zM5.41 20L4 18.59l7.72-7.72 1.47 1.35L5.41 20z\"/>\n",
              "  </svg>\n",
              "      </button>\n",
              "      \n",
              "  <style>\n",
              "    .colab-df-container {\n",
              "      display:flex;\n",
              "      flex-wrap:wrap;\n",
              "      gap: 12px;\n",
              "    }\n",
              "\n",
              "    .colab-df-convert {\n",
              "      background-color: #E8F0FE;\n",
              "      border: none;\n",
              "      border-radius: 50%;\n",
              "      cursor: pointer;\n",
              "      display: none;\n",
              "      fill: #1967D2;\n",
              "      height: 32px;\n",
              "      padding: 0 0 0 0;\n",
              "      width: 32px;\n",
              "    }\n",
              "\n",
              "    .colab-df-convert:hover {\n",
              "      background-color: #E2EBFA;\n",
              "      box-shadow: 0px 1px 2px rgba(60, 64, 67, 0.3), 0px 1px 3px 1px rgba(60, 64, 67, 0.15);\n",
              "      fill: #174EA6;\n",
              "    }\n",
              "\n",
              "    [theme=dark] .colab-df-convert {\n",
              "      background-color: #3B4455;\n",
              "      fill: #D2E3FC;\n",
              "    }\n",
              "\n",
              "    [theme=dark] .colab-df-convert:hover {\n",
              "      background-color: #434B5C;\n",
              "      box-shadow: 0px 1px 3px 1px rgba(0, 0, 0, 0.15);\n",
              "      filter: drop-shadow(0px 1px 2px rgba(0, 0, 0, 0.3));\n",
              "      fill: #FFFFFF;\n",
              "    }\n",
              "  </style>\n",
              "\n",
              "      <script>\n",
              "        const buttonEl =\n",
              "          document.querySelector('#df-7a06360a-a908-4bbc-8df6-47425e6353ed button.colab-df-convert');\n",
              "        buttonEl.style.display =\n",
              "          google.colab.kernel.accessAllowed ? 'block' : 'none';\n",
              "\n",
              "        async function convertToInteractive(key) {\n",
              "          const element = document.querySelector('#df-7a06360a-a908-4bbc-8df6-47425e6353ed');\n",
              "          const dataTable =\n",
              "            await google.colab.kernel.invokeFunction('convertToInteractive',\n",
              "                                                     [key], {});\n",
              "          if (!dataTable) return;\n",
              "\n",
              "          const docLinkHtml = 'Like what you see? Visit the ' +\n",
              "            '<a target=\"_blank\" href=https://colab.research.google.com/notebooks/data_table.ipynb>data table notebook</a>'\n",
              "            + ' to learn more about interactive tables.';\n",
              "          element.innerHTML = '';\n",
              "          dataTable['output_type'] = 'display_data';\n",
              "          await google.colab.output.renderOutput(dataTable, element);\n",
              "          const docLink = document.createElement('div');\n",
              "          docLink.innerHTML = docLinkHtml;\n",
              "          element.appendChild(docLink);\n",
              "        }\n",
              "      </script>\n",
              "    </div>\n",
              "  </div>\n",
              "  "
            ]
          },
          "metadata": {},
          "execution_count": 18
        }
      ],
      "source": [
        "df_new.head()"
      ]
    },
    {
      "cell_type": "code",
      "execution_count": 19,
      "metadata": {
        "colab": {
          "base_uri": "https://localhost:8080/"
        },
        "id": "RTRvwpc9bA8Z",
        "outputId": "cd0cec25-3c00-4b1e-adcb-0e03b526f9b5"
      },
      "outputs": [
        {
          "output_type": "execute_result",
          "data": {
            "text/plain": [
              "False    1018\n",
              "True     1018\n",
              "Name: Status, dtype: int64"
            ]
          },
          "metadata": {},
          "execution_count": 19
        }
      ],
      "source": [
        "df_new['Status'].value_counts()"
      ]
    },
    {
      "cell_type": "code",
      "execution_count": 20,
      "metadata": {
        "colab": {
          "base_uri": "https://localhost:8080/",
          "height": 296
        },
        "id": "2PjuyL28bLjB",
        "outputId": "32909d6a-79ef-4231-feb9-5da5408a9cf9"
      },
      "outputs": [
        {
          "output_type": "execute_result",
          "data": {
            "text/plain": [
              "<matplotlib.axes._subplots.AxesSubplot at 0x7f37a9a279a0>"
            ]
          },
          "metadata": {},
          "execution_count": 20
        },
        {
          "output_type": "display_data",
          "data": {
            "text/plain": [
              "<Figure size 432x288 with 1 Axes>"
            ],
            "image/png": "[encoded data removed]"
          },
          "metadata": {
            "needs_background": "light"
          }
        }
      ],
      "source": [
        "sns.countplot(x=df_new['Status'])"
      ]
    },
    {
      "cell_type": "markdown",
      "metadata": {
        "id": "NR1YV6tccxyh"
      },
      "source": [
        "**Binary Encoding**"
      ]
    },
    {
      "cell_type": "code",
      "execution_count": 21,
      "metadata": {
        "id": "t76Qp_Arb54c"
      },
      "outputs": [],
      "source": [
        "df_new = pd.get_dummies(df_new, columns=['Status']) #to convert the categorical variable to numerical"
      ]
    },
    {
      "cell_type": "code",
      "execution_count": 22,
      "metadata": {
        "colab": {
          "base_uri": "https://localhost:8080/"
        },
        "id": "VfX7oE8xcZrg",
        "outputId": "e001518d-ca55-4682-a5c2-baf9dc14f149"
      },
      "outputs": [
        {
          "output_type": "execute_result",
          "data": {
            "text/plain": [
              "Index(['text', 'Status_False', 'Status_True'], dtype='object')"
            ]
          },
          "metadata": {},
          "execution_count": 22
        }
      ],
      "source": [
        "df_new.columns"
      ]
    },
    {
      "cell_type": "code",
      "execution_count": 23,
      "metadata": {
        "id": "9bFAb2aoceUb"
      },
      "outputs": [],
      "source": [
        "df_new.drop('Status_False',axis=1,inplace=True)"
      ]
    },
    {
      "cell_type": "code",
      "execution_count": 24,
      "metadata": {
        "id": "_cn2qjKgchsZ"
      },
      "outputs": [],
      "source": [
        "df_new = df_new.rename(columns={'Status_True': 'Status'})"
      ]
    },
    {
      "cell_type": "code",
      "execution_count": 25,
      "metadata": {
        "colab": {
          "base_uri": "https://localhost:8080/"
        },
        "id": "r3LhuUklcpVQ",
        "outputId": "8fd9167d-14c1-40e2-8603-246a47bf4d43"
      },
      "outputs": [
        {
          "output_type": "execute_result",
          "data": {
            "text/plain": [
              "0    1018\n",
              "1    1018\n",
              "Name: Status, dtype: int64"
            ]
          },
          "metadata": {},
          "execution_count": 25
        }
      ],
      "source": [
        "df_new['Status'].value_counts()"
      ]
    },
    {
      "cell_type": "code",
      "execution_count": 26,
      "metadata": {
        "colab": {
          "base_uri": "https://localhost:8080/",
          "height": 206
        },
        "id": "jz2O0bzVcuoI",
        "outputId": "57a54070-5430-4936-cc5a-efe4a8c1b3e8"
      },
      "outputs": [
        {
          "output_type": "execute_result",
          "data": {
            "text/plain": [
              "                                                text  Status\n",
              "0  @115712 I understand. I would like to assist y...       0\n",
              "1      @sprintcare and how do you propose we do that       0\n",
              "2  @sprintcare I have sent several private messag...       0\n",
              "3  @115712 Please send us a Private Message so th...       0\n",
              "4                                 @sprintcare I did.       0"
            ],
            "text/html": [
              "\n",
              "  <div id=\"df-2416bc88-120d-4be1-bbdb-bf293ad80bba\">\n",
              "    <div class=\"colab-df-container\">\n",
              "      <div>\n",
              "<style scoped>\n",
              "    .dataframe tbody tr th:only-of-type {\n",
              "        vertical-align: middle;\n",
              "    }\n",
              "\n",
              "    .dataframe tbody tr th {\n",
              "        vertical-align: top;\n",
              "    }\n",
              "\n",
              "    .dataframe thead th {\n",
              "        text-align: right;\n",
              "    }\n",
              "</style>\n",
              "<table border=\"1\" class=\"dataframe\">\n",
              "  <thead>\n",
              "    <tr style=\"text-align: right;\">\n",
              "      <th></th>\n",
              "      <th>text</th>\n",
              "      <th>Status</th>\n",
              "    </tr>\n",
              "  </thead>\n",
              "  <tbody>\n",
              "    <tr>\n",
              "      <th>0</th>\n",
              "      <td>@115712 I understand. I would like to assist y...</td>\n",
              "      <td>0</td>\n",
              "    </tr>\n",
              "    <tr>\n",
              "      <th>1</th>\n",
              "      <td>@sprintcare and how do you propose we do that</td>\n",
              "      <td>0</td>\n",
              "    </tr>\n",
              "    <tr>\n",
              "      <th>2</th>\n",
              "      <td>@sprintcare I have sent several private messag...</td>\n",
              "      <td>0</td>\n",
              "    </tr>\n",
              "    <tr>\n",
              "      <th>3</th>\n",
              "      <td>@115712 Please send us a Private Message so th...</td>\n",
              "      <td>0</td>\n",
              "    </tr>\n",
              "    <tr>\n",
              "      <th>4</th>\n",
              "      <td>@sprintcare I did.</td>\n",
              "      <td>0</td>\n",
              "    </tr>\n",
              "  </tbody>\n",
              "</table>\n",
              "</div>\n",
              "      <button class=\"colab-df-convert\" onclick=\"convertToInteractive('df-2416bc88-120d-4be1-bbdb-bf293ad80bba')\"\n",
              "              title=\"Convert this dataframe to an interactive table.\"\n",
              "              style=\"display:none;\">\n",
              "        \n",
              "  <svg xmlns=\"http://www.w3.org/2000/svg\" height=\"24px\"viewBox=\"0 0 24 24\"\n",
              "       width=\"24px\">\n",
              "    <path d=\"M0 0h24v24H0V0z\" fill=\"none\"/>\n",
              "    <path d=\"M18.56 5.44l.94 2.06.94-2.06 2.06-.94-2.06-.94-.94-2.06-.94 2.06-2.06.94zm-11 1L8.5 8.5l.94-2.06 2.06-.94-2.06-.94L8.5 2.5l-.94 2.06-2.06.94zm10 10l.94 2.06.94-2.06 2.06-.94-2.06-.94-.94-2.06-.94 2.06-2.06.94z\"/><path d=\"M17.41 7.96l-1.37-1.37c-.4-.4-.92-.59-1.43-.59-.52 0-1.04.2-1.43.59L10.3 9.45l-7.72 7.72c-.78.78-.78 2.05 0 2.83L4 21.41c.39.39.9.59 1.41.59.51 0 1.02-.2 1.41-.59l7.78-7.78 2.81-2.81c.8-.78.8-2.07 0-2.86zM5.41 20L4 18.59l7.72-7.72 1.47 1.35L5.41 20z\"/>\n",
              "  </svg>\n",
              "      </button>\n",
              "      \n",
              "  <style>\n",
              "    .colab-df-container {\n",
              "      display:flex;\n",
              "      flex-wrap:wrap;\n",
              "      gap: 12px;\n",
              "    }\n",
              "\n",
              "    .colab-df-convert {\n",
              "      background-color: #E8F0FE;\n",
              "      border: none;\n",
              "      border-radius: 50%;\n",
              "      cursor: pointer;\n",
              "      display: none;\n",
              "      fill: #1967D2;\n",
              "      height: 32px;\n",
              "      padding: 0 0 0 0;\n",
              "      width: 32px;\n",
              "    }\n",
              "\n",
              "    .colab-df-convert:hover {\n",
              "      background-color: #E2EBFA;\n",
              "      box-shadow: 0px 1px 2px rgba(60, 64, 67, 0.3), 0px 1px 3px 1px rgba(60, 64, 67, 0.15);\n",
              "      fill: #174EA6;\n",
              "    }\n",
              "\n",
              "    [theme=dark] .colab-df-convert {\n",
              "      background-color: #3B4455;\n",
              "      fill: #D2E3FC;\n",
              "    }\n",
              "\n",
              "    [theme=dark] .colab-df-convert:hover {\n",
              "      background-color: #434B5C;\n",
              "      box-shadow: 0px 1px 3px 1px rgba(0, 0, 0, 0.15);\n",
              "      filter: drop-shadow(0px 1px 2px rgba(0, 0, 0, 0.3));\n",
              "      fill: #FFFFFF;\n",
              "    }\n",
              "  </style>\n",
              "\n",
              "      <script>\n",
              "        const buttonEl =\n",
              "          document.querySelector('#df-2416bc88-120d-4be1-bbdb-bf293ad80bba button.colab-df-convert');\n",
              "        buttonEl.style.display =\n",
              "          google.colab.kernel.accessAllowed ? 'block' : 'none';\n",
              "\n",
              "        async function convertToInteractive(key) {\n",
              "          const element = document.querySelector('#df-2416bc88-120d-4be1-bbdb-bf293ad80bba');\n",
              "          const dataTable =\n",
              "            await google.colab.kernel.invokeFunction('convertToInteractive',\n",
              "                                                     [key], {});\n",
              "          if (!dataTable) return;\n",
              "\n",
              "          const docLinkHtml = 'Like what you see? Visit the ' +\n",
              "            '<a target=\"_blank\" href=https://colab.research.google.com/notebooks/data_table.ipynb>data table notebook</a>'\n",
              "            + ' to learn more about interactive tables.';\n",
              "          element.innerHTML = '';\n",
              "          dataTable['output_type'] = 'display_data';\n",
              "          await google.colab.output.renderOutput(dataTable, element);\n",
              "          const docLink = document.createElement('div');\n",
              "          docLink.innerHTML = docLinkHtml;\n",
              "          element.appendChild(docLink);\n",
              "        }\n",
              "      </script>\n",
              "    </div>\n",
              "  </div>\n",
              "  "
            ]
          },
          "metadata": {},
          "execution_count": 26
        }
      ],
      "source": [
        "df_new.head()"
      ]
    },
    {
      "cell_type": "code",
      "source": [
        "df_new.shape"
      ],
      "metadata": {
        "colab": {
          "base_uri": "https://localhost:8080/"
        },
        "id": "uM-fNTf_4GAo",
        "outputId": "339c42db-386d-48c0-bbfa-f2b311920d11"
      },
      "execution_count": 27,
      "outputs": [
        {
          "output_type": "execute_result",
          "data": {
            "text/plain": [
              "(2036, 2)"
            ]
          },
          "metadata": {},
          "execution_count": 27
        }
      ]
    },
    {
      "cell_type": "markdown",
      "metadata": {
        "id": "OuPE1fnA-zN5"
      },
      "source": [
        "### **Build the BERT Model**"
      ]
    },
    {
      "cell_type": "code",
      "execution_count": 28,
      "metadata": {
        "id": "dHtZ8pVb-uJE"
      },
      "outputs": [],
      "source": [
        "#split the dataset\n",
        "from sklearn.model_selection import train_test_split\n",
        "\n",
        "X_train, X_test, y_train, y_test = train_test_split(df_new['text'],df_new['Status'], test_size = 1/4, stratify =df_new['Status'])\n",
        "# stratify -> ensure that the class distribution of the data is the same in both sets"
      ]
    },
    {
      "cell_type": "code",
      "execution_count": 29,
      "metadata": {
        "colab": {
          "base_uri": "https://localhost:8080/"
        },
        "id": "LZ5tCZtT_WEi",
        "outputId": "c0136b37-4b26-4dd9-b140-71579d11aa73"
      },
      "outputs": [
        {
          "output_type": "execute_result",
          "data": {
            "text/plain": [
              "((1527,), (1527,))"
            ]
          },
          "metadata": {},
          "execution_count": 29
        }
      ],
      "source": [
        "X_train.shape , y_train.shape"
      ]
    },
    {
      "cell_type": "code",
      "execution_count": 30,
      "metadata": {
        "colab": {
          "base_uri": "https://localhost:8080/"
        },
        "id": "Ur31kP8X_ZvO",
        "outputId": "e8128b75-0241-47b3-c48d-cc15ea1a32c0"
      },
      "outputs": [
        {
          "output_type": "execute_result",
          "data": {
            "text/plain": [
              "((509,), (509,))"
            ]
          },
          "metadata": {},
          "execution_count": 30
        }
      ],
      "source": [
        "X_test.shape , y_test.shape"
      ]
    },
    {
      "cell_type": "code",
      "execution_count": 31,
      "metadata": {
        "colab": {
          "base_uri": "https://localhost:8080/"
        },
        "id": "4d3xuowU_h_B",
        "outputId": "2276ccf0-f93c-441b-d723-ed6d0e40eb73"
      },
      "outputs": [
        {
          "output_type": "execute_result",
          "data": {
            "text/plain": [
              "Counter({0: 764, 1: 763})"
            ]
          },
          "metadata": {},
          "execution_count": 31
        }
      ],
      "source": [
        "Counter(y_train) # class distribution of y_train"
      ]
    },
    {
      "cell_type": "code",
      "execution_count": 32,
      "metadata": {
        "colab": {
          "base_uri": "https://localhost:8080/"
        },
        "id": "lDFZQdJdAVNI",
        "outputId": "38c80965-e7c1-4f05-86fb-0891c4f8bbc1"
      },
      "outputs": [
        {
          "output_type": "execute_result",
          "data": {
            "text/plain": [
              "Counter({0: 254, 1: 255})"
            ]
          },
          "metadata": {},
          "execution_count": 32
        }
      ],
      "source": [
        "Counter(y_test) #class distribution of y_test"
      ]
    },
    {
      "cell_type": "markdown",
      "metadata": {
        "id": "wcBPwblUAnAc"
      },
      "source": [
        "Here we use Functional model to build the BERT layers"
      ]
    },
    {
      "cell_type": "code",
      "execution_count": 33,
      "metadata": {
        "colab": {
          "base_uri": "https://localhost:8080/"
        },
        "id": "KwjRiS0jA2lo",
        "outputId": "d97aa40a-3195-4442-d804-b6701fe43ae5"
      },
      "outputs": [
        {
          "output_type": "stream",
          "name": "stderr",
          "text": [
            "WARNING:tensorflow:Please fix your imports. Module tensorflow.python.training.tracking.data_structures has been moved to tensorflow.python.trackable.data_structures. The old module will be deleted in version 2.11.\n"
          ]
        }
      ],
      "source": [
        "# L-12 bert model urls\n",
        "#preprocess url\n",
        "bert_preprocess = hub.KerasLayer(\"https://tfhub.dev/tensorflow/bert_en_uncased_preprocess/3\")\n",
        "\n",
        "#encoder url\n",
        "bert_encoder = hub.KerasLayer(\"https://tfhub.dev/tensorflow/bert_en_uncased_L-12_H-768_A-12/4\")"
      ]
    },
    {
      "cell_type": "markdown",
      "metadata": {
        "id": "vsVrzF-9Nt64"
      },
      "source": [
        "#### **BERT with FFNN**"
      ]
    },
    {
      "cell_type": "code",
      "execution_count": 34,
      "metadata": {
        "colab": {
          "base_uri": "https://localhost:8080/"
        },
        "id": "rnskIweYAd9e",
        "outputId": "2f161f4a-45ce-4f47-afae-f6248c0b5205"
      },
      "outputs": [
        {
          "output_type": "stream",
          "name": "stderr",
          "text": [
            "WARNING:tensorflow:From /usr/local/lib/python3.8/dist-packages/tensorflow/python/autograph/pyct/static_analysis/liveness.py:83: Analyzer.lamba_check (from tensorflow.python.autograph.pyct.static_analysis.liveness) is deprecated and will be removed after 2023-09-23.\n",
            "Instructions for updating:\n",
            "Lambda fuctions will be no more assumed to be used in the statement where they are used, or at least in the same block. https://github.com/tensorflow/tensorflow/issues/56089\n"
          ]
        }
      ],
      "source": [
        "# Bert layers\n",
        "text_input = tf.keras.layers.Input(shape=(), dtype=tf.string, name='text') #input layer\n",
        "preprocessed_text = bert_preprocess(text_input) #preprocess layer\n",
        "outputs = bert_encoder(preprocessed_text) #bert encoder layer\n",
        "# output shape = (number of records, 768)\n",
        "# each sentence size = (768,1)\n",
        "\n",
        "# Neural network layers\n",
        "l = tf.keras.layers.Dropout(0.1, name=\"dropout\")(outputs['pooled_output']) #dropout layer\n",
        "## output['pooled_output'] is the input of this layer and output of previous layer\n",
        "## output['pooled_output'] gives the bert embdded values\n",
        "l = tf.keras.layers.Dense(1, activation='sigmoid', name=\"output\")(l) #dense layer / last layer\n",
        "\n",
        "# Use inputs and outputs to construct a final model\n",
        "model = tf.keras.Model(inputs=[text_input], outputs = [l])"
      ]
    },
    {
      "cell_type": "code",
      "execution_count": 35,
      "metadata": {
        "colab": {
          "base_uri": "https://localhost:8080/"
        },
        "id": "Yz80NnVxBUhi",
        "outputId": "c6dd02c0-aaf0-443f-e9a1-d537dcb6e75c"
      },
      "outputs": [
        {
          "output_type": "execute_result",
          "data": {
            "text/plain": [
              "<KerasTensor: shape=(None, 768) dtype=float32 (created by layer 'keras_layer_1')>"
            ]
          },
          "metadata": {},
          "execution_count": 35
        }
      ],
      "source": [
        "outputs['pooled_output'] #get the shape of bert embedding values"
      ]
    },
    {
      "cell_type": "code",
      "execution_count": 36,
      "metadata": {
        "colab": {
          "base_uri": "https://localhost:8080/"
        },
        "id": "u7N9dzZ4BYu_",
        "outputId": "845cc4c5-ba1a-43a4-abdd-c9379fc21680"
      },
      "outputs": [
        {
          "output_type": "stream",
          "name": "stdout",
          "text": [
            "Model: \"model\"\n",
            "__________________________________________________________________________________________________\n",
            " Layer (type)                   Output Shape         Param #     Connected to                     \n",
            "==================================================================================================\n",
            " text (InputLayer)              [(None,)]            0           []                               \n",
            "                                                                                                  \n",
            " keras_layer (KerasLayer)       {'input_word_ids':   0           ['text[0][0]']                   \n",
            "                                (None, 128),                                                      \n",
            "                                 'input_type_ids':                                                \n",
            "                                (None, 128),                                                      \n",
            "                                 'input_mask': (Non                                               \n",
            "                                e, 128)}                                                          \n",
            "                                                                                                  \n",
            " keras_layer_1 (KerasLayer)     {'encoder_outputs':  109482241   ['keras_layer[0][0]',            \n",
            "                                 [(None, 128, 768),               'keras_layer[0][1]',            \n",
            "                                 (None, 128, 768),                'keras_layer[0][2]']            \n",
            "                                 (None, 128, 768),                                                \n",
            "                                 (None, 128, 768),                                                \n",
            "                                 (None, 128, 768),                                                \n",
            "                                 (None, 128, 768),                                                \n",
            "                                 (None, 128, 768),                                                \n",
            "                                 (None, 128, 768),                                                \n",
            "                                 (None, 128, 768),                                                \n",
            "                                 (None, 128, 768),                                                \n",
            "                                 (None, 128, 768),                                                \n",
            "                                 (None, 128, 768)],                                               \n",
            "                                 'default': (None,                                                \n",
            "                                768),                                                             \n",
            "                                 'sequence_output':                                               \n",
            "                                 (None, 128, 768),                                                \n",
            "                                 'pooled_output': (                                               \n",
            "                                None, 768)}                                                       \n",
            "                                                                                                  \n",
            " dropout (Dropout)              (None, 768)          0           ['keras_layer_1[0][13]']         \n",
            "                                                                                                  \n",
            " output (Dense)                 (None, 1)            769         ['dropout[0][0]']                \n",
            "                                                                                                  \n",
            "==================================================================================================\n",
            "Total params: 109,483,010\n",
            "Trainable params: 769\n",
            "Non-trainable params: 109,482,241\n",
            "__________________________________________________________________________________________________\n"
          ]
        }
      ],
      "source": [
        "model.summary()"
      ]
    },
    {
      "cell_type": "code",
      "execution_count": 37,
      "metadata": {
        "id": "LhYu5gddMLMl"
      },
      "outputs": [],
      "source": [
        "# compile the model\n",
        "model.compile(optimizer='adam',\n",
        "              loss='binary_crossentropy',\n",
        "              metrics='accuracy')"
      ]
    },
    {
      "cell_type": "code",
      "execution_count": 38,
      "metadata": {
        "colab": {
          "base_uri": "https://localhost:8080/"
        },
        "id": "KRF1i-88MiWN",
        "outputId": "072831d9-cfd8-4398-c62d-546374abcfe1"
      },
      "outputs": [
        {
          "output_type": "stream",
          "name": "stdout",
          "text": [
            "Epoch 1/100\n",
            "34/34 [==============================] - 30s 513ms/step - loss: 0.6818 - accuracy: 0.5581 - val_loss: 0.6423 - val_accuracy: 0.7015\n",
            "Epoch 2/100\n",
            "34/34 [==============================] - 16s 483ms/step - loss: 0.6395 - accuracy: 0.6386 - val_loss: 0.6165 - val_accuracy: 0.6688\n",
            "Epoch 3/100\n",
            "34/34 [==============================] - 16s 488ms/step - loss: 0.6143 - accuracy: 0.6732 - val_loss: 0.6142 - val_accuracy: 0.6688\n",
            "Epoch 4/100\n",
            "34/34 [==============================] - 22s 650ms/step - loss: 0.6177 - accuracy: 0.6554 - val_loss: 0.5876 - val_accuracy: 0.6558\n",
            "Epoch 5/100\n",
            "34/34 [==============================] - 17s 490ms/step - loss: 0.5846 - accuracy: 0.6929 - val_loss: 0.5688 - val_accuracy: 0.7451\n",
            "Epoch 6/100\n",
            "34/34 [==============================] - 16s 485ms/step - loss: 0.5770 - accuracy: 0.7032 - val_loss: 0.5534 - val_accuracy: 0.7102\n",
            "Epoch 7/100\n",
            "34/34 [==============================] - 16s 488ms/step - loss: 0.5577 - accuracy: 0.7154 - val_loss: 0.5380 - val_accuracy: 0.7429\n",
            "Epoch 8/100\n",
            "34/34 [==============================] - 17s 490ms/step - loss: 0.5407 - accuracy: 0.7303 - val_loss: 0.5312 - val_accuracy: 0.7603\n",
            "Epoch 9/100\n",
            "34/34 [==============================] - 16s 489ms/step - loss: 0.5318 - accuracy: 0.7360 - val_loss: 0.5306 - val_accuracy: 0.7560\n",
            "Epoch 10/100\n",
            "34/34 [==============================] - 17s 490ms/step - loss: 0.5266 - accuracy: 0.7434 - val_loss: 0.5129 - val_accuracy: 0.7647\n",
            "Epoch 11/100\n",
            "34/34 [==============================] - 17s 491ms/step - loss: 0.5153 - accuracy: 0.7669 - val_loss: 0.5040 - val_accuracy: 0.7800\n",
            "Epoch 12/100\n",
            "34/34 [==============================] - 17s 490ms/step - loss: 0.5119 - accuracy: 0.7556 - val_loss: 0.5009 - val_accuracy: 0.7734\n",
            "Epoch 13/100\n",
            "34/34 [==============================] - 17s 492ms/step - loss: 0.5054 - accuracy: 0.7687 - val_loss: 0.4899 - val_accuracy: 0.7625\n",
            "Epoch 14/100\n",
            "34/34 [==============================] - 16s 490ms/step - loss: 0.5033 - accuracy: 0.7622 - val_loss: 0.5013 - val_accuracy: 0.7691\n",
            "Epoch 15/100\n",
            "34/34 [==============================] - 16s 483ms/step - loss: 0.5027 - accuracy: 0.7528 - val_loss: 0.4781 - val_accuracy: 0.7734\n",
            "Epoch 16/100\n",
            "34/34 [==============================] - 17s 491ms/step - loss: 0.5130 - accuracy: 0.7509 - val_loss: 0.4778 - val_accuracy: 0.7887\n",
            "Epoch 17/100\n",
            "34/34 [==============================] - 17s 492ms/step - loss: 0.4830 - accuracy: 0.7790 - val_loss: 0.4695 - val_accuracy: 0.7843\n",
            "Epoch 18/100\n",
            "34/34 [==============================] - 16s 478ms/step - loss: 0.4750 - accuracy: 0.7856 - val_loss: 0.4774 - val_accuracy: 0.7625\n",
            "Epoch 19/100\n",
            "34/34 [==============================] - 17s 491ms/step - loss: 0.4815 - accuracy: 0.7743 - val_loss: 0.4623 - val_accuracy: 0.7800\n",
            "Epoch 20/100\n",
            "34/34 [==============================] - 16s 490ms/step - loss: 0.4690 - accuracy: 0.7921 - val_loss: 0.4753 - val_accuracy: 0.7560\n",
            "Epoch 21/100\n",
            "34/34 [==============================] - 16s 489ms/step - loss: 0.4717 - accuracy: 0.7846 - val_loss: 0.4564 - val_accuracy: 0.7930\n",
            "Epoch 22/100\n",
            "34/34 [==============================] - 17s 490ms/step - loss: 0.4633 - accuracy: 0.7865 - val_loss: 0.4546 - val_accuracy: 0.7952\n",
            "Epoch 23/100\n",
            "34/34 [==============================] - 17s 492ms/step - loss: 0.4575 - accuracy: 0.7940 - val_loss: 0.4735 - val_accuracy: 0.7843\n",
            "Epoch 24/100\n",
            "34/34 [==============================] - 16s 489ms/step - loss: 0.4717 - accuracy: 0.7818 - val_loss: 0.4455 - val_accuracy: 0.8126\n",
            "Epoch 25/100\n",
            "34/34 [==============================] - 17s 492ms/step - loss: 0.4649 - accuracy: 0.7978 - val_loss: 0.4452 - val_accuracy: 0.7974\n",
            "Epoch 26/100\n",
            "34/34 [==============================] - 16s 486ms/step - loss: 0.4568 - accuracy: 0.7978 - val_loss: 0.4612 - val_accuracy: 0.7865\n",
            "Epoch 27/100\n",
            "34/34 [==============================] - 16s 489ms/step - loss: 0.4619 - accuracy: 0.7893 - val_loss: 0.4367 - val_accuracy: 0.8105\n",
            "Epoch 28/100\n",
            "34/34 [==============================] - 16s 489ms/step - loss: 0.4486 - accuracy: 0.7987 - val_loss: 0.4406 - val_accuracy: 0.8105\n",
            "Epoch 29/100\n",
            "34/34 [==============================] - 17s 494ms/step - loss: 0.4504 - accuracy: 0.8062 - val_loss: 0.4324 - val_accuracy: 0.8061\n",
            "Epoch 30/100\n",
            "34/34 [==============================] - 16s 475ms/step - loss: 0.4490 - accuracy: 0.7978 - val_loss: 0.4421 - val_accuracy: 0.7887\n",
            "Epoch 31/100\n",
            "34/34 [==============================] - 16s 489ms/step - loss: 0.4506 - accuracy: 0.8043 - val_loss: 0.4411 - val_accuracy: 0.8148\n",
            "Epoch 32/100\n",
            "34/34 [==============================] - 17s 491ms/step - loss: 0.4391 - accuracy: 0.8099 - val_loss: 0.4235 - val_accuracy: 0.8083\n",
            "Epoch 33/100\n",
            "34/34 [==============================] - 16s 489ms/step - loss: 0.4455 - accuracy: 0.7959 - val_loss: 0.4251 - val_accuracy: 0.8148\n",
            "Epoch 34/100\n",
            "34/34 [==============================] - 16s 488ms/step - loss: 0.4396 - accuracy: 0.8043 - val_loss: 0.4188 - val_accuracy: 0.8105\n",
            "Epoch 35/100\n",
            "34/34 [==============================] - 16s 486ms/step - loss: 0.4417 - accuracy: 0.7987 - val_loss: 0.4193 - val_accuracy: 0.8105\n",
            "Epoch 36/100\n",
            "34/34 [==============================] - 16s 488ms/step - loss: 0.4470 - accuracy: 0.7959 - val_loss: 0.4214 - val_accuracy: 0.8148\n",
            "Epoch 37/100\n",
            "34/34 [==============================] - 16s 490ms/step - loss: 0.4250 - accuracy: 0.8155 - val_loss: 0.4155 - val_accuracy: 0.8148\n",
            "Epoch 38/100\n",
            "34/34 [==============================] - 16s 478ms/step - loss: 0.4387 - accuracy: 0.8118 - val_loss: 0.4156 - val_accuracy: 0.8170\n",
            "Epoch 39/100\n",
            "34/34 [==============================] - 16s 476ms/step - loss: 0.4341 - accuracy: 0.8043 - val_loss: 0.4145 - val_accuracy: 0.8061\n",
            "Epoch 40/100\n",
            "34/34 [==============================] - 16s 489ms/step - loss: 0.4329 - accuracy: 0.8015 - val_loss: 0.4153 - val_accuracy: 0.8235\n",
            "Epoch 41/100\n",
            "34/34 [==============================] - 16s 484ms/step - loss: 0.4340 - accuracy: 0.7931 - val_loss: 0.4224 - val_accuracy: 0.8039\n",
            "Epoch 42/100\n",
            "34/34 [==============================] - 17s 491ms/step - loss: 0.4215 - accuracy: 0.8184 - val_loss: 0.4291 - val_accuracy: 0.8105\n",
            "Epoch 43/100\n",
            "34/34 [==============================] - 16s 489ms/step - loss: 0.4242 - accuracy: 0.8165 - val_loss: 0.4222 - val_accuracy: 0.8279\n",
            "Epoch 44/100\n",
            "34/34 [==============================] - 16s 487ms/step - loss: 0.4223 - accuracy: 0.8202 - val_loss: 0.4327 - val_accuracy: 0.8039\n",
            "Epoch 45/100\n",
            "34/34 [==============================] - 16s 475ms/step - loss: 0.4199 - accuracy: 0.8052 - val_loss: 0.4048 - val_accuracy: 0.8235\n",
            "Epoch 46/100\n",
            "34/34 [==============================] - 16s 489ms/step - loss: 0.4246 - accuracy: 0.8221 - val_loss: 0.4054 - val_accuracy: 0.8235\n",
            "Epoch 47/100\n",
            "34/34 [==============================] - 16s 488ms/step - loss: 0.4177 - accuracy: 0.8202 - val_loss: 0.4012 - val_accuracy: 0.8170\n",
            "Epoch 48/100\n",
            "34/34 [==============================] - 16s 476ms/step - loss: 0.4207 - accuracy: 0.8193 - val_loss: 0.4006 - val_accuracy: 0.8214\n",
            "Epoch 49/100\n",
            "34/34 [==============================] - 16s 489ms/step - loss: 0.4055 - accuracy: 0.8249 - val_loss: 0.3995 - val_accuracy: 0.8170\n",
            "Epoch 50/100\n",
            "34/34 [==============================] - 16s 488ms/step - loss: 0.4229 - accuracy: 0.8146 - val_loss: 0.3987 - val_accuracy: 0.8192\n",
            "Epoch 51/100\n",
            "34/34 [==============================] - 16s 477ms/step - loss: 0.4157 - accuracy: 0.8174 - val_loss: 0.4000 - val_accuracy: 0.8214\n",
            "Epoch 52/100\n",
            "34/34 [==============================] - 16s 481ms/step - loss: 0.4157 - accuracy: 0.8146 - val_loss: 0.3967 - val_accuracy: 0.8257\n",
            "Epoch 53/100\n",
            "34/34 [==============================] - 16s 476ms/step - loss: 0.4181 - accuracy: 0.8146 - val_loss: 0.3930 - val_accuracy: 0.8192\n",
            "Epoch 54/100\n",
            "34/34 [==============================] - 16s 490ms/step - loss: 0.4270 - accuracy: 0.8118 - val_loss: 0.4062 - val_accuracy: 0.8235\n",
            "Epoch 55/100\n",
            "34/34 [==============================] - 16s 487ms/step - loss: 0.4095 - accuracy: 0.8249 - val_loss: 0.4043 - val_accuracy: 0.8083\n",
            "Epoch 56/100\n",
            "34/34 [==============================] - 16s 477ms/step - loss: 0.4059 - accuracy: 0.8343 - val_loss: 0.3925 - val_accuracy: 0.8279\n",
            "Epoch 57/100\n",
            "34/34 [==============================] - 16s 473ms/step - loss: 0.4161 - accuracy: 0.8165 - val_loss: 0.3908 - val_accuracy: 0.8192\n",
            "Epoch 58/100\n",
            "34/34 [==============================] - 16s 490ms/step - loss: 0.4032 - accuracy: 0.8230 - val_loss: 0.3909 - val_accuracy: 0.8301\n",
            "Epoch 59/100\n",
            "34/34 [==============================] - 16s 475ms/step - loss: 0.4014 - accuracy: 0.8315 - val_loss: 0.3932 - val_accuracy: 0.8257\n",
            "Epoch 60/100\n",
            "34/34 [==============================] - 16s 487ms/step - loss: 0.4066 - accuracy: 0.8268 - val_loss: 0.3896 - val_accuracy: 0.8322\n",
            "Epoch 61/100\n",
            "34/34 [==============================] - 16s 484ms/step - loss: 0.4079 - accuracy: 0.8230 - val_loss: 0.3893 - val_accuracy: 0.8322\n",
            "Epoch 62/100\n",
            "34/34 [==============================] - 16s 484ms/step - loss: 0.4040 - accuracy: 0.8268 - val_loss: 0.3862 - val_accuracy: 0.8301\n",
            "Epoch 63/100\n",
            "34/34 [==============================] - 16s 475ms/step - loss: 0.4107 - accuracy: 0.8230 - val_loss: 0.3892 - val_accuracy: 0.8279\n",
            "Epoch 64/100\n",
            "34/34 [==============================] - 16s 484ms/step - loss: 0.4083 - accuracy: 0.8165 - val_loss: 0.3914 - val_accuracy: 0.8322\n",
            "Epoch 65/100\n",
            "34/34 [==============================] - 16s 485ms/step - loss: 0.3952 - accuracy: 0.8343 - val_loss: 0.3828 - val_accuracy: 0.8257\n",
            "Epoch 66/100\n",
            "34/34 [==============================] - 16s 488ms/step - loss: 0.4010 - accuracy: 0.8287 - val_loss: 0.3881 - val_accuracy: 0.8279\n",
            "Epoch 67/100\n",
            "34/34 [==============================] - 17s 491ms/step - loss: 0.3960 - accuracy: 0.8390 - val_loss: 0.3830 - val_accuracy: 0.8366\n",
            "Epoch 68/100\n",
            "34/34 [==============================] - 16s 476ms/step - loss: 0.3927 - accuracy: 0.8390 - val_loss: 0.3934 - val_accuracy: 0.8279\n",
            "Epoch 69/100\n",
            "34/34 [==============================] - 16s 476ms/step - loss: 0.4066 - accuracy: 0.8324 - val_loss: 0.3857 - val_accuracy: 0.8366\n",
            "Epoch 70/100\n",
            "34/34 [==============================] - 16s 483ms/step - loss: 0.3966 - accuracy: 0.8268 - val_loss: 0.3955 - val_accuracy: 0.8257\n",
            "Epoch 71/100\n",
            "34/34 [==============================] - 16s 473ms/step - loss: 0.4101 - accuracy: 0.8155 - val_loss: 0.3849 - val_accuracy: 0.8301\n",
            "Epoch 72/100\n",
            "34/34 [==============================] - 16s 487ms/step - loss: 0.3962 - accuracy: 0.8305 - val_loss: 0.3791 - val_accuracy: 0.8388\n",
            "Epoch 73/100\n",
            "34/34 [==============================] - 16s 481ms/step - loss: 0.3962 - accuracy: 0.8305 - val_loss: 0.3777 - val_accuracy: 0.8366\n",
            "Epoch 74/100\n",
            "34/34 [==============================] - 16s 487ms/step - loss: 0.3973 - accuracy: 0.8343 - val_loss: 0.3796 - val_accuracy: 0.8431\n",
            "Epoch 75/100\n",
            "34/34 [==============================] - 16s 490ms/step - loss: 0.3958 - accuracy: 0.8436 - val_loss: 0.3786 - val_accuracy: 0.8410\n",
            "Epoch 76/100\n",
            "34/34 [==============================] - 16s 483ms/step - loss: 0.3862 - accuracy: 0.8511 - val_loss: 0.3797 - val_accuracy: 0.8344\n",
            "Epoch 77/100\n",
            "34/34 [==============================] - 16s 474ms/step - loss: 0.3947 - accuracy: 0.8333 - val_loss: 0.3789 - val_accuracy: 0.8431\n",
            "Epoch 78/100\n",
            "34/34 [==============================] - 16s 488ms/step - loss: 0.3975 - accuracy: 0.8315 - val_loss: 0.3807 - val_accuracy: 0.8366\n",
            "Epoch 79/100\n",
            "34/34 [==============================] - 16s 482ms/step - loss: 0.3905 - accuracy: 0.8361 - val_loss: 0.3760 - val_accuracy: 0.8431\n",
            "Epoch 80/100\n",
            "34/34 [==============================] - 16s 477ms/step - loss: 0.3918 - accuracy: 0.8277 - val_loss: 0.3742 - val_accuracy: 0.8366\n",
            "Epoch 81/100\n",
            "34/34 [==============================] - 16s 475ms/step - loss: 0.3884 - accuracy: 0.8502 - val_loss: 0.3857 - val_accuracy: 0.8257\n",
            "Epoch 82/100\n",
            "34/34 [==============================] - 22s 647ms/step - loss: 0.3975 - accuracy: 0.8249 - val_loss: 0.3758 - val_accuracy: 0.8344\n",
            "Epoch 83/100\n",
            "34/34 [==============================] - 16s 487ms/step - loss: 0.3935 - accuracy: 0.8343 - val_loss: 0.3769 - val_accuracy: 0.8431\n",
            "Epoch 84/100\n",
            "34/34 [==============================] - 16s 484ms/step - loss: 0.3950 - accuracy: 0.8305 - val_loss: 0.3791 - val_accuracy: 0.8301\n",
            "Epoch 85/100\n",
            "34/34 [==============================] - 16s 479ms/step - loss: 0.3925 - accuracy: 0.8408 - val_loss: 0.3766 - val_accuracy: 0.8322\n",
            "Epoch 86/100\n",
            "34/34 [==============================] - 16s 479ms/step - loss: 0.3938 - accuracy: 0.8324 - val_loss: 0.3710 - val_accuracy: 0.8562\n",
            "Epoch 87/100\n",
            "34/34 [==============================] - 17s 490ms/step - loss: 0.3951 - accuracy: 0.8427 - val_loss: 0.3758 - val_accuracy: 0.8344\n",
            "Epoch 88/100\n",
            "34/34 [==============================] - 16s 476ms/step - loss: 0.3887 - accuracy: 0.8390 - val_loss: 0.3716 - val_accuracy: 0.8627\n",
            "Epoch 89/100\n",
            "34/34 [==============================] - 17s 491ms/step - loss: 0.3825 - accuracy: 0.8315 - val_loss: 0.3711 - val_accuracy: 0.8431\n",
            "Epoch 90/100\n",
            "34/34 [==============================] - 16s 484ms/step - loss: 0.4015 - accuracy: 0.8193 - val_loss: 0.3816 - val_accuracy: 0.8301\n",
            "Epoch 91/100\n",
            "34/34 [==============================] - 16s 475ms/step - loss: 0.3900 - accuracy: 0.8408 - val_loss: 0.3721 - val_accuracy: 0.8344\n",
            "Epoch 92/100\n",
            "34/34 [==============================] - 16s 476ms/step - loss: 0.3915 - accuracy: 0.8240 - val_loss: 0.3715 - val_accuracy: 0.8453\n",
            "Epoch 93/100\n",
            "34/34 [==============================] - 16s 490ms/step - loss: 0.3925 - accuracy: 0.8361 - val_loss: 0.3700 - val_accuracy: 0.8475\n",
            "Epoch 94/100\n",
            "34/34 [==============================] - 16s 475ms/step - loss: 0.3870 - accuracy: 0.8277 - val_loss: 0.3721 - val_accuracy: 0.8410\n",
            "Epoch 95/100\n",
            "34/34 [==============================] - 16s 478ms/step - loss: 0.3702 - accuracy: 0.8521 - val_loss: 0.3695 - val_accuracy: 0.8453\n",
            "Epoch 96/100\n",
            "34/34 [==============================] - 16s 482ms/step - loss: 0.4011 - accuracy: 0.8333 - val_loss: 0.3670 - val_accuracy: 0.8649\n",
            "Epoch 97/100\n",
            "34/34 [==============================] - 16s 473ms/step - loss: 0.3936 - accuracy: 0.8380 - val_loss: 0.3740 - val_accuracy: 0.8322\n",
            "Epoch 98/100\n",
            "34/34 [==============================] - 16s 473ms/step - loss: 0.3831 - accuracy: 0.8436 - val_loss: 0.3718 - val_accuracy: 0.8410\n",
            "Epoch 99/100\n",
            "34/34 [==============================] - 16s 489ms/step - loss: 0.3830 - accuracy: 0.8530 - val_loss: 0.3688 - val_accuracy: 0.8475\n",
            "Epoch 100/100\n",
            "34/34 [==============================] - 16s 487ms/step - loss: 0.3828 - accuracy: 0.8361 - val_loss: 0.3674 - val_accuracy: 0.8497\n"
          ]
        }
      ],
      "source": [
        "#train the model\n",
        "model_history = model.fit(X_train, y_train,validation_split=0.3, epochs=100)"
      ]
    },
    {
      "cell_type": "code",
      "execution_count": 39,
      "metadata": {
        "colab": {
          "base_uri": "https://localhost:8080/",
          "height": 279
        },
        "id": "VPWaAk0DMzPS",
        "outputId": "0804b859-53e0-4419-afbd-b37fb2485522"
      },
      "outputs": [
        {
          "output_type": "display_data",
          "data": {
            "text/plain": [
              "<Figure size 432x288 with 1 Axes>"
            ],
            "image/png": "[encoded data removed]"
          },
          "metadata": {
            "needs_background": "light"
          }
        }
      ],
      "source": [
        "plt.plot(model.history.history['loss'],label='Training Loss')\n",
        "plt.plot(model.history.history['val_loss'],label='Validation Loss')\n",
        "plt.xlabel('# epochs')\n",
        "plt.ylabel('loss')\n",
        "plt.legend()\n",
        "plt.show()"
      ]
    },
    {
      "cell_type": "code",
      "execution_count": 40,
      "metadata": {
        "colab": {
          "base_uri": "https://localhost:8080/",
          "height": 279
        },
        "id": "dK3rLy0XN9U_",
        "outputId": "53b9d17d-0f1a-4fb5-a752-6ae971ddc299"
      },
      "outputs": [
        {
          "output_type": "display_data",
          "data": {
            "text/plain": [
              "<Figure size 432x288 with 1 Axes>"
            ],
            "image/png": "[encoded data removed]"
          },
          "metadata": {
            "needs_background": "light"
          }
        }
      ],
      "source": [
        "plt.plot(model.history.history['accuracy'],label='Training Accuracy')\n",
        "plt.plot(model.history.history['val_accuracy'],label='Validation Accuracy')\n",
        "plt.xlabel('# epochs')\n",
        "plt.ylabel('accuracy')\n",
        "plt.legend()\n",
        "plt.show()"
      ]
    },
    {
      "cell_type": "code",
      "execution_count": 41,
      "metadata": {
        "colab": {
          "base_uri": "https://localhost:8080/"
        },
        "id": "eE01njKFbVmX",
        "outputId": "4a035747-d0c0-4e93-a1aa-62be4b93b1c7"
      },
      "outputs": [
        {
          "output_type": "stream",
          "name": "stdout",
          "text": [
            "16/16 [==============================] - 6s 342ms/step\n"
          ]
        }
      ],
      "source": [
        "y_predicted = model.predict(X_test) #predict the unseen data. this is 2 dimensional array\n",
        "y_predicted = y_predicted.flatten() #one dimensional array"
      ]
    },
    {
      "cell_type": "code",
      "execution_count": 42,
      "metadata": {
        "colab": {
          "base_uri": "https://localhost:8080/"
        },
        "id": "MWClXWKSdEnT",
        "outputId": "ea5cb574-20ca-433f-8291-68813003080a"
      },
      "outputs": [
        {
          "output_type": "execute_result",
          "data": {
            "text/plain": [
              "(509,)"
            ]
          },
          "metadata": {},
          "execution_count": 42
        }
      ],
      "source": [
        "import numpy as np\n",
        "\n",
        "# if predicted values > 0.5, set it as 1. o/w set as 0\n",
        "y_predicted = np.where(y_predicted > 0.5, 1, 0)\n",
        "y_predicted.shape"
      ]
    },
    {
      "cell_type": "code",
      "execution_count": 43,
      "metadata": {
        "id": "y528WFO9dL3c"
      },
      "outputs": [],
      "source": [
        "#get the confusion matrix and classification report\n",
        "from sklearn.metrics import confusion_matrix, classification_report\n",
        "\n",
        "cm = confusion_matrix(y_test, y_predicted)"
      ]
    },
    {
      "cell_type": "code",
      "execution_count": 44,
      "metadata": {
        "colab": {
          "base_uri": "https://localhost:8080/",
          "height": 296
        },
        "id": "5nt-HxVVddnB",
        "outputId": "7dbb0d7b-12ce-418b-a938-209d9eb42f2e"
      },
      "outputs": [
        {
          "output_type": "execute_result",
          "data": {
            "text/plain": [
              "Text(33.0, 0.5, 'Truth')"
            ]
          },
          "metadata": {},
          "execution_count": 44
        },
        {
          "output_type": "display_data",
          "data": {
            "text/plain": [
              "<Figure size 432x288 with 2 Axes>"
            ],
            "image/png": "[encoded data removed]"
          },
          "metadata": {
            "needs_background": "light"
          }
        }
      ],
      "source": [
        "from matplotlib import pyplot as plt\n",
        "import seaborn as sn\n",
        "sn.heatmap(cm, annot=True, fmt='d')\n",
        "plt.xlabel('Predicted')\n",
        "plt.ylabel('Truth')"
      ]
    },
    {
      "cell_type": "code",
      "execution_count": 45,
      "metadata": {
        "colab": {
          "base_uri": "https://localhost:8080/"
        },
        "id": "jwi2onogdheU",
        "outputId": "c7b11035-e498-4695-f3ce-629070bf8af5"
      },
      "outputs": [
        {
          "output_type": "stream",
          "name": "stdout",
          "text": [
            "              precision    recall  f1-score   support\n",
            "\n",
            "           0       0.86      0.80      0.83       254\n",
            "           1       0.82      0.87      0.84       255\n",
            "\n",
            "    accuracy                           0.83       509\n",
            "   macro avg       0.84      0.83      0.83       509\n",
            "weighted avg       0.84      0.83      0.83       509\n",
            "\n"
          ]
        }
      ],
      "source": [
        "print(classification_report(y_test, y_predicted))"
      ]
    }
  ],
  "metadata": {
    "accelerator": "GPU",
    "colab": {
      "provenance": []
    },
    "gpuClass": "standard",
    "kernelspec": {
      "display_name": "Python 3 (ipykernel)",
      "language": "python",
      "name": "python3"
    },
    "language_info": {
      "codemirror_mode": {
        "name": "ipython",
        "version": 3
      },
      "file_extension": ".py",
      "mimetype": "text/x-python",
      "name": "python",
      "nbconvert_exporter": "python",
      "pygments_lexer": "ipython3",
      "version": "3.9.13"
    }
  },
  "nbformat": 4,
  "nbformat_minor": 0
}