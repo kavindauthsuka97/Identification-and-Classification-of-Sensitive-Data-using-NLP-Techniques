{
  "cells": [
    {
      "cell_type": "markdown",
      "metadata": {
        "id": "mUk1e1zbrTEp"
      },
      "source": [
        "## **Packages**"
      ]
    },
    {
      "cell_type": "code",
      "source": [
        "import nltk"
      ],
      "metadata": {
        "id": "LCqqRHhmjoKq"
      },
      "execution_count": 15,
      "outputs": []
    },
    {
      "cell_type": "code",
      "execution_count": 16,
      "metadata": {
        "colab": {
          "base_uri": "https://localhost:8080/"
        },
        "id": "RaXYTcXBsjWW",
        "outputId": "5e8ba5fa-191c-4c74-f9a1-d0176eb98c10"
      },
      "outputs": [
        {
          "output_type": "stream",
          "name": "stderr",
          "text": [
            "[nltk_data] Downloading package stopwords to /root/nltk_data...\n",
            "[nltk_data]   Unzipping corpora/stopwords.zip.\n",
            "[nltk_data] Downloading package wordnet to /root/nltk_data...\n",
            "[nltk_data] Downloading package omw-1.4 to /root/nltk_data...\n"
          ]
        },
        {
          "output_type": "execute_result",
          "data": {
            "text/plain": [
              "True"
            ]
          },
          "metadata": {},
          "execution_count": 16
        }
      ],
      "source": [
        "nltk.download('stopwords')\n",
        "nltk.download('wordnet')\n",
        "nltk.download('omw-1.4')"
      ]
    },
    {
      "cell_type": "code",
      "execution_count": 17,
      "metadata": {
        "id": "UuZTRzX8p-7L"
      },
      "outputs": [],
      "source": [
        "import pandas as pd\n",
        "import seaborn as sns\n",
        "import nltk\n",
        "import matplotlib.pyplot as plt\n",
        "\n",
        "#for deep learning approach\n",
        "from tensorflow.keras.preprocessing.text import one_hot\n",
        "from tensorflow.keras.preprocessing.sequence import pad_sequences\n",
        "from tensorflow.keras.models import Sequential\n",
        "from tensorflow.keras.layers import Dense\n",
        "from tensorflow.keras.layers import Flatten\n",
        "from tensorflow.keras.layers import Embedding\n",
        "from keras.layers.convolutional import Conv1D\n",
        "from keras.layers.convolutional import MaxPooling1D\n",
        "from keras.layers import Dropout #use to regularization\n",
        "from sklearn.model_selection import train_test_split\n",
        "from collections import Counter\n",
        "\n",
        "from keras.layers import LSTM\n",
        "from tensorflow.keras.layers import Bidirectional\n",
        "\n",
        "#cleaning the text\n",
        "#cleaning text is basically removing stop words, commas, full stops, lemmatizing or stemming it etc.\n",
        "import re #for regular expression\n",
        "from nltk.corpus import stopwords #responsible for removing stopwords\n",
        "#from nltk.stem.porter import PorterStemmer\n",
        "from nltk.stem import WordNetLemmatizer #responsible for doing lemmatizing"
      ]
    },
    {
      "cell_type": "code",
      "execution_count": 18,
      "metadata": {
        "colab": {
          "base_uri": "https://localhost:8080/"
        },
        "id": "IELu3VOXrfDf",
        "outputId": "12b2837f-dec6-4edd-a8e4-a60d01bd8b2e"
      },
      "outputs": [
        {
          "output_type": "stream",
          "name": "stdout",
          "text": [
            "Looking in indexes: https://pypi.org/simple, https://us-python.pkg.dev/colab-wheels/public/simple/\n",
            "Requirement already satisfied: imbalanced-learn in /usr/local/lib/python3.8/dist-packages (0.8.1)\n",
            "Requirement already satisfied: scipy>=0.19.1 in /usr/local/lib/python3.8/dist-packages (from imbalanced-learn) (1.7.3)\n",
            "Requirement already satisfied: numpy>=1.13.3 in /usr/local/lib/python3.8/dist-packages (from imbalanced-learn) (1.21.6)\n",
            "Requirement already satisfied: scikit-learn>=0.24 in /usr/local/lib/python3.8/dist-packages (from imbalanced-learn) (1.0.2)\n",
            "Requirement already satisfied: joblib>=0.11 in /usr/local/lib/python3.8/dist-packages (from imbalanced-learn) (1.2.0)\n",
            "Requirement already satisfied: threadpoolctl>=2.0.0 in /usr/local/lib/python3.8/dist-packages (from scikit-learn>=0.24->imbalanced-learn) (3.1.0)\n"
          ]
        }
      ],
      "source": [
        "!pip install imbalanced-learn\n",
        "from imblearn.over_sampling import SMOTE"
      ]
    },
    {
      "cell_type": "markdown",
      "metadata": {
        "id": "7d7Zl1-jrtkT"
      },
      "source": [
        "### **Dataset Preprocessing**"
      ]
    },
    {
      "cell_type": "code",
      "execution_count": 19,
      "metadata": {
        "id": "ZDoWdIhIrop0"
      },
      "outputs": [],
      "source": [
        "data = pd.read_csv('updated_inkognito_trainingset.csv')"
      ]
    },
    {
      "cell_type": "code",
      "source": [
        "df = data.iloc[:1500, :]"
      ],
      "metadata": {
        "id": "GYt2tuwxjVvs"
      },
      "execution_count": 20,
      "outputs": []
    },
    {
      "cell_type": "code",
      "execution_count": 21,
      "metadata": {
        "colab": {
          "base_uri": "https://localhost:8080/",
          "height": 206
        },
        "id": "pgRGwCOxrzOl",
        "outputId": "a9f5b4c6-3286-4f89-efdd-45dcc8ef4bc0"
      },
      "outputs": [
        {
          "output_type": "execute_result",
          "data": {
            "text/plain": [
              "   Unnamed: 0                                               text  Status\n",
              "0           0  @115712 I understand. I would like to assist y...   False\n",
              "1           1      @sprintcare and how do you propose we do that   False\n",
              "2           2  @sprintcare I have sent several private messag...   False\n",
              "3           3  @115712 Please send us a Private Message so th...   False\n",
              "4           4                                 @sprintcare I did.   False"
            ],
            "text/html": [
              "\n",
              "  <div id=\"df-74c00b8f-e840-4edc-8629-c1b790625ac9\">\n",
              "    <div class=\"colab-df-container\">\n",
              "      <div>\n",
              "<style scoped>\n",
              "    .dataframe tbody tr th:only-of-type {\n",
              "        vertical-align: middle;\n",
              "    }\n",
              "\n",
              "    .dataframe tbody tr th {\n",
              "        vertical-align: top;\n",
              "    }\n",
              "\n",
              "    .dataframe thead th {\n",
              "        text-align: right;\n",
              "    }\n",
              "</style>\n",
              "<table border=\"1\" class=\"dataframe\">\n",
              "  <thead>\n",
              "    <tr style=\"text-align: right;\">\n",
              "      <th></th>\n",
              "      <th>Unnamed: 0</th>\n",
              "      <th>text</th>\n",
              "      <th>Status</th>\n",
              "    </tr>\n",
              "  </thead>\n",
              "  <tbody>\n",
              "    <tr>\n",
              "      <th>0</th>\n",
              "      <td>0</td>\n",
              "      <td>@115712 I understand. I would like to assist y...</td>\n",
              "      <td>False</td>\n",
              "    </tr>\n",
              "    <tr>\n",
              "      <th>1</th>\n",
              "      <td>1</td>\n",
              "      <td>@sprintcare and how do you propose we do that</td>\n",
              "      <td>False</td>\n",
              "    </tr>\n",
              "    <tr>\n",
              "      <th>2</th>\n",
              "      <td>2</td>\n",
              "      <td>@sprintcare I have sent several private messag...</td>\n",
              "      <td>False</td>\n",
              "    </tr>\n",
              "    <tr>\n",
              "      <th>3</th>\n",
              "      <td>3</td>\n",
              "      <td>@115712 Please send us a Private Message so th...</td>\n",
              "      <td>False</td>\n",
              "    </tr>\n",
              "    <tr>\n",
              "      <th>4</th>\n",
              "      <td>4</td>\n",
              "      <td>@sprintcare I did.</td>\n",
              "      <td>False</td>\n",
              "    </tr>\n",
              "  </tbody>\n",
              "</table>\n",
              "</div>\n",
              "      <button class=\"colab-df-convert\" onclick=\"convertToInteractive('df-74c00b8f-e840-4edc-8629-c1b790625ac9')\"\n",
              "              title=\"Convert this dataframe to an interactive table.\"\n",
              "              style=\"display:none;\">\n",
              "        \n",
              "  <svg xmlns=\"http://www.w3.org/2000/svg\" height=\"24px\"viewBox=\"0 0 24 24\"\n",
              "       width=\"24px\">\n",
              "    <path d=\"M0 0h24v24H0V0z\" fill=\"none\"/>\n",
              "    <path d=\"M18.56 5.44l.94 2.06.94-2.06 2.06-.94-2.06-.94-.94-2.06-.94 2.06-2.06.94zm-11 1L8.5 8.5l.94-2.06 2.06-.94-2.06-.94L8.5 2.5l-.94 2.06-2.06.94zm10 10l.94 2.06.94-2.06 2.06-.94-2.06-.94-.94-2.06-.94 2.06-2.06.94z\"/><path d=\"M17.41 7.96l-1.37-1.37c-.4-.4-.92-.59-1.43-.59-.52 0-1.04.2-1.43.59L10.3 9.45l-7.72 7.72c-.78.78-.78 2.05 0 2.83L4 21.41c.39.39.9.59 1.41.59.51 0 1.02-.2 1.41-.59l7.78-7.78 2.81-2.81c.8-.78.8-2.07 0-2.86zM5.41 20L4 18.59l7.72-7.72 1.47 1.35L5.41 20z\"/>\n",
              "  </svg>\n",
              "      </button>\n",
              "      \n",
              "  <style>\n",
              "    .colab-df-container {\n",
              "      display:flex;\n",
              "      flex-wrap:wrap;\n",
              "      gap: 12px;\n",
              "    }\n",
              "\n",
              "    .colab-df-convert {\n",
              "      background-color: #E8F0FE;\n",
              "      border: none;\n",
              "      border-radius: 50%;\n",
              "      cursor: pointer;\n",
              "      display: none;\n",
              "      fill: #1967D2;\n",
              "      height: 32px;\n",
              "      padding: 0 0 0 0;\n",
              "      width: 32px;\n",
              "    }\n",
              "\n",
              "    .colab-df-convert:hover {\n",
              "      background-color: #E2EBFA;\n",
              "      box-shadow: 0px 1px 2px rgba(60, 64, 67, 0.3), 0px 1px 3px 1px rgba(60, 64, 67, 0.15);\n",
              "      fill: #174EA6;\n",
              "    }\n",
              "\n",
              "    [theme=dark] .colab-df-convert {\n",
              "      background-color: #3B4455;\n",
              "      fill: #D2E3FC;\n",
              "    }\n",
              "\n",
              "    [theme=dark] .colab-df-convert:hover {\n",
              "      background-color: #434B5C;\n",
              "      box-shadow: 0px 1px 3px 1px rgba(0, 0, 0, 0.15);\n",
              "      filter: drop-shadow(0px 1px 2px rgba(0, 0, 0, 0.3));\n",
              "      fill: #FFFFFF;\n",
              "    }\n",
              "  </style>\n",
              "\n",
              "      <script>\n",
              "        const buttonEl =\n",
              "          document.querySelector('#df-74c00b8f-e840-4edc-8629-c1b790625ac9 button.colab-df-convert');\n",
              "        buttonEl.style.display =\n",
              "          google.colab.kernel.accessAllowed ? 'block' : 'none';\n",
              "\n",
              "        async function convertToInteractive(key) {\n",
              "          const element = document.querySelector('#df-74c00b8f-e840-4edc-8629-c1b790625ac9');\n",
              "          const dataTable =\n",
              "            await google.colab.kernel.invokeFunction('convertToInteractive',\n",
              "                                                     [key], {});\n",
              "          if (!dataTable) return;\n",
              "\n",
              "          const docLinkHtml = 'Like what you see? Visit the ' +\n",
              "            '<a target=\"_blank\" href=https://colab.research.google.com/notebooks/data_table.ipynb>data table notebook</a>'\n",
              "            + ' to learn more about interactive tables.';\n",
              "          element.innerHTML = '';\n",
              "          dataTable['output_type'] = 'display_data';\n",
              "          await google.colab.output.renderOutput(dataTable, element);\n",
              "          const docLink = document.createElement('div');\n",
              "          docLink.innerHTML = docLinkHtml;\n",
              "          element.appendChild(docLink);\n",
              "        }\n",
              "      </script>\n",
              "    </div>\n",
              "  </div>\n",
              "  "
            ]
          },
          "metadata": {},
          "execution_count": 21
        }
      ],
      "source": [
        "df.head()"
      ]
    },
    {
      "cell_type": "code",
      "execution_count": 22,
      "metadata": {
        "id": "zHdsnpgjr4DL",
        "colab": {
          "base_uri": "https://localhost:8080/"
        },
        "outputId": "b3cccd65-8e5c-4302-c4ec-621d1388cf22"
      },
      "outputs": [
        {
          "output_type": "stream",
          "name": "stderr",
          "text": [
            "/usr/local/lib/python3.8/dist-packages/pandas/core/frame.py:4906: SettingWithCopyWarning: \n",
            "A value is trying to be set on a copy of a slice from a DataFrame\n",
            "\n",
            "See the caveats in the documentation: https://pandas.pydata.org/pandas-docs/stable/user_guide/indexing.html#returning-a-view-versus-a-copy\n",
            "  return super().drop(\n"
          ]
        }
      ],
      "source": [
        "df.drop('Unnamed: 0',axis=1,inplace=True)"
      ]
    },
    {
      "cell_type": "code",
      "execution_count": 23,
      "metadata": {
        "colab": {
          "base_uri": "https://localhost:8080/",
          "height": 296
        },
        "id": "295WBV-_r6jV",
        "outputId": "573edcf0-1ea4-44e5-ad6a-7a3e93d988c3"
      },
      "outputs": [
        {
          "output_type": "execute_result",
          "data": {
            "text/plain": [
              "<matplotlib.axes._subplots.AxesSubplot at 0x7f9558e1cb80>"
            ]
          },
          "metadata": {},
          "execution_count": 23
        },
        {
          "output_type": "display_data",
          "data": {
            "text/plain": [
              "<Figure size 432x288 with 1 Axes>"
            ],
            "image/png": "[encoded data removed]"
          },
          "metadata": {
            "needs_background": "light"
          }
        }
      ],
      "source": [
        "sns.countplot(x=df['Status']) #data distribution of response variable"
      ]
    },
    {
      "cell_type": "code",
      "execution_count": 24,
      "metadata": {
        "id": "imJcvQuwsDJW"
      },
      "outputs": [],
      "source": [
        "df = pd.get_dummies(df, columns=['Status']) #to convert the categorical variable to numerical"
      ]
    },
    {
      "cell_type": "code",
      "execution_count": 25,
      "metadata": {
        "id": "Cb40j6CEsJic"
      },
      "outputs": [],
      "source": [
        "df.drop('Status_False',axis=1,inplace=True)"
      ]
    },
    {
      "cell_type": "code",
      "execution_count": 26,
      "metadata": {
        "id": "e_8CRUvOsMN1"
      },
      "outputs": [],
      "source": [
        "df = df.rename(columns={'Status_True': 'Status'})"
      ]
    },
    {
      "cell_type": "code",
      "execution_count": 27,
      "metadata": {
        "colab": {
          "base_uri": "https://localhost:8080/",
          "height": 206
        },
        "id": "WrsdDNC2sOB_",
        "outputId": "f3141579-c893-4c57-8405-b659fc49b656"
      },
      "outputs": [
        {
          "output_type": "execute_result",
          "data": {
            "text/plain": [
              "                                                text  Status\n",
              "0  @115712 I understand. I would like to assist y...       0\n",
              "1      @sprintcare and how do you propose we do that       0\n",
              "2  @sprintcare I have sent several private messag...       0\n",
              "3  @115712 Please send us a Private Message so th...       0\n",
              "4                                 @sprintcare I did.       0"
            ],
            "text/html": [
              "\n",
              "  <div id=\"df-a4e6aa87-4c5c-4c46-b9fe-97436dfb242c\">\n",
              "    <div class=\"colab-df-container\">\n",
              "      <div>\n",
              "<style scoped>\n",
              "    .dataframe tbody tr th:only-of-type {\n",
              "        vertical-align: middle;\n",
              "    }\n",
              "\n",
              "    .dataframe tbody tr th {\n",
              "        vertical-align: top;\n",
              "    }\n",
              "\n",
              "    .dataframe thead th {\n",
              "        text-align: right;\n",
              "    }\n",
              "</style>\n",
              "<table border=\"1\" class=\"dataframe\">\n",
              "  <thead>\n",
              "    <tr style=\"text-align: right;\">\n",
              "      <th></th>\n",
              "      <th>text</th>\n",
              "      <th>Status</th>\n",
              "    </tr>\n",
              "  </thead>\n",
              "  <tbody>\n",
              "    <tr>\n",
              "      <th>0</th>\n",
              "      <td>@115712 I understand. I would like to assist y...</td>\n",
              "      <td>0</td>\n",
              "    </tr>\n",
              "    <tr>\n",
              "      <th>1</th>\n",
              "      <td>@sprintcare and how do you propose we do that</td>\n",
              "      <td>0</td>\n",
              "    </tr>\n",
              "    <tr>\n",
              "      <th>2</th>\n",
              "      <td>@sprintcare I have sent several private messag...</td>\n",
              "      <td>0</td>\n",
              "    </tr>\n",
              "    <tr>\n",
              "      <th>3</th>\n",
              "      <td>@115712 Please send us a Private Message so th...</td>\n",
              "      <td>0</td>\n",
              "    </tr>\n",
              "    <tr>\n",
              "      <th>4</th>\n",
              "      <td>@sprintcare I did.</td>\n",
              "      <td>0</td>\n",
              "    </tr>\n",
              "  </tbody>\n",
              "</table>\n",
              "</div>\n",
              "      <button class=\"colab-df-convert\" onclick=\"convertToInteractive('df-a4e6aa87-4c5c-4c46-b9fe-97436dfb242c')\"\n",
              "              title=\"Convert this dataframe to an interactive table.\"\n",
              "              style=\"display:none;\">\n",
              "        \n",
              "  <svg xmlns=\"http://www.w3.org/2000/svg\" height=\"24px\"viewBox=\"0 0 24 24\"\n",
              "       width=\"24px\">\n",
              "    <path d=\"M0 0h24v24H0V0z\" fill=\"none\"/>\n",
              "    <path d=\"M18.56 5.44l.94 2.06.94-2.06 2.06-.94-2.06-.94-.94-2.06-.94 2.06-2.06.94zm-11 1L8.5 8.5l.94-2.06 2.06-.94-2.06-.94L8.5 2.5l-.94 2.06-2.06.94zm10 10l.94 2.06.94-2.06 2.06-.94-2.06-.94-.94-2.06-.94 2.06-2.06.94z\"/><path d=\"M17.41 7.96l-1.37-1.37c-.4-.4-.92-.59-1.43-.59-.52 0-1.04.2-1.43.59L10.3 9.45l-7.72 7.72c-.78.78-.78 2.05 0 2.83L4 21.41c.39.39.9.59 1.41.59.51 0 1.02-.2 1.41-.59l7.78-7.78 2.81-2.81c.8-.78.8-2.07 0-2.86zM5.41 20L4 18.59l7.72-7.72 1.47 1.35L5.41 20z\"/>\n",
              "  </svg>\n",
              "      </button>\n",
              "      \n",
              "  <style>\n",
              "    .colab-df-container {\n",
              "      display:flex;\n",
              "      flex-wrap:wrap;\n",
              "      gap: 12px;\n",
              "    }\n",
              "\n",
              "    .colab-df-convert {\n",
              "      background-color: #E8F0FE;\n",
              "      border: none;\n",
              "      border-radius: 50%;\n",
              "      cursor: pointer;\n",
              "      display: none;\n",
              "      fill: #1967D2;\n",
              "      height: 32px;\n",
              "      padding: 0 0 0 0;\n",
              "      width: 32px;\n",
              "    }\n",
              "\n",
              "    .colab-df-convert:hover {\n",
              "      background-color: #E2EBFA;\n",
              "      box-shadow: 0px 1px 2px rgba(60, 64, 67, 0.3), 0px 1px 3px 1px rgba(60, 64, 67, 0.15);\n",
              "      fill: #174EA6;\n",
              "    }\n",
              "\n",
              "    [theme=dark] .colab-df-convert {\n",
              "      background-color: #3B4455;\n",
              "      fill: #D2E3FC;\n",
              "    }\n",
              "\n",
              "    [theme=dark] .colab-df-convert:hover {\n",
              "      background-color: #434B5C;\n",
              "      box-shadow: 0px 1px 3px 1px rgba(0, 0, 0, 0.15);\n",
              "      filter: drop-shadow(0px 1px 2px rgba(0, 0, 0, 0.3));\n",
              "      fill: #FFFFFF;\n",
              "    }\n",
              "  </style>\n",
              "\n",
              "      <script>\n",
              "        const buttonEl =\n",
              "          document.querySelector('#df-a4e6aa87-4c5c-4c46-b9fe-97436dfb242c button.colab-df-convert');\n",
              "        buttonEl.style.display =\n",
              "          google.colab.kernel.accessAllowed ? 'block' : 'none';\n",
              "\n",
              "        async function convertToInteractive(key) {\n",
              "          const element = document.querySelector('#df-a4e6aa87-4c5c-4c46-b9fe-97436dfb242c');\n",
              "          const dataTable =\n",
              "            await google.colab.kernel.invokeFunction('convertToInteractive',\n",
              "                                                     [key], {});\n",
              "          if (!dataTable) return;\n",
              "\n",
              "          const docLinkHtml = 'Like what you see? Visit the ' +\n",
              "            '<a target=\"_blank\" href=https://colab.research.google.com/notebooks/data_table.ipynb>data table notebook</a>'\n",
              "            + ' to learn more about interactive tables.';\n",
              "          element.innerHTML = '';\n",
              "          dataTable['output_type'] = 'display_data';\n",
              "          await google.colab.output.renderOutput(dataTable, element);\n",
              "          const docLink = document.createElement('div');\n",
              "          docLink.innerHTML = docLinkHtml;\n",
              "          element.appendChild(docLink);\n",
              "        }\n",
              "      </script>\n",
              "    </div>\n",
              "  </div>\n",
              "  "
            ]
          },
          "metadata": {},
          "execution_count": 27
        }
      ],
      "source": [
        "df.head()\n",
        "# False -> 0\n",
        "# True -> 1"
      ]
    },
    {
      "cell_type": "markdown",
      "metadata": {
        "id": "nry_RWfDsSZi"
      },
      "source": [
        "### **Data cleaning for NLP Approach**"
      ]
    },
    {
      "cell_type": "code",
      "execution_count": 28,
      "metadata": {
        "id": "R_xathPosPxm"
      },
      "outputs": [],
      "source": [
        "wordnet = WordNetLemmatizer() #this is responsible for doing the lemmatizing functionality\n",
        "corpus = [] #after cleaning the text we are going to store perticular sentence in this list"
      ]
    },
    {
      "cell_type": "code",
      "execution_count": 29,
      "metadata": {
        "id": "LyxsN8wlsYaW"
      },
      "outputs": [],
      "source": [
        "for i in range(0,len(df)): #go through each row in dataset\n",
        "    review = re.sub('[^a-zA-Z]',' ',df['text'][i]) #apart from a-z and A-Z we remove everything and replace them by spaces\n",
        "    review = review.lower() #lower all the words then we don't have any duplicates\n",
        "    review = review.split() #split each and every word to help to lemmatizing\n",
        "    review = [wordnet.lemmatize(word) for word in review if not word in stopwords.words('english')] #lemmatzing and remove stop words\n",
        "    #first find the word is stop word or not. if it is not a lemmatizing word , then move it to the- lemmatizing purpose.\n",
        "    #from lemmatizing we can get base form of the word\n",
        "    review = ' '.join(review) #join every lemmatized word\n",
        "    corpus.append(review) #append to empty list\n"
      ]
    },
    {
      "cell_type": "code",
      "execution_count": 30,
      "metadata": {
        "colab": {
          "base_uri": "https://localhost:8080/"
        },
        "id": "t_gAm2Pusbdp",
        "outputId": "8c968b74-7a4b-4ee6-bd4e-8eb71a290fa9"
      },
      "outputs": [
        {
          "output_type": "execute_result",
          "data": {
            "text/plain": [
              "['understand would like assist would need get private secured link assist',\n",
              " 'sprintcare propose',\n",
              " 'sprintcare sent several private message one responding usual',\n",
              " 'please send u private message assist click message top profile',\n",
              " 'sprintcare',\n",
              " 'please send u private message gain detail account',\n",
              " 'sprintcare worst customer service',\n",
              " 'saddening hear please shoot u dm look kc',\n",
              " 'sprintcare gonna magically change connectivity whole family',\n",
              " 'understand concern like please send u direct message assist aa',\n",
              " 'sprintcare since signed since day',\n",
              " 'h definitely like work long experiencing issue aa',\n",
              " 'lie great connection bar lte still load something smh',\n",
              " 'please send private message send link access account fr',\n",
              " 'whenever contact customer support tell shortcode enabled account never year tried http co g rtnxpk',\n",
              " 'information incorrect jk',\n",
              " 'ask spectrum would like email copy one since spectrum updating training',\n",
              " 'department part corporate office particular area gone format unawa http co p xcmtzpqj',\n",
              " 'ask spectrum received corporate office would like copy',\n",
              " 'thank jk',\n",
              " 'ask spectrum correct way via ocs account takeover email consent form need done local office',\n",
              " 'ask spectrum incorrect information form front faxed maybe need maintain date information',\n",
              " 'information pertaining account assumption correct need done local outlet wit http co p xcmtzpqj',\n",
              " 'actually broken link sent incorrect information http co v yfrhr vi',\n",
              " 'hello apology frustration inconvenience happy look mg',\n",
              " 'yo ask spectrum customer service rep super nice imma start trippin get service going',\n",
              " 'apologize inconvenience glad assist dm name acct phone jb',\n",
              " 'picture ask spectrum pretty much every day pay per month http co u ptkqa ik',\n",
              " 'help arrived sorry see trouble help hsb',\n",
              " 'verizonsupport finally got someone helped thanks',\n",
              " 'awesome ever need u tweet away hsb',\n",
              " 'somebody verizonsupport please help meeeeee worst luck customer service',\n",
              " 'friend message u acm',\n",
              " 'verizonsupport friend without internet need play videogames together please skill diminish every moment without internetz',\n",
              " 'please follow dm u look order hsb',\n",
              " 'verizonsupport else provide refuse help cannot validate account',\n",
              " 'would able verify anything without authenticating account jay',\n",
              " 'verizonsupport phone number email get equipment service literally trying pay nobody find',\n",
              " 'use order number locate account need secure one one chat please follow dm u hsb',\n",
              " 'md sent wrong address http co dmq wzxjok',\n",
              " 'hello duke copy bill state service located nhp',\n",
              " 'nobody find account number walked store explained find acct via device serial',\n",
              " 'referring wireless residential service jay',\n",
              " 'tried pay bill day service rude c several transfer look equipment give acct',\n",
              " 'light top red jay',\n",
              " 'verizonsupport know router downstairs wifi nothing connected ethernet',\n",
              " 'light change router happened jay',\n",
              " 'verizonsupport randomly boot offline go',\n",
              " 'fios service service go internet light router change color bcw',\n",
              " 'verizonsupport yep',\n",
              " 'service cutting acm',\n",
              " 'verizonsupport cut every minute ridiculous',\n",
              " 'make feel way fix thing u kmg',\n",
              " 'worst isp ever',\n",
              " 'area located service time hsb',\n",
              " 'verizonsupport gt verizon lt expect fix',\n",
              " 'app referring acm',\n",
              " 'fix app even open',\n",
              " 'still think look great becky',\n",
              " 'chipotletweets chipotletweets becky nice',\n",
              " 'chipotletweets fit veggie burrito costume halloween http co tjdvpzlwn',\n",
              " 'sorry please tell u help http co ax w dx becky',\n",
              " 'chipotletweets messed today give burrito although dressed',\n",
              " 'hopefully get point becky',\n",
              " 'hey chipotletweets wanna come mammoth least eat week promise',\n",
              " 'guac happy great experience becky',\n",
              " 'chipotletweets excellent service tonight plenty people line went fast everyone kind',\n",
              " 'smart tara',\n",
              " 'one costume boorito chipotletweets',\n",
              " 'incredibly concerning please tell u http co ax w dx becky',\n",
              " 'chipotletweets diet coke literal bone boorito extra spooky http co c occtduct',\n",
              " 'nope still becky',\n",
              " 'chipotletweets get queso quac bowl extra',\n",
              " 'stop costume pm close official rule http co hmw qxweh http co wn xerxc z',\n",
              " 'mean boorito basically adult version halloween becky',\n",
              " 'happy halloween since old trick treat look forward booritos chipotletweets got mine earlier',\n",
              " 'glad could help work like share praise becky',\n",
              " 'chipotletweets thank chipotletweets resolving issue quickly best fanforlife',\n",
              " 'frustrated chipotletweets ordered dinner saturday using app order wrong charged credit card twice',\n",
              " 'u location participating becky',\n",
              " 'btw chipotletweets giving burrito dress halloween call chipotle make sure select one',\n",
              " 'apology sent dm help becky',\n",
              " 'chipotletweets tried work rude',\n",
              " 'give try tara',\n",
              " 'chipotletweets dress still qualify boorito',\n",
              " 'best kind trick treating treat friend becky',\n",
              " 'every year trick treating routine walking chipotle spending dollar walking back home chipotletweets',\n",
              " 'incredibly concerning please provide detail investigate http co ax w dx becky',\n",
              " 'chipotletweets nasty used napkin someone food http co ekwid vhnr',\n",
              " 'bummer sorry far away closest location becky',\n",
              " 'burrito nowhere near chipotletweets',\n",
              " 'noted becky',\n",
              " 'chipotletweets also got onesie target cozy',\n",
              " 'chipotletweets thanks becky feeling sorry fianc driving c mississippi tonight',\n",
              " 'alone also want llama onesie becky',\n",
              " 'considering walking chipotletweets llama onesie alone happy halloween',\n",
              " 'love thanks much stopping becky',\n",
              " 'chipotletweets name better halloween duo speedwaybrick uttranscript http co shdrmlc',\n",
              " 'info share moment feel free keep eye p blog news update http co altfbaztyc',\n",
              " 'askplaystation get help already',\n",
              " 'askplaystation november p plus free game',\n",
              " 'glad know downloading please feel free contact u concern',\n",
              " 'askplaystation would go download waited hour till bought downloaded',\n",
              " 'sorry inconvenience see data corrupted message try open game download',\n",
              " 'askplaystation bought lego star war playstation store let download data corrupted',\n",
              " 'glad help please share detail issue community forum investigation http co f j l vjhb',\n",
              " 'askplaystation block community sending invite something dont want join',\n",
              " 'glad fun sarah heard count collin really suck life party p',\n",
              " 'count colin marksandspencer xx http co hvwkevfskb',\n",
              " 'let team know better joel thanks sharing',\n",
              " 'ere marksandspencer never mind avocado ave word really necessary pair em suffocating http co ff bmovido',\n",
              " 'obligated provide bag un packaged meat prepackaged charge applied',\n",
              " 'marksandspencer raw meat say unwrapped raw meat sainsbury charge waitrose',\n",
              " 'packaging sufficient extra wrapping bag require extra p charge per legislation thanks',\n",
              " 'marksandspencer check gov office legal stated right funny store wonder lidl rest beating',\n",
              " 'marksandspencer ou must charge least p bag including vat carrier bag following unused new already used sold good taken away delivered plastic micron thick le handle opening sealed',\n",
              " 'marksandspencer require charge bag paper bag shop airport board train aeroplane ship bag contain certain item unwrapped food raw meat fish food safety risk prescription medicine uncovered blade seed bulb amp',\n",
              " 'marksandspencer charge meat bag collier wood branch buy meat r required supply customer free bag poor service',\n",
              " 'love aesthetic colin creeperpillar someday http co lfubix e',\n",
              " 'excellent halloweening marksandspencer countcolin halloween food http co lq csoohdj',\n",
              " 'hello josh get better assistance support suggest post tweet dm friend xboxsupport',\n",
              " 'microsofthelps xboxsupport brilliant thank',\n",
              " 'microsofthelps hi trouble making purchase xbox one store fifa point help',\n",
              " 'help assist recovering account recommend contact answer desk team http co zsm qxpmd',\n",
              " 'microsofthelps need assistance recovering hotmail account filled recovery form told providing enough info',\n",
              " 'appears removed thanks letting know mb',\n",
              " 'atviassist umm someone streaming wwii viewer http co ahbt azzsz',\n",
              " 'problem let u know come across issue question future happy help rk',\n",
              " 'atviassist trying buy digital deluxe edition p store keep receiving error message',\n",
              " 'hello sorry late response checking still need assistance please let know rn',\n",
              " 'atviassist thanks',\n",
              " 'yes pre order game console store information please contact console store rk',\n",
              " 'atviassist still pre oder ww playstation store',\n",
              " 'good afternoon william unfortunately app longer supported sincerest apology jp',\n",
              " 'atviassist yous going update cod zombie io io',\n",
              " 'good afternoon jayden sadly information sincerest apology jp',\n",
              " 'half gig update world war',\n",
              " 'awesome thank much support love costume tv',\n",
              " 'atviassist tried people came back',\n",
              " 'hey check link information regard http co oziloncltf ko',\n",
              " 'atviassist go get game friday xp code receipt',\n",
              " 'gamestop give code pre order payment needed redeem ko',\n",
              " 'atviassist yes beta code',\n",
              " 'redeemed http co ybn eok account even tho say beta code pre order bonus linked ko',\n",
              " 'atviassist yes code',\n",
              " 'atviassist pre ordered game game stop',\n",
              " 'hello apologize delay clarify pre ordered game please sure keep u updated rn',\n",
              " 'atviassist double xp',\n",
              " 'atviassist pre ordered wwii get code',\n",
              " 'please give gamertag platform playing pull account information cb',\n",
              " 'atviassist seth tubbs p',\n",
              " 'atviassist got stats reset mwr know please help',\n",
              " 'unfortunately information please stay tuned update jw',\n",
              " 'atviassist non season pas holder get bobus man carentan point',\n",
              " 'sorry simple let u know step video work need help madison',\n",
              " 'adobecare work tried another computer fresh install thing',\n",
              " 'would please dm adobe product amp purchase detail ask expert follow raj http co iuwzcjz',\n",
              " 'adobecare sure thing',\n",
              " 'adobecare ctrl alt shift load method work',\n",
              " 'hi jason could please try resetting preference photoshop amp let u know help issue http co j dj hdknm sc',\n",
              " 'adobecare pretty much explained issue quoted tweet dragging image onto canvas longer center snap',\n",
              " 'hi jason please let u know anything help thanks aj http co iuwzcjz',\n",
              " 'help adobecare http co x e ug e',\n",
              " 'hi jeffrey able update lightroom classic cc tanuj',\n",
              " 'adobecare nope still',\n",
              " 'tried signing back reinstalling cc desktop app http co ne f tdtm let u know madison',\n",
              " 'adobecare yes ive done multiple time happened previous version well',\n",
              " 'thanks confirming looping expert help reply soon available madison',\n",
              " 'adobecare ok',\n",
              " 'adobecare available',\n",
              " 'sorry let request expert look asap office raj',\n",
              " 'adobecare ok frustrating multiple job need finished application isnt helping',\n",
              " 'hi jeffrey wanted check managed install lightroom classic cc please let u know need assistance nr http co iuwzcjz',\n",
              " 'adobecare still broken deleted probably getting rid membership return working properly thanks',\n",
              " 'jeffrey use process listed http co ccvxxuvxut delete lightroom classic cc jeff',\n",
              " 'adobecare ill wait next big update ive wasted time patience adobe product',\n",
              " 'jeffrey sorry hear face future error please review installation log http co okpwbiqsxr jeff',\n",
              " 'adobecare yea ive done everything guy told know mac either retina imac fairly new',\n",
              " 'hi looping expert team help answer question thanks mc',\n",
              " 'adobecare guy saying week product went great unable work terrible disappointed',\n",
              " 'whats going app totally stuck hour prior updating froze didnt work since updating http co upoczpnqfb',\n",
              " 'amazonhelp',\n",
              " 'amazonhelp',\n",
              " 'et',\n",
              " 'amazonhelp',\n",
              " 'et',\n",
              " 'amazon firetvstick',\n",
              " 'hi change microsoft account email step http co dkehohboyy email son want change already associated microsoft account need follow step switch email address account zm',\n",
              " 'xboxsupport change son xbox live account hotmail account currently linked hotmail account',\n",
              " 'hi lightroom update launched recently please update app latest version t',\n",
              " 'u release update today lightroom classic cc',\n",
              " 'hi please dm u adobe id may quick look account detail tanuj http co iuwzcjz',\n",
              " 'please tell expired still charged',\n",
              " 'hi may suggest feature request http co se u g w tanuj',\n",
              " 'plan add fast crop mode ipad version lr take many tap slows workflow',\n",
              " 'thanks sharing file get back update investigate wren',\n",
              " 'adobecare intermittent file fails reliably http co rqev create subfolder option make empty svg folder',\n",
              " 'unfortunately able reproduce end still checking development team find om http co girhn vnj',\n",
              " 'adobecare seems pretty widespread http co imomztho j mean jerk frustrating update break core functionality',\n",
              " 'hi keelin sorry inconvenience able export svg ai cc would mind sharing workflow sample file screenshot http co iuwzcjz',\n",
              " 'apparently new version cool feature export svgs sick update guy',\n",
              " 'hi duncan please update lightroom following link http co vai tzhd tanuj',\n",
              " 'worried update lr standalone programme could lose due new online version true fair',\n",
              " 'whoa come along lightroom ben warde get lowdown http co f fgfdjank http co fsiv wlrv',\n",
              " 'hi lauren try changing forum screen name http co gf gbjwaq trick madison',\n",
              " 'online forum always broken even clear cooky http co ddwrpwnm',\n",
              " 'hi jake screenshots share export setting happening file link wren',\n",
              " 'adobecare example export export setting unchanged default file http co ybcx dmddc',\n",
              " 'hi jack way could send file try exporting end try replicate wren http co iuwzcjz',\n",
              " 'hi jack looping expert back conversation thanks aj',\n",
              " 'adobecare solved via phone support',\n",
              " 'adobecare indesign exporting pdfs blurry link link missing indd file jpg export blurry help',\n",
              " 'thank responded dm information',\n",
              " 'airbnbhelp sent message detail thanks help',\n",
              " 'hi would like help please dm u account email reservation code assist thank',\n",
              " 'quand ton ne ressemble pa celui que tu r serv amp qu en tre sale et en sou sol tu te retrouves dans logement http co bceihe tq',\n",
              " 'sorry hear please dm email address reservation code look thank',\n",
              " 'misrepresentation host asked cancel reservation refund aud strict policy response please help',\n",
              " 'hi recommend reaching chat team http co urui l ja',\n",
              " 'xboxsupport info either',\n",
              " 'recommend keeping eye email associated account info ja',\n",
              " 'xboxsupport lol one say going shipped kinda weird',\n",
              " 'xboxsupport someone know xbox one x ship let u know lol b mystery',\n",
              " 'pre order console via microsoft store let reach http co jy fdjtzld ja',\n",
              " 'xboxsupport kinda need make sure cdn bank would nice know dun cash laying around ya know reallifestruggles',\n",
              " 'xboxsupport already call one answer question trying jerk nut one answer',\n",
              " 'xboxsupport would like know make sure enough money',\n",
              " 'xboxsupport anyone let know pre order going shipped xbox one x',\n",
              " 'hello would mind following u sending dm gamertag code redeemed rr',\n",
              " 'xboxsupport redeemed code fifa point afternoon still got',\n",
              " 'show u appearing screen rm',\n",
              " 'xboxsupport screen sure xbox side side broken last time call head office http co jnmivolnbs',\n",
              " 'xboxsupport app xboxes working error code done power cycle still please fix app',\n",
              " 'gt http co ntnax qh u et',\n",
              " 'amazon',\n",
              " 'hi emergency service dealing incident info http co xspq dhtvk',\n",
              " 'colleague nationalrailenq info affecting service thanks jp',\n",
              " 'ah maybe could help one',\n",
              " 'nothing partner train preston get taxi rest way told train preston hour',\n",
              " 'seen',\n",
              " 'something going preston train station',\n",
              " 'hi loreen kindly dm u booking number attach guest passport copy fix see anwar',\n",
              " 'airasiasupport hi dm u booking passport picture thanks much quick action',\n",
              " 'hi loreen correction done see board cheer anwar',\n",
              " 'airasiasupport thank much',\n",
              " 'airasiasupport hi would like know itenerary birthday seen would like double check key birthday right',\n",
              " 'hi loreen may check passenger date birth via airasia member account manage booking thanks sha',\n",
              " 'airasiasupport cant see see itenerary birthday',\n",
              " 'may check manage booking online web check date birth shown accordingly ed',\n",
              " 'airasiasupport hi airasia want rebook return flight try rebooking inbond also rebooking please help thanks',\n",
              " 'hi loreen kindly dm u booking number wish change flight u assist thanks anwar',\n",
              " 'airasiasupport hi booked ticket see itenary redundant call ur customer service assist line',\n",
              " 'sorry checked booking already expired due payment made kindly please proceed new booking ed',\n",
              " 'airasiasupport lost booking chua loreen lee flight z taipei manila email',\n",
              " 'lost booking number worry drop passenger name flight detail email trace email u time',\n",
              " 'hi emma could please follow u dm email reply sent yana',\n",
              " 'airasiasupport hi yana followed',\n",
              " 'hi emma replied via dm please check thank mariya',\n",
              " 'airasiasupport hi yana dm mean email',\n",
              " 'replied via dm check yana',\n",
              " 'airasiasupport ca cb n crm please check heard case officer week provided doc',\n",
              " 'notified change yana',\n",
              " 'airasiasupport even happier know restriction around volcano area lifted enjoy staying home pal unlucky',\n",
              " 'airasiasupport refunding trip bali volcano eruption urgently refund',\n",
              " 'terribly sorry could offer option since flight operating per normal passenger',\n",
              " 'hi looreen kindly dm u booking number attach guest passport copy fix see anwar',\n",
              " 'airasiasupport surname redundant go correct',\n",
              " 'h',\n",
              " 'please tell carol wait go home amp find chloe',\n",
              " 'morrison lip sealed',\n",
              " 'somebody else told gutted chloe',\n",
              " 'morrison aahhrrgh keep mum still watching',\n",
              " 'worry carol lip shut chloe',\n",
              " 'morrison aww sophie deserved winner',\n",
              " 'fresh cream palmier morrison bakery bellshill get vote star baker catching gbbo know yet',\n",
              " 'hi sorry please dm visited store look thanks kirsty',\n",
              " 'morrison pointless every day time matter go speak management r fed staff',\n",
              " 'sorry could send store get right people janay',\n",
              " 'see sent store leave u get sorted janay',\n",
              " 'morrison fed familiar sight houghton regis get staff amp stock place properly small example http co cummsxx jc',\n",
              " 'store bought along address card number get sorted thanks kirsty',\n",
              " 'morrison unless one reduced hidden label side care p feel ripped http co jg ftncmdr',\n",
              " 'hi emma sorry product reduced previous offer applied please dm barcode',\n",
              " 'welcome william give u shout need assistance anything else good luck nrc app',\n",
              " 'nikesupport thank nike',\n",
              " 'coach plan week time decide fit best',\n",
              " 'nikesupport new nike run club app start guided run couch',\n",
              " 'got beneficial starting nrc app audio guided run one time run',\n",
              " 'exactly issue',\n",
              " 'askamex asked sale rep payment ready listen issue',\n",
              " 'apology issue time chat securely would happy review rachel',\n",
              " 'askamex sure please drop message',\n",
              " 'great please go http co crjmnnwi h log select code continue conversation rk',\n",
              " 'askamex amex platinum amex everyday card',\n",
              " 'sorry hear u based card pls share personal info',\n",
              " 'askamex nope ready listen wanted say question anything else hung',\n",
              " 'hi sorry exactly issue',\n",
              " 'askamex thought amex value customer boy got really bad rep customer service',\n",
              " 'getting sort saucy halloween trickortweet http co anlyzyvl u',\n",
              " 'mcdonalds treat',\n",
              " 'halloween trick treat let u know trickortweet http co xwjazp c v',\n",
              " 'heart beating faster scare trickortweet http co wte flifj',\n",
              " 'mcdonalds treat',\n",
              " 'chocolate chip cooky mcflurry everything ever missing trickortweet http co yfwchlnkt',\n",
              " 'mcdonalds get uhhhhhhhhhh treat',\n",
              " 'hi receiving error message trying link account',\n",
              " 'cant connect interactive broker canada yahoo finance app io suggestion',\n",
              " 'hi thanks reaching please send u dm continue conversation http co sxpdictw',\n",
              " 'asklyft work pm tomorrow new phone overnighted may ride',\n",
              " 'please let u know help dm tracking using link mc http co wkjhdxwgrq',\n",
              " 'whats wrong w amazon leavin shit outside like ups',\n",
              " 'sorry hear let u know happened tracking please send mc http co wkjhdxwgrq',\n",
              " 'small biz tyrant dime yo nice',\n",
              " 'worth squeeze got u helping along way owning smallbiz quite fruitful http co agbm tracd',\n",
              " 'glad check pls dm confirmation number assistance qb http co idgbjac',\n",
              " 'delta dm sent',\n",
              " 'delta booked flight using delta amex card checking amp charged baggage',\n",
              " 'forget sunday bring grandma mcdonald day see',\n",
              " 'mcdonalds granny attending mcd heaven would give anything able bring',\n",
              " 'grandma laying poolside thanks mcdonalds delicious new buttermilkcrispytenders http co sy hatkti',\n",
              " 'sorry let without providing personal information describe issue love help tn',\n",
              " 'amazonhelp different people given different answer still order say delivered saturday home day',\n",
              " 'like take look please reach u phone chat http co haplpmlfhn ag',\n",
              " 'amazonhelp frankly patience another chat customer service people today',\n",
              " 'way drop ball customer service pissed right',\n",
              " 'unable affect account via twitter real time support phone chat use link http co haplpmlfhn ch',\n",
              " 'want amazon payment account closed dm please',\n",
              " 'hi wir erhalten die filme serien vom jeweiligen studio gebe ich aber direkt al feedback dorthin weiter gru j',\n",
              " 'amazonhelp okay danke f r die info',\n",
              " 'wir haben zu danken sch nen abend noch j',\n",
              " 'also beim addams family film prime sind bild und ton nicht wirklich synchron wie kommt',\n",
              " 'sorry wait receive email soon estimated delivery date fj',\n",
              " 'amazonhelp yeah crazy le week away still shipping information something pre ordered back august',\n",
              " 'thanks patience km',\n",
              " 'guy figure xbox one x project scorpio edition first expected delivery shipping date week away',\n",
              " 'playerunknown battleground available preorder xbox one console http co bqlhcbdqab http co muliqehq',\n",
              " 'sorry order arrived condition please reach u available option http co jzp hla b dg',\n",
              " 'package accidentally opened item missing worth need better delivery driver http co f savbsmqm',\n",
              " 'sorry wait please reach u take closer look delivery http co jzp hla b sh',\n",
              " 'amazonhelp order local courier last day still delivered week late',\n",
              " 'alexa say style working vote go flamingo look se',\n",
              " 'thanks style advice look think halloween flamingo http co xvi la',\n",
              " 'able reach u link dw provided tr',\n",
              " 'amazonhelp hi ready help',\n",
              " 'echo show supported please reach u live troubleshooting convenience http co haplpmlfhn dw',\n",
              " 'amazonhelp echo show longer supported',\n",
              " 'amazonhelp nothing helped echo show',\n",
              " 'oh sorry issue troubleshooting please check echo help page http co c ynhes sg',\n",
              " 'bought echo show recognize single amazonhelp account household wtf guy',\n",
              " 'sorry receive parcel like chance look http co jzp hla b sy',\n",
              " 'amazonhelp page useless allow state delivered tell sort',\n",
              " 'also request call back martin http co zh ulhtgcc km',\n",
              " 'amazonhelp item delivered tracking say handed hour ago nd time happened sort http co w gcark',\n",
              " 'thanks bringing attention please also leave packing feedback http co pmishxgpvp may improve kl',\n",
              " 'response packing video packaging ft washing line pole http co x sqhgc k',\n",
              " 'oh want hear experience amzl please provide feedback http co haplpmlfhn sh',\n",
              " 'amazonhelp want form fill log response one read want prevent amzl touching stuff possible',\n",
              " 'current order difficulty please let u know like help kl',\n",
              " 'amazonhelp already started return ups get doorstep tomorrow order',\n",
              " 'provide detail http co f cwzv vm team escalate order amazon logistics feedback ez',\n",
              " 'amazonhelp possible prevent amzl delivering package moving forward stuff either lost stolen broken every time',\n",
              " 'let u know anything else happy help way fr',\n",
              " 'amazonhelp already handled venting pretty big bummer',\n",
              " 'sorry book arrived way find replacement refund option http co zrrkpvcadf v',\n",
              " 'nice book waited month damaged inside undented box twinpeaks twin http co lac k iqzj http co jroqjkrh q',\n",
              " 'que lindoooooooooo jj http co ysovnjapro',\n",
              " 'feliz halloween http co edhbrdnm x',\n",
              " 'concurso tarjetas regalo en por tu foto en la cama disfrazado colchonmorfeohalloween en los post promo http co xasy kwlza http co yozvlwbwn',\n",
              " 'oh please contact u via phone chat http co jzp hla b unable view order detail via twitter kl',\n",
              " 'amazonhelp delivery paid today arrive paid enough unhappy refund delivery charge',\n",
              " 'lion even show witch way quite wardrobe ac',\n",
              " 'amazonhelp aww reply made night',\n",
              " 'anna inspired idea lab school package shipped narnia amazon go anywhere according anna http co tyvkhuu su',\n",
              " 'oh sorry trouble contact u phone chat http co jzp hla b amp glad help fr',\n",
              " 'amazonhelp said sorted refunded impressed service',\n",
              " 'sent feckin order germany dozy driver looking address wrong country done amazon',\n",
              " 'world',\n",
              " 'never using amazon waiting day item delivery gone sent wrong country',\n",
              " 'okay thanks checking please contact u phone chat look http co haplpmlfhn bn',\n",
              " 'yeah idk shipping company say mike ziemer signed mail room building lol',\n",
              " 'remember head phone brought within minute',\n",
              " 'package halloween costume delivered friday searching everywhere last minute idea',\n",
              " 'sorry trouble caused please contact u may lend hand http co haplpmlfhn wm',\n",
              " 'http co gb beua',\n",
              " 'package china http co fo vbus e',\n",
              " 'please share detail http co gijyeyqke get back hd',\n",
              " 'amazonhelp detail sent please check',\n",
              " 'thanks confirming detail shared team give look reach shortly ab',\n",
              " 'amazonhelp already contacted time last month got assurance matter escalated amp new status provided day',\n",
              " 'please report support team http co tddkslo mf look hd',\n",
              " 'amazonhelp order deliver even month ashamed',\n",
              " 'still offer discount eligible physical game pre order detail prime benefit http co ynlqgj mb',\n",
              " 'amazonhelp since stop giving videogame pre order amazon prime member im confused',\n",
              " 'sorry let like make sure addressed please provide detail http co z evtfszi bn',\n",
              " 'pulled another amazon delivery bush since amzl people walk extra ft door tired',\n",
              " 'version io running check setting gt general gt',\n",
              " 'applesupport newest update made sure download yesterday',\n",
              " 'let take closer look issue select following link join u dm go http co gdrqu ypt',\n",
              " 'applesupport http co nv yucs lb',\n",
              " 'applesupport changing showing correctly social medium platform http co gyrvpyvnke',\n",
              " 'let go dm next step dm u http co gdrqu ypt',\n",
              " 'applesupport tried resetting setting restarting phone',\n",
              " 'step tried since started last night',\n",
              " 'applesupport look like http co xcqu l xub',\n",
              " 'great io rule outdated step tried since started recall started',\n",
              " 'applesupport iphone plus yes',\n",
              " 'like look model io installed step tried far',\n",
              " 'applesupport need answer annoying',\n",
              " 'question mark',\n",
              " '',\n",
              " 'hey let work together figure going meet u dm continue http co gdrqu ypt',\n",
              " 'applesupport sent dm',\n",
              " 'hey applesupport anyone else upgraded io issue capital mail app put',\n",
              " 'like investigate send u dm troubleshoot http co gdrqu ypt',\n",
              " 'applesupport happening http co x szsjxfat',\n",
              " 'fill u happening help',\n",
              " 'tf wrong keyboard',\n",
              " 'received dm continue',\n",
              " 'applesupport call centre closed night',\n",
              " 'going hapy help http co gdrqu ypt',\n",
              " 'applesupport hello line closed tonight help',\n",
              " 'reach u via dm take look http co gdrqu ypt',\n",
              " 'applesupport upgraded work',\n",
              " 'applesupport',\n",
              " 'applesupport going need share answer angela stand',\n",
              " 'right place help start let u know io version installed via dm http co gdrqu ypt',\n",
              " 'hello internet someone explain symbol keep appearing phone try type letter also applesupport http co qkwvtltin',\n",
              " 'go ahead send u dm please let u know country',\n",
              " 'applesupport got screenshot saying iphonex reserved rd email saying th happened',\n",
              " 'like help need detail happening device model io',\n",
              " 'applesupport iphone plus recent update',\n",
              " 'make sure io installed currently also step tried far dm u http co gdrqu ypt',\n",
              " 'thank applesupport updated phone even slower barely work thank ruining phone',\n",
              " 'thanks io version currently showing setting gt general gt',\n",
              " 'applesupport io',\n",
              " 'let check setting gt general gt software update io released earlier today see please backup amp update',\n",
              " 'applesupport okey thank',\n",
              " 'pleasure still issue back update contact u back happy help',\n",
              " 'applesupport iphone plus',\n",
              " 'hi type device working',\n",
              " 'applesupport need software update urgently battery last literally half day applesupport',\n",
              " 'offer support via twitter english get help spanish http co ibiy vmgpj join http co oczyrx io',\n",
              " 'hola applesupport necesito urgente la actualizaci n de software la bater dura literal medio',\n",
              " 'want help dm u let u know issue http co gdrqu ypt',\n",
              " 'applesupport hi going youtube lost done thanks support http co zzp ih',\n",
              " 'like get speaking expert http co ibiy vmgpj',\n",
              " 'applesupport hello',\n",
              " 'applesupport apple tv work fine phone playing video mac air stutter much amp sound still mac tv',\n",
              " 'released io suggest backing amp updating test issue http co yrnjdfdk',\n",
              " 'applesupport yes',\n",
              " 'let u help home button issue start right io version io running',\n",
              " 'home button work io applesupport',\n",
              " 'help meet u dm check available option http co gdrqu ypt',\n",
              " 'hey last time downloaded update freaking phone gave hell recommendation',\n",
              " 'dm u specific io version running currently continue http co gdrqu ypt',\n",
              " 'applesupport find option get always playing',\n",
              " 'confirm happening spotify correct',\n",
              " 'applesupport app still longer able control lockscreen',\n",
              " 'thanks reaching u experiencing missing app restating device',\n",
              " 'update io spotify lock screen applesupport',\n",
              " 'want help get battery life back track please dm look together http co gdrqu ypt',\n",
              " 'need something battery life suck as',\n",
              " 'happy follow contact u via http co xm tilvai connect',\n",
              " 'uber support already told requested dropped somewhere different completely false',\n",
              " 'apologize trouble send u dm email address connect',\n",
              " 'need correct false charge trip lexington ky saturday want back lyingdriver theft',\n",
              " 'help send u note http co wftpa rjwt team touch',\n",
              " 'driver drove department air travel instead airport rufkm',\n",
              " 'help travis send u note via http co dwdjaokzht touch',\n",
              " 'uber support getting text http co ghefnjqtfg',\n",
              " 'info ubereats availability click http co yfzqfaf',\n",
              " 'got threw door today went order sorry deliver area get http co bgzu vyjs',\n",
              " 'received dm follow',\n",
              " 'uber support',\n",
              " 'uber support phone number literally stranded wait automated reply ridiculous',\n",
              " 'sorry hear experience send u dm email address connect',\n",
              " 'literally stranded support phone number wait message uber support smh',\n",
              " 'sorry hear experience ray please contact u via http co abegvdnwqn touch',\n",
              " 'hour inside old altima smell ripped stain seat inexperienced miami driver standard applying',\n",
              " 'hi cade thanks much sending sent email store manager look',\n",
              " 'tesco tall lady ft slim till think blonde hair served guy knowing queue like others',\n",
              " 'hi cade colleague name give description store nick',\n",
              " 'tesco wrong really appreciate need investigate simply queuing pay guy pushed',\n",
              " 'sorry earlier flight may available time scheduled change tmt',\n",
              " 'delta checked daily flight never offered option certainly would made adjust trip',\n",
              " 'apology flight never showed search would mean full tmt',\n",
              " 'delta earlier flight offered tried rebook cool happened look moniter deplaning',\n",
              " 'please share additional detail nature technical issue afc',\n",
              " 'delta via dm',\n",
              " 'please afc http co idgbjac',\n",
              " 'delta dm screenshot explanation',\n",
              " 'delta seems technical issue still ben fixed look',\n",
              " 'sincerely apologize team diligently working working soon tmc',\n",
              " 'delta change flight search option website broken',\n",
              " 'oh please speak member flt crew immediate assistance aab',\n",
              " 'delta inflight studio experience today nothing work except twitter toobadforyouandme http co vlo ufl',\n",
              " 'http co idgbjac',\n",
              " 'delta done already',\n",
              " 'delta reply dm thread',\n",
              " 'delta time ago heard',\n",
              " 'hello richard please dm confirmation try assist tcc',\n",
              " 'delta actually looked disagree say idea http co twiogkd kx',\n",
              " 'delta hi thanks think figured would running mex mid flight need check via aeromexico',\n",
              " 'hi richard pls dm confirmation number may look matter thanks tjf http co idgbjac',\n",
              " 'delta flying jfk mex mid tomorrow say booked look like first leg check please',\n",
              " 'hi richard apologize delayed response time please dm conf review trip detail tlt',\n",
              " 'sincerely apologize disappointment always strive create positive customer experience ajc',\n",
              " 'delta nothing b answer',\n",
              " 'hi caesar dm confirmation link provided glad look tbt http co idgbjac',\n",
              " 'delta equipment change guaranteed seat apology dm give real answer standard b answer',\n",
              " 'would glad look tbt',\n",
              " 'delta ok full flight equipment change nothing comfort class disability handling agent telling customer care would take care u please non excuse retwitter reply thanks',\n",
              " 'thanks patience hck',\n",
              " 'thanks hck',\n",
              " 'thank important part delta http co yfi cj udk hck',\n",
              " 'including link commitment customer please let u know assistance hck',\n",
              " 'difficult assign seating aircraft configuration may different hck',\n",
              " 'possible hck',\n",
              " 'unfortunately able guarantee seat flight schedule hck',\n",
              " 'hi caesar thank patience opportunity read thread hck',\n",
              " 'please remember help tweet away wonderful evening hck',\n",
              " 'delta obviously read already said give exactly b answer know guarantee like know moved u know delta employee sitting seat say',\n",
              " 'guaranteed changed operational need required abn',\n",
              " 'delta computer answering tweet unbelievable stupid answer',\n",
              " 'receiving answer information relayed abn',\n",
              " 'real abn',\n",
              " 'delta even worse',\n",
              " 'thank tweeting u tonight caesar abn',\n",
              " 'regret happy information given apologize able address concern via channel',\n",
              " 'assure areal person caesar abn',\n",
              " 'shift though try best honor seat request note request',\n",
              " 'understand frustration apologize experience previously explained schedule change occur causing seat',\n",
              " 'thank important part delta hck',\n",
              " 'may ticket number please unfortunately confirmation provide longer active hck',\n",
              " 'delta',\n",
              " 'good evening caesar hck',\n",
              " 'would like sincerely apologize stress frustration inconvenience endured due equipment change hck',\n",
              " 'event equipment change put forth best effort seat everyone together sometimes',\n",
              " 'delta delta move dm moment complaint result got b answer real reason changed seating',\n",
              " 'hmm try restarting device holding sleep wake volume button second keep u posted l',\n",
              " 'spotifycares work even tried deleting app',\n",
              " 'could send u dm account email address take look backstage ch http co ldfdzrinat',\n",
              " 'spotifycares premium amp shuffle turn song done play order repeat light repeat',\n",
              " 'thanks sure free premium also give u info happens try using cb',\n",
              " 'spotifycares iphone recent update spotify',\n",
              " 'hey device operating system spotify version using see suggest cb',\n",
              " 'pissed shuffle repeat button fucking work getting frustrated',\n",
              " 'got possible moment pas suggestion could try reinstalling app pb',\n",
              " 'spotifycares yes multiple time change premium user send u user spotify bugfree running app',\n",
              " 'sorry hear spotify app window phone currently maintenance mode info http co ksq qse de r',\n",
              " 'spotifycares way manage album recently added e g app mess http co rlwuqllt',\n",
              " 'hey sound good happening exactly let u know app version using pb',\n",
              " 'spotifycares groove music quits amp redirect spotify w app bugfest update possible',\n",
              " 'worry question give u shout g',\n",
              " 'spotifycares ok thx',\n",
              " 'hey mikey afraid way filter search way pas suggestion relevant folk g',\n",
              " 'way find non explicit song explicit spotifycares',\n",
              " 'caused unable offer complimentary upgrade however quote upgrade would like u jane',\n",
              " 'british airway sure much would upgrade cost curiosity',\n",
              " 'please dm u booking reference email address contact number look thanks jane',\n",
              " 'british airway importantly earlier flight itinerary rebooked preference',\n",
              " 'british airway itinerary preferred unable view option manage booking link included original cancelation email http co kfddwesw',\n",
              " 'british airway assume sapphire matter find way iad bwi upon landing car parked',\n",
              " 'hi british airway flight man lhr bwi nov canceled excited try club product available flight iad hassle rebooked anyway option availability first class ba trouble please',\n",
              " 'email address contact telephone number look complaint contact update oliver',\n",
              " 'british airway info check sanket thakur supposedly customer service rep reference number',\n",
              " 'british airway ever address complaint claim ignore yr',\n",
              " 'email address contact telephone number apologise delay response oliver',\n",
              " 'british airway booking ref mp v qmas second one son sent info told entitled anything',\n",
              " 'u booking ref email address contact number linda',\n",
              " 'british airway pay hotel good bill cancelling flight home',\n",
              " 'get payday party started european destination way le',\n",
              " 'hi sam correct email helen',\n",
              " 'british airway confirm email would send passport detail change name ticket email',\n",
              " 'hi sreejit info yet please keep eye online updated soon know helen',\n",
              " 'british airway http co nm zczuh w news article case guy need update future share thanks',\n",
              " 'thanks sreejit would recommend checking manage booking update jane',\n",
              " 'british airway runway maintenance delhi nov flight cancelled wanted know status ba lhr del nov',\n",
              " 'hi david confirmation email take hr waiting longer helen',\n",
              " 'british airway hour could please assist thanks email address email',\n",
              " 'british airway yet thought strange received confirmation email one flight thanks',\n",
              " 'hi david could let u know flight booked date travel along full name contact number thanks sophie',\n",
              " 'british airway amsterdam london london athens received confirmation contact',\n",
              " 'british airway full name david simon',\n",
              " 'british airway update sophie thanks',\n",
              " 'check david provide u booking reference confirmation please send via dm r',\n",
              " 'british airway made two booking received confirmation email one flight little help',\n",
              " 'definitely want make sure charge correct please dm address phone better assist slm',\n",
              " 'comcastcares',\n",
              " 'comcastcares tired getting charged equipment returned month ago please stop',\n",
              " 'address phone number assist issue thanks kw',\n",
              " 'comcastcares sent thank',\n",
              " 'hi got odd text alert service would get alert',\n",
              " 'hi happy look text received see help please send dm full name',\n",
              " 'hello checked scheduled menu may series recording scheduled matt',\n",
              " 'comcastcares phoenix sun auto record nba team channel trying record tonight want regular broadcast game recorded like tivo',\n",
              " 'set recording sport team try record available network matt',\n",
              " 'comcastcares thanks reply said update software know record unavailable channel software',\n",
              " 'certainly share feedback moving forward always looking improve customer experience dsc',\n",
              " 'record program dvr channel subscribe blank recording nba lp upgradeyoursoftware http co ir rst',\n",
              " 'send u direct message account information see going xg',\n",
              " 'wow want watch world series decides outage',\n",
              " 'sure pas along kind word aateam',\n",
              " 'americanair erica lax team amazing give raise ty',\n",
              " 'apology delay responding made lax let u know still need assistance',\n",
              " 'americanair could someone lax team available guide gate asap',\n",
              " 'americanair flight pm min almost lax legally blind know let know need assistance',\n",
              " 'aww definitely future pilot making happyhalloween',\n",
              " 'ben tennyson american airline pilot trunkortreat halloween diycostume parenting americanair http co f nnhq ila http co ldvidkrdb',\n",
              " 'great option customer want share mile cheaper purchase',\n",
              " 'americanair right earned also pay pas spouse need change program',\n",
              " 'sorry frustration',\n",
              " 'sorry going cost transfer aa advantage point spouse americanair ridiculous',\n",
              " 'always pleasure board john wonderful flight pond',\n",
              " 'heading london tonight day exciting stuff americanair get drink ready coming aboard jb',\n",
              " 'pilot potter pumpkin skeleton oh adorable',\n",
              " 'check tiny trick treater dressed nicu hey americanair youngest pilot training halloween http co c axjhiag',\n",
              " 'glad got kick back enjoy show flying thanks kind word',\n",
              " 'thank americanair playing thisisus great flight attendant flight back home',\n",
              " 'hey trevor send u dm take closer look kellenf',\n",
              " 'sweet still paying plus jump way find situation much money need put',\n",
              " 'sir still preorder http co e pnncvitw joano',\n",
              " 'pre order done x',\n",
              " 'go trevor eriks',\n",
              " 'question',\n",
              " 'ready next iphone join iphone upgrade program free http co elb yqspf',\n",
              " 'thanks getting dm sent got replying http co xwcskfiy raybutler',\n",
              " 'upfront hope mean upfront fee dm sent',\n",
              " 'called switch amp wanted switch phone said way inconsistent messaging shame',\n",
              " 'yay mobile tuesday let get taken care send dm way http co jgtdflsvbg erikaholeman',\n",
              " 'tmobilehelp trying redeem free tuesday code letting telling there error get help',\n",
              " 'well happy take look see going jenny dm u keep connected joano',\n",
              " 'mobile b internet stop working hour http co yisxwahace',\n",
              " 'hey want help question feel free shoot u dm katgrisham',\n",
              " 'opportunity passed bad customer experience amp going back ever fail http co pinkdfgd',\n",
              " 'dm http co ryd pduspi robfahl',\n",
              " 'tmobilehelp http co tznfggbx',\n",
              " 'want help great tmobiletuesday deal shoot dm http co jab jkomry angieshaw',\n",
              " 'tmobilehelp ok maybe problem let try resizing',\n",
              " 'welcome thanks letting u know need anything else happytmobiletuesday kennethstone',\n",
              " 'tmobilehelp got one resized x instead alerting take coupon code resized worked thanks',\n",
              " 'want work perfectly least photo selected add another try dm w question chrisbradstreet',\n",
              " 'tmobilehelp code working applied checkout please look http co sjvm aw',\n",
              " 'unhappy experience call please contact u website http co rkazcf ur cb',\n",
              " 'virgintrains wait almost hour rude arrogant amp unhelpful raising technical case http co yi oxfmato',\n",
              " 'need contact aftersales team cb',\n",
              " 'virgintrains thanks',\n",
              " 'virgintrains hi need help booking need change made mistake contact',\n",
              " 'amending ticket system would show fare match previous purchase may higher cb',\n",
              " 'gotta luv virgintrains finally get call cntr tried charge ticket b purchased online http co rkohyqai',\n",
              " 'yes need select return journey ticket flexibility menu select open return cb',\n",
              " 'virgintrains thanks see real shame poor new app though',\n",
              " 'virgintrains hi new app option buy open return',\n",
              " 'stage sadly line reopen shortly service move cb',\n",
              " 'virgintrains thanks',\n",
              " 'virgintrains daughter euston train stuck outside preston timeframes arrival',\n",
              " 'vtnew due emergency service dealing incident preston line closed',\n",
              " 'information afraid andy cb',\n",
              " 'virgintrains target next season see price go assume set performance target reflective',\n",
              " 'delay control work network rail try reduce problem cb',\n",
              " 'virgintrains oh nice target next year',\n",
              " 'understand frustration cause andy cb',\n",
              " 'virgintrains always supposedly acceptable reason yes get one us train every week spends lot money late regularly acceptable',\n",
              " 'sadly service delayed due fault line cb',\n",
              " 'virgintrains euston waiting b ham int also late',\n",
              " 'hi andy really sorry hear service travelling please hp',\n",
              " 'virgintrains least third time year miss meeting especially took train first place often late refund qualify next season car',\n",
              " 'line reopening shortly get delay expected cb',\n",
              " 'virgintrains thanks hour away finger crossed',\n",
              " 'virgintrains enroute preston euston wait',\n",
              " 'truly sorry hear please pm u info followup vp',\n",
              " 'really hadthe worst experience ever start finish southwestair never fly internationally',\n",
              " 'happy hallown bottom risa sl',\n",
              " 'celebrated halloween southwestair flight pumpkin spice delicious free http co ggpgaafvq http co gncxpesaev',\n",
              " 'aim please eric love mean world u wait share sky soon mk',\n",
              " 'thanks wonderful southwestair crew flight amp getting u sacramento kc safe sound yourock',\n",
              " 'please dm u picture error receiving',\n",
              " 'southwestair working',\n",
              " 'oh good happy hear jenessa hope see onboard soon',\n",
              " 'southwestair consider st reported error',\n",
              " 'hm reported error lately tried accessing rr account via different browser',\n",
              " 'southwestair account page',\n",
              " 'hi simon sorry hear sound like account may compromised strongly advise contact security team gt http co hv xdvcja already done make sure ensure account fully secured gr',\n",
              " 'askebay sure getting refunded seller meantime',\n",
              " 'thanks update simon please let u know anything help great day gr',\n",
              " 'change password turn two step verification else may receive paypal receipt van reversing camera random delivery address walthamstow',\n",
              " 'love give free boo much basically ghost happy hallown bottom sl',\n",
              " 'best part halloween free drink southwestair flight holiday spooktacular',\n",
              " 'music ear call u southbest reason sl',\n",
              " 'southwestair super excited get try entire trip least time know best time due',\n",
              " 'got date circled calendar counting minute welcome onboard sl',\n",
              " 'southwestair seeing end month concert missed flight american airline thank guy',\n",
              " 'hope see onboard soon m',\n",
              " 'southwestair guy amazing seriously thank bottom heart',\n",
              " 'customer service company happens also fly airplane heather thanks sharing love na',\n",
              " 'southwestair guy helped much trying get flight even amazing company amazing people thank much',\n",
              " 'cause traveling u mean heather glad could help great weekend',\n",
              " 'southwestair helped try get flight americanair flight aa wow loss word',\n",
              " 'southwestair yup error even turned ad blocker',\n",
              " 'happy take look christine please dm u confirmation number follow',\n",
              " 'southwestair would receiving error try check flight take keep getting error message',\n",
              " 'hallown win sure enjoyed spending spooky day abbye',\n",
              " 'fly southwestair day year make halloween really fun travel',\n",
              " 'hi sorry hear buyer followed open unpaid item claim set buyer requirement block buyer strike reduce happening see gt http co gcqb iea thanks sg',\n",
              " 'everytime sell something askebay bid come back fraudulent repost day wasted done ugh',\n",
              " 'hi sorry hear item arrived tracking item advise opening item received claim learn gt http co toc cksb question let u know sg',\n",
              " 'askebay item marked delivered system would let contact ebay customer service directly seller fault mismanaged somewhere shipment delivery still file claim',\n",
              " 'askebay need contact customer service directly please dm contact email customer service',\n",
              " 'seller responsible courier claim lost item courier still open claim ebay protected please follow previous step cant outbound dm dm u question sg',\n",
              " 'askebay ok thank help',\n",
              " 'welcome question please dont hesitate ask thanks sg',\n",
              " 'askebay question ebay transaction dm ed explain thanks',\n",
              " 'responded moment ago thanks patience tl',\n",
              " 'askebay thanks',\n",
              " 'askebay need assistance situation dmed recap update thanks advance',\n",
              " 'askebay need assistance bought item due delivered saturday never received item despite marked delivered response seller delivery service cannot assist lost missing package please advise',\n",
              " 'oh aspect navigation find difficult following guide may help http co z ppocsye',\n",
              " 'hulu support getting list episode difficult way annoying plus see many choice screen',\n",
              " 'apology difficulty definitely intention absolutely pas feedback developer',\n",
              " 'hulu support thanks',\n",
              " 'hulu support wife hate new interface enjoy content getting horrible experience',\n",
              " 'sorry delay trouble melanie get team please call using http co lkhxowwq',\n",
              " 'hulu support hi someone changed password hacked asked reset link x hour ago email junk',\n",
              " 'browsing home press option detail gt go show page gt use episode tab browse pick ep',\n",
              " 'hulu support think understand work frustrating used much user friendly update',\n",
              " 'hulu support yep',\n",
              " 'hulu support intuitive take long find episode want instead episode presented',\n",
              " 'sorry hear heather anything particular new app find frustrating help',\n",
              " 'yep challenging frustrating thing need trying watch bob burger',\n",
              " 'challenging',\n",
              " 'feel important remind new interface made watching want watch nearly impossible zero star',\n",
              " 'hate see go hdmi mirroring supported time sure share interest w team',\n",
              " 'hulu support sound like generic yourenotgonnafixit replh',\n",
              " 'make promise hdmi streaming rest assured care concern shared feedback',\n",
              " 'love lost home internet amp learned mirror hulu ipad hdmi adapter wanted get hulu live guess cancel hulu amp look something like hulu',\n",
              " 'glad know spotify student account get hulu free http co dxpbd x k',\n",
              " 'like student discount',\n",
              " 'college student still use mom family account away college',\n",
              " 'hi bus depart northern interchange reading phil',\n",
              " 'gwrhelp u expect people travel compass',\n",
              " 'head multi storey car park outside see sign rail replacement phil',\n",
              " 'gwrhelp boarding pad swindon reading go bus dont usually find staff help',\n",
              " 'really concerning u would love help let u know issue connection kb',\n",
              " 'sprintcare concerning tweeting much last year',\n",
              " 'sprintcare well could fix fucking potato tower albuquerque would start http co qyds dbgqi',\n",
              " 'hi service issue huh let u take look shoot u dm assist ja',\n",
              " 'sprintcare fix',\n",
              " 'fuck fix connection',\n",
              " 'click message top profile always eager assist',\n",
              " 'sprintcare sent several private message one responds',\n",
              " 'good contact number reached',\n",
              " 'sprintcare sent twice apparently noone',\n",
              " 'sprintcare get touch someone matter spring corporate',\n",
              " 'good contact number reached please send private link',\n",
              " 'get started http co dysbrq cl conversation continued secured web browser fr',\n",
              " 'tmobile customer getting runaround unlock ported phone kid phone nite help',\n",
              " 'hello please go link need additional information work getting phone unlocked fr',\n",
              " 'hey would love educate amazing sprint flex lease option send u dm let chat cw',\n",
              " 'month decided upgrade happens remaining month mo flex lease like',\n",
              " 'save big best selling phone amp get free upgrade phone consecutive time payment http co yvx tlnllz',\n",
              " 'hey tayler service issue shoot u dm assistance rw',\n",
              " 'wanna actually turn internet tower work nah',\n",
              " 'look please send account phone number directly private message',\n",
              " 'need idiot stop sending collection owed money owe nothing get shit together',\n",
              " 'apologize following rr',\n",
              " 'ask spectrum follow never mind call gotta say great jury still',\n",
              " 'ok please send dm regarding matter rr',\n",
              " 'ask spectrum happy discus problem dm thru link sent',\n",
              " 'apology issue currently happy help anyway please dm service p http co pccwppfunu',\n",
              " 'ask spectrum trouble cable box help',\n",
              " 'apologize number provided bringing account dm full address please jb',\n",
              " 'live confusion paul garrison http co gi wh p',\n",
              " 'product make sure packaging reduced half compared reid',\n",
              " 'sainsburys reduce use single use plastic product line carry reducewaste',\n",
              " 'true story thanks stopping enjoy burrito becky',\n",
              " 'forget cop chipotletweets burrito today http co yho pkqhbi',\n",
              " 'look wonderful thanks stopping becky',\n",
              " 'thanks chipotletweets burrito bowl halloweentreats http co wjidjvnvti',\n",
              " 'look right please tell u http co ax w dx becky',\n",
              " 'chipotletweets nope laziness',\n",
              " 'chipotletweets know boy ordered half bowl wherestherice http co qmqiy nyig',\n",
              " 'absolute best going order becky',\n",
              " 'chipotletweets got two burrito chip queso',\n",
              " 'delish well played becky',\n",
              " 'getting buck burrito chipotletweets becoming tradition halloween thebest',\n",
              " 'shout stopping becky',\n",
              " 'shoutout chipotletweets deal',\n",
              " 'nothing love friend becky',\n",
              " 'nothing respect chipotletweets boorito',\n",
              " 'creeeeepy thanks stopping becky',\n",
              " 'thanks chipotletweets burrito bowl tonight http co ghvoxof sg',\n",
              " 'turned since annual boorito promo back tomorrow becky',\n",
              " 'chipotletweets cant order online say cannot connect chipotle supercomputer app',\n",
              " 'food ghosted spooky http co slnsnzpzyh',\n",
              " 'true becky',\n",
              " 'going chipotletweets expecting boorito w wearing costume like going trick treating w costume amp expecting candy',\n",
              " 'true becky',\n",
              " 'halloween complete unless get chipotletweets bowl guacamole wearing costume buzzlightyear halloween',\n",
              " 'dig thanks stopping happy halloween',\n",
              " 'wore hoodie chipotletweets w whole family costume amp scored boo rito bowl scientistforhalloween http co lqbotbjaml',\n",
              " 'favorite apology frustration becky',\n",
              " 'chipotletweets frustrated sad thanks compassion',\n",
              " 'course friend becky',\n",
              " 'hey chipotletweets chorizo anymore best thing menu',\n",
              " 'yes love shawn card best becky',\n",
              " 'oh happy halloween chipotletweets http co uvc oanuwe',\n",
              " 'go order becky',\n",
              " 'boorito one favorite halloween tradition chipotletweets http co rlkj uvw c',\n",
              " 'best day year becky',\n",
              " 'spent even boorito chipotletweets',\n",
              " 'thanks stopping great looking duo right becky',\n",
              " 'favorite holiday booritos chipotyay chipotletweets chipchiphooray chipotyay http co mc qvqat z',\n",
              " 'sound right please tell u http co ax w dx becky',\n",
              " 'guess soccer player costume good enough burrito chipotletweets',\n",
              " 'shut boorito promotion back tomorrow apology frustration becky',\n",
              " 'chipotletweets app work anymore ix lame',\n",
              " 'fit comfortably inside meal becky',\n",
              " 'chipotletweets aye double meat boorito still pay',\n",
              " 'go plan open friday becky',\n",
              " 'chipotletweets woohoo gonna first line',\n",
              " 'yeah buddy send u pic sure becky',\n",
              " 'chipotletweets hey thing go plan checking w broadway location vancouver open today',\n",
              " 'see good go tay',\n",
              " 'hey chipotletweets word w broadway location vancouver open wait yvrfood lunchtime',\n",
              " 'oh noooo year becky',\n",
              " 'chipotletweets costume becky one wanted shrek ti sad sad tuesday',\n",
              " 'sad indeed still think come becky',\n",
              " 'think first time since birth gone chipotletweets halloween annual boorito',\n",
              " 'happening please tell u http co ax w dx becky',\n",
              " 'go chipotletweets dressed soccer player get burrito',\n",
              " 'becky',\n",
              " 'chipotletweets pray becky',\n",
              " 'becky',\n",
              " 'halloween total chipotletweets',\n",
              " 'see think mean family love becky',\n",
              " 'think family hate made get chipotletweets halloween dollarburrito',\n",
              " 'sound epic becky',\n",
              " 'chipotletweets becky',\n",
              " 'walked chipotletweets wearing mermaid man costume get burrito amp never felt alive',\n",
              " 'agreed becky',\n",
              " 'pull old costume get burrito chipotletweets crazy',\n",
              " 'nicely done makeup point friend becky',\n",
              " 'looking get chipotletweets burrito http co xgry hkuc',\n",
              " 'thanks shout thanks stopping becky',\n",
              " 'burrito bowl chipotletweets heck yes till close go w halloween costume get deal news http co lgsdilrum',\n",
              " 'definitely unboolievable please tell u help http co ax w dx becky',\n",
              " 'chipotletweets thanks becky able go back chipotle pm got booritos',\n",
              " 'appreciate coming back becky',\n",
              " 'chipotletweets got ghosted chipotle went pm told wait another hour booritos unboolievable',\n",
              " 'long fit comfortably inside meal becky',\n",
              " 'chipotletweets extra meat guac queso included boorito',\n",
              " 'bill say final bill acm',\n",
              " 'verizonsupport say amount due',\n",
              " 'please follow dm u acm',\n",
              " 'verizonsupport outstanding due th sept paid',\n",
              " 'still receiving bill oct disconnected account sept th pls advise amp reverse charge',\n",
              " 'refer wireless colleague since handle fios dsl account touch hsb',\n",
              " 'verizonsupport ever since upgraded ulimited data lte speed terrible fix',\n",
              " 'help right follow dm u jay',\n",
              " 'verizonsupport tf internet keep going bullshit',\n",
              " 'hello thank reaching u send u dm assistance ml',\n",
              " 'askpaypal provide required information feb http co ztvgb fh',\n",
              " 'glad could help dp',\n",
              " 'thank askpaypal real mvp',\n",
              " 'hi please send dm ra',\n",
              " 'please help recovering hard earned money lost cyber crime paypal case id pp',\n",
              " 'responded dm please check inbox earliest convenience thank patience kt',\n",
              " 'askpaypal hello like add tracking info invoice add tracking info link always lead blank page please help',\n",
              " 'hi replied dm ra',\n",
              " 'kidding customer service terrible',\n",
              " 'sorry hear trouble running please send dm help ga',\n",
              " 'askpaypal set paypal account fair play bad wondering could shut account restart im',\n",
              " 'sadly cannot close account close account op http co hiexxezy f',\n",
              " 'askpaypal',\n",
              " 'sorry confusion please dm help ga',\n",
              " 'askpaypal serious problem need help',\n",
              " 'sorry hear trouble accessing account please send dm help ga',\n",
              " 'askpaypal locked account hr different agent reset account amp still dice soon get phone',\n",
              " 'good morning askpaypal customer service rep made cry',\n",
              " 'glad help sent dm looking forward help',\n",
              " 'askplaystation dm question',\n",
              " 'hi sorry hear getting error message error code let u know detail please',\n",
              " 'askplaystation ok fixed thanks',\n",
              " 'glad hear feel free message u need help',\n",
              " 'askplaystation game button work solution',\n",
              " 'askplaystation p let load game anything eg fortnite press x continue',\n",
              " 'lamentamos el inconveniente por favor siguenos en twitter para brindarte asistencia por mensajes directos',\n",
              " 'askplaystation compre una tarjeta de la met se acreditaron los sale que revise los rminos que hago',\n",
              " 'odd please turn console disconnect cable minute try',\n",
              " 'yo p turning recently constantly ejecting game disc heck going askplaystation',\n",
              " 'glad help sent direct message via twitter instruction',\n",
              " 'askplaystation account telling reset password dont know date birth know password account help',\n",
              " 'hi tried accessing content download queue http co lyteivbtbn let u know result',\n",
              " 'askplaystation psn id quochuy help email someone try help live chat web block wtf',\n",
              " 'askplaystation followed instruction p set automatic download find library diablo nercromancer',\n",
              " 'askplaystation bought dlc diablo necromancer hav phys disc ro click necromaner pack game dont download http co jddn e wo',\n",
              " 'please check dm instruction',\n",
              " 'askplaystation le billing issue updated exp date acct p able renew make sure stay current lose anything',\n",
              " 'sorry hear billing issue please follow step next link http co atheqjw n',\n",
              " 'askplaystation sure cc acct incorrect date renewal p failed correct',\n",
              " 'hi assistance please follow u send u direct message look forward reply',\n",
              " 'askplaystation please help',\n",
              " 'askplaystation hi accidentally bought psp game playstation store thinking p psp return',\n",
              " 'glad help please follow u via twitter let u know send direct message instruction',\n",
              " 'preordered standard edition cod ww change deluxe edition somehow askplaystation',\n",
              " 'sorry read please check dm assistance',\n",
              " 'askplaystation someone got account changed email',\n",
              " 'better assist click option reply thanks anoop http co xkfcrug',\n",
              " 'hpsupport laserjet pro w print driver install window find printer get error hpcswus hpprnt',\n",
              " 'hey jacob help let run print scan doctor http co eaeoxkeuln',\n",
              " 'reply thanks anoop http co xkfcrug',\n",
              " 'hpsupport im sending notebook hard drive replacement alright format drive factory defaul first hpcswus hppc',\n",
              " 'fill web form using link reach http co jqc ucyzc thanks anoop http co xkfcrug',\n",
              " 'hpsupport would like speak technician hpsa hpprnt',\n",
              " 'hey daniel help wish speak someone need contact hp phone support',\n",
              " 'merchant site make purchase bg',\n",
              " 'chasesupport sound good thanks',\n",
              " 'hi chasesupport go chase online ultimate reward webpage get extra cash back shop',\n",
              " 'hello order get cash back need click link ultimate reward website routed',\n",
              " 'appreciate kind word question concern please let u know help cr',\n",
              " 'ups down banking chase lately really good shoutout',\n",
              " 'like review could please dm name amp zip code bg http co znuu vjn r',\n",
              " 'hey gonna need talk pending charge keep going account day transaction made getting real irritated',\n",
              " 'glad able help jg',\n",
              " 'chasesupport got phone guy great',\n",
              " 'aw pleasure help let u know additional assistance jg',\n",
              " 'chasesupport thanks guy',\n",
              " 'would happy look could dm name zip code jg http co znuu vjn r',\n",
              " 'chasesupport find e mail online apartment address number update ensure card get',\n",
              " 'chasesupport applied credit card never asked apt tried calling get past automated system',\n",
              " 'hello sound good dm account name complete service address would like help dan',\n",
              " 'coxhelp push hard finally got team lead reach call tech outage issue solved csissue csfail',\n",
              " 'next day turnaround outage issue coxhelp csfail come dealing outage csfail outageprobs',\n",
              " 'hi f n n please dm account info including street address look greg http co ovakpb tyc',\n",
              " 'coxhelp need fixed permanently',\n",
              " 'want feel way going colleen',\n",
              " 'back fucking business plan internet super cool company recommend',\n",
              " 'hello sound good dm account name complete service address would like help dan',\n",
              " 'like least one month go say crappy service vega amp much despise',\n",
              " 'hi jean claude hope service interruption need assistance reach u mike',\n",
              " 'coxhelp',\n",
              " 'hi outage still open area working get restored quickly possible thanks patience mary',\n",
              " 'coxhelp lookong forward binge strangerthingsseason hope internet lot outage neighborhood lately',\n",
              " 'okay great concern please reach u xavier',\n",
              " 'seems like problem resolved technician sent house capable surpassed expectation',\n",
              " 'asked seller yet see http co n judnsd z may able help',\n",
              " 'askebay contacted seller question receive product customer service say may awb wrong',\n",
              " 'askebay care want product wish opted ebay future going choose ebay worst',\n",
              " 'seller delivered see http co yh psrspgy seller help',\n",
              " 'askebay received yet contract delivery product seller',\n",
              " 'askebay instead telling contact seller guy contact seller',\n",
              " 'contract seller shipped protect get open case',\n",
              " 'askebay received anything yet contact seller tomorrow morning service pathetic',\n",
              " 'view link give refund get look guarantee step activating',\n",
              " 'askebay would appreciate got refund previous damaged product ebay timeline delivery',\n",
              " 'askebay email address associated account email',\n",
              " 'askebay looking refund check account would condemn service worst packing',\n",
              " 'askebay received yet layman term say waiting th oct much time wait',\n",
              " 'askebay provided refund mad product ordered product st',\n",
              " 'askebay looking product let tell something bought similar product th month damaged',\n",
              " 'still see please dm u full name zip code amp item number amp advise date ml',\n",
              " 'askebay check team else keep fucking money guy stressed',\n",
              " 'askebay kindly check message needful worst service',\n",
              " 'thank reply estimate delivery date order available view purchase history',\n",
              " 'estimated delivery wed oct fri oct paid using paisapay havent received yet',\n",
              " 'always open claim http co xln csefc get ball rolling coverage bb',\n",
              " 'askebay closed case lost pound ebay theft ebay care',\n",
              " 'well would happy take look claim could dm u detail please bb',\n",
              " 'askebay delivery company saying delivered street give address seller saying proof one show',\n",
              " 'hey james could send u dm information look bb',\n",
              " 'askebay option bought something ebay delivered ebay closed claim get money back',\n",
              " 'desktop go item page view item gt manage offer gt change offer setting get going cc',\n",
              " 'askebay setup automatic decline listed help centre struggling find setting',\n",
              " 'help sell item sure set automatic decline setting see low offer cc',\n",
              " 'askebay remove best offer facility buy item selling item wish offer best offer',\n",
              " 'cancel dropbox business hope help take care thing',\n",
              " 'change work dropbox account back personal account tested trial version want account personal',\n",
              " 'excited announce university cambridge using dropbox business power collaboration http co sbiydsycdk http co f x gf',\n",
              " 'hey justin apology delay still unable access ebook http co xvzzhn eu let u know thanks',\n",
              " 'fyi solution marketing db business noticed read ebook link broken http co arwcfgymoo',\n",
              " 'understand added comment suggestion cheer',\n",
              " 'dropboxsupport please user would like hide irrelevant old contact suggestion order make room relevant one',\n",
              " 'hi currently possible hide suggestion list however certainly forward request dev team',\n",
              " 'dropboxsupport remove suggested contact invite people paper column third party contact connected',\n",
              " 'hey james fly e',\n",
              " 'virginatlantic please update tier point account thanks',\n",
              " 'sorry hear process frustrating n',\n",
              " 'virginatlantic time hour phone let hope everything correct hate something wrong special occasion',\n",
              " 'spoken team phone advised h',\n",
              " 'rd call virginatlantic hoping everything sorted booked flight guy people detail incorrect worried',\n",
              " 'send u message clicking link cr http co cooxeduuuc',\n",
              " 'refuse provide copy contract even though quoting justify stealing',\n",
              " 'hello like know twitter post please send u additional detail concern thank cr',\n",
              " 'thank taking time speak u today appreciate opportunity help mg',\n",
              " 'bofa help thanks',\n",
              " 'thank patience call shortly mg',\n",
              " 'made another try call reached voice mail please return call given still need help kl',\n",
              " 'bofa help anytime noon today anytime tomorrow',\n",
              " 'pm et monday friday pm et saturday best time reach ra',\n",
              " 'bofa help whenever ready',\n",
              " ...]"
            ]
          },
          "metadata": {},
          "execution_count": 30
        }
      ],
      "source": [
        "corpus"
      ]
    },
    {
      "cell_type": "markdown",
      "metadata": {
        "id": "NLm7fA-HtCgw"
      },
      "source": [
        "### **Word Embedding Model**"
      ]
    },
    {
      "cell_type": "code",
      "execution_count": 31,
      "metadata": {
        "colab": {
          "base_uri": "https://localhost:8080/"
        },
        "id": "15ZiYu0Gs8Wj",
        "outputId": "477ca7b9-c234-4bec-e5e0-b8ba67323f69"
      },
      "outputs": [
        {
          "output_type": "stream",
          "name": "stdout",
          "text": [
            "[[1222, 1401, 139, 906, 1401, 515, 1326, 113, 232, 195, 906], [375, 228], [375, 628, 802, 113, 434, 950, 382, 1406], [815, 1456, 914, 113, 434, 906, 473, 434, 493, 337], [375], [815, 1456, 914, 113, 434, 677, 187, 881], [375, 1482, 294, 119], [1112, 202, 815, 687, 914, 1308, 1288, 174], [375, 1075, 586, 1385, 550, 140, 1473], [1222, 1063, 139, 815, 1456, 914, 75, 434, 906, 504], [375, 621, 938, 621, 1039], [832, 24, 139, 639, 914, 313, 1061, 504], [724, 335, 482, 267, 1078, 8, 149, 1492, 31], [815, 1456, 113, 434, 1456, 195, 324, 881, 951], [701, 222, 294, 713, 299, 684, 1107, 881, 833, 1400, 971, 194, 1196, 1295, 317], [911, 1153, 469], [344, 313, 1401, 139, 245, 505, 950, 621, 313, 1219, 474], [1405, 283, 889, 533, 1040, 1330, 411, 413, 868, 194, 1196, 884, 1397], [344, 313, 696, 889, 533, 1401, 139, 505], [1134, 469], [344, 313, 870, 761, 1128, 603, 881, 1109, 245, 409, 151, 515, 1260, 400, 533], [344, 313, 1153, 911, 151, 900, 1245, 648, 515, 372, 1392, 911], [911, 1057, 881, 1330, 870, 515, 1260, 400, 930, 939, 194, 1196, 884, 1397], [456, 156, 195, 628, 1153, 911, 194, 1196, 550, 742, 1104], [1104, 1413, 1447, 18, 996, 1288, 473], [1034, 344, 313, 294, 119, 587, 1304, 946, 394, 218, 1336, 1326, 119, 381], [834, 18, 224, 906, 1308, 1231, 470, 1165, 1232], [839, 344, 313, 116, 68, 917, 1039, 97, 553, 207, 194, 1196, 914, 1024, 1396], [1088, 825, 665, 1200, 267, 1088, 461], [181, 509, 410, 1430, 553, 627], [468, 1434, 515, 914, 811, 21, 461], [1008, 181, 815, 1088, 999, 1482, 709, 294, 119], [1076, 434, 914, 716], [181, 1076, 1435, 1230, 515, 1441, 215, 1041, 815, 853, 354, 917, 77, 1435, 519], [815, 885, 1308, 914, 1288, 682, 461], [181, 1070, 52, 879, 1088, 322, 391, 881], [1401, 1295, 1471, 368, 1435, 307, 881, 645], [181, 1165, 1256, 245, 1326, 891, 119, 257, 1466, 97, 44, 633], [218, 682, 1256, 1134, 881, 515, 658, 950, 950, 1184, 815, 885, 1308, 914, 461], [1423, 628, 818, 1019, 194, 1196, 296, 16], [1104, 591, 505, 1210, 876, 119, 801, 710], [44, 633, 881, 1256, 1130, 695, 720, 633, 470, 1128, 1489, 438], [1470, 880, 824, 119, 645], [971, 97, 1210, 1039, 119, 1427, 1500, 802, 617, 1288, 891, 93, 470], [1126, 493, 1166, 645], [181, 65, 145, 70, 1, 504, 509, 82], [1126, 1385, 145, 1369, 645], [181, 418, 513, 1137, 709], [678, 119, 119, 709, 1230, 1126, 145, 1385, 52, 1203], [181, 1482], [119, 1497, 716], [181, 1001, 917, 790, 453], [788, 85, 761, 320, 1042, 914, 566], [1482, 926, 1434], [1330, 801, 119, 842, 461], [181, 1227, 239, 1225, 1091, 320], [582, 1470, 716], [320, 582, 1057, 1043], [8, 584, 1288, 335, 1105], [8, 8, 1105, 946], [8, 1371, 991, 1114, 212, 559, 194, 1196, 209], [665, 815, 299, 914, 1088, 194, 1196, 113, 543, 23, 1105], [8, 930, 144, 93, 1114, 8, 294], [1170, 1326, 59, 1105], [1198, 8, 734, 1136, 553, 249, 1322, 1, 163], [5, 996, 335, 1385, 1105], [8, 460, 119, 928, 775, 33, 403, 1094, 1482, 141, 1353], [527, 244], [950, 212, 476, 8], [1282, 351, 815, 299, 914, 194, 1196, 113, 543, 23, 1105], [8, 542, 603, 1100, 234, 476, 316, 1384, 194, 1196, 1500, 113], [759, 8, 1105], [8, 1326, 700, 1057, 689, 316], [35, 212, 1292, 1149, 880, 1068, 194, 1196, 810, 299, 194, 1196, 316, 331, 211], [38, 476, 849, 778, 492, 559, 1105], [996, 559, 621, 1068, 403, 12, 1288, 1326, 1100, 8, 410, 313, 1143], [224, 821, 1088, 639, 139, 1069, 1443, 1105], [8, 1134, 8, 678, 1061, 1167, 576, 107], [361, 8, 1038, 312, 744, 281, 582, 682, 818, 1213, 572, 899, 1478], [914, 284, 762, 1105], [209, 8, 1361, 1114, 750, 559, 1226, 1319, 788, 1141, 1444, 950], [1413, 628, 1308, 1088, 1105], [8, 971, 639, 1427], [93, 468, 244], [8, 750, 8, 875, 476], [576, 1353, 403, 1036, 12, 1076, 1105], [917, 1400, 403, 1036, 1401, 1301, 1319, 717, 69, 1301, 1280, 673, 8], [1282, 351, 815, 52, 187, 751, 194, 1196, 113, 543, 23, 1105], [8, 1034, 166, 427, 1430, 215, 194, 1196, 1419, 1237], [827, 665, 379, 21, 933, 284, 1105], [1114, 59, 907, 8], [1444, 1105], [8, 1119, 410, 698, 915, 769], [8, 627, 1105, 685, 665, 311, 1187, 1500, 918, 928], [1306, 1119, 719, 627, 698, 1105], [120, 1301, 8, 627, 698, 1306, 996, 559], [247, 627, 68, 731, 1105], [8, 1231, 480, 559, 1350, 1460, 1367, 194, 1196, 975], [1228, 1069, 77, 85, 377, 207, 840, 884, 1319, 276, 499, 194, 1196, 1096], [372, 1326, 1088, 1132], [372, 1208, 884, 1490, 377, 443], [224, 65, 581, 815, 85, 377, 222, 914, 1063], [372, 1401, 709, 1321, 981, 640, 586, 315, 1018], [665, 18, 1200, 127, 566, 434, 468, 1043, 443, 1321], [372, 315, 1126, 183, 785, 249, 695, 939, 1321, 127, 566], [224, 1088, 815, 1069, 187, 1061, 827, 313, 338, 194, 1196, 823, 419, 38, 1468], [372, 181, 827, 638, 642, 1492, 1277, 719, 244], [224, 1265, 1479, 1295, 476, 69, 486, 1484, 564, 763, 884], [476, 842, 882, 994, 194, 1196, 233], [939, 225, 65, 480, 59, 627, 206], [1047, 882, 833, 342, 222, 525, 531, 486, 616, 840, 1175, 213, 194, 1196, 348, 1374], [1037, 52, 901, 1300, 881, 673, 1243, 334, 1180], [882, 905, 673, 1049, 1216, 905, 673, 1143, 334, 668], [1121, 442, 316, 119, 901, 437, 316, 884, 334, 553, 161, 627], [882, 120, 733, 533, 838, 937, 1063, 1430, 695, 1132, 443, 699, 1018], [882, 1130, 1285, 334, 249, 884, 901, 1418, 659, 1497, 901, 1386, 135, 312, 1132, 166, 576, 118, 988, 21, 896, 829, 502, 1444, 1264, 97, 569, 715], [882, 437, 334, 901, 730, 901, 927, 168, 910, 299, 339, 543, 901, 1353, 450, 951, 1216, 215, 905, 673, 1086, 215, 404, 516, 701, 969, 1444, 883, 177, 762, 915], [882, 334, 673, 901, 228, 923, 42, 284, 673, 326, 1196, 167, 294, 377, 901, 1309, 119], [247, 1116, 842, 470, 982, 194, 1196, 1430, 1196], [460, 680, 882, 1456, 559, 215, 194, 1196, 510, 14], [1104, 317, 1326, 480, 466, 713, 680, 1006, 811, 1308, 1076, 946], [347, 946, 832, 1134], [347, 135, 267, 723, 715, 680, 950, 695, 1243, 59, 1088], [1088, 906, 139, 881, 1230, 222, 897, 1495, 225, 194, 1196, 842, 292], [347, 515, 466, 139, 1154, 881, 241, 796, 151, 188, 602, 540, 1228], [653, 499, 627, 730, 65, 1048], [912, 1078, 1430, 1364, 1253, 1369, 194, 1196, 1019, 697], [453, 939, 914, 65, 1136, 1081, 1061, 56, 561, 996, 1088, 118], [912, 1466, 284, 393, 338, 1258, 884, 695, 207, 1426, 1166, 434], [1104, 665, 19, 1139, 1220, 8, 515, 466, 815, 939, 65, 933], [912, 627], [1480, 642, 682, 443, 1087, 695, 911, 815, 222, 1087, 695, 118], [912, 8, 642, 17, 314, 249, 695], [118, 8, 1254, 1352, 582, 198, 983, 1363, 1413, 1157], [912, 1479, 381, 499, 1220, 272, 981, 981], [118, 8, 1191, 388, 911, 1363, 1413, 1157], [518, 367, 499, 246, 785], [468, 1134, 68, 713, 247, 212, 798], [912, 971, 33, 148, 1280], [1198, 120, 195, 911, 692, 194, 1196, 1079, 1396], [912, 709, 1326, 443, 446, 191, 606, 824], [533, 93, 606, 642, 682, 305, 335, 85, 1396], [912, 1480, 1244, 606], [569, 194, 1196, 122, 444, 881, 1057, 1231, 1049, 1244, 606, 642, 682, 505, 369, 1396], [912, 1480, 606], [912, 642, 1038, 443, 443, 35], [1104, 834, 538, 460, 642, 1038, 443, 815, 1141, 207, 914, 54, 933], [912, 1364, 191], [912, 642, 1038, 1253, 1326, 606], [815, 93, 155, 1486, 265, 234, 881, 911, 1371], [912, 281, 984, 884], [912, 410, 100, 71, 399, 65, 815, 1088], [1352, 911, 815, 435, 706, 499, 577], [912, 429, 141, 982, 1396, 1326, 199, 636, 881, 59], [665, 323, 939, 914, 65, 1064, 900, 639, 515, 1088, 1472], [266, 639, 971, 43, 283, 104, 518, 1042], [1401, 815, 1308, 1469, 919, 915, 715, 187, 344, 175, 885, 54, 194, 1196, 1], [266, 1141, 1042], [266, 15, 1429, 576, 149, 923, 639], [135, 628, 821, 815, 468, 160, 1386, 1185, 915, 939, 914, 65, 1088, 1061, 194, 1196, 419, 920, 1084, 641], [266, 116, 68, 720, 1061, 1259, 811, 690, 303, 232, 1197, 198, 87, 1279], [135, 628, 815, 939, 914, 65, 368, 1088, 627, 657, 194, 1196, 1], [1088, 266, 194, 1196, 706, 1196, 1207, 1196], [135, 704, 1295, 499, 755, 665, 1358, 1241], [266, 759, 8], [971, 1354, 1280, 1264, 1358, 792, 582, 194, 1196, 897, 823, 1280, 939, 914, 65, 1472], [266, 1480, 441, 1260, 362, 842, 1369, 1122, 492, 526], [627, 502, 1051, 175, 1088, 1260, 1347, 687, 1472], [266, 765], [266, 687], [665, 939, 170, 175, 1288, 1398, 533, 54], [266, 765, 577, 362, 218, 515, 1338, 757, 635, 85], [135, 704, 1095, 120, 389, 518, 755, 665, 1358, 815, 939, 914, 65, 515, 466, 302, 194, 1196, 1], [266, 8, 156, 861, 468, 1336, 1168, 877, 86, 405, 228, 627], [704, 218, 262, 17, 194, 1196, 844, 1164, 755, 665, 1358, 138], [266, 1456, 245, 1325, 876, 499, 441, 1046, 842, 1047, 1469, 919], [704, 665, 202, 103, 561, 1166, 815, 1300, 1297, 749, 194, 1196, 844, 138], [266, 891, 441, 1260, 1046, 434, 188, 65, 294, 370, 1436, 533, 209, 312], [135, 1051, 175, 225, 1088, 897, 56, 627, 532], [266, 434, 1366, 1, 919, 1094, 335, 1285, 639, 1225, 35], [342, 381, 582, 752, 49, 640, 490, 1219, 271, 1437, 639, 621, 1219, 194, 1196, 1474], [706], [706], [431], [706], [431], [364, 1072], [135, 1385, 27, 881, 245, 1064, 194, 1196, 170, 245, 1285, 719, 1385, 1132, 243, 27, 881, 515, 885, 1064, 1328, 245, 1019, 881, 528], [946, 1385, 1285, 680, 918, 881, 1154, 881, 1197, 369, 1154, 881], [135, 755, 499, 1056, 491, 815, 499, 582, 185, 492, 708], [914, 352, 499, 144, 755, 665, 1358], [135, 815, 1308, 914, 1469, 311, 1450, 566, 1288, 881, 187, 1241, 194, 1196, 1], [815, 299, 116, 8, 1213], [135, 1450, 680, 426, 170, 194, 1196, 1214, 914, 1295, 543, 1241], [1385, 1330, 1482, 560, 591, 169, 492, 1325, 176, 1038, 622, 1301, 440], [627, 206, 1424, 1326, 1280, 499, 751, 940], [266, 144, 1424, 705, 638, 194, 1196, 1267, 423, 144, 246, 788, 413, 526, 1460], [1352, 1295, 497, 952, 8, 1220, 234, 225, 633, 1284, 194, 1196, 575, 804], [266, 967, 116, 1137, 194, 1196, 877, 419, 38, 1240, 577, 499, 517, 1152, 791], [135, 484, 665, 18, 1295, 657, 526, 530, 1358, 1401, 342, 206, 440, 1436, 1424, 59, 194, 1196, 1], [1452, 312, 492, 172, 426, 657, 335, 141, 499, 434], [135, 875, 815, 499, 755, 1386, 195, 194, 1196, 541, 1284, 1241], [1498, 499, 1325, 1092, 386, 821, 1227, 486, 312, 1039, 492, 840, 451], [35, 1136, 338, 755, 829, 1118, 1326, 917, 194, 1196, 823, 579, 194, 1196, 1432, 1105], [135, 928, 468, 986, 313, 866, 1231, 194, 1196, 410, 448, 403, 1472], [1039, 313, 447, 156, 1057, 774, 659, 194, 1196, 1244], [135, 1183, 1201, 1069, 657, 546, 560, 1424, 195, 940], [266, 1076, 657, 657, 546, 1182, 137, 1424, 194, 1196, 1288, 139], [135, 517, 761, 821, 1456, 1424, 468, 957, 952, 468, 472, 940, 194, 1196, 1], [135, 517, 1051, 175, 1280, 519, 627, 657], [266, 1374, 1128, 1165, 713], [266, 1380, 957, 986, 990, 195, 195, 1138, 205, 1424, 850, 657, 990, 1088], [1134, 213, 1308, 911], [548, 628, 434, 187, 627, 1088], [135, 1401, 139, 1088, 815, 1308, 914, 881, 245, 1292, 606, 906, 1134], [599, 271, 897, 648, 1430, 563, 1277, 1429, 326, 927, 915, 1021, 98, 1128, 664, 431, 98, 190, 600, 1429, 1091, 1118, 1389, 1022, 194, 1196, 773, 1258], [665, 202, 815, 1308, 245, 1019, 1292, 606, 1288, 1134], [1042, 390, 641, 66, 1292, 1213, 1384, 6, 1075, 1139, 815, 1088], [135, 1230, 415, 1184, 225, 194, 1196, 697, 38, 807], [946, 1228, 370], [1230, 325, 840, 245, 243, 881, 1228, 807], [946, 1221, 950, 1049, 381, 357, 966, 324], [946, 1430, 65, 680, 950, 706, 543, 939, 914, 65, 1221, 1013, 1155], [642, 682, 1087, 1128, 27, 695, 939, 671, 194, 1196, 904, 501, 807], [946, 966, 515, 788, 1141, 1465, 1100, 1401, 946, 65, 703, 203, 587, 999, 300, 65, 1337], [946, 1132, 1226, 950, 897, 56, 1466, 1240, 435, 950, 897], [946, 1401, 139, 65, 788, 1141, 540, 716], [946, 281, 939, 65, 642, 682, 381, 357, 680, 950, 706], [1104, 1401, 342, 1386, 914, 638, 1308, 155, 606, 569, 1432], [946, 569, 606, 1243, 59, 8, 8, 410], [427, 914, 858, 866, 256], [946, 866, 1141, 680, 1115, 1115, 156, 509, 842, 1226, 793, 533, 194, 1196, 1116], [946, 582, 131, 405, 1166, 606, 1260, 976, 118, 8, 815, 320, 582], [1227, 194, 1196, 1362, 1486, 914, 431], [364], [135, 12, 119, 716, 1482, 1228, 194, 1196, 965, 19], [158, 622, 1228, 420, 119, 627, 1157], [462, 648, 821, 1088, 950], [504, 622, 299, 685, 1326, 1059, 699, 761, 188, 299, 685, 640], [327], [1492, 381, 685, 299, 746], [135, 803, 804, 1308, 914, 919, 1256, 1083, 834, 985, 505, 320, 1200, 1274], [1337, 135, 1308, 914, 919, 985, 839, 627, 68, 566, 1422], [135, 803, 1348, 1260, 1200, 910, 1258, 1274], [1337, 1134, 68], [1337, 135, 1401, 139, 65, 526, 1452, 327, 1401, 139, 1364, 120, 395, 1452, 1063], [135, 803, 1450, 120, 130, 1392, 980, 1128, 228, 1333, 881, 1234, 919, 627, 1109], [1337, 1390, 1200, 1200, 526, 1452], [1450, 120, 1234, 919, 1039, 178, 120, 1392, 980, 1152, 468, 622], [1337, 135, 228, 719, 333, 86, 1279, 468, 896, 586, 1119, 896, 815, 1088, 627], [135, 803, 804, 1308, 914, 919, 1256, 567, 1385, 1279, 914, 906, 627, 1274], [1337, 135, 593, 631, 1200, 491, 816, 1226, 1484, 294, 119, 906, 403], [665, 1257, 919, 1132, 116, 486, 305, 16, 804, 815, 1131, 312, 919, 622], [1337, 453, 919, 665, 803, 407, 1279, 211, 504, 511, 245], [453, 919, 1256, 1295, 985, 130, 1231, 1279, 187, 245, 1382, 245, 914, 842], [135, 1169, 821, 815, 885, 914, 1308, 245, 1260, 628, 280], [1337, 135, 280, 1125], [135, 1169, 1019, 1128, 1308, 815, 120, 1134, 374], [1337, 135, 280, 1308, 38, 245], [1019, 1128, 1308, 120, 280], [1337, 1286, 1371, 204, 841, 815, 120, 1295, 845, 235, 1, 462, 1377], [223, 1385, 280], [1337, 1057, 174, 65, 427, 999, 684, 1330, 690, 872, 1348, 673, 987, 577], [1337, 157, 1387, 1081, 684, 109, 406, 1213], [524, 665, 821, 1086, 246, 621, 1279, 1499, 553, 1330, 130], [135, 429, 804, 1308, 914, 919, 1256, 1083, 834, 985, 505, 320, 1200, 1274], [1337, 435, 816, 709, 870], [832], [815, 299, 1425, 245, 709, 673, 915, 633, 1097], [267, 1179, 715], [1008, 1070, 188, 798, 1097], [267, 209, 207, 592, 8, 1082], [1295, 1425, 1179, 1392, 1097], [267, 931, 648, 1377, 787], [104, 1272, 597, 267, 8, 1217, 1326, 961, 183, 102, 569, 292, 65, 516], [135, 665, 815, 1308, 452, 695, 1288, 627, 420], [267, 483, 917, 1039, 842, 837, 709, 812, 573, 326, 1353, 146], [665, 821, 1456, 695, 1326, 1063, 33, 1365], [1200, 628, 695, 691, 914, 1326, 1109, 1365], [267, 1353, 1371, 486, 557, 1069, 1326, 146, 915, 1085, 882, 228, 1380, 1076, 194, 1196, 212, 466], [695, 315, 338, 1019, 899, 1256, 1326, 1109, 627, 420], [267, 1057, 950, 1358, 1478, 1436, 1115, 558, 884, 85, 475, 194, 1196, 775, 191], [135, 1169, 665, 919, 1358, 1122, 1086, 1180, 815, 1308, 1072], [239, 1254, 93, 914, 480, 515, 466, 368, 1070, 118, 709, 668, 582], [505, 1134, 651], [578, 1385, 1, 842, 925, 1371, 576], [505, 312, 651, 1145, 1243, 582, 218, 1247, 1145, 1424], [410, 660, 1022, 668, 582, 1120, 1247, 1145, 950, 842, 1145], [533, 1061], [92, 641, 664, 587, 305, 777, 458, 1061], [1413, 1061, 842, 1184, 994, 1401, 996, 1300, 617], [92, 1141, 815, 985, 434], [335, 815, 709, 194, 1196, 939, 832, 749, 1444, 606, 344, 519, 118], [92, 1321, 200, 1321, 69, 899], [665, 202, 914, 860, 899, 487, 1069, 413, 1228], [92, 759, 777, 458, 1095, 1049, 56, 368, 1070, 603], [135, 665, 533, 1061], [92, 513, 1321, 1470, 294, 1165, 410, 486, 630, 587, 294, 119], [1336, 712, 427, 559, 929, 194, 1196, 441, 914], [651, 12], [559, 403, 12, 939, 914, 65, 929, 194, 1196, 995, 1500, 550], [1272, 1018, 446, 1350, 929, 194, 1196, 1217, 93], [651, 12], [259, 460, 659, 766, 1046, 1434, 1138, 929, 194, 1196, 301], [651, 1326, 110, 12], [135, 1426, 1166, 434, 1466, 195, 881], [1390, 476, 956, 1295, 1003, 934, 1235, 582, 981, 1251], [135, 627, 415, 815, 1456, 914, 1308, 344, 519, 194, 1196, 1012], [207, 639, 1292, 880, 312, 1165, 1094, 1450, 289], [815, 939, 914, 65, 1088, 1308, 313, 281, 195, 532, 194, 1196, 1324], [342, 818, 543, 364, 1324, 26, 1443, 139, 197], [665, 202, 939, 914, 65, 1369, 313, 815, 1456, 532, 194, 1196, 1324], [1380, 1099, 300, 1128, 1034, 946], [781, 1110, 410, 914, 85, 338, 761, 89, 401, 1268, 1146, 194, 1196, 562, 229], [224, 120, 487, 1308, 991, 1256, 466, 964, 194, 1196, 524], [367, 1308, 628], [367, 593, 1279, 281, 367, 1321, 899, 1220, 915, 1213, 240], [349, 340, 1161, 1040, 935, 1039, 1200], [651, 267, 509, 421, 1035, 1401, 93, 368, 1295, 1161], [1040, 587, 78, 627, 651, 1346, 312, 395, 194, 1196, 1056, 742], [665, 939, 1435, 602, 413, 911, 1, 1061, 247, 1088, 371], [706, 606, 33, 833, 606, 897, 8, 682, 1049, 896, 744, 673, 1039], [139, 176, 1288, 815, 671, 914, 1165, 1184, 194, 1196, 27, 1171], [706, 1297, 1047, 43, 1184, 294, 119, 33, 144], [761, 985, 25, 294, 119, 334, 1063], [1285, 1363, 881, 1128, 1120, 645, 842, 713, 1165, 1184, 218, 195, 194, 1196, 27, 857], [719, 364, 305, 881, 732, 1308, 815], [135, 1373, 221, 1387, 1146, 458, 509, 802, 1091, 730, 115, 1012, 463, 386, 1057, 205, 199, 477, 419], [706, 1039, 969, 823, 326, 1387, 1228], [1373, 62, 758, 907, 88, 99, 122, 172, 419], [1119, 1403, 1063, 1473, 1084, 24, 101, 1331, 882, 271, 360, 1330, 787, 1393, 408], [665, 245, 231, 245, 1347, 694, 508, 1392, 1036], [706, 173, 1166, 1264, 1, 21, 8, 1327, 911, 1492, 642, 1038, 1280, 38], [627, 1047, 1376], [434, 1008, 680, 950, 706, 172, 106, 1258, 1033, 780, 508, 1327, 1392, 1, 21], [1115, 564, 687, 1336, 680, 950, 1087, 194, 1196, 151, 194, 1196, 1404], [665, 682, 825, 1026, 815, 671, 914, 687, 246, 194, 1196, 499, 1034, 1013, 907], [1252, 191, 434, 951, 1138, 781, 515, 480, 508, 304, 194, 1196, 823, 165], [665, 245, 815, 671, 914, 176, 1259, 1288, 508, 194, 1196, 499, 1034, 1013, 1442], [706, 682, 400, 955, 509, 1039, 8, 896, 1, 19], [899, 1049, 966, 405, 961, 709, 381, 1288, 1214], [627, 966, 927, 1288, 584, 559, 381, 194, 1196, 1317, 168], [1295, 671, 914, 195, 1183, 462, 1358], [706, 135, 777, 1088], [591, 427, 983, 815, 671, 914, 918, 565, 91, 194, 1196, 27, 1183], [706, 591, 427, 198, 983], [706, 504, 553, 591, 427], [1033, 665, 1061, 565, 815, 120, 591, 1088, 740, 194, 1196, 1500, 274, 1173], [315, 591, 427, 1380, 808, 706, 881, 1466, 1415, 434], [665, 231, 1186, 139, 78, 1288, 194, 1196, 499, 1034, 1013, 1056], [706, 740, 965, 1273, 876, 896, 299, 712], [1119, 170, 1226, 1280, 1146, 194, 1196, 1245, 1429, 1376], [706, 951, 896, 313, 1049, 98, 640, 739, 1244, 842, 1369, 712, 194, 1196, 543, 799], [627, 552, 824, 815, 1119, 691, 1213, 1057, 194, 1196, 999, 1450, 72, 268], [1139, 1213, 900, 1121, 1157, 759, 403, 74, 194, 1196, 706, 347, 985], [1033, 719, 202, 1385, 1221, 815, 52, 1057, 194, 1196, 27, 1442], [706, 719, 151, 870, 749, 1139, 950, 1319, 719, 1104, 1221, 1235, 334, 1356], [230, 682, 405, 815, 939, 914, 65, 139, 1088, 268], [706, 1132, 730, 86, 197, 1326, 1134, 880, 682], [52, 187, 194, 1196, 823, 1457, 543, 225, 594, 682, 364, 834, 1057, 153], [706, 1356, 1104, 1221, 1018, 1252, 1331, 1326, 334, 370, 453, 110, 156, 917, 842], [939, 914, 65, 368, 1070, 996, 1088, 761, 951], [706, 1132, 903, 1081, 116, 876, 827], [665, 55, 825, 761, 633, 1109, 1213, 246, 194, 1196, 883, 550], [946, 55, 981, 207, 777, 1347, 857, 1150, 433, 1400, 194, 1196, 1214, 985, 1411, 194, 1196, 1455, 493], [1277, 1304, 512, 194, 1196, 1494], [281, 559, 194, 1196, 1478, 706], [1074, 348, 1232, 98, 553, 1429, 1160, 98, 168, 1142, 199, 1310, 98, 225, 1006, 196, 194, 1196, 897, 186, 194, 1196, 112], [1033, 815, 222, 914, 1128, 1165, 1184, 194, 1196, 499, 1034, 1013, 1285, 362, 682, 187, 1128, 1120, 268], [706, 508, 1134, 144, 1279, 1134, 540, 770, 1213, 508, 334], [473, 1057, 427, 902, 761, 1268, 556, 1354], [706, 931, 1260, 16, 312], [371, 877, 1376, 119, 5, 1252, 357, 575, 364, 709, 26, 1418, 371, 194, 1196, 715, 33], [1033, 665, 267, 222, 914, 1165, 1184, 194, 1196, 499, 1034, 1013, 915, 224, 1088, 951], [706, 585, 1109, 1300, 209, 119], [628, 1386, 682, 1047, 1406, 304, 855, 1019, 818, 387, 1260, 364], [246], [833, 281, 364, 1354, 1039, 951, 508, 411, 628, 818, 387], [1039, 627, 1220, 815, 222, 914, 1165, 1184, 1288, 194, 1196, 27, 576], [173, 83, 1327, 645, 1049, 1158, 245, 938, 874, 691, 105, 1221], [394, 793, 1165, 639, 363, 790], [1252, 559, 212, 896, 446, 1404, 940, 509, 790, 1376], [665, 267, 1079, 815, 222, 914, 1450, 1306, 414, 194, 1196, 27, 546], [194, 1196, 306, 641], [1252, 1364, 194, 1196, 829, 373, 1196], [815, 1069, 187, 194, 1196, 1076, 1326, 1280, 1471], [706, 187, 628, 815, 120], [627, 502, 187, 900, 225, 93, 1288, 671, 641, 292], [706, 1132, 779, 842, 509, 207, 410, 48, 837, 1388, 915, 312, 1254, 462, 1039], [815, 837, 713, 225, 194, 1196, 1138, 1044, 1288, 1471], [706, 682, 387, 1057, 207, 692], [8, 1086, 511, 670, 550, 443, 642, 682, 187, 24, 315, 194, 1196, 1347, 1048], [706, 621, 35, 1361, 1261, 642, 682, 364, 24, 1333, 628, 956], [665, 939, 139, 788, 1141, 294, 815, 52, 187, 194, 1196, 211, 1257, 576], [777, 43, 364, 508, 626, 621, 1221, 33, 298, 316, 1157, 1016, 808], [492, 981, 1149, 120, 546, 1227, 1430, 1227], [18, 1377, 499, 16, 1141, 1321, 1488], [939, 176, 1259, 1288, 1061, 1444, 1386, 195, 244, 914, 1308, 709, 194, 1196, 667, 1444], [18, 194, 1196, 1046, 526, 617], [18, 986, 1029, 1307, 1368, 1376, 1486, 194, 1196, 1187], [939, 709, 1308, 1325, 1064, 1308, 914, 194, 1196, 667, 1444], [18, 971, 160, 546, 263, 1165], [1064, 971, 621, 730, 509, 312], [18, 1288, 139, 194, 1196, 907, 38, 1449], [335, 981, 1068, 363, 1064, 971, 621, 730, 620, 730], [18, 618, 1490, 1480], [139, 1288, 283, 981, 676, 1064, 971, 379], [18, 515, 897, 532], [56, 1344], [], [1198, 939, 639, 1041, 1008, 381, 543, 914, 1308, 344, 194, 1196, 667, 1444], [18, 628, 1308], [1198, 18, 281, 1070, 65, 981, 1061, 136, 874, 582, 1246], [139, 751, 1456, 914, 1308, 353, 194, 1196, 667, 1444], [18, 560, 194, 1196, 706, 122], [870, 914, 560, 1088], [836, 818, 714], [696, 1308, 344], [18, 1226, 715, 732, 312], [381, 904, 1088, 194, 1196, 667, 1444], [18, 1104, 403, 732, 928, 1088], [671, 914, 1128, 1308, 176, 1288, 194, 1196, 667, 1444], [18, 65, 639], [18], [18, 381, 515, 1069, 897, 328, 1353], [1063, 882, 1088, 218, 939, 914, 65, 981, 492, 676, 1128, 1308, 194, 1196, 667, 1444], [1104, 1230, 1430, 738, 1316, 207, 858, 1165, 468, 102, 1362, 1119, 18, 194, 1196, 1140], [709, 1394, 1456, 914, 1308, 815, 939, 914, 65, 387], [18, 410, 59, 1366, 668, 578, 1064, 245, 1366, 487, 1369], [139, 1088, 515, 187, 560, 1489, 283, 981], [18, 618, 1490, 1366, 499], [788, 1141, 981, 676, 1197, 1119, 1064, 971, 379, 1308, 914, 194, 1196, 667, 1444], [1134, 18, 54, 1165, 1057, 419, 988, 639, 1134, 1450, 1165], [627, 981, 492, 1197, 1029, 546, 1227, 1430, 1227], [18, 981], [939, 120, 546, 1227, 1430, 1227, 490, 499, 981, 836, 1143, 144, 1200, 815, 1065, 915, 499], [18, 1461, 1134], [1336, 8, 1061, 1280, 499, 222, 914, 1280, 996, 1088], [18, 618, 1490], [135, 102, 1489, 405], [18, 515, 490, 499, 406, 1450, 509, 257, 518, 1039, 18], [1086, 713, 1128, 1120, 224, 1326, 1088, 1296, 194, 1196, 423, 177, 244, 194, 1196, 242, 981], [608, 18, 295, 539, 168, 512, 204, 14, 490, 168, 889, 252, 1100, 1077], [719, 1088, 1308, 914, 939, 914, 65, 1061, 194, 1196, 667, 1444], [18, 135, 381, 1109, 453, 1260, 627, 713, 194, 1196, 1110, 505], [139, 1326, 1217, 175, 194, 1196, 423, 177], [18, 1104], [18, 121, 798, 639, 145, 1165, 265, 900, 294, 902, 206, 68, 915, 862, 8, 294, 798], [836, 981, 680, 1365, 915, 1219, 768, 1061, 194, 1196, 878], [18, 1480], [939, 914, 1088, 673, 1212, 1061, 218, 1063, 981, 492, 981, 1149], [673, 1212, 639, 981, 18], [1088, 543, 914, 1308, 120, 687, 246, 194, 1196, 667, 1444], [1198, 509, 842, 1018, 499, 529, 1165, 940, 627, 375], [1308, 914, 619, 981, 492, 1149, 1197, 344, 194, 1196, 667, 1444], [18, 633, 246, 1326, 447, 265], [1318, 560, 21, 870], [18, 582, 8, 198, 1295, 983, 398], [627, 415, 914, 313, 1138, 582, 162, 1489], [499, 981, 21, 550, 866, 18], [719, 1088, 1326, 1450, 564, 1280, 1216, 815, 1308, 1288, 1041, 194, 1196, 667, 1444], [515, 1492, 1450, 564, 1484, 1294], [996, 885, 222, 914, 1128, 194, 1196, 527, 710, 476], [230, 713, 1132, 188, 418, 271, 483, 606, 671, 238], [834, 267, 1456, 914, 1308, 245, 1019, 476], [515, 870, 238, 334, 1387, 94, 722, 744, 719, 1280, 668, 171], [1088, 1456, 914, 234, 194, 1196, 276, 768, 225, 218], [304, 947, 1405, 902, 1336, 1268, 168, 923], [1088, 1263, 1456, 914, 234, 1128, 194, 1196, 943, 218], [230, 713, 1336, 1263, 194, 1196, 299], [1228, 229, 589, 473, 194, 1196, 876], [410, 87, 1016, 144, 1094, 682, 665, 387, 1330, 1326, 194, 1196, 1381, 50], [696, 1308, 885], [230, 713], [230, 713, 1165, 1256, 257, 1370, 245, 540, 1260, 453], [665, 202, 1385, 1456, 914, 1308, 245, 1019, 476], [257, 1370, 713, 1165, 1256, 245, 434, 230, 713, 31], [665, 202, 1385, 1468, 815, 222, 914, 1128, 194, 1196, 711, 218], [640, 1347, 1068, 1337, 1487, 475, 87, 1433, 1402, 1126, 304, 409, 57], [135, 1214, 627, 68, 638, 628, 245, 695, 1210, 1288], [736, 768, 1008, 1157, 1253, 586, 584, 473, 367, 218, 434, 1132, 1317, 139, 538], [135, 1214, 158, 1231, 93, 1226, 695, 1167], [736, 818, 486, 993, 515, 751, 417, 1115, 97, 434, 1349], [665, 1143, 1279, 1450, 687, 842, 95, 1385, 35], [367, 1257, 99, 1279, 833, 1002, 246, 249, 1401, 16, 154, 1387], [1413, 1279, 833, 1348, 1442, 1401, 38, 455, 35], [367, 1143, 1279, 1002, 971, 333, 172, 1369, 1288, 974, 1461], [815, 1069, 1368, 187, 734, 1301, 1061, 664], [367, 1128, 1308], [815, 664, 194, 1196, 524], [367, 1308, 59, 938], [367, 967, 1301, 1061, 8, 829, 523, 1288], [216, 834, 225, 420, 405, 405, 1347, 745], [367, 1385, 1279, 1442, 246, 763, 156], [1033, 815, 812, 1333, 39, 509, 550, 466, 575], [367, 411, 1091, 1385, 144, 504, 639, 214, 1120, 359, 194, 1196, 985, 406], [194, 1196, 524], [367, 1260, 1132], [367, 1260, 1308, 757], [367, 842, 739, 1295], [1104, 917, 815, 1308, 991, 468, 906, 443], [367, 456, 350, 1141, 1049, 1376, 194, 1196, 1461, 547], [367, 135, 627, 584, 605, 1401, 1149, 400, 159, 1279, 515, 120, 1128, 262], [135, 917, 487, 1308, 991, 1256, 1450, 1288, 837, 627, 465, 194, 1196, 524], [367, 337, 578, 400, 159, 880, 1049, 593, 1288, 139, 1033, 729, 120, 815], [135, 917, 834, 1158, 1139, 842, 815, 1308, 402, 1300, 1387, 187, 780], [216, 834, 1178, 447, 251, 423, 892, 294, 1385, 1279], [367, 504, 1013, 897], [135, 656, 1308, 991, 195, 462, 224, 1288, 1246, 194, 1196, 524], [367, 891, 1385, 1003, 1433, 1413, 1308, 93, 645, 897, 409, 1013, 897], [1401, 224, 1288, 1246], [367, 765, 455, 1279, 891, 1385, 504, 1125, 24, 626, 382, 254, 426, 294, 558, 1401, 176, 558, 914, 815, 429, 1344, 375, 1260, 627], [627, 1047, 333], [627, 333], [1134, 676, 283, 367, 194, 1196, 1001, 1029, 362, 333], [1418, 195, 430, 294, 815, 939, 914, 65, 466, 333], [331, 719, 2, 1428, 103, 1450, 606, 333], [1356, 333], [1352, 1295, 460, 1433, 1279, 378, 333], [135, 656, 1134, 1047, 800, 1319, 757, 333], [815, 394, 1088, 811, 21, 6, 177, 333], [367, 495, 1319, 1132, 585, 93, 533, 1013, 897, 65, 460, 139, 65, 927, 914, 65, 367, 129, 567, 1433, 1049], [1003, 1064, 1217, 515, 1196, 1313], [367, 283, 665, 811, 816, 510, 897], [1426, 897, 911, 308, 1313], [645, 1313], [367, 1057, 178], [1134, 536, 914, 928, 656, 1313], [93, 996, 911, 833, 834, 1295, 1019, 1063, 1128, 1301], [965, 647, 871, 656, 1313], [576, 706, 468, 576, 124, 1433, 170, 234, 170], [1222, 1447, 834, 1385, 1415, 720, 378, 1385, 1244, 1274, 1433], [1134, 676, 283, 367, 333], [1450, 631, 1256, 815, 1352, 991, 52, 198, 444, 333], [367], [118, 177, 656, 333], [1401, 139, 216, 834, 997, 1447, 18, 135, 486, 891, 1385, 333], [1447, 891, 1385, 1246, 696, 576, 1457, 1433, 141, 1041, 1319], [367, 367, 1111, 1308, 77, 158, 954, 410, 1013, 897, 645, 1112, 1064, 2], [341, 468, 263, 1489, 162, 1484, 854, 734, 1212, 806, 207, 914, 591, 38], [409, 639, 1057, 971, 336, 582], [821, 1456, 914, 1308, 881, 245, 1019, 176, 1288, 801, 857, 194, 1196, 780], [409, 159, 915, 1177, 216, 161, 1260, 1441, 682, 915, 1126, 915], [627, 1141, 377, 159, 1119, 93, 914, 1228, 276, 468, 281, 1371], [409, 618, 1366, 499, 21], [1198, 1489, 1499, 330, 21, 492, 281, 1200, 680, 1371], [334, 1177, 915, 1212, 46, 639, 1336, 361], [410, 1356, 77, 982, 1251, 821, 468, 1264, 582, 436], [409, 1480, 362, 842, 1385, 159, 1183, 1456, 914, 1183, 21, 1042, 1149, 582], [665, 202, 21, 582, 378, 1165, 1197, 65, 591, 1228, 194, 1196, 328, 738, 14, 326], [409, 761, 1234, 276, 491, 289, 1196, 1295, 582, 873, 194, 1196, 343], [1198, 862, 118, 560, 533, 939, 914, 65, 582, 492, 281, 436], [409, 617, 1336, 57, 915, 459, 21, 543, 582, 1110, 499, 1356], [1295, 56, 93, 914, 480, 1295], [409, 765, 1375], [1198, 1022, 718, 761, 817, 1442, 761, 982, 1251, 493, 1116, 1295], [761, 633, 429, 1284, 161, 1284, 409], [1079, 1285, 1086, 110, 1113, 507, 278, 1113, 1401, 139, 914, 1244], [674, 206, 1141, 68, 1401, 1113, 1128, 778], [815, 1308, 914, 919, 997, 245, 1019, 222, 1256, 1288, 627, 1244], [674, 206, 288, 1143, 1279, 639, 728, 1386], [674, 206, 639, 796, 1285, 362, 246, 1234, 919, 195, 915, 355, 731, 245, 194, 1196, 173], [674, 206, 889, 662, 837, 633, 761, 9, 521, 565, 396, 902, 917], [135, 674, 206, 1279, 636, 1080, 521, 191, 412, 1320, 468, 1243, 919, 687, 1279, 9, 303, 728, 220, 246, 589, 1033, 24, 612, 267, 815], [245, 1019, 222, 1465, 1256, 1288, 158, 222, 499, 1046], [674, 206, 1228, 120, 1179, 861, 1433, 294, 119, 587, 997, 1256], [674, 206, 1434, 1019, 158, 140, 1019, 1377], [245, 1019, 222, 1465, 1256, 1226, 538, 1139, 1046], [674, 206, 919, 306, 211, 550, 800, 806, 950, 1285, 628, 1228, 188, 1288, 368], [914, 919, 306, 245, 1019, 222, 1256, 1037], [674, 206, 97, 1100, 118, 1210, 1344, 1279, 673], [1326, 1149, 763, 730, 726, 329, 761, 1264], [135, 775, 870, 245, 964], [674, 206, 1318, 245, 1401, 1456, 985, 187, 1385, 1231, 631, 245], [135, 188, 1228, 516, 815, 207, 840, 1039, 54, 1347, 65, 964], [674, 206, 194, 1196, 221, 1330, 543, 276, 654, 845, 434, 515, 499, 561, 1069, 627], [627, 188, 1401, 1230, 1220, 1234, 919, 499, 1244], [674, 206, 1375, 65, 288, 191, 1279, 36, 1095, 65, 1254, 612, 1080, 166, 191], [135, 74, 991, 245, 176, 382, 1354, 198, 964], [674, 206, 640, 821, 815, 906, 627, 245, 1019, 245], [674, 206, 516, 513, 521, 696, 991, 245, 950, 1279, 627], [135, 74, 821, 939, 914, 65, 1279, 593, 1392, 1336, 338, 455, 1231, 222, 1256, 627, 648], [674, 206, 441, 35, 35, 75, 696, 991, 222], [674, 206, 455, 1231, 74, 1364], [674, 206, 499, 648, 627], [120, 74, 52, 914, 919, 997, 991, 815, 1456, 1128, 1308, 326], [674, 206, 16, 1340, 919, 696, 991, 245, 950, 1279, 677, 1088], [24, 719, 788, 1141, 334, 870, 815, 1308, 1019, 1165, 480, 906, 496], [138], [138, 808, 1336, 1213, 891, 9, 207, 739, 815, 35], [1019, 1165, 1256, 906, 1061, 627, 175], [138, 628, 1134], [135, 410, 190, 1263, 1139, 119, 1401, 1326, 1139], [135, 996, 1288, 1263, 696, 1200, 1088, 815, 1456, 1308, 455, 1231], [1104, 1257, 95, 896, 1450, 1278, 239, 95, 603], [138, 528, 1003, 1178, 1213, 677, 225, 1301, 1466, 1213, 928, 719, 553, 866, 443, 1382, 139, 1410], [824, 239, 733, 225, 468, 1213, 687, 318, 603], [138, 627, 1260, 585, 499, 490, 65, 1213, 497, 1301, 490], [249, 1069, 1057, 1331, 1326, 447, 855, 72, 294, 1385, 254], [1213, 904, 1050, 1301, 1471, 1422, 239, 677, 249, 374, 194, 1196, 1246, 678], [1456, 914, 75, 434, 881, 911, 1200, 381, 498], [822, 719, 1445, 246, 1278, 1224, 1157], [1141, 982, 338, 1353, 531, 1096], [1384, 1418, 18, 225, 873, 93, 962, 1399], [1413, 538, 382, 16, 18, 939, 914, 65, 8, 515, 466], [1384, 821, 1430, 18, 225, 687, 739, 505, 1398], [1384, 1279, 1292, 886, 517, 18, 698, 509, 65, 939, 65, 515, 466], [931, 24, 561, 287, 723, 1121], [829, 704, 1426, 799, 287, 1415, 559, 1349, 1239, 1384, 194, 1196, 823, 755, 1223, 194, 1196, 624], [335, 246, 294, 719, 1069, 569, 1219, 715], [1384, 1063, 822, 1119, 97, 982, 97, 515, 1385, 904], [665, 1447], [665, 381, 1128, 617, 504, 542, 59, 97, 1384, 453], [447, 1336, 910, 816, 6, 1279, 1395], [1013, 35, 928, 1039, 1325, 334, 1384, 1326, 31, 777, 700, 740, 1232], [287, 1128, 511, 113, 1033, 506], [120, 11, 403, 901, 294, 1373, 1198, 1384, 1278, 287, 474, 559, 194, 1196, 1500, 486], [224, 410, 296, 1280, 872, 427, 337, 627, 1353, 531], [1134, 1384, 265, 1224, 335, 1279, 410, 1279, 1280, 673], [1198, 316, 1456, 914, 1308, 176, 1259, 1288, 1191], [426, 8, 507, 1490, 1203, 761, 633, 108, 68, 716, 515, 1246], [1049, 8, 1336, 194, 1196, 1196, 607, 695], [642, 682, 1260, 706], [709, 316, 1191], [56], [777, 1325, 618, 244, 618, 1113, 904, 377, 194, 1196, 428, 36], [627, 1336, 1308, 628, 410, 628, 194, 1196, 358, 377], [852, 836, 38, 852, 936, 1308, 628], [1205, 1328, 915, 1095, 1328, 1165, 585, 761, 1090, 473, 912], [507, 1000, 452, 939, 1326, 988, 558, 1456, 1308, 761, 194, 1196, 808, 545], [333, 1466, 85, 377, 452, 606, 730, 426, 30, 1166, 1326, 1088], [526, 996, 176, 1288, 1200, 381, 674, 1308, 914, 207, 509, 695], [1000, 1013, 1230, 35, 405, 640, 194, 1196, 719], [1198, 719, 1088, 56, 85, 377, 687, 914, 1308, 207], [800, 488, 630, 294, 1385, 915, 381, 1280, 1434, 883, 194, 1196, 191], [1308, 194, 1196, 1408, 796, 1315], [333, 194, 1196, 870], [719, 1088, 335, 1500, 587, 687, 1308, 194, 1196, 639, 613, 798], [333, 765, 648, 453, 939, 468, 563], [239, 627, 730, 914, 65, 515, 368, 1070, 693, 477], [333, 410, 950, 628, 706, 1268, 1154, 176, 929, 606, 628, 564, 627], [719, 639, 432, 249, 1297, 1446, 1330, 43, 468, 1308, 543, 56, 1462], [333, 606, 405, 1180, 1205, 815, 1288, 194, 1196, 481, 231], [770, 1385, 1226, 815, 222, 914, 763, 194, 1196, 1207, 1484, 1371], [689, 245, 517, 640, 1427, 1003, 915, 1086, 315, 1301, 845, 194, 1196, 812, 7], [515, 222, 1439, 225, 1371], [689, 627], [689, 135, 515, 1088, 919, 515, 1385, 16, 575, 222], [1096, 631, 330, 1401, 427, 109, 1389, 1122, 715, 1450, 1279, 1371], [640, 351, 689, 509, 1326, 1226, 310, 971, 334, 631, 1013, 1228, 1039, 194, 1196, 30], [1480, 515, 1444, 86, 1409, 631, 531, 896, 1444, 1043, 86, 1371], [689, 627, 1200, 645, 912, 1309, 312, 582, 706], [689, 135, 312, 582, 246, 284, 1043, 86], [410, 388, 403, 771, 641, 119, 1111, 1371], [689, 627], [689, 304, 1034, 299, 49, 1443, 685, 183, 562], [1291, 486, 12, 119, 716, 1482, 685, 403, 732], [911, 718, 489, 1371], [689, 915, 1325, 141, 1200, 814, 709, 889, 824, 620, 915, 569], [538, 983, 639, 318, 1192, 468, 299, 453, 1371], [689, 1033, 946, 915, 1325, 1400], [1222, 1447, 180, 489, 1371], [689, 447, 1433, 540, 1112, 1480, 1326, 950, 256, 299, 917, 1, 763, 1356, 716, 19, 1142, 540], [388, 119, 1158, 486, 20, 403, 1371], [689, 1034, 1354, 1013, 901, 922, 1119, 19], [135, 489, 486, 665, 202, 119, 1081, 815, 1289], [689, 249, 1356, 842, 1400, 1085, 284, 831, 645, 299, 1033, 882, 464, 19, 1213, 875, 1325, 141, 902], [403, 1286, 641, 1326, 538, 780, 1371], [689, 627, 640, 21, 524, 1329], [689, 1186, 685, 1034, 245], [857, 665, 202, 815, 1292, 914, 1228, 486, 1026], [486, 1150, 1482, 1385, 1434, 218, 128, 937, 833, 1167, 1008], [996, 1034, 349, 451, 1177], [1239, 559, 937, 1279, 511, 1218, 1346, 377, 194, 1196, 201, 194, 1196, 1098], [1376, 815, 283, 247, 38, 246, 914, 245, 1069, 1185, 1347, 520], [627, 6, 937, 509, 1279, 915, 1336, 914, 806, 174, 48, 862, 266], [815, 1308, 914, 839, 1166, 1426], [937, 405], [1033, 118, 996, 202, 140, 836, 1200, 58, 1347], [937, 667, 726, 424, 1166], [1450, 424, 1166, 1034, 971, 578, 1432, 881, 1128, 606, 1340], [937, 881, 740], [135, 1364, 665, 202, 862, 139, 881, 1450, 2, 449, 493, 222, 489, 225, 1227, 194, 1196, 1329, 142, 1132, 1260, 788, 1141, 310, 881, 567, 232, 566], [1038, 1141, 1336, 1300, 252, 1398], [627, 499, 1364, 815, 939, 914, 65, 368, 1088, 335, 1039, 566], [1385, 1186, 216, 1340, 1064, 3, 1070, 1450, 231, 439, 824, 864, 439, 1076, 505, 508, 1019, 810], [247, 93, 377, 927, 68, 849, 837, 996, 1034, 349, 1177], [576, 283, 559, 377, 31, 937, 1279, 384, 700], [1336, 1052, 1226, 914, 364, 1112, 1177], [937, 1304, 1320, 1326, 468, 572, 1387, 249, 842, 65, 576, 842, 486], [410, 1392, 1303, 1048, 36, 790, 239, 58, 1177], [937, 1439, 952, 207, 80, 276, 1279, 1426, 799, 1134, 434], [836, 1200, 58, 1347, 1183], [937, 434, 873, 227, 1134, 349, 1272], [294, 119, 645, 276, 1119, 1167, 261, 135, 627, 206, 247, 1051], [937, 434, 553, 68, 1466, 1326, 1279, 1057, 873, 645, 873, 33, 1134, 68], [180, 636, 914, 38, 135, 224, 821, 1088, 335, 985], [937, 553, 468, 1326, 1279, 1384, 1279, 504, 822, 176, 531], [937, 483, 1166, 1057, 643, 1386, 289], [996, 176, 1288, 1079, 815, 1308, 914, 991, 1256, 885], [937, 1401, 1426, 1166, 468, 120, 1279, 176, 207, 1336, 1166, 434], [1034, 1268, 1141, 476, 717, 1384, 1039, 620], [1167, 937, 1039, 1400, 788, 559, 486, 1265, 1336], [135, 665, 202, 1316, 1125, 1043, 490, 951, 140, 824, 1316, 3, 181, 1316, 803, 299, 560, 1200, 1227, 194, 1196, 721, 909, 627, 1173], [1140, 1497, 1492, 1038, 857, 1136, 1280, 909, 749, 1039, 1046, 1260, 587], [135, 665, 202, 951, 825, 313, 951, 493, 569, 951, 696, 140, 1116, 1227, 194, 1196, 1323, 1062, 56, 939, 914, 65, 1173], [1038, 951, 1053, 896, 330, 1401, 939, 222, 1340, 294, 119, 174, 252, 20, 300, 483, 395, 508, 8, 1424, 140], [1038, 515, 222, 294, 119, 174, 815, 1308, 222, 245, 294, 119], [252, 358, 955, 140, 453, 951, 955, 8, 1043, 140, 1340, 990, 815, 885, 1122, 1064, 1390, 1437, 1308, 1308, 914, 56, 1173], [1038, 765, 1134, 1088], [239, 56, 815, 1277, 904, 344, 627, 1173], [1038, 56, 1340, 693, 1308, 622, 738, 627], [213, 77, 739, 627, 1047, 618], [1038, 627], [1038, 515, 466, 108, 500, 738, 499, 627, 854], [1038, 515, 466, 315, 951, 486, 896, 744, 833, 696, 951, 977, 1053, 896, 1139, 252, 508, 119, 322, 906, 453, 1138, 1252, 815, 493], [1033, 299, 595, 633, 331, 1386, 739, 1450, 1088, 194, 1196, 211, 1131], [1082, 713, 1336, 46, 1091, 331, 761, 532, 1490, 1200, 1038, 531, 866], [1413, 405, 24, 1361, 89, 982, 1057, 1274], [1082, 713, 627], [1082, 713, 1206, 387, 312, 1148, 872, 568, 1336, 838, 1385], [665, 538, 267, 745, 1326, 225, 815, 1226, 281, 194, 1196, 1040], [1082, 713, 135, 1430, 1064, 1186, 288, 641, 71, 195, 706, 640, 739, 245, 328], [854, 673, 282, 246, 187, 1227, 709, 427, 740, 1227, 218, 1091, 654, 1447, 500, 356], [1082, 713, 584, 1222, 639, 577, 166, 68, 1183, 1491, 499], [1082, 713, 1482], [1082, 713, 1374, 176, 914, 633, 1091, 719, 1268, 1091, 1418], [665, 202, 135, 368, 1040, 312, 582, 633, 577, 1088], [1482, 977, 577, 1042, 515, 1466, 1445, 1171, 412], [977], [85, 676, 1443, 312, 1148, 16, 1082, 719, 1445, 987, 1287, 1318, 183], [387, 1200, 709, 486, 630, 983, 842, 1141, 1069, 1369, 543, 225], [1082, 713, 862, 139, 813, 86, 775], [788, 163, 486, 1364, 699, 331, 558, 1063, 900, 1057], [247, 453, 673, 1230, 915, 1323, 298, 1082, 169, 486, 685, 1095, 1326, 1082, 918, 1025, 66, 1082, 915, 1288, 1492, 139, 1082], [224, 65, 21, 1010, 881, 1326, 1082, 377, 194, 1196, 37, 706, 985], [139, 1010, 511], [538, 1010, 8, 218, 836, 1473, 881, 21, 538], [135, 567, 1485, 419, 665, 1253, 1062], [1225, 914, 1091, 33, 1336, 1039], [793, 7, 1453, 902, 1372, 1443, 1200, 693, 1192, 1109, 1062], [1225, 445, 1018, 849, 1253, 709, 567, 1277, 759, 633, 146, 1088], [486, 351, 914, 1401, 247, 1088, 939, 914, 65, 1061, 482, 817], [375, 351, 536, 68, 509, 1400], [375, 526, 821, 320, 46, 1271, 46, 422, 1401, 218, 194, 1196, 578, 921], [135, 119, 1061, 748, 939, 914, 176, 1288, 687, 914, 1308, 906, 807], [375, 320], [830, 320, 482], [473, 434, 493, 337, 447, 623, 906], [375, 628, 802, 113, 434, 950, 1148], [118, 222, 1256, 34], [375, 628, 1478, 1452, 786], [375, 1326, 218, 1430, 837, 428, 889], [118, 222, 1256, 34, 815, 1456, 113, 195], [1326, 730, 194, 1196, 998, 491, 519, 234, 232, 178, 1340, 951], [31, 294, 1336, 693, 1339, 1459, 1165, 448, 1165, 1259, 1088], [1104, 815, 709, 195, 515, 1368, 911, 639, 1336, 1165, 1026, 951], [1198, 1401, 247, 235, 873, 170, 509, 1348, 246, 1456, 914, 1308, 939, 1184, 437], [207, 291, 1113, 276, 1040, 207, 36, 509, 1348, 139], [1038, 876, 576, 586, 1165, 915, 1326, 377, 1113, 1165, 1136, 842, 305, 194, 1196, 822, 438], [1198, 469, 119, 1061, 687, 914, 1308, 466, 1049], [734, 456, 216, 1230, 46, 639, 851], [1288, 815, 1456, 881, 1165, 1256, 174, 113, 434], [515, 129, 35, 638, 682, 626, 716, 720, 504, 1326, 26, 1041], [834, 1386, 1432], [344, 313, 885, 833, 342, 1226, 640, 1049, 335, 1295, 8], [765, 815, 1456, 1308, 721, 837, 1432], [344, 313, 996, 1216, 453, 1308, 1204, 195, 628], [1413, 1061, 1197, 996, 1088, 220, 815, 1308, 119, 884, 194, 1196, 656], [344, 313, 267, 1259, 1150, 1088], [834, 1256, 462, 552, 881, 1308, 455, 1019, 815, 1232], [918, 808, 1484, 1337, 194, 1196, 746, 1269, 884], [919, 788, 1141, 1121, 1358, 518, 879, 157], [1183, 299, 218, 808, 218, 829, 919, 403, 448, 283], [840, 399, 627, 731, 872, 1114, 1105], [349, 1397, 8, 1114, 144, 194, 1196, 594, 787], [1288, 6, 627, 731, 1105], [627, 8, 1114, 689, 1035, 194, 1196, 547], [1288, 1063, 815, 299, 914, 194, 1196, 113, 543, 23, 1105], [8, 759, 557], [8, 65, 1165, 1038, 518, 689, 123, 194, 1196, 1218, 933], [856, 576, 381, 682, 1105], [8, 410, 1340, 1114, 460, 700], [817, 526, 437, 1105], [1336, 1096, 1114, 8, 1435, 1097, 559, 1206], [480, 731, 1105], [81, 8, 587], [504, 247, 1076, 1105], [504, 883, 8, 476], [981, 627, 731, 1105], [627, 8, 1114, 689, 928, 194, 1196, 1447, 1173], [643, 621, 671, 476, 196, 1280, 880, 1105], [8, 1390, 682, 1039, 1049, 322, 476, 1319, 403, 582], [215, 1154, 1384, 194, 1196, 544], [840, 1105], [381, 8, 398, 476, 543, 698, 212, 139, 381, 403, 1036, 543, 212, 915, 398, 1263], [840, 1105], [559, 334, 1057, 1326, 8, 689, 1191, 698, 212, 1098, 559], [325, 627, 731, 996, 559], [459, 39, 8, 543, 140, 1473, 212, 915, 1332, 927, 288, 689, 903, 194, 1196, 869], [683, 1413, 1447, 1105], [8, 361, 923, 627, 656], [773, 1076, 1105], [1198, 8, 86, 298, 576, 1042, 896], [1480, 247, 404, 899, 576, 1105], [1033, 996, 559, 8, 194, 1196, 836, 961], [709, 682, 1105], [476, 950, 683, 559, 1097, 8, 194, 1196, 974, 84, 1500], [576, 1039, 1400, 1105], [1301, 1057, 476, 8], [627, 731, 335, 855, 1350, 1063, 1105], [683, 384, 1100, 958, 8, 113, 958, 194, 1196, 532, 588, 211], [862, 1063, 815, 299, 914, 194, 1196, 113, 543, 23, 1105], [1025, 1298, 90, 212, 118, 540, 1114, 8], [1392, 476, 1145, 1280, 880, 1413, 1447, 1105], [8, 582, 639, 298, 12, 1122], [1371, 83, 1347, 832, 1105], [8, 541, 1364, 673, 476, 8, 97], [709, 1385, 1043, 446, 1105], [8, 160, 1075, 1033, 403], [173, 56, 1456, 914, 62, 1141, 1105], [8, 1198, 1042, 709, 1385, 1220, 543, 60, 284, 783, 1043, 144], [1200, 118, 709, 189], [1198, 8, 531, 543, 60, 284, 783, 1043, 245, 492, 390], [1033, 1344, 1400, 1105], [8, 212, 1105, 950, 1095, 1222, 197, 923, 923, 452], [923, 649, 8, 584, 1136, 1105], [584, 1033, 842, 621, 980, 411, 8, 559, 671, 476], [560, 815, 299, 914, 194, 1196, 113, 543, 23, 1105], [709, 8, 294, 1298, 90, 1326, 1114], [1105], [8, 649, 1105], [1105], [559, 537, 8], [1200, 584, 38, 1473, 247, 1105], [584, 1473, 387, 16, 1326, 8, 559, 856], [862, 253, 1105], [8, 1105], [1130, 8, 698, 1252, 636, 212, 1326, 1114, 915, 833, 306, 954], [642, 1105], [234, 1068, 212, 1326, 1114, 8, 1166], [956, 1260, 685, 59, 1076, 1105], [855, 1326, 8, 1114, 194, 1196, 1436, 593], [627, 480, 627, 731, 1105], [1114, 689, 8, 1308, 1480, 586, 1149, 709, 543, 559, 212, 1326, 587, 276, 194, 1196, 632], [24, 1177, 815, 299, 914, 1088, 194, 1196, 113, 543, 23, 1105], [8, 627, 1105, 1295, 709, 1280, 1319, 1292, 410, 1100], [993, 700, 1280, 1105], [8, 410, 1154, 1319, 1094, 1292, 188, 245, 43, 640, 1100, 1177], [914, 1371, 83, 1347, 832, 1105], [8, 316, 673, 5, 700, 915, 476], [1210, 1049, 460, 1210, 716], [181, 1049, 1011, 486], [815, 885, 1308, 914, 716], [181, 1489, 486, 487, 275, 1134], [8, 1426, 1210, 1025, 204, 881, 275, 487, 487, 493, 915, 866, 334], [99, 880, 158, 621, 97, 678, 426, 881, 218, 461], [181, 1434, 621, 65, 406, 127, 1078, 199, 1225, 320], [1088, 1063, 885, 1308, 914, 645], [181, 836, 1230, 207, 381, 1284], [1104, 1134, 415, 914, 1456, 914, 1308, 466, 822], [1226, 52, 1196, 911, 898, 194, 1196, 402, 1388], [224, 821, 1088, 1494], [1134, 1226, 645, 401], [135, 815, 1456, 1308, 934], [815, 1088, 139, 1319, 822, 716, 453, 661, 845, 439, 845, 311, 1484], [213, 1308, 815, 120, 1332, 757, 91, 1134, 1047, 996], [1226, 1104, 139, 1330, 313, 1228, 465, 1330, 313, 1228, 195, 447, 1163, 1422, 740, 815, 1088], [135, 1019, 1308, 934], [1415, 294, 119, 1225], [665, 202, 267, 1149, 815, 1456, 1308, 1088, 109], [1226, 824, 439, 881, 451, 1441, 630, 1235, 821, 1392, 881, 949, 628], [388, 322, 1149, 881, 1149, 881, 573, 194, 1196, 1037, 823], [1226], [665, 808, 815, 1308, 1088, 109], [1226, 616, 453, 515, 1088], [665, 202, 267, 578, 881, 815, 1456, 1308, 1088, 109], [1226, 1191, 881, 382, 606, 254, 71, 881, 915, 8, 177, 1347, 1326, 1165], [118, 700, 1226, 294, 119, 587, 16, 1201], [224, 1088, 628, 1308, 855, 1326, 1088], [372, 1308, 56], [135, 665, 202, 1336, 1166, 434, 1166, 606, 939, 914, 65, 187, 815], [372, 765, 523, 627], [224, 202, 85, 377, 434, 914, 515, 1088], [372, 443, 1212, 639, 905], [372, 884, 939, 149, 443, 368, 834, 1475, 282, 706, 344], [1017, 387, 1007, 553, 1078, 956, 98, 1120, 1463, 1344, 344, 553, 1145, 1471], [372, 1216, 489, 1055, 14, 168, 197, 1214, 806, 225, 664, 1277, 522, 225, 1059, 1277, 1420], [190, 815, 216, 1087, 1500, 1259, 790, 468], [1034, 884, 1406, 491, 1497, 1186, 443, 951, 1308, 381, 372], [224, 1088, 628, 75, 434, 1128, 1120, 16], [372, 881, 426, 71, 1186, 1277, 65, 1392, 980, 65, 1186, 881, 1088], [135, 971, 578, 568, 1321, 1317, 194, 1196, 852, 939, 914, 65, 954], [372, 666, 311, 378, 1088, 245, 1430, 468, 1088, 918, 1184, 178, 181, 1415], [372, 1125, 16, 884, 824, 783, 1321, 633, 150, 565, 1389], [372, 315, 1245, 565, 860, 424, 457, 951, 795, 473, 654, 778, 443, 1277, 1321, 194, 1196, 1188, 1196, 901], [815, 120, 1308, 16], [372, 1264, 1133, 1061, 54, 224, 1392, 470, 884, 1295, 915, 788, 1141, 435, 230, 1227, 368], [665, 202, 1133, 1061, 815, 885, 1064, 1325, 195, 194, 1196, 1047, 204], [372, 1141, 1358, 470, 1153, 1392, 385, 884, 75, 870], [135, 466, 815, 885, 914, 1456, 914, 75, 434, 1288, 1326, 1260], [372, 815, 1088], [372, 135, 191, 315, 1355, 443, 249, 695, 1169, 884, 1355, 86], [224, 1088, 815, 885, 914, 1128, 1120, 939, 914, 65, 1456, 75, 434, 16], [1480, 409, 1258, 1220, 314, 1385, 338, 1258, 736, 372], [665, 1319, 815, 120, 1308, 466], [372, 1430, 410, 881, 1064, 245], [480, 906, 473, 246, 1260, 627, 54, 194, 1196, 759], [1228, 803, 1219, 543, 5, 304, 518, 378, 633, 724, 1326, 1166, 865, 213], [1198, 547, 1088, 939, 1145, 5, 149, 247, 194, 1196, 1051], [1260, 627, 54, 194, 1196, 759], [1228, 628, 638, 1410, 1319, 293, 1109, 159, 413, 293, 1312, 813, 1033, 865, 1081], [870, 178, 151, 281, 195, 671, 194, 1196, 919, 1332, 627, 54, 194, 1196, 759], [1228, 1401, 139, 812, 515, 1261, 213], [1198, 1401, 1088, 567, 812, 1430, 515, 222, 1289, 1165, 713], [359, 322, 788, 715, 664], [221, 862, 118, 627], [135, 221, 709, 467, 1039, 142, 1006, 861, 1326, 316, 203, 1280, 927], [1104, 682, 1326, 203, 1280, 515, 473, 195, 142, 1006, 763, 1126], [993, 1353, 531, 56, 1063, 815, 939, 914, 65, 1088, 151], [197, 369, 725, 467, 1034, 486, 118, 81], [139, 1300, 821, 815, 1308, 1231, 915, 557, 606, 664, 194, 1196, 1084, 1432, 326], [1198, 1075, 515, 364, 424, 334, 207, 381, 881, 1039, 693, 16, 1336, 645, 422], [224, 1295, 1088, 775], [221, 410, 1165, 434, 335], [231, 1336, 1088, 939, 914, 65, 1368, 466, 775], [221, 627, 434], [1401, 996, 1288, 821, 1308, 1231, 557, 606, 775, 194, 1196, 1084, 1432, 326], [221, 633, 1196, 874, 1039, 1349, 1019, 1256, 499, 310, 899, 1326], [221, 1180, 572, 899, 833, 641, 123, 971, 1473, 1326, 446, 540, 330], [1104, 862, 118, 1308, 881, 1231, 334, 119, 1019, 1401, 139, 1088, 1435], [554, 780, 1319, 509, 410, 225, 1163, 671, 1226, 228, 1157, 1061, 1374, 129, 933], [1325, 1039, 523, 1157, 1061, 554, 933, 1136, 716, 1157, 933, 908], [135, 823, 204, 204, 815, 1308, 881, 1228, 1418, 110, 1019, 1288, 1134, 194, 1196, 496, 38], [554, 515, 523, 164], [719, 85, 761, 381, 858], [1280, 46, 908, 1385, 1230, 1304, 172, 645, 1230], [1104, 862, 118, 1308, 881, 1231, 334, 119, 1019, 1401, 139, 1088, 1435], [139, 249, 950, 207, 709, 1049, 158, 119, 120, 915, 68, 324], [135, 1056, 771, 836, 119, 1115, 515, 466, 671, 914, 1158], [554], [135, 1157, 8, 1043, 1330, 405, 1326, 624, 1167, 1356, 627, 1047, 728], [554, 1091, 1326, 114, 746, 836, 1230, 1356, 1157, 194, 1034], [1039, 335, 1063, 815, 671, 914, 17], [967, 139, 453, 325, 515, 628, 333, 1090, 577, 1071], [641, 252, 516, 1200, 194, 1196, 204, 655, 211, 1450, 1295, 1088], [1038, 779, 252, 56, 231, 919, 294, 119, 1049, 1450, 1285, 818], [1038, 558, 719, 919, 567, 1, 1340, 561, 381, 625, 1340, 1482], [252, 896, 1200, 194, 1196, 1177, 1396, 252, 1088], [1038, 696, 516, 89, 508, 919, 252], [1038, 1268, 426, 222, 252, 434, 222, 252], [89, 252, 357, 1434, 1326, 1043, 845], [1038, 696, 368, 516, 222, 252, 880, 700, 119, 577], [362, 195, 93, 1213, 1326, 1288, 460, 1064, 785], [1038, 1401, 993, 410, 1213, 1122, 777, 919, 1340, 1097, 508], [1038, 245, 1019, 243, 881, 245], [1038, 855, 1213, 120, 881, 1401, 581, 119, 1482, 1213], [1038, 696, 516, 248, 421, 1049, 1354, 487, 1025, 68, 842, 245], [1038, 462, 1213, 523, 919, 1038, 919, 726], [1038, 855, 919, 939, 299, 1492, 315, 1032, 919, 487, 207, 777], [8, 1200, 815, 1308, 914, 455, 1231, 557, 606, 915, 951, 1256, 915, 493, 1392, 822], [1038, 120, 225, 1070, 207, 46, 716, 434, 402], [1038, 804, 120, 434, 909, 1482, 119], [1134, 1260, 1228, 508, 1392, 682, 687, 362, 715, 864], [694, 508, 196, 1025, 69, 1025, 1134, 281, 57, 1227, 696, 516], [447, 1043, 140, 194, 1196, 1311, 1356, 1326, 25, 214, 537, 734], [1038, 732, 845, 453, 239, 1340, 171, 1340, 558], [526, 1401, 996, 176, 1288, 140, 821, 1308, 914, 187, 815, 734], [1038, 508, 645, 1366, 896, 110, 93, 1019, 252, 1366, 1146, 950, 427], [1198, 1370, 821, 1456, 914, 1308, 911, 1288, 734], [1038, 246, 315, 1492, 1340, 896, 1340, 732, 140, 1326, 716, 1280], [792, 709, 951, 740, 362, 951, 1227, 1234, 1086, 1227, 1385, 1086, 546, 1326, 381, 1358], [1038, 602, 783, 487, 17, 1088, 715, 1147, 633, 546], [1088, 1497, 951, 1141, 824, 783, 487, 546, 1200, 481, 1086, 1358], [1038, 1186, 576, 1086, 1239, 284, 951, 586, 951, 567, 1086, 576, 1086], [66, 1041, 908, 836, 1088, 176, 558, 1042], [1385, 639, 1041, 881, 1280, 413, 881, 554, 304, 492, 719, 881, 413], [1320, 366, 1220, 518, 281, 1041, 908, 976, 1000, 194, 1196, 694, 194, 1196, 823, 706, 410], [1198, 224, 1413, 538, 8, 1285, 324, 282, 194, 1196, 1106, 654, 939, 914, 65, 627], [1393, 905, 1264, 601, 908, 1267, 1319, 282, 195, 156, 194, 1196, 796], [1222, 289, 945, 1251, 1258], [181, 815, 1183, 1401, 139, 438, 540, 1068, 222, 1251, 682, 788, 691, 493, 950], [135, 1197, 1356, 438, 1251, 46, 507, 249, 1326, 170, 1106, 225], [181, 1186, 1018, 222, 642, 33, 730, 1286, 1356, 763, 222, 509], [1198, 1370, 1167, 1196], [355, 815, 499, 914, 59, 881, 627], [665, 202, 262, 577, 204], [355, 842, 640, 1165, 939, 836, 1046, 870, 387, 1492, 818, 3, 40], [1360, 225, 1165, 1130, 832], [1064, 1226, 355, 1207, 1046, 1109, 593, 1279, 434, 33, 187, 1153, 1498], [1456, 914, 434, 1104, 195, 151, 194, 1196, 579], [879, 52, 505, 89, 1057, 706, 371, 861, 1354], [1104, 139, 65, 1120, 1006, 815, 1456, 914, 1368, 187, 1063, 1134, 151], [1134, 1217, 842, 812, 914, 144, 993, 800, 1088, 473], [1500, 1088, 627], [1134, 1047, 1226, 641, 473], [16, 43, 468, 1226, 34, 135, 874, 815, 86, 1226, 833, 8, 515, 1088, 268], [1500, 1088, 1335, 383, 144, 1335, 880], [1292, 431, 752, 446, 1292, 431, 744, 576, 842, 671, 934], [1500, 1088, 701, 777], [665, 276, 1226, 815, 939, 65, 1295, 364, 911, 268], [1500, 1088, 1039, 1197, 295, 1492, 86, 1226, 641, 1134], [1205, 416, 434, 815, 86, 1226, 1256, 462, 1308, 687, 268], [1500, 1088, 1134, 1367, 803, 906, 1046, 381, 335], [665, 1200, 719, 1200, 1088, 93, 1226, 1256, 1415, 628, 996], [688, 1049, 61, 799, 939, 914, 1088, 257, 988, 799], [1104, 881, 1207, 1063, 1088, 1368, 558, 225, 515, 914, 627, 151], [56], [135, 75, 434, 914, 738, 1061, 515, 466, 256], [946, 1, 410, 197, 391, 223, 378, 194, 1196, 181, 631, 530], [1104, 842, 1107, 1128, 82, 1088, 263, 1087, 145, 1321, 1196], [946, 482, 1128, 82, 1356, 1119, 1424, 1164, 915, 949, 585, 1260, 976, 118], [1468, 1321, 1338, 1087, 465, 1197, 455, 790, 774, 1018, 468, 1196], [946, 1038, 518, 135, 680, 950, 1132, 971, 976, 118, 815], [820, 1369, 1439, 443, 289, 1280, 1295, 419], [946, 1401, 434, 318, 1496, 443, 1251, 335, 443, 1316, 607, 621, 194, 1196, 1329, 1478], [627, 415, 465, 961, 194, 1196, 5, 576, 761, 419], [1198, 139, 1308, 1449, 1228, 939, 914, 65, 1386, 914, 194, 1196, 25, 985, 1196, 1388], [946, 173, 644, 443, 613, 803, 1456, 803, 370, 1136, 761, 1167], [946, 1480, 1038, 406, 443, 831, 468, 352, 613], [135, 387, 406, 809, 67, 678, 142, 613, 682, 680, 950, 492, 1038, 627], [996, 1088, 821, 218, 1228, 821, 885, 915, 1308, 946, 155, 915, 187, 153], [946, 315, 826, 1126, 680, 695, 1441, 471, 1186, 719, 716, 1280, 1057, 320], [1401, 515, 444, 443, 982, 757, 196, 1250, 875, 194, 1196, 902, 948, 1060, 153], [946, 515, 444, 443, 982, 682, 231, 1155, 351, 303], [135, 224, 713, 225, 765, 996, 1088, 1184, 225, 1088, 194, 1196, 900, 461, 1196], [419, 530, 1300, 436, 249, 1300, 102, 14, 929, 570, 1371, 946, 1480, 1185, 1196, 14, 929], [1104, 627, 415, 914, 1308, 914, 155, 187, 1439, 1196], [946, 1105, 202, 33, 202, 971, 606, 1485, 134, 915, 268, 815, 1088], [135, 582, 1471, 1128, 1308, 1200, 1274], [1337, 230, 330, 821, 628, 1213, 1228, 1196, 151], [1006, 56, 313, 194, 1196, 1265, 365, 1456, 914, 195, 139, 660, 502, 948], [57, 219, 218, 946, 1430, 272, 671, 1478, 1466, 1184, 671, 582, 272, 405], [1064, 1125, 194, 1196, 1075, 1289, 815, 1308, 914, 1286, 311, 251, 194, 1196, 320, 6], [665, 202, 267, 821, 75, 434, 914, 1064, 1386, 251, 194, 1196, 320, 6], [460, 939, 914, 65, 1145, 267, 1088, 948], [57, 627, 1088, 456, 291, 218, 238, 1001, 620, 1268, 824, 119, 1158, 429, 683], [1104, 658, 1450, 1088, 194, 1196, 749, 624, 939, 914, 65, 906, 162], [57, 293, 1278, 761, 617, 1424, 238, 1424, 695, 238, 127, 1141], [996, 202, 173, 225, 645, 118, 558, 1134, 1235, 1167, 914, 1280], [1134, 1164, 848, 85, 1061, 144, 335, 294, 119], [335, 202, 627, 468, 834, 914, 255], [822, 335, 294, 119, 1164, 1134], [665, 202, 815, 821, 1456, 1308, 682, 1256, 1288, 1484], [514, 1225, 508, 119, 1057, 178, 507, 316, 842, 1469, 168], [1198, 1308, 914, 245, 881, 815, 1088], [1198, 890, 818, 682, 424, 713, 882, 312, 682], [665, 267, 815, 1308, 914, 881, 245, 1288], [254, 1088, 682, 930, 410, 1213, 315, 716, 1280, 215, 1128, 838], [135, 69, 665, 202, 815, 1308, 695, 218, 1288, 420], [267, 701, 842, 600, 893, 1167, 480], [135, 665, 202, 1141, 982, 1057, 420], [267, 65, 1350, 466, 1225, 1376], [1413, 18, 1308, 914, 187, 915, 695, 284, 194, 1196, 1344, 601], [699, 1134, 382, 1288, 1326, 405], [1451, 300, 836, 1044, 999, 692, 234, 1334, 146], [1288, 677, 853, 1308, 914, 187, 914, 1088, 194, 1196, 1344, 601], [93, 1415, 194, 1196, 1108, 223], [335, 1251, 900, 945, 1264, 225, 1300, 627, 536, 914], [699, 1288, 139, 1264, 225, 584, 118, 1376, 998, 1492, 139, 1221, 830, 294], [699, 1492, 1032, 1044, 1411, 999, 1310, 1090, 730, 914, 65, 854, 1283, 919, 709, 664, 8, 85, 1398, 1357, 815, 418, 1278], [1217, 665, 709, 1253, 1333, 915, 827, 1021, 1500, 1208, 726, 194, 1196, 644, 194, 1196, 173, 987], [1480, 1184, 918, 1184, 687, 1088, 740, 752, 446, 1292, 1221, 842, 914], [782, 1198, 543, 1184, 713, 1061, 628, 670, 631, 1409, 1043, 824], [654, 417, 276, 194, 1196, 980, 407, 135], [782, 1134], [239, 135], [782, 26, 818, 950, 194, 1196, 1307, 17], [627, 1288, 139, 753, 1302, 914, 706, 753, 26, 543, 194, 1196, 1171, 152], [782, 194, 1196, 1339], [135, 1492, 753, 325, 671, 324, 222, 1228, 753, 1280], [993, 1497, 413, 1228, 645, 1063, 336, 595], [765, 1200, 1302, 1435, 446, 38, 911, 325, 601, 651], [715, 320, 8, 216, 1280, 135], [782, 724, 824, 313, 1166, 575], [1381, 643, 1178, 915, 627, 85, 515, 1385, 1478, 627, 194, 1196, 1098, 204], [665, 85, 761, 575, 602, 1350, 1356, 33, 476, 217], [834, 1309, 1385, 914, 368, 1088, 815, 1308, 947], [486, 65, 397, 559, 849, 1230, 1357], [815, 939, 914, 65, 56, 1308, 914, 881, 1256, 56, 1450, 947], [1466, 1145, 199, 768, 1049, 318, 852, 1166, 1280, 1029, 286, 568, 1357], [834, 1309, 1385, 914, 368, 1088, 815, 1308, 947], [999, 1385, 5, 1336, 886, 1237, 247, 1126], [999, 93, 1226, 87, 33, 962, 587, 543, 808, 1143, 73, 330, 418, 66, 1297], [1295, 434, 630, 518, 427, 915, 886, 5, 1169, 455, 840], [1104, 706, 1401, 996, 906, 815, 1456, 1308, 471], [1482, 245, 1427, 1039, 1326, 1230, 523], [135, 1401, 56, 400, 695, 627, 842], [541, 387, 17, 1220, 207, 1432], [387, 202, 1308, 914, 1369], [784, 1141], [627], [1326, 559, 173, 956, 1102, 257, 154, 585, 1430, 1210], [665, 682, 1149, 19, 815, 1308, 914, 222, 1228, 695, 1019, 627], [1038, 966, 508, 8, 1354, 559, 763], [815, 1308, 914, 313, 222, 1256, 1128, 195, 1288, 857, 194, 1196, 1324], [1198, 868, 294, 453, 1252, 1134, 1384, 1033, 508, 453, 836, 480], [1492, 906, 1308, 225, 543, 194, 1196, 1324], [657, 759, 410, 1252, 627], [295, 46, 842, 1220, 1026, 1141, 540, 410, 197, 1362, 1366, 1252, 1033, 1126], [642, 1301, 640, 1466, 587, 992, 180, 56, 603, 1088, 821], [1198, 1293, 665, 696, 1252, 247, 1088, 230, 313, 1049, 682, 657], [706, 633, 246, 66, 682], [665, 538, 139, 176, 1288, 815, 671, 914, 194, 1196, 27, 1171], [706, 627, 566, 1139, 62, 1396, 194, 1196, 97, 705], [682, 825, 486, 487, 1191, 1088], [1468, 24, 877, 1260, 194, 1196, 521, 204, 1152, 694, 1213, 348], [706, 1013, 1042, 188, 294, 119, 1143, 312, 245, 1019, 24, 304, 1065, 1213], [1198, 1139, 1057, 312, 881, 16, 216, 1178, 915, 195, 348, 591, 657], [706, 749, 394, 245, 1019, 166, 1288, 881, 1100, 911], [1401, 576, 1326, 218, 914, 1165, 1184, 218, 195, 194, 1196, 27, 857], [706, 628, 245, 628, 434, 585, 1075, 1213, 1285, 1295, 1288, 881, 606, 761], [706, 971, 1165, 1256, 1437, 1000, 881, 1094, 640, 1165, 1430], [706, 1205, 294, 119, 188, 877, 1388, 1213, 144, 1326, 1213, 194, 1196, 1094, 1150], [665, 202, 1295, 324, 881, 815, 218, 195, 1268, 222, 914, 194, 1196, 447, 744, 1295, 1284], [706, 971, 675, 324, 881, 66, 877, 1057, 166, 24, 517, 207], [341, 139, 176, 480, 1288, 815, 671, 914, 1128, 1165, 1184, 194, 1196, 499, 1034, 1013, 350], [1213, 364, 24, 915, 709, 66, 1366, 1333], [665, 1171, 319, 334, 996, 1288, 194, 1196, 27, 261], [706, 1184, 713, 1333, 238, 334], [627, 415, 914, 633, 1228, 343, 1466, 1333, 194, 1196, 864, 36], [706, 1120, 8, 1340, 1268, 881, 206, 305, 1228, 719, 1473, 1200, 1366, 1088, 46], [706, 1330, 43, 778, 364, 1466, 881, 1200, 186, 1297, 682, 864], [665, 18, 120, 1234, 496, 194, 1196, 1440, 643, 1013, 1173], [227, 682, 1437, 759, 689, 964, 1268, 682, 1165, 1228, 429, 35], [665, 914, 245, 230, 682, 1254, 1029, 1300, 194, 1196, 857, 689, 546], [706, 1252, 410, 118, 1134], [1134, 325, 914, 591, 626, 612], [1038, 283, 212, 19, 364, 531, 304, 139, 333, 21], [665, 1447, 825, 299, 642, 682, 505, 1138, 251], [706, 833, 410, 1244, 188, 1326, 334, 1418, 509, 1248, 568, 505, 24, 368], [139, 1200, 1088, 1392, 882, 682, 492, 682, 1048], [706, 338, 1258, 789, 487, 24, 642, 682, 337, 1038, 1119, 1134, 24], [821, 195, 914, 740, 951, 763, 1273, 914, 176, 1259, 1288, 246, 415], [706, 183, 785, 718, 894, 397, 338, 1258, 249, 194, 1196, 985, 1483, 884, 1336, 1228, 1226, 627, 1088], [627, 195, 762, 964, 231, 505, 568, 187, 194, 1196, 996], [706, 763, 518, 642, 682, 568, 724], [706, 257, 1226, 951, 90, 642, 682, 183, 785, 718], [706, 645, 518, 1336, 505, 456, 93], [706, 1326, 1071, 1326, 504, 106], [706, 36, 682, 411, 576, 284, 1134], [1366, 1480, 281, 1225, 294, 119, 915, 24, 523], [938, 24, 821, 1336, 718, 759, 1326, 505, 789, 119, 1366, 1326, 505], [1033, 665, 202, 951, 576, 364, 174, 1356, 763, 252, 194, 1196, 41, 1124, 1284], [706, 708, 364, 1268, 701, 586, 1414, 951, 139], [139, 1288, 645, 842, 944, 815, 1388, 1184, 914, 194, 1196, 499, 1034, 1013, 261], [706, 1132, 466, 696, 89, 965, 1427], [1340, 965, 951, 950, 1039, 842, 66, 364, 24, 877, 706], [1033, 1457, 971, 268, 1432, 582, 1295, 976, 118, 815, 939, 914, 65, 268], [706, 709], [665, 8, 267, 1166, 1439, 468, 218, 582, 1157], [815, 847, 842, 915, 716, 320, 582, 808, 1061], [1033, 139, 1088, 364, 299, 914, 560, 1130, 627, 657], [706, 675, 499, 131, 312, 364, 881, 1319, 101, 1375, 1139], [453, 1450, 515, 499, 1130, 1068, 881, 1200, 194, 1196, 266, 657], [1130, 405, 228, 718, 1272], [1119, 489, 1230, 336, 303, 652, 313, 1256, 1451], [706, 1349, 638, 842, 1252, 194, 1196, 694, 415], [665, 139, 788, 1141, 294, 815, 52, 187, 194, 1196, 110], [665, 696, 1153, 951, 1257, 86, 1109, 246, 194, 1196, 488, 1036], [706, 1482, 381, 176, 710, 140, 215], [857, 830, 676, 55, 1434, 696, 1358, 706, 322, 194, 1196, 728, 925, 173], [699, 676, 55, 226, 606, 1235, 432, 1312, 194, 1196, 645], [139, 1288, 815, 1308, 914, 230, 981, 492, 618, 283, 194, 1196, 667, 1444], [639, 815, 320], [939, 325, 1308, 914, 344], [18, 54, 8, 700, 194, 1196, 30], [24, 1222, 1063, 815, 1065, 618, 499, 939, 914, 65, 954, 194, 1196, 687], [207, 986, 35, 18, 1125, 194, 1196, 766, 211], [1088, 948, 981, 492, 1489, 1149, 1228, 506, 546, 1227, 1430, 1227], [981, 691, 1450, 320], [654, 1088, 194, 1196, 1251, 1326], [18, 627, 1042, 8, 139, 1359, 572, 939, 1318, 572], [468, 864, 724, 695, 225, 1088, 194, 1196, 36, 554], [18, 468, 627], [18, 1104, 515, 1088, 721, 1490, 1385, 121, 311], [627, 503, 939, 543, 1308, 365, 194, 1196, 667, 1444], [18, 842, 971, 1340, 606, 121, 311, 8, 1029, 1165], [996, 1088, 673, 206, 564, 1489], [18, 673, 206, 405, 320], [283, 981, 676, 1064, 971, 379], [18, 618, 1480, 981, 1257, 499, 473, 687, 18, 1149, 582, 802, 842, 1450, 706], [788, 1141, 981, 1029, 546, 1227, 1430, 1227, 1227, 492, 815, 1308, 914, 897, 194, 1196, 667, 1444], [18, 1450, 564, 410, 1482], [788, 1141, 1326, 1322, 1308, 914, 1200, 194, 1196, 667, 1444], [18, 628, 1478, 65, 1033, 950, 1094, 1260, 370, 761], [18, 1326, 274, 866, 504, 149, 1276, 842, 1149, 809, 627, 1260], [719, 1295, 788, 1226, 618, 533, 381, 1165, 582], [1165, 582, 639, 1134, 1219, 618, 1150], [939, 914, 1288, 1489, 1308, 492, 281], [18, 1385, 168, 734, 1212, 1102, 1238, 1376, 1385, 8, 218], [719, 1088, 1456, 914, 1308, 730, 914, 65, 54, 981, 194, 1196, 667, 1444], [531, 1057, 38, 1042, 618, 29, 54, 185, 490, 271, 1226, 864, 1266, 1061, 418, 569, 121], [1086, 713, 1128, 1120, 224, 222, 914, 1088, 796, 628, 194, 1196, 423, 177], [18, 356, 38, 926, 1102, 532, 672, 993, 1112, 1230, 858, 765, 1163, 1034, 54], [224, 202, 671, 515, 1088, 118, 950], [18, 564], [815, 207, 914, 591, 1035], [18, 1049, 499, 1260, 709, 1394], [1061, 676, 719, 1326, 1280, 960, 283, 981, 676], [1061, 306, 1321, 499, 18], [1088, 1456, 914, 234, 1128, 194, 1196, 207, 225, 476], [230, 713, 1139], [1088, 1456, 914, 1308, 245, 1019, 885], [1415, 917, 842, 468, 218, 582, 93, 604, 194, 1196, 445, 644, 473], [1125, 1128, 1308], [582, 763, 8, 639], [1088, 1456, 914, 234, 1128, 194, 1196, 527, 710, 225, 906], [230, 713, 627, 993, 1141, 1369], [135, 289, 715, 584, 1095, 709, 355, 284, 412, 1387, 719, 1200, 290], [1088, 1456, 914, 234, 1128, 194, 1196, 463, 940, 225, 476], [230, 713, 1132, 1308, 886, 739, 120, 914, 1467], [1197, 1010, 245, 218, 641, 993, 1047], [230, 713, 194, 1196, 1487, 757], [634, 1430, 230, 713, 1326, 1280, 1308], [665, 202, 1385, 1456, 914, 234, 1128, 194, 1196, 985, 318, 906], [230, 713, 304, 1295, 372, 1336, 1213], [815, 1308, 914, 881, 245, 1019, 1165, 1256, 1288, 194, 1196, 183, 1177, 1021], [230, 713, 1200, 1288, 17, 582, 628, 434], [665, 202, 1385, 815, 1456, 914, 234, 194, 1196, 985, 318, 476, 1063, 21], [1482, 125, 304, 1434, 641, 316, 936, 1348, 1287, 180, 230, 97, 985, 902, 194, 1196, 309], [135, 1019, 1308, 1413, 317], [736, 158, 988, 227, 176, 294, 158, 227, 97, 1179, 119], [135, 1370, 1401, 1295, 939, 65, 1038, 1222, 1410, 1085, 842, 627, 1027], [736, 194, 1196, 1281, 574], [736], [1422, 736, 1075, 1222, 1410, 1222, 1264, 148, 1373, 367], [509, 821, 815, 1456, 349, 927, 761, 824, 1167], [736, 290, 558, 68, 65, 1207, 946, 1020], [135, 749, 627, 730, 914, 65, 749, 191, 1280, 1478, 627, 1370], [736, 513, 139, 65, 1207, 1228, 947, 376, 728, 1207, 1177, 312, 1177, 194, 1196, 1373, 783], [135, 749, 486, 665, 542, 842, 34, 1337, 139, 1326, 217, 749], [114, 1422, 176, 310, 294, 158, 732, 1399, 434], [736, 453, 294], [665, 202, 195, 507, 1401, 1086, 470, 158, 734, 1399, 434], [736, 553, 294, 847, 249, 1, 116, 1309, 1413, 85, 139, 1088, 483, 1070], [1295, 1456, 914, 1231, 1019, 915, 245, 1308, 815, 915, 1326, 1280, 641, 1158], [736, 311, 299, 1484, 928, 1341, 652, 1258], [135, 736, 1253, 434, 508, 304, 946, 1366, 830, 495, 513, 1246, 1165], [135, 195, 1134, 1336, 1280, 914, 1242, 1361, 470, 381, 255, 1061], [1134, 815, 671, 1279, 410, 466, 35], [367, 1279, 525, 64, 636, 199, 1403, 1002, 526], [1033, 627, 1274, 35], [1388, 1450, 1279, 410, 367, 910, 972], [335, 815, 939, 914, 65, 906, 1437], [367, 1480, 214], [1029, 525, 168, 578, 1437], [367, 135, 276, 525, 214, 1152, 525, 1497, 627], [1033, 765, 627, 1220, 914, 1437], [815, 885, 195, 170, 1134, 194, 1196, 1500, 1401, 35], [367, 628, 434, 1308, 399, 627, 854, 1088, 52], [1198, 1352, 1295, 906, 170, 780], [367, 827, 982, 1228, 454, 1326, 1325, 1279, 1065, 691, 908, 899], [665, 1260, 915], [367, 1279, 18, 674, 1466, 1326, 434, 950, 869, 1295, 906], [872, 335, 1, 1246], [367, 247, 1185, 419, 324, 1134, 336, 758, 1464, 691, 1434, 1325, 893], [1033, 950, 77, 176, 1288, 1437], [367, 1288, 139, 575, 525, 20], [135, 626, 834, 2, 1061, 487, 1308, 402, 1450, 906, 575], [367, 1279, 1132, 361, 410, 1321, 645, 648, 1235, 648, 456, 230], [993, 1057, 626, 1134, 206, 1063, 1313], [367, 1326, 1300, 1433, 1128, 833, 410], [815, 218, 195, 52, 991, 1313, 194, 1196, 524], [367, 65, 640, 1462, 139, 604, 1452, 717, 775, 1321, 1497], [1032, 906, 815, 885, 1308, 991, 1256, 664, 194, 1196, 524], [367, 593, 606, 1069, 250, 902, 1279, 194, 1196, 1309, 633, 991, 631, 974, 1328], [1088, 815, 1308, 75, 434, 914, 245, 1019, 885, 627], [230, 713, 487, 120, 1308], [230, 713, 1034, 1249, 1356, 8, 1139, 230, 713], [410, 821, 468, 1364, 950, 160, 1042, 1449, 1328, 265, 866, 817], [409, 971, 178, 1340, 564], [409, 792, 582, 8, 405, 410, 1200, 172, 1042, 1481, 1426, 202], [341, 939, 1200, 821, 1318, 948, 21, 492, 792, 582, 817], [409, 245, 1196], [627, 1426, 559, 1274, 582, 1088, 194, 1196, 1402, 939, 914, 65, 1441, 817], [409, 281, 1023, 1219, 1308, 706, 387, 569, 185, 21, 499, 618, 185, 490, 21, 499], [1198, 387, 284, 821, 299, 914, 1489, 1308, 281, 1200, 680, 817], [1489, 172, 1042, 1441, 423, 276], [135, 412, 821, 939, 914, 65, 1216, 276, 855, 176, 1288, 278], [409, 16, 1047, 1277, 1427, 115, 519, 754, 950, 992, 1138, 1028, 223, 1216], [21, 568, 194, 1196, 1083, 368, 1070, 342, 811, 21, 278], [627, 1288, 139, 276, 1197, 497, 524, 1329, 1295, 1347, 1228], [1210, 352, 1138, 516, 1046, 1070, 1351, 666], [1292, 1413, 515, 451, 141, 1352, 1119, 192, 1046], [674, 206, 66, 612, 1500, 1080, 191, 879, 93, 377, 1113, 18, 1079, 923, 1323], [344, 567, 1088, 56, 1471, 1167, 1046], [633, 1240, 1319, 218, 957, 120, 674, 191, 674, 206, 915, 939, 709, 1437, 491, 194, 1196, 493, 1058, 635], [135, 1216, 885, 1308, 914, 1228, 338, 592, 222, 187, 964], [674, 206, 1466, 59, 864, 1326, 1128, 1165, 245], [791, 1295, 222, 914, 174, 1050], [674, 206, 815, 222, 245, 93, 187, 815], [35, 202, 1216, 1492, 1401, 139, 466, 210], [674, 206, 1226, 715, 1482, 294, 96, 1434, 207, 5, 847, 640, 1435, 1413, 592, 996], [1104, 665, 1200, 936, 761, 996, 1088, 815, 1308, 455, 1019], [322, 607, 983, 627, 1297], [1104, 996, 1088, 815, 1308, 906, 1134, 1494], [138, 823, 183, 1471, 791, 786, 327, 1166, 434, 1049, 961, 1088], [1413, 815, 1456, 914, 75, 434, 1288, 1494], [403, 791, 995, 786, 945, 371, 8, 1301], [1104, 939, 1288, 815, 1308, 881, 911, 1136, 1134, 1494], [139, 814, 673, 830], [247, 628, 33, 1354, 312, 1259, 403, 559, 295, 403, 12, 842, 496], [1104, 627, 415, 312, 119, 1063, 996, 1088, 815, 1308, 455, 1019], [138, 434, 881, 1279, 335, 258, 357, 333, 500], [163, 85, 761, 815, 1308, 911, 418, 1088, 466], [138, 1205, 842, 348, 1210, 333, 918, 8, 94, 93, 1145, 999, 66, 881], [1104, 1401, 139, 176, 1288, 1133, 1061, 815, 1456, 1308, 737, 194, 1196, 1474, 309, 571], [985, 917, 284, 173, 468, 633, 761, 1169, 1132, 1482], [333, 390, 925, 194, 1205, 1427, 842, 882, 683, 5, 8, 1456, 1210], [1165, 1256, 243, 881, 1288, 1061, 627, 175], [138, 97, 824], [138, 381, 636, 1230], [135, 996, 120, 1254, 1230, 119, 815, 1456, 1308, 455, 1231, 1019], [833, 719, 1385, 368, 1264, 702, 665, 1346, 1263, 419, 780], [1384, 1, 788, 863, 1, 1288, 1219, 249, 377, 865, 1, 1316, 814, 504], [627, 480, 731, 1480, 982, 1031, 1141, 1243, 1210], [6, 1243, 1384, 1426, 799, 1141, 1243, 1499, 665, 1286, 194, 1196, 1102], [665, 405, 414, 815, 222, 178, 1301, 713, 1116], [1384, 1132, 1064, 1340, 173, 403, 8, 788, 1292, 640], [996, 298, 1088, 919, 262], [1384, 1165, 5, 446, 886, 855, 1102], [1384, 8, 5, 16, 919, 1466, 97, 577], [665, 914, 245, 1325, 687, 254, 1347, 1356], [1384, 526, 188, 631, 1128, 1368, 871, 97, 245, 1171], [109, 1497, 645, 842, 665, 1295, 1027, 100, 109], [1384, 584, 1385, 363, 790, 245], [1384, 509, 593, 1405, 100, 109, 8, 687, 403], [224, 1292, 225, 1295, 1088], [1384, 1319, 987, 640], [1466, 55, 1279, 1384, 1166, 1136, 330, 267, 281, 1070, 453], [665, 1447, 624, 1285, 751, 871, 363, 640, 562, 168, 1170], [1384, 526, 68, 1088], [168, 254, 996, 176, 1288, 901, 906, 140, 624, 1285, 751, 871], [1384, 914, 411, 168], [225, 515, 1033, 624, 871, 815, 1200, 254, 466], [1384, 1295], [447, 719, 176, 558, 901, 1295, 1424, 140, 240, 225], [1288, 1384, 901, 194, 1196, 234, 106], [996, 996, 1141, 1288, 1346], [876, 1375, 1384, 1191, 1248, 1375, 419, 1113, 1187, 1421, 194, 1196, 1359, 29], [957, 996, 559, 1138], [855, 378, 312, 194, 1196, 561, 91], [1295, 1295, 1088, 687, 1308, 1484, 1063, 547], [194, 1196, 1194, 831], [38, 1049, 1243, 212, 62, 355, 811, 1191], [966, 1122, 1143, 140, 1462, 1326, 188, 730, 1297, 212, 1057, 750, 194, 1196, 1013, 1191], [996, 559, 1243, 212, 62, 509, 165, 1268, 1384, 1387, 35, 1490, 942, 986, 1212, 194, 1196, 565, 177], [719, 1042, 1136, 59, 815, 1308, 368, 1088, 1014], [509, 377, 976, 1136, 1484], [410, 1308, 1260, 641, 239, 1280, 377], [333, 816, 68, 267, 700, 1280], [815, 543, 1280, 1308, 1216, 377], [333, 640, 537, 1039, 8, 405, 700, 1280], [333, 560, 519], [333, 1057, 1000, 294, 33, 139, 106, 1386, 873], [333, 434, 723, 681], [333, 381, 695, 847, 340, 640, 1466, 1136, 1280, 536, 144, 723, 709, 1280, 900, 640, 781], [333, 512, 1377, 129, 908], [333, 862, 139, 129, 1253, 1006, 65, 1186, 1186, 294, 207, 739, 862, 139, 681, 950, 723, 1319, 129, 1415, 510, 444, 803], [333, 627], [1134, 68, 1308, 382, 1353, 641, 194, 1196, 1284, 1442, 655, 350], [333, 1456, 1308, 434, 1254, 628, 85], [89, 719, 1280, 633, 905, 144, 1200, 1308, 382, 194, 1196, 299, 648], [333, 65, 1466, 1184, 225, 465, 1011, 1186, 723, 85, 139, 719, 1280], [628, 1308, 911, 939, 1326, 523, 194, 1196, 299, 648], [333, 1326, 465, 1186], [333, 816, 468, 1136, 1280, 1000, 719, 709, 695, 648, 225, 1088, 294, 119, 719, 709, 695, 648, 435, 230, 119, 1171, 139, 914, 434, 719, 1280], [247, 1200, 1280, 39, 1308, 914, 1184, 1143, 246, 194, 1196, 481, 535, 1454], [16, 575, 876, 1238, 575, 1459, 403, 43, 119, 1264, 207, 739, 1085, 1000, 1136, 1280, 1452, 1385, 815, 364, 225, 294, 119, 188, 709, 1452, 1385], [822, 1405, 950, 619, 194, 1196, 919], [1198, 476, 687, 1308, 194, 1196, 1310, 120, 381, 347, 853], [333, 257, 700, 1039, 729], [939, 325, 563, 815, 1308, 633, 560, 1014], [332], [247, 165, 1317, 1121, 22], [248, 139], [509, 165, 325, 957, 194, 1196, 1000], [996, 225, 821, 1088, 1371], [1134, 689, 927, 788, 482, 914, 914, 1039, 644, 1205], [1376, 788, 1336, 1278, 1356, 993, 81, 1401, 245, 1200, 985, 1347, 618], [937, 335, 799, 936, 120, 901, 377, 31, 654, 910, 110, 559, 426, 335, 334, 434], [120, 687, 194, 1196, 493, 211, 565, 1235, 1177], [937, 506, 1171, 639, 120, 1342, 687], [1198, 1401, 1340, 1336, 1342, 870, 1352, 1216, 1336, 1342, 878, 245, 1177], [937, 1340, 724, 1171, 1216, 991, 1256, 220, 1288, 627], [1222, 836, 1027, 335, 587, 1347, 1177], [937, 1033, 531, 716, 1371, 1013, 1185, 593], [1185, 593, 589, 836, 1033, 239, 58, 120, 882, 709, 194, 1196, 463, 792, 1364, 1177], [937, 833, 261, 495], [1340, 377, 901, 917, 399, 55, 1433, 218, 399, 194, 1196, 448], [1344, 362, 876, 627, 206, 335, 1038, 836, 872, 289, 914, 144, 618], [937, 1016, 129, 777, 1039, 915, 16, 1336, 1265, 224, 139, 62, 1134, 872], [559, 876, 587, 673, 247, 283, 1159, 224, 202, 1265, 914, 144, 618], [842, 1185, 937, 194, 1196, 1098, 908], [648, 1325, 1400, 245, 239, 58, 173, 836, 6, 1279, 520], [937, 827, 635, 1445, 1280, 191, 168, 1470, 1039, 799, 351, 274], [788, 163, 344, 956, 648, 1279, 410, 1246, 31, 654, 520], [577, 337, 937, 144, 245, 191, 487, 1401, 946, 377, 31, 1279], [1033, 1166, 999, 582, 1357, 395, 1489, 218, 815, 468, 194, 1196, 998, 706], [1198, 582, 874, 1166, 1340, 1, 513, 939, 65, 507, 776, 1385, 798], [815, 468, 268, 1264, 618, 582, 1385, 222, 914, 1128, 1165, 1184, 194, 1196, 409, 509], [1082, 713, 1480, 1082, 713, 434, 1166, 265, 900, 618], [8, 267, 1489, 281, 1166, 1439, 719, 1088, 726, 468, 194, 1196, 998, 706], [1082, 713, 1336, 1166, 468, 1441, 1091, 1088, 815], [1197, 1086, 318, 1038, 1330, 199, 557, 1069, 1369, 79, 1330], [1082, 713, 374, 318, 1480, 918, 1082, 918], [996, 906, 815, 1456, 914, 1308, 245, 1019, 1368, 187, 885], [230, 713, 1260, 815, 120], [135, 359, 815, 1456, 914, 1308, 881, 245, 1019, 1165, 1256, 1134, 881, 627, 1047], [1039, 688, 713, 1406, 1154, 230, 713, 230, 1191, 304, 426, 176, 1377, 1244, 230, 533, 3, 641, 499, 868, 1256], [1480, 1308, 815], [375, 1480, 719, 1308, 1140, 945], [1104, 682, 1256, 120], [696, 102, 312, 1154, 17, 424, 1039], [642, 1038, 516], [1033, 1405, 1319, 1134, 1105], [1405, 538, 1010, 1134, 8, 194, 1196, 1326], [118, 8, 1172, 1456, 1308, 1200, 1369], [294, 119, 606, 33, 585, 1376, 1088, 1340, 33, 456, 971, 818], [1198, 939, 1288, 1308, 914, 1500], [375, 1205, 294, 558, 1457, 585, 1364, 334, 1401, 290, 8, 572], [323, 1484, 185, 1210, 1134, 234, 1327, 543, 191, 1038, 185, 1210, 427, 543, 334, 1369, 1076], [1198, 974, 139, 639, 1061, 687, 914, 1308, 914, 677, 1184, 1054, 694], [375, 1299, 1234, 558, 996, 294, 719, 716, 1038, 1013], [351, 788, 85, 761, 967, 1061, 996, 906, 803], [290, 1394], [834, 1369, 996, 1088, 906, 342, 1458, 1308, 1157], [950, 664, 587, 1205, 887, 1165, 816], [1104, 627, 1047, 815, 120, 1308, 75, 434, 1260], [230, 713, 864, 351, 1466, 881, 923, 382, 119, 815, 1088], [665, 202, 1121, 833, 761, 139, 12, 392, 294, 815, 38, 194, 1196, 540], [344, 313, 705, 1049, 249, 267, 673, 8, 215], [344, 313, 1260, 394, 1189, 738, 294, 815, 1222, 141, 1427, 685, 379], [1413, 1447, 1309, 119, 414, 1121, 368, 1450, 1295, 1088, 418], [833, 1427, 1259, 434, 213, 1328, 33, 1165, 1427, 173], [665, 202, 1385, 815, 1308, 914, 1165, 1256, 1288, 194, 1196, 1012], [914, 245, 886, 987, 915, 304, 709, 818, 1019, 66, 915, 1484, 1325, 170, 709, 1051, 1081, 382, 914, 1326], [1198, 139, 1288, 815, 1308, 914, 1165, 1256, 881, 906], [1157, 163, 304, 790, 21, 741, 330, 453, 131], [446, 65, 1105], [8, 1280, 446, 434], [627, 731, 1105], [1032, 1042, 1295, 3, 8, 559, 915, 982, 836, 1319, 479, 225, 194, 1196, 519], [560, 284, 242, 139, 885, 1105], [8, 65, 434, 675, 11, 150, 238], [239, 564, 1406, 682, 1105], [8, 47, 1114, 689, 639, 1161, 5], [1207, 526, 437, 1105], [788, 15, 8, 945], [335, 855, 509, 993, 700, 1105], [504, 1049, 559, 139, 1114, 944, 8, 194, 1196, 1033, 725], [773, 1197, 1076, 1105], [487, 1400, 1336, 476, 912, 8], [915, 526, 437, 1076, 1105], [8, 1295, 410, 1158, 1114, 689, 1435, 1061, 814, 119, 403], [671, 476, 1145, 216, 312, 1413, 1447, 1105], [1039, 682, 144, 486, 8], [1088, 1456, 914, 1308, 245, 1019, 187, 885], [230, 713, 628, 1308, 836, 821, 1088, 1347], [230, 713, 1231, 1025, 950, 607, 682, 833, 1075, 231, 118, 1042, 166, 1033, 842, 682, 1145, 118, 1033, 449, 706], [230, 713, 1119, 713, 229, 542, 628, 415, 1492, 713, 965, 78, 821, 1088], [1470, 815, 1140, 914, 751, 194, 1196, 113, 543, 23, 1105], [8, 215, 194, 1196, 1183, 1196, 1401], [1063, 455, 231, 1319, 194, 1196, 472, 1389, 1105], [83, 8, 1246, 1333, 946, 186, 740, 1346, 449], [1200, 584, 116, 335, 627, 731, 1105], [81, 576, 1114, 999, 627, 8, 1114, 576], [643, 1039, 481, 928, 476, 196, 1413, 1447, 1105], [8, 1171, 194, 1196, 77], [8, 1308, 194, 1196, 778], [526, 437, 1076, 1105], [448, 1350, 1134, 8, 194, 1196, 907, 1066, 179], [247, 1063, 1280, 1105], [247, 8], [539, 1288, 139, 1105], [8, 539, 194, 1196, 453], [1189, 1076, 176, 1189, 749, 1105], [1075, 1049, 777, 218, 8, 214, 853, 1484, 194, 1196, 1340], [915, 1105], [8, 410, 476, 194, 1196, 964, 913], [993, 731, 1105], [996, 559, 1295, 1396, 647, 144, 752, 8, 194, 1196, 467, 958], [416, 709, 682, 1105], [8, 902, 543, 722, 5], [1207, 956, 1260, 1105], [576, 283, 144, 1114, 8, 194, 1196, 631, 642, 1500], [1068, 516, 1105], [8, 89, 212, 476], [1033, 1047, 247, 956, 1260, 1105], [8, 1033, 1126, 1105], [8, 194, 1196, 104, 1491], [643, 1039, 481, 928, 476, 196, 1413, 1447, 1105], [8, 582, 967], [627, 731, 1105], [960, 1100, 8, 1121, 927, 194, 1196, 866, 803, 1242], [139, 966, 1076, 1105], [778, 403, 1036, 381, 1038, 8, 633, 1100], [1288, 1326, 1439, 1105], [476, 842, 8]]\n"
          ]
        }
      ],
      "source": [
        "voc_size = len(corpus) + 1\n",
        "onehot_repr = [one_hot(words,voc_size) for words in corpus] #one hot representation\n",
        "print(onehot_repr)"
      ]
    },
    {
      "cell_type": "code",
      "execution_count": 32,
      "metadata": {
        "colab": {
          "base_uri": "https://localhost:8080/"
        },
        "id": "CO1typLatIUb",
        "outputId": "7d61ed19-c57f-4138-cc7f-9b8ac5660fa4"
      },
      "outputs": [
        {
          "output_type": "execute_result",
          "data": {
            "text/plain": [
              "1501"
            ]
          },
          "metadata": {},
          "execution_count": 32
        }
      ],
      "source": [
        "voc_size"
      ]
    },
    {
      "cell_type": "code",
      "execution_count": 33,
      "metadata": {
        "colab": {
          "base_uri": "https://localhost:8080/"
        },
        "id": "y6gvtuzItUsB",
        "outputId": "f9ea89e0-79e3-490e-88b6-a165a26a5fe6"
      },
      "outputs": [
        {
          "output_type": "stream",
          "name": "stdout",
          "text": [
            "[[   0    0    0 ...  232  195  906]\n",
            " [   0    0    0 ...    0  375  228]\n",
            " [   0    0    0 ...  950  382 1406]\n",
            " ...\n",
            " [   0    0    0 ...    8  633 1100]\n",
            " [   0    0    0 ... 1326 1439 1105]\n",
            " [   0    0    0 ...  476  842    8]]\n"
          ]
        }
      ],
      "source": [
        "sent_length = max([len(seq) for seq in onehot_repr])\n",
        "# sent_length = 31\n",
        "embedded_docs = pad_sequences(onehot_repr, padding='pre',maxlen=sent_length) #padding the sequence\n",
        "print(embedded_docs)"
      ]
    },
    {
      "cell_type": "code",
      "execution_count": 34,
      "metadata": {
        "colab": {
          "base_uri": "https://localhost:8080/"
        },
        "id": "i3EvZn-wtubi",
        "outputId": "ea160a2e-79a4-4061-df78-887867a5292b"
      },
      "outputs": [
        {
          "output_type": "execute_result",
          "data": {
            "text/plain": [
              "31"
            ]
          },
          "metadata": {},
          "execution_count": 34
        }
      ],
      "source": [
        "sent_length"
      ]
    },
    {
      "cell_type": "code",
      "execution_count": 35,
      "metadata": {
        "colab": {
          "base_uri": "https://localhost:8080/"
        },
        "id": "FszpVwBttWDP",
        "outputId": "67f44f3d-5897-43a4-ce7d-917775efdad3"
      },
      "outputs": [
        {
          "output_type": "execute_result",
          "data": {
            "text/plain": [
              "(1500, 31)"
            ]
          },
          "metadata": {},
          "execution_count": 35
        }
      ],
      "source": [
        "embedded_docs.shape\n",
        "#number of words = 31\n",
        "# number of sentences = 1500"
      ]
    },
    {
      "cell_type": "code",
      "execution_count": 36,
      "metadata": {
        "id": "9r6ptVhFtbvl"
      },
      "outputs": [],
      "source": [
        "# add the dimensions count / number of features for embedding\n",
        "dim = 100"
      ]
    },
    {
      "cell_type": "code",
      "execution_count": 37,
      "metadata": {
        "id": "dZcDRWOHuALo"
      },
      "outputs": [],
      "source": [
        "#split the dataset for trining and testing\n",
        "X_train, X_test, y_train, y_test = train_test_split(embedded_docs, df['Status'].values, test_size=1/3)\n",
        "#training set size = 1000\n",
        "#testing set size = 500"
      ]
    },
    {
      "cell_type": "code",
      "execution_count": 38,
      "metadata": {
        "colab": {
          "base_uri": "https://localhost:8080/"
        },
        "id": "jZwfIIE7uWu5",
        "outputId": "24f433ea-2923-4b97-dad7-6123790c32dd"
      },
      "outputs": [
        {
          "output_type": "execute_result",
          "data": {
            "text/plain": [
              "((1000, 31), (1000,))"
            ]
          },
          "metadata": {},
          "execution_count": 38
        }
      ],
      "source": [
        "X_train.shape, y_train.shape"
      ]
    },
    {
      "cell_type": "code",
      "execution_count": 39,
      "metadata": {
        "colab": {
          "base_uri": "https://localhost:8080/"
        },
        "id": "TuVIaDZuukP4",
        "outputId": "5ce66bb4-6b34-437e-92fc-4a88548048d3"
      },
      "outputs": [
        {
          "output_type": "execute_result",
          "data": {
            "text/plain": [
              "((500, 31), (500,))"
            ]
          },
          "metadata": {},
          "execution_count": 39
        }
      ],
      "source": [
        "X_test.shape, y_test.shape"
      ]
    },
    {
      "cell_type": "markdown",
      "metadata": {
        "id": "P9PW1-FYurPx"
      },
      "source": [
        "### **Handle class imbalance using SMOTE**\n",
        "\n",
        "* Handle the training set\n",
        "\n"
      ]
    },
    {
      "cell_type": "code",
      "execution_count": 40,
      "metadata": {
        "colab": {
          "base_uri": "https://localhost:8080/"
        },
        "id": "iCAep7B-unb8",
        "outputId": "b5aad651-2647-44e2-9ee6-5585373c680d"
      },
      "outputs": [
        {
          "output_type": "execute_result",
          "data": {
            "text/plain": [
              "Counter({0: 668, 1: 332})"
            ]
          },
          "metadata": {},
          "execution_count": 40
        }
      ],
      "source": [
        "Counter(y_train) #y_train class counts"
      ]
    },
    {
      "cell_type": "code",
      "execution_count": 41,
      "metadata": {
        "colab": {
          "base_uri": "https://localhost:8080/",
          "height": 341
        },
        "id": "R1v2O999u6ko",
        "outputId": "0c7377c3-1194-40da-846a-642031557572"
      },
      "outputs": [
        {
          "output_type": "stream",
          "name": "stderr",
          "text": [
            "/usr/local/lib/python3.8/dist-packages/seaborn/_decorators.py:36: FutureWarning: Pass the following variable as a keyword arg: x. From version 0.12, the only valid positional argument will be `data`, and passing other arguments without an explicit keyword will result in an error or misinterpretation.\n",
            "  warnings.warn(\n"
          ]
        },
        {
          "output_type": "execute_result",
          "data": {
            "text/plain": [
              "<matplotlib.axes._subplots.AxesSubplot at 0x7f9558e198b0>"
            ]
          },
          "metadata": {},
          "execution_count": 41
        },
        {
          "output_type": "display_data",
          "data": {
            "text/plain": [
              "<Figure size 432x288 with 1 Axes>"
            ],
            "image/png": "[encoded data removed]"
          },
          "metadata": {
            "needs_background": "light"
          }
        }
      ],
      "source": [
        "#class distribution of before handling the class imbalancing for training data\n",
        "sns.countplot(y_train) "
      ]
    },
    {
      "cell_type": "code",
      "execution_count": 42,
      "metadata": {
        "id": "4G-mDgxvu9sc"
      },
      "outputs": [],
      "source": [
        "smote = SMOTE()\n",
        "X_train_sm, y_train_sm = smote.fit_resample(X_train, y_train)"
      ]
    },
    {
      "cell_type": "code",
      "execution_count": 43,
      "metadata": {
        "colab": {
          "base_uri": "https://localhost:8080/"
        },
        "id": "aV-7m4oyvCXW",
        "outputId": "d84220f5-a48a-4410-d005-b213885e21f8"
      },
      "outputs": [
        {
          "output_type": "execute_result",
          "data": {
            "text/plain": [
              "(1336, 31)"
            ]
          },
          "metadata": {},
          "execution_count": 43
        }
      ],
      "source": [
        "X_train_sm.shape #44 sentence length\n",
        "# 11646 senetences"
      ]
    },
    {
      "cell_type": "code",
      "execution_count": 44,
      "metadata": {
        "colab": {
          "base_uri": "https://localhost:8080/"
        },
        "id": "WnAcNhVpvM4m",
        "outputId": "b0f5e1db-96c2-4631-fac3-c94cb1acc2f9"
      },
      "outputs": [
        {
          "output_type": "execute_result",
          "data": {
            "text/plain": [
              "Counter({0: 668, 1: 668})"
            ]
          },
          "metadata": {},
          "execution_count": 44
        }
      ],
      "source": [
        "Counter(y_train_sm)\n",
        "#each class have 5823"
      ]
    },
    {
      "cell_type": "code",
      "execution_count": 45,
      "metadata": {
        "colab": {
          "base_uri": "https://localhost:8080/",
          "height": 341
        },
        "id": "mY5LCL-8vcBO",
        "outputId": "9d6b766c-c612-4015-f17b-c08db885016f"
      },
      "outputs": [
        {
          "output_type": "stream",
          "name": "stderr",
          "text": [
            "/usr/local/lib/python3.8/dist-packages/seaborn/_decorators.py:36: FutureWarning: Pass the following variable as a keyword arg: x. From version 0.12, the only valid positional argument will be `data`, and passing other arguments without an explicit keyword will result in an error or misinterpretation.\n",
            "  warnings.warn(\n"
          ]
        },
        {
          "output_type": "execute_result",
          "data": {
            "text/plain": [
              "<matplotlib.axes._subplots.AxesSubplot at 0x7f95540ce310>"
            ]
          },
          "metadata": {},
          "execution_count": 45
        },
        {
          "output_type": "display_data",
          "data": {
            "text/plain": [
              "<Figure size 432x288 with 1 Axes>"
            ],
            "image/png": "[encoded data removed]"
          },
          "metadata": {
            "needs_background": "light"
          }
        }
      ],
      "source": [
        "sns.countplot(y_train_sm) #class distribution after handling the imbalanced data for training data"
      ]
    },
    {
      "cell_type": "code",
      "execution_count": 46,
      "metadata": {
        "colab": {
          "base_uri": "https://localhost:8080/"
        },
        "id": "Asu76iSfvkQa",
        "outputId": "4b46ffd5-27c2-449e-fb6e-fa8ef0c6ed82"
      },
      "outputs": [
        {
          "output_type": "execute_result",
          "data": {
            "text/plain": [
              "((1336, 31), (1336,))"
            ]
          },
          "metadata": {},
          "execution_count": 46
        }
      ],
      "source": [
        "#shape of the training data after handling the class imbalance\n",
        "X_train_sm.shape, y_train_sm.shape"
      ]
    },
    {
      "cell_type": "markdown",
      "metadata": {
        "id": "OybLWMapvspO"
      },
      "source": [
        "* Handle the test data"
      ]
    },
    {
      "cell_type": "code",
      "execution_count": 47,
      "metadata": {
        "colab": {
          "base_uri": "https://localhost:8080/"
        },
        "id": "tb-hbZuZvovZ",
        "outputId": "7a26944f-057c-49e0-b563-c73dc5894e2e"
      },
      "outputs": [
        {
          "output_type": "execute_result",
          "data": {
            "text/plain": [
              "Counter({0: 350, 1: 150})"
            ]
          },
          "metadata": {},
          "execution_count": 47
        }
      ],
      "source": [
        "Counter(y_test) #y_test class counts"
      ]
    },
    {
      "cell_type": "code",
      "execution_count": 48,
      "metadata": {
        "colab": {
          "base_uri": "https://localhost:8080/",
          "height": 337
        },
        "id": "BEaABve8vu3G",
        "outputId": "c6bd97f4-3142-4663-9726-9b8ae223396f"
      },
      "outputs": [
        {
          "output_type": "stream",
          "name": "stderr",
          "text": [
            "/usr/local/lib/python3.8/dist-packages/seaborn/_decorators.py:36: FutureWarning: Pass the following variable as a keyword arg: x. From version 0.12, the only valid positional argument will be `data`, and passing other arguments without an explicit keyword will result in an error or misinterpretation.\n",
            "  warnings.warn(\n"
          ]
        },
        {
          "output_type": "execute_result",
          "data": {
            "text/plain": [
              "<matplotlib.axes._subplots.AxesSubplot at 0x7f9554092820>"
            ]
          },
          "metadata": {},
          "execution_count": 48
        },
        {
          "output_type": "display_data",
          "data": {
            "text/plain": [
              "<Figure size 432x288 with 1 Axes>"
            ],
            "image/png": "[encoded data removed]"
          },
          "metadata": {
            "needs_background": "light"
          }
        }
      ],
      "source": [
        "#class distribution of before handling the class imbalancing for training data\n",
        "sns.countplot(y_test) "
      ]
    },
    {
      "cell_type": "code",
      "execution_count": 49,
      "metadata": {
        "id": "KOMZRWeNv2xM"
      },
      "outputs": [],
      "source": [
        "smote = SMOTE()\n",
        "X_test_sm, y_test_sm = smote.fit_resample(X_test, y_test)"
      ]
    },
    {
      "cell_type": "code",
      "execution_count": 50,
      "metadata": {
        "colab": {
          "base_uri": "https://localhost:8080/"
        },
        "id": "1Cb7CsEsv6FA",
        "outputId": "4b31c9e9-cfe0-4678-ae50-844f6f779a6b"
      },
      "outputs": [
        {
          "output_type": "execute_result",
          "data": {
            "text/plain": [
              "(700, 31)"
            ]
          },
          "metadata": {},
          "execution_count": 50
        }
      ],
      "source": [
        "X_test_sm.shape #44 swntence length\n",
        "# 2984 senetences"
      ]
    },
    {
      "cell_type": "code",
      "execution_count": 51,
      "metadata": {
        "colab": {
          "base_uri": "https://localhost:8080/"
        },
        "id": "R5w-AhA6v8Xo",
        "outputId": "03a3cbae-4bd1-4190-ebd5-5f1d6fc559e0"
      },
      "outputs": [
        {
          "output_type": "execute_result",
          "data": {
            "text/plain": [
              "Counter({0: 350, 1: 350})"
            ]
          },
          "metadata": {},
          "execution_count": 51
        }
      ],
      "source": [
        "Counter(y_test_sm)\n",
        "# each class have 1492"
      ]
    },
    {
      "cell_type": "code",
      "execution_count": 52,
      "metadata": {
        "colab": {
          "base_uri": "https://localhost:8080/",
          "height": 337
        },
        "id": "tPdlyTSVwLcq",
        "outputId": "3c9c8337-6f74-4c34-c721-f592d97567ef"
      },
      "outputs": [
        {
          "output_type": "stream",
          "name": "stderr",
          "text": [
            "/usr/local/lib/python3.8/dist-packages/seaborn/_decorators.py:36: FutureWarning: Pass the following variable as a keyword arg: x. From version 0.12, the only valid positional argument will be `data`, and passing other arguments without an explicit keyword will result in an error or misinterpretation.\n",
            "  warnings.warn(\n"
          ]
        },
        {
          "output_type": "execute_result",
          "data": {
            "text/plain": [
              "<matplotlib.axes._subplots.AxesSubplot at 0x7f9554070730>"
            ]
          },
          "metadata": {},
          "execution_count": 52
        },
        {
          "output_type": "display_data",
          "data": {
            "text/plain": [
              "<Figure size 432x288 with 1 Axes>"
            ],
            "image/png": "[encoded data removed]"
          },
          "metadata": {
            "needs_background": "light"
          }
        }
      ],
      "source": [
        "sns.countplot(y_test_sm) #class distribution after handling the imbalanced data for training data"
      ]
    },
    {
      "cell_type": "code",
      "execution_count": 53,
      "metadata": {
        "colab": {
          "base_uri": "https://localhost:8080/"
        },
        "id": "eV2aaGsIwUXu",
        "outputId": "5127c718-ccb2-4d86-f684-9ed94b2f6655"
      },
      "outputs": [
        {
          "output_type": "execute_result",
          "data": {
            "text/plain": [
              "((700, 31), (700,))"
            ]
          },
          "metadata": {},
          "execution_count": 53
        }
      ],
      "source": [
        "#shape of the training data after handling the class imbalance\n",
        "X_test_sm.shape, y_test_sm.shape"
      ]
    },
    {
      "cell_type": "markdown",
      "metadata": {
        "id": "b8VU2fuqwh9M"
      },
      "source": [
        "### **Conv1D with Embedding Layer**"
      ]
    },
    {
      "cell_type": "code",
      "execution_count": 54,
      "metadata": {
        "colab": {
          "base_uri": "https://localhost:8080/"
        },
        "id": "O1g66EYPweC2",
        "outputId": "6073a0a0-1ae6-40ca-add2-76fcf8347b99"
      },
      "outputs": [
        {
          "output_type": "stream",
          "name": "stdout",
          "text": [
            "Model: \"sequential\"\n",
            "_________________________________________________________________\n",
            " Layer (type)                Output Shape              Param #   \n",
            "=================================================================\n",
            " embedding (Embedding)       (None, 31, 100)           150100    \n",
            "                                                                 \n",
            " conv1d (Conv1D)             (None, 24, 32)            25632     \n",
            "                                                                 \n",
            " dropout (Dropout)           (None, 24, 32)            0         \n",
            "                                                                 \n",
            " max_pooling1d (MaxPooling1D  (None, 12, 32)           0         \n",
            " )                                                               \n",
            "                                                                 \n",
            " flatten (Flatten)           (None, 384)               0         \n",
            "                                                                 \n",
            " dense (Dense)               (None, 400)               154000    \n",
            "                                                                 \n",
            " dropout_1 (Dropout)         (None, 400)               0         \n",
            "                                                                 \n",
            " dense_1 (Dense)             (None, 200)               80200     \n",
            "                                                                 \n",
            " dropout_2 (Dropout)         (None, 200)               0         \n",
            "                                                                 \n",
            " dense_2 (Dense)             (None, 100)               20100     \n",
            "                                                                 \n",
            " dropout_3 (Dropout)         (None, 100)               0         \n",
            "                                                                 \n",
            " dense_3 (Dense)             (None, 10)                1010      \n",
            "                                                                 \n",
            " dropout_4 (Dropout)         (None, 10)                0         \n",
            "                                                                 \n",
            " dense_4 (Dense)             (None, 1)                 11        \n",
            "                                                                 \n",
            "=================================================================\n",
            "Total params: 431,053\n",
            "Trainable params: 431,053\n",
            "Non-trainable params: 0\n",
            "_________________________________________________________________\n",
            "None\n"
          ]
        }
      ],
      "source": [
        "# define model\n",
        "word_embedding = Sequential()\n",
        "# 100 -> number of features / number of dimensions\n",
        "word_embedding.add(Embedding(voc_size, dim, input_length=sent_length,name=\"embedding\"))\n",
        "# there are 32 kernels/ filters. each one size is (8*8)\n",
        "word_embedding.add(Conv1D(filters=32, kernel_size=8, activation='relu'))\n",
        "word_embedding.add(Dropout(0.5))\n",
        "word_embedding.add(MaxPooling1D(pool_size=2))\n",
        "word_embedding.add(Flatten())\n",
        "\n",
        "word_embedding.add(Dense(400, activation='sigmoid'))\n",
        "word_embedding.add(Dropout(0.4))\n",
        "word_embedding.add(Dense(200, activation='relu'))\n",
        "word_embedding.add(Dropout(0.3))\n",
        "word_embedding.add(Dense(100, activation='sigmoid'))\n",
        "word_embedding.add(Dropout(0.2))\n",
        "# there are 10 neurons in the dense layer\n",
        "word_embedding.add(Dense(10, activation='relu'))\n",
        "word_embedding.add(Dropout(0.1))\n",
        "#there are one neuron in the last layer\n",
        "word_embedding.add(Dense(1, activation='sigmoid'))\n",
        "print(word_embedding.summary()) "
      ]
    },
    {
      "cell_type": "code",
      "execution_count": 55,
      "metadata": {
        "id": "99V-MqxtwYkq"
      },
      "outputs": [],
      "source": [
        "# compile network\n",
        "word_embedding.compile(loss='binary_crossentropy', optimizer='adam', metrics=['accuracy'])"
      ]
    },
    {
      "cell_type": "code",
      "execution_count": 56,
      "metadata": {
        "colab": {
          "base_uri": "https://localhost:8080/"
        },
        "id": "M1IvyXjNw7eg",
        "outputId": "e0905731-7b66-4478-a6c0-3f2f76fd3221"
      },
      "outputs": [
        {
          "output_type": "stream",
          "name": "stdout",
          "text": [
            "Epoch 1/50\n",
            "32/32 [==============================] - 24s 312ms/step - loss: 0.6615 - accuracy: 0.6447 - val_loss: 0.9074 - val_accuracy: 0.0000e+00\n",
            "Epoch 2/50\n",
            "32/32 [==============================] - 4s 115ms/step - loss: 0.6500 - accuracy: 0.6667 - val_loss: 0.9934 - val_accuracy: 0.0000e+00\n",
            "Epoch 3/50\n",
            "32/32 [==============================] - 1s 47ms/step - loss: 0.6423 - accuracy: 0.6677 - val_loss: 1.2446 - val_accuracy: 0.0000e+00\n",
            "Epoch 4/50\n",
            "32/32 [==============================] - 1s 36ms/step - loss: 0.6327 - accuracy: 0.6667 - val_loss: 1.1506 - val_accuracy: 0.0000e+00\n",
            "Epoch 5/50\n",
            "32/32 [==============================] - 1s 40ms/step - loss: 0.4996 - accuracy: 0.6806 - val_loss: 1.3980 - val_accuracy: 0.1228\n",
            "Epoch 6/50\n",
            "32/32 [==============================] - 1s 23ms/step - loss: 0.2793 - accuracy: 0.9042 - val_loss: 2.7176 - val_accuracy: 0.1916\n",
            "Epoch 7/50\n",
            "32/32 [==============================] - 1s 27ms/step - loss: 0.1581 - accuracy: 0.9521 - val_loss: 2.2400 - val_accuracy: 0.3922\n",
            "Epoch 8/50\n",
            "32/32 [==============================] - 1s 17ms/step - loss: 0.1239 - accuracy: 0.9661 - val_loss: 3.1616 - val_accuracy: 0.2665\n",
            "Epoch 9/50\n",
            "32/32 [==============================] - 1s 17ms/step - loss: 0.0800 - accuracy: 0.9790 - val_loss: 3.0252 - val_accuracy: 0.3234\n",
            "Epoch 10/50\n",
            "32/32 [==============================] - 1s 21ms/step - loss: 0.0647 - accuracy: 0.9860 - val_loss: 3.7618 - val_accuracy: 0.2814\n",
            "Epoch 11/50\n",
            "32/32 [==============================] - 0s 12ms/step - loss: 0.0365 - accuracy: 0.9920 - val_loss: 4.1690 - val_accuracy: 0.2725\n",
            "Epoch 12/50\n",
            "32/32 [==============================] - 1s 17ms/step - loss: 0.0311 - accuracy: 0.9920 - val_loss: 4.7063 - val_accuracy: 0.2784\n",
            "Epoch 13/50\n",
            "32/32 [==============================] - 1s 18ms/step - loss: 0.0219 - accuracy: 0.9960 - val_loss: 4.8656 - val_accuracy: 0.3024\n",
            "Epoch 14/50\n",
            "32/32 [==============================] - 1s 17ms/step - loss: 0.0244 - accuracy: 0.9950 - val_loss: 4.1258 - val_accuracy: 0.3623\n",
            "Epoch 15/50\n",
            "32/32 [==============================] - 1s 46ms/step - loss: 0.0050 - accuracy: 1.0000 - val_loss: 4.6484 - val_accuracy: 0.3473\n",
            "Epoch 16/50\n",
            "32/32 [==============================] - 1s 25ms/step - loss: 0.0064 - accuracy: 0.9990 - val_loss: 4.5165 - val_accuracy: 0.3832\n",
            "Epoch 17/50\n",
            "32/32 [==============================] - 0s 15ms/step - loss: 0.0103 - accuracy: 0.9970 - val_loss: 5.2305 - val_accuracy: 0.3353\n",
            "Epoch 18/50\n",
            "32/32 [==============================] - 0s 12ms/step - loss: 0.0031 - accuracy: 1.0000 - val_loss: 5.7615 - val_accuracy: 0.3204\n",
            "Epoch 19/50\n",
            "32/32 [==============================] - 1s 18ms/step - loss: 0.0029 - accuracy: 1.0000 - val_loss: 6.0256 - val_accuracy: 0.3204\n",
            "Epoch 20/50\n",
            "32/32 [==============================] - 0s 7ms/step - loss: 0.0021 - accuracy: 1.0000 - val_loss: 5.9849 - val_accuracy: 0.3323\n",
            "Epoch 21/50\n",
            "32/32 [==============================] - 0s 8ms/step - loss: 0.0082 - accuracy: 0.9990 - val_loss: 4.7762 - val_accuracy: 0.4281\n",
            "Epoch 22/50\n",
            "32/32 [==============================] - 0s 13ms/step - loss: 0.0078 - accuracy: 0.9980 - val_loss: 6.5557 - val_accuracy: 0.2874\n",
            "Epoch 23/50\n",
            "32/32 [==============================] - 1s 18ms/step - loss: 0.0164 - accuracy: 0.9980 - val_loss: 5.2430 - val_accuracy: 0.3593\n",
            "Epoch 24/50\n",
            "32/32 [==============================] - 0s 12ms/step - loss: 0.0015 - accuracy: 1.0000 - val_loss: 5.6975 - val_accuracy: 0.3413\n",
            "Epoch 25/50\n",
            "32/32 [==============================] - 0s 7ms/step - loss: 0.0031 - accuracy: 0.9980 - val_loss: 6.4893 - val_accuracy: 0.2754\n",
            "Epoch 26/50\n",
            "32/32 [==============================] - 0s 13ms/step - loss: 0.0010 - accuracy: 1.0000 - val_loss: 6.4123 - val_accuracy: 0.2964\n",
            "Epoch 27/50\n",
            "32/32 [==============================] - 0s 7ms/step - loss: 9.3632e-04 - accuracy: 1.0000 - val_loss: 6.3764 - val_accuracy: 0.3084\n",
            "Epoch 28/50\n",
            "32/32 [==============================] - 1s 16ms/step - loss: 0.0099 - accuracy: 0.9990 - val_loss: 6.5830 - val_accuracy: 0.2874\n",
            "Epoch 29/50\n",
            "32/32 [==============================] - 0s 12ms/step - loss: 0.0024 - accuracy: 0.9990 - val_loss: 5.5742 - val_accuracy: 0.3683\n",
            "Epoch 30/50\n",
            "32/32 [==============================] - 1s 17ms/step - loss: 0.0013 - accuracy: 1.0000 - val_loss: 5.5860 - val_accuracy: 0.3743\n",
            "Epoch 31/50\n",
            "32/32 [==============================] - 0s 8ms/step - loss: 0.0011 - accuracy: 1.0000 - val_loss: 5.7552 - val_accuracy: 0.3653\n",
            "Epoch 32/50\n",
            "32/32 [==============================] - 0s 13ms/step - loss: 0.0013 - accuracy: 1.0000 - val_loss: 6.4258 - val_accuracy: 0.3413\n",
            "Epoch 33/50\n",
            "32/32 [==============================] - 0s 13ms/step - loss: 0.0107 - accuracy: 0.9980 - val_loss: 5.7573 - val_accuracy: 0.3473\n",
            "Epoch 34/50\n",
            "32/32 [==============================] - 0s 12ms/step - loss: 0.0011 - accuracy: 1.0000 - val_loss: 6.2480 - val_accuracy: 0.3234\n",
            "Epoch 35/50\n",
            "32/32 [==============================] - 1s 17ms/step - loss: 0.0010 - accuracy: 1.0000 - val_loss: 6.4485 - val_accuracy: 0.3204\n",
            "Epoch 36/50\n",
            "32/32 [==============================] - 0s 7ms/step - loss: 0.0031 - accuracy: 0.9990 - val_loss: 6.5580 - val_accuracy: 0.3263\n",
            "Epoch 37/50\n",
            "32/32 [==============================] - 0s 12ms/step - loss: 0.0113 - accuracy: 0.9980 - val_loss: 4.3701 - val_accuracy: 0.4880\n",
            "Epoch 38/50\n",
            "32/32 [==============================] - 0s 12ms/step - loss: 0.0095 - accuracy: 0.9990 - val_loss: 5.7805 - val_accuracy: 0.3593\n",
            "Epoch 39/50\n",
            "32/32 [==============================] - 0s 7ms/step - loss: 0.0225 - accuracy: 0.9950 - val_loss: 4.9199 - val_accuracy: 0.3623\n",
            "Epoch 40/50\n",
            "32/32 [==============================] - 0s 7ms/step - loss: 0.0262 - accuracy: 0.9940 - val_loss: 3.5605 - val_accuracy: 0.3922\n",
            "Epoch 41/50\n",
            "32/32 [==============================] - 0s 12ms/step - loss: 0.0108 - accuracy: 0.9970 - val_loss: 4.0271 - val_accuracy: 0.3563\n",
            "Epoch 42/50\n",
            "32/32 [==============================] - 0s 13ms/step - loss: 0.0032 - accuracy: 1.0000 - val_loss: 4.9972 - val_accuracy: 0.3413\n",
            "Epoch 43/50\n",
            "32/32 [==============================] - 1s 19ms/step - loss: 0.0015 - accuracy: 1.0000 - val_loss: 5.5207 - val_accuracy: 0.3204\n",
            "Epoch 44/50\n",
            "32/32 [==============================] - 1s 35ms/step - loss: 0.0099 - accuracy: 0.9980 - val_loss: 4.5218 - val_accuracy: 0.3862\n",
            "Epoch 45/50\n",
            "32/32 [==============================] - 0s 10ms/step - loss: 0.0010 - accuracy: 1.0000 - val_loss: 4.9845 - val_accuracy: 0.3473\n",
            "Epoch 46/50\n",
            "32/32 [==============================] - 0s 13ms/step - loss: 0.0028 - accuracy: 0.9990 - val_loss: 4.4948 - val_accuracy: 0.4072\n",
            "Epoch 47/50\n",
            "32/32 [==============================] - 0s 7ms/step - loss: 0.0024 - accuracy: 1.0000 - val_loss: 4.8392 - val_accuracy: 0.4132\n",
            "Epoch 48/50\n",
            "32/32 [==============================] - 0s 12ms/step - loss: 0.0010 - accuracy: 1.0000 - val_loss: 5.8516 - val_accuracy: 0.3413\n",
            "Epoch 49/50\n",
            "32/32 [==============================] - 0s 14ms/step - loss: 7.2997e-04 - accuracy: 1.0000 - val_loss: 5.9486 - val_accuracy: 0.3413\n",
            "Epoch 50/50\n",
            "32/32 [==============================] - 0s 7ms/step - loss: 0.0068 - accuracy: 0.9980 - val_loss: 5.3847 - val_accuracy: 0.3713\n"
          ]
        }
      ],
      "source": [
        "# fit network\n",
        "#word_embedding_history = word_embedding.fit(X_smote, y_smote, epochs=20, verbose=2)\n",
        "#fitting to the training set\n",
        "word_embedding_history = word_embedding.fit(X_train_sm,y_train_sm,validation_split=0.25,epochs=50)"
      ]
    },
    {
      "cell_type": "markdown",
      "metadata": {
        "id": "tQMeOZE11dmj"
      },
      "source": [
        "* Evaluating the model"
      ]
    },
    {
      "cell_type": "code",
      "execution_count": 58,
      "metadata": {
        "colab": {
          "base_uri": "https://localhost:8080/"
        },
        "id": "FfPi6Rrix8Uz",
        "outputId": "80a8d784-68b5-4af6-ba2e-facf6f38e22c"
      },
      "outputs": [
        {
          "output_type": "stream",
          "name": "stdout",
          "text": [
            "22/22 [==============================] - 0s 3ms/step\n"
          ]
        }
      ],
      "source": [
        "#Predicting the test set result\n",
        "y_pred = word_embedding.predict(X_test_sm)\n",
        "y_pred = (y_pred > 0.5)"
      ]
    },
    {
      "cell_type": "code",
      "execution_count": 59,
      "metadata": {
        "colab": {
          "base_uri": "https://localhost:8080/"
        },
        "id": "k2a0n3NA0o-2",
        "outputId": "f29de5a7-9832-4661-e741-6cf10693b26c"
      },
      "outputs": [
        {
          "output_type": "execute_result",
          "data": {
            "text/plain": [
              "array([[292,  58],\n",
              "       [189, 161]])"
            ]
          },
          "metadata": {},
          "execution_count": 59
        }
      ],
      "source": [
        "#Making the confusion matrix\n",
        "from sklearn.metrics import confusion_matrix, classification_report\n",
        "cm = confusion_matrix(y_test_sm,y_pred)\n",
        "cm"
      ]
    },
    {
      "cell_type": "code",
      "execution_count": 60,
      "metadata": {
        "colab": {
          "base_uri": "https://localhost:8080/",
          "height": 296
        },
        "id": "b05cXofh0-dF",
        "outputId": "a9f7ed13-da61-463c-f96d-1e7de0296e28"
      },
      "outputs": [
        {
          "output_type": "execute_result",
          "data": {
            "text/plain": [
              "Text(33.0, 0.5, 'Truth')"
            ]
          },
          "metadata": {},
          "execution_count": 60
        },
        {
          "output_type": "display_data",
          "data": {
            "text/plain": [
              "<Figure size 432x288 with 2 Axes>"
            ],
            "image/png": "[encoded data removed]"
          },
          "metadata": {
            "needs_background": "light"
          }
        }
      ],
      "source": [
        "#from matplotlib import pyplot as plt\n",
        "#import seaborn as sn\n",
        "sns.heatmap(cm, annot=True, fmt='d')\n",
        "plt.xlabel('Predicted')\n",
        "plt.ylabel('Truth')"
      ]
    },
    {
      "cell_type": "code",
      "execution_count": 61,
      "metadata": {
        "colab": {
          "base_uri": "https://localhost:8080/"
        },
        "id": "mL53-Xmr1DXA",
        "outputId": "6ec8421a-f2b1-43c6-c1b9-2cf8f8bb0619"
      },
      "outputs": [
        {
          "output_type": "stream",
          "name": "stdout",
          "text": [
            "              precision    recall  f1-score   support\n",
            "\n",
            "           0       0.61      0.83      0.70       350\n",
            "           1       0.74      0.46      0.57       350\n",
            "\n",
            "    accuracy                           0.65       700\n",
            "   macro avg       0.67      0.65      0.63       700\n",
            "weighted avg       0.67      0.65      0.63       700\n",
            "\n"
          ]
        }
      ],
      "source": [
        "print(classification_report(y_test_sm, y_pred))"
      ]
    },
    {
      "cell_type": "markdown",
      "metadata": {
        "id": "DkHVY_RG2ANn"
      },
      "source": [
        "### **LSTM with Word Embedding Layer**"
      ]
    },
    {
      "cell_type": "code",
      "execution_count": 62,
      "metadata": {
        "colab": {
          "base_uri": "https://localhost:8080/"
        },
        "id": "QNWcIW7O1QqN",
        "outputId": "92b538ab-7ff5-4bc1-f48b-4a2544f01093"
      },
      "outputs": [
        {
          "output_type": "stream",
          "name": "stdout",
          "text": [
            "Model: \"sequential_1\"\n",
            "_________________________________________________________________\n",
            " Layer (type)                Output Shape              Param #   \n",
            "=================================================================\n",
            " embedding (Embedding)       (None, 31, 100)           150100    \n",
            "                                                                 \n",
            " lstm (LSTM)                 (None, 31)                16368     \n",
            "                                                                 \n",
            " flatten_1 (Flatten)         (None, 31)                0         \n",
            "                                                                 \n",
            " dense_5 (Dense)             (None, 1000)              32000     \n",
            "                                                                 \n",
            " dropout_5 (Dropout)         (None, 1000)              0         \n",
            "                                                                 \n",
            " dense_6 (Dense)             (None, 200)               200200    \n",
            "                                                                 \n",
            " dropout_6 (Dropout)         (None, 200)               0         \n",
            "                                                                 \n",
            " dense_7 (Dense)             (None, 100)               20100     \n",
            "                                                                 \n",
            " dropout_7 (Dropout)         (None, 100)               0         \n",
            "                                                                 \n",
            " dense_8 (Dense)             (None, 1)                 101       \n",
            "                                                                 \n",
            "=================================================================\n",
            "Total params: 418,869\n",
            "Trainable params: 418,869\n",
            "Non-trainable params: 0\n",
            "_________________________________________________________________\n",
            "None\n"
          ]
        }
      ],
      "source": [
        "# define model\n",
        "lstm = Sequential()\n",
        "# 100 -> number of features / number of dimensions\n",
        "lstm.add(Embedding(voc_size, dim, input_length=sent_length,name=\"embedding\"))\n",
        "lstm.add(LSTM(sent_length)) #44 gated cells inside the lstm layer\n",
        "lstm.add(Flatten())\n",
        "# fit network\n",
        "lstm.add(Dense(1000, activation='sigmoid')) \n",
        "lstm.add(Dropout(0.5))\n",
        "lstm.add(Dense(200, activation='sigmoid'))\n",
        "lstm.add(Dropout(0.3))\n",
        "lstm.add(Dense(100, activation='sigmoid'))\n",
        "lstm.add(Dropout(0.2))\n",
        "#there are one neuron in the last layer\n",
        "lstm.add(Dense(1, activation='sigmoid'))\n",
        "print(lstm.summary())"
      ]
    },
    {
      "cell_type": "code",
      "execution_count": 63,
      "metadata": {
        "id": "iHBNEczD2M0O"
      },
      "outputs": [],
      "source": [
        "# compile network\n",
        "lstm.compile(loss='binary_crossentropy', optimizer='adam', metrics=['accuracy'])"
      ]
    },
    {
      "cell_type": "code",
      "execution_count": 64,
      "metadata": {
        "colab": {
          "base_uri": "https://localhost:8080/"
        },
        "id": "G4v5kZ-32VWq",
        "outputId": "ca78a96f-7f12-450d-9302-2429283bd0be"
      },
      "outputs": [
        {
          "output_type": "stream",
          "name": "stdout",
          "text": [
            "Epoch 1/50\n",
            "32/32 [==============================] - 7s 90ms/step - loss: 0.6486 - accuracy: 0.6607 - val_loss: 0.7598 - val_accuracy: 0.0000e+00\n",
            "Epoch 2/50\n",
            "32/32 [==============================] - 3s 90ms/step - loss: 0.6622 - accuracy: 0.6277 - val_loss: 1.1790 - val_accuracy: 0.0000e+00\n",
            "Epoch 3/50\n",
            "32/32 [==============================] - 2s 50ms/step - loss: 0.6330 - accuracy: 0.6657 - val_loss: 1.1303 - val_accuracy: 0.0000e+00\n",
            "Epoch 4/50\n",
            "32/32 [==============================] - 1s 34ms/step - loss: 0.4267 - accuracy: 0.8134 - val_loss: 1.3352 - val_accuracy: 0.3982\n",
            "Epoch 5/50\n",
            "32/32 [==============================] - 1s 28ms/step - loss: 0.2060 - accuracy: 0.9251 - val_loss: 2.6144 - val_accuracy: 0.2575\n",
            "Epoch 6/50\n",
            "32/32 [==============================] - 1s 16ms/step - loss: 0.1293 - accuracy: 0.9631 - val_loss: 2.2592 - val_accuracy: 0.3982\n",
            "Epoch 7/50\n",
            "32/32 [==============================] - 1s 27ms/step - loss: 0.0597 - accuracy: 0.9840 - val_loss: 2.5245 - val_accuracy: 0.4162\n",
            "Epoch 8/50\n",
            "32/32 [==============================] - 1s 21ms/step - loss: 0.0329 - accuracy: 0.9940 - val_loss: 2.9781 - val_accuracy: 0.3892\n",
            "Epoch 9/50\n",
            "32/32 [==============================] - 1s 19ms/step - loss: 0.0248 - accuracy: 0.9960 - val_loss: 3.0651 - val_accuracy: 0.3892\n",
            "Epoch 10/50\n",
            "32/32 [==============================] - 1s 18ms/step - loss: 0.0189 - accuracy: 0.9980 - val_loss: 3.2303 - val_accuracy: 0.3862\n",
            "Epoch 11/50\n",
            "32/32 [==============================] - 1s 16ms/step - loss: 0.0146 - accuracy: 0.9980 - val_loss: 3.2081 - val_accuracy: 0.3922\n",
            "Epoch 12/50\n",
            "32/32 [==============================] - 1s 16ms/step - loss: 0.0145 - accuracy: 0.9980 - val_loss: 3.0399 - val_accuracy: 0.4311\n",
            "Epoch 13/50\n",
            "32/32 [==============================] - 1s 18ms/step - loss: 0.0162 - accuracy: 0.9940 - val_loss: 3.3317 - val_accuracy: 0.3952\n",
            "Epoch 14/50\n",
            "32/32 [==============================] - 0s 14ms/step - loss: 0.0123 - accuracy: 0.9980 - val_loss: 3.5412 - val_accuracy: 0.3832\n",
            "Epoch 15/50\n",
            "32/32 [==============================] - 0s 13ms/step - loss: 0.0102 - accuracy: 0.9990 - val_loss: 3.5528 - val_accuracy: 0.3892\n",
            "Epoch 16/50\n",
            "32/32 [==============================] - 1s 16ms/step - loss: 0.0087 - accuracy: 0.9990 - val_loss: 3.7303 - val_accuracy: 0.3802\n",
            "Epoch 17/50\n",
            "32/32 [==============================] - 1s 18ms/step - loss: 0.0085 - accuracy: 0.9990 - val_loss: 3.7298 - val_accuracy: 0.3922\n",
            "Epoch 18/50\n",
            "32/32 [==============================] - 1s 32ms/step - loss: 0.0081 - accuracy: 0.9990 - val_loss: 3.7515 - val_accuracy: 0.3922\n",
            "Epoch 19/50\n",
            "32/32 [==============================] - 1s 21ms/step - loss: 0.0113 - accuracy: 0.9980 - val_loss: 3.1355 - val_accuracy: 0.4850\n",
            "Epoch 20/50\n",
            "32/32 [==============================] - 0s 12ms/step - loss: 0.0084 - accuracy: 0.9990 - val_loss: 3.7822 - val_accuracy: 0.4042\n",
            "Epoch 21/50\n",
            "32/32 [==============================] - 0s 11ms/step - loss: 0.0052 - accuracy: 0.9990 - val_loss: 3.6740 - val_accuracy: 0.4162\n",
            "Epoch 22/50\n",
            "32/32 [==============================] - 0s 12ms/step - loss: 0.0117 - accuracy: 0.9970 - val_loss: 3.7749 - val_accuracy: 0.3952\n",
            "Epoch 23/50\n",
            "32/32 [==============================] - 0s 11ms/step - loss: 0.0117 - accuracy: 0.9950 - val_loss: 3.9305 - val_accuracy: 0.4042\n",
            "Epoch 24/50\n",
            "32/32 [==============================] - 0s 8ms/step - loss: 0.0068 - accuracy: 0.9980 - val_loss: 3.9268 - val_accuracy: 0.3952\n",
            "Epoch 25/50\n",
            "32/32 [==============================] - 1s 17ms/step - loss: 0.0028 - accuracy: 1.0000 - val_loss: 3.8486 - val_accuracy: 0.4042\n",
            "Epoch 26/50\n",
            "32/32 [==============================] - 0s 12ms/step - loss: 0.0015 - accuracy: 1.0000 - val_loss: 3.9632 - val_accuracy: 0.3982\n",
            "Epoch 27/50\n",
            "32/32 [==============================] - 0s 9ms/step - loss: 0.0014 - accuracy: 1.0000 - val_loss: 4.1383 - val_accuracy: 0.3892\n",
            "Epoch 28/50\n",
            "32/32 [==============================] - 0s 12ms/step - loss: 0.0011 - accuracy: 1.0000 - val_loss: 4.2828 - val_accuracy: 0.3862\n",
            "Epoch 29/50\n",
            "32/32 [==============================] - 0s 12ms/step - loss: 0.0011 - accuracy: 1.0000 - val_loss: 4.2642 - val_accuracy: 0.3892\n",
            "Epoch 30/50\n",
            "32/32 [==============================] - 0s 8ms/step - loss: 9.5566e-04 - accuracy: 1.0000 - val_loss: 4.2906 - val_accuracy: 0.3892\n",
            "Epoch 31/50\n",
            "32/32 [==============================] - 0s 12ms/step - loss: 8.9733e-04 - accuracy: 1.0000 - val_loss: 4.3247 - val_accuracy: 0.3892\n",
            "Epoch 32/50\n",
            "32/32 [==============================] - 0s 9ms/step - loss: 8.4177e-04 - accuracy: 1.0000 - val_loss: 4.3567 - val_accuracy: 0.3892\n",
            "Epoch 33/50\n",
            "32/32 [==============================] - 0s 13ms/step - loss: 8.3228e-04 - accuracy: 1.0000 - val_loss: 4.3966 - val_accuracy: 0.3892\n",
            "Epoch 34/50\n",
            "32/32 [==============================] - 0s 8ms/step - loss: 7.6672e-04 - accuracy: 1.0000 - val_loss: 4.4276 - val_accuracy: 0.3892\n",
            "Epoch 35/50\n",
            "32/32 [==============================] - 0s 9ms/step - loss: 6.8838e-04 - accuracy: 1.0000 - val_loss: 4.4562 - val_accuracy: 0.3922\n",
            "Epoch 36/50\n",
            "32/32 [==============================] - 0s 12ms/step - loss: 6.8232e-04 - accuracy: 1.0000 - val_loss: 4.4923 - val_accuracy: 0.3922\n",
            "Epoch 37/50\n",
            "32/32 [==============================] - 1s 19ms/step - loss: 6.4099e-04 - accuracy: 1.0000 - val_loss: 4.5163 - val_accuracy: 0.3922\n",
            "Epoch 38/50\n",
            "32/32 [==============================] - 0s 12ms/step - loss: 6.3843e-04 - accuracy: 1.0000 - val_loss: 4.5401 - val_accuracy: 0.3922\n",
            "Epoch 39/50\n",
            "32/32 [==============================] - 0s 9ms/step - loss: 5.8820e-04 - accuracy: 1.0000 - val_loss: 4.5631 - val_accuracy: 0.3952\n",
            "Epoch 40/50\n",
            "32/32 [==============================] - 0s 13ms/step - loss: 5.3786e-04 - accuracy: 1.0000 - val_loss: 4.5842 - val_accuracy: 0.3952\n",
            "Epoch 41/50\n",
            "32/32 [==============================] - 0s 16ms/step - loss: 5.2339e-04 - accuracy: 1.0000 - val_loss: 4.6055 - val_accuracy: 0.3952\n",
            "Epoch 42/50\n",
            "32/32 [==============================] - 0s 8ms/step - loss: 5.1411e-04 - accuracy: 1.0000 - val_loss: 4.6264 - val_accuracy: 0.3952\n",
            "Epoch 43/50\n",
            "32/32 [==============================] - 0s 8ms/step - loss: 4.8662e-04 - accuracy: 1.0000 - val_loss: 4.6481 - val_accuracy: 0.3952\n",
            "Epoch 44/50\n",
            "32/32 [==============================] - 0s 12ms/step - loss: 4.5865e-04 - accuracy: 1.0000 - val_loss: 4.6680 - val_accuracy: 0.3982\n",
            "Epoch 45/50\n",
            "32/32 [==============================] - 0s 15ms/step - loss: 4.6524e-04 - accuracy: 1.0000 - val_loss: 4.6904 - val_accuracy: 0.3982\n",
            "Epoch 46/50\n",
            "32/32 [==============================] - 0s 10ms/step - loss: 4.4900e-04 - accuracy: 1.0000 - val_loss: 4.7153 - val_accuracy: 0.3982\n",
            "Epoch 47/50\n",
            "32/32 [==============================] - 0s 12ms/step - loss: 4.2469e-04 - accuracy: 1.0000 - val_loss: 4.7377 - val_accuracy: 0.3982\n",
            "Epoch 48/50\n",
            "32/32 [==============================] - 0s 12ms/step - loss: 4.2314e-04 - accuracy: 1.0000 - val_loss: 4.7593 - val_accuracy: 0.3982\n",
            "Epoch 49/50\n",
            "32/32 [==============================] - 0s 12ms/step - loss: 3.9871e-04 - accuracy: 1.0000 - val_loss: 4.7827 - val_accuracy: 0.3982\n",
            "Epoch 50/50\n",
            "32/32 [==============================] - 0s 12ms/step - loss: 3.8465e-04 - accuracy: 1.0000 - val_loss: 4.8045 - val_accuracy: 0.3982\n"
          ]
        }
      ],
      "source": [
        "# fit network\n",
        "#lstm.fit(embedded_docs, response, epochs=10, verbose=2)\n",
        "lstm_history = lstm.fit(X_train_sm,y_train_sm,validation_split=0.25,epochs=50)"
      ]
    },
    {
      "cell_type": "markdown",
      "metadata": {
        "id": "GoS7h1G53hNK"
      },
      "source": [
        "* Evaluating the model"
      ]
    },
    {
      "cell_type": "code",
      "execution_count": 66,
      "metadata": {
        "colab": {
          "base_uri": "https://localhost:8080/"
        },
        "id": "XiFgex_x3Ts0",
        "outputId": "3c670fce-fca0-46b7-fe87-383a24f02728"
      },
      "outputs": [
        {
          "output_type": "stream",
          "name": "stdout",
          "text": [
            "22/22 [==============================] - 1s 3ms/step\n"
          ]
        }
      ],
      "source": [
        "#Predicting the test set result\n",
        "y_pred = lstm.predict(X_test_sm)\n",
        "y_pred = (y_pred > 0.5)"
      ]
    },
    {
      "cell_type": "code",
      "execution_count": 67,
      "metadata": {
        "colab": {
          "base_uri": "https://localhost:8080/"
        },
        "id": "P9IhnyVx3mQ5",
        "outputId": "606e2715-1bd2-4d96-d312-0bab2ceecea1"
      },
      "outputs": [
        {
          "output_type": "execute_result",
          "data": {
            "text/plain": [
              "array([[294,  56],\n",
              "       [191, 159]])"
            ]
          },
          "metadata": {},
          "execution_count": 67
        }
      ],
      "source": [
        "#Making the confusion matrix\n",
        "from sklearn.metrics import confusion_matrix, classification_report\n",
        "cm = confusion_matrix(y_test_sm,y_pred)\n",
        "cm"
      ]
    },
    {
      "cell_type": "code",
      "execution_count": 68,
      "metadata": {
        "colab": {
          "base_uri": "https://localhost:8080/",
          "height": 296
        },
        "id": "gDIwmmUs3rTM",
        "outputId": "a62adf68-3e90-4403-ea45-6ea9f57f126a"
      },
      "outputs": [
        {
          "output_type": "execute_result",
          "data": {
            "text/plain": [
              "Text(33.0, 0.5, 'Truth')"
            ]
          },
          "metadata": {},
          "execution_count": 68
        },
        {
          "output_type": "display_data",
          "data": {
            "text/plain": [
              "<Figure size 432x288 with 2 Axes>"
            ],
            "image/png": "[encoded data removed]"
          },
          "metadata": {
            "needs_background": "light"
          }
        }
      ],
      "source": [
        "#from matplotlib import pyplot as plt\n",
        "#import seaborn as sn\n",
        "sns.heatmap(cm, annot=True, fmt='d')\n",
        "plt.xlabel('Predicted')\n",
        "plt.ylabel('Truth')"
      ]
    },
    {
      "cell_type": "code",
      "execution_count": 69,
      "metadata": {
        "colab": {
          "base_uri": "https://localhost:8080/"
        },
        "id": "UWwfnDnL30S_",
        "outputId": "45efc399-3f43-4b85-cb6b-6ab9c5559411"
      },
      "outputs": [
        {
          "output_type": "stream",
          "name": "stdout",
          "text": [
            "              precision    recall  f1-score   support\n",
            "\n",
            "           0       0.61      0.84      0.70       350\n",
            "           1       0.74      0.45      0.56       350\n",
            "\n",
            "    accuracy                           0.65       700\n",
            "   macro avg       0.67      0.65      0.63       700\n",
            "weighted avg       0.67      0.65      0.63       700\n",
            "\n"
          ]
        }
      ],
      "source": [
        "print(classification_report(y_test_sm, y_pred))"
      ]
    },
    {
      "cell_type": "markdown",
      "metadata": {
        "id": "ptv9DYwb4ACo"
      },
      "source": [
        "### **Bidirectional LSTM with Word Embedding Layer**"
      ]
    },
    {
      "cell_type": "code",
      "execution_count": 70,
      "metadata": {
        "colab": {
          "base_uri": "https://localhost:8080/"
        },
        "id": "CCwa54Q13617",
        "outputId": "80790b31-e672-4640-cf3b-e651597b92ee"
      },
      "outputs": [
        {
          "output_type": "stream",
          "name": "stdout",
          "text": [
            "Model: \"sequential_2\"\n",
            "_________________________________________________________________\n",
            " Layer (type)                Output Shape              Param #   \n",
            "=================================================================\n",
            " embedding (Embedding)       (None, 31, 100)           150100    \n",
            "                                                                 \n",
            " bidirectional (Bidirectiona  (None, 62)               32736     \n",
            " l)                                                              \n",
            "                                                                 \n",
            " flatten_2 (Flatten)         (None, 62)                0         \n",
            "                                                                 \n",
            " dense_9 (Dense)             (None, 40)                2520      \n",
            "                                                                 \n",
            " dropout_8 (Dropout)         (None, 40)                0         \n",
            "                                                                 \n",
            " dense_10 (Dense)            (None, 1)                 41        \n",
            "                                                                 \n",
            "=================================================================\n",
            "Total params: 185,397\n",
            "Trainable params: 185,397\n",
            "Non-trainable params: 0\n",
            "_________________________________________________________________\n",
            "None\n"
          ]
        }
      ],
      "source": [
        "# define model\n",
        "bilstm = Sequential()\n",
        "# 100 -> number of features / number of dimensions\n",
        "bilstm.add(Embedding(voc_size, dim, input_length=sent_length,name=\"embedding\"))\n",
        "bilstm.add(Bidirectional(LSTM(sent_length))) # there are 44*2 gated cells inside the layer\n",
        "bilstm.add(Flatten())\n",
        "bilstm.add(Dense(40, activation='sigmoid'))\n",
        "bilstm.add(Dropout(0.3))\n",
        "#bilstm.add(Dense(1000, activation='sigmoid'))\n",
        "#bilstm.add(Dropout(0.2))\n",
        "#bilstm.add(Dense(100, activation='sigmoid'))\n",
        "#bilstm.add(Dropout(0.3))\n",
        "#bilstm.add(Dense(10, activation='sigmoid'))\n",
        "#bilstm.add(Dropout(0.2))\n",
        "#there are one neuron in the last layer\n",
        "bilstm.add(Dense(1, activation='sigmoid'))\n",
        "print(bilstm.summary())"
      ]
    },
    {
      "cell_type": "code",
      "execution_count": 71,
      "metadata": {
        "id": "pY_2LpTL4THd"
      },
      "outputs": [],
      "source": [
        "# compile network\n",
        "bilstm.compile(loss='binary_crossentropy', optimizer='adam', metrics=['accuracy'])"
      ]
    },
    {
      "cell_type": "code",
      "execution_count": 72,
      "metadata": {
        "colab": {
          "base_uri": "https://localhost:8080/"
        },
        "id": "MTTbyJFp4wQn",
        "outputId": "5515e3d0-4622-412c-ae59-951cf5129daf"
      },
      "outputs": [
        {
          "output_type": "stream",
          "name": "stdout",
          "text": [
            "Epoch 1/50\n",
            "32/32 [==============================] - 9s 142ms/step - loss: 0.7098 - accuracy: 0.5449 - val_loss: 1.4340 - val_accuracy: 0.0000e+00\n",
            "Epoch 2/50\n",
            "32/32 [==============================] - 4s 129ms/step - loss: 0.6438 - accuracy: 0.6537 - val_loss: 1.0628 - val_accuracy: 0.0000e+00\n",
            "Epoch 3/50\n",
            "32/32 [==============================] - 1s 30ms/step - loss: 0.5854 - accuracy: 0.6846 - val_loss: 1.1930 - val_accuracy: 0.0000e+00\n",
            "Epoch 4/50\n",
            "32/32 [==============================] - 1s 32ms/step - loss: 0.4306 - accuracy: 0.8114 - val_loss: 1.2683 - val_accuracy: 0.2725\n",
            "Epoch 5/50\n",
            "32/32 [==============================] - 1s 23ms/step - loss: 0.2855 - accuracy: 0.9062 - val_loss: 1.7445 - val_accuracy: 0.2156\n",
            "Epoch 6/50\n",
            "32/32 [==============================] - 1s 23ms/step - loss: 0.1953 - accuracy: 0.9471 - val_loss: 1.7132 - val_accuracy: 0.3054\n",
            "Epoch 7/50\n",
            "32/32 [==============================] - 1s 34ms/step - loss: 0.1286 - accuracy: 0.9711 - val_loss: 1.7656 - val_accuracy: 0.3443\n",
            "Epoch 8/50\n",
            "32/32 [==============================] - 1s 28ms/step - loss: 0.0843 - accuracy: 0.9890 - val_loss: 2.0258 - val_accuracy: 0.3413\n",
            "Epoch 9/50\n",
            "32/32 [==============================] - 1s 20ms/step - loss: 0.0571 - accuracy: 0.9940 - val_loss: 2.0052 - val_accuracy: 0.3832\n",
            "Epoch 10/50\n",
            "32/32 [==============================] - 0s 13ms/step - loss: 0.0401 - accuracy: 0.9960 - val_loss: 2.1445 - val_accuracy: 0.3772\n",
            "Epoch 11/50\n",
            "32/32 [==============================] - 1s 21ms/step - loss: 0.0335 - accuracy: 0.9970 - val_loss: 2.3638 - val_accuracy: 0.3593\n",
            "Epoch 12/50\n",
            "32/32 [==============================] - 1s 15ms/step - loss: 0.0238 - accuracy: 0.9990 - val_loss: 2.4671 - val_accuracy: 0.3563\n",
            "Epoch 13/50\n",
            "32/32 [==============================] - 1s 20ms/step - loss: 0.0244 - accuracy: 0.9990 - val_loss: 2.4474 - val_accuracy: 0.3743\n",
            "Epoch 14/50\n",
            "32/32 [==============================] - 1s 20ms/step - loss: 0.0175 - accuracy: 0.9990 - val_loss: 2.7854 - val_accuracy: 0.3263\n",
            "Epoch 15/50\n",
            "32/32 [==============================] - 1s 24ms/step - loss: 0.0154 - accuracy: 1.0000 - val_loss: 2.7248 - val_accuracy: 0.3533\n",
            "Epoch 16/50\n",
            "32/32 [==============================] - 1s 19ms/step - loss: 0.0131 - accuracy: 1.0000 - val_loss: 2.6196 - val_accuracy: 0.3922\n",
            "Epoch 17/50\n",
            "32/32 [==============================] - 1s 19ms/step - loss: 0.0122 - accuracy: 1.0000 - val_loss: 2.6957 - val_accuracy: 0.3922\n",
            "Epoch 18/50\n",
            "32/32 [==============================] - 0s 10ms/step - loss: 0.0105 - accuracy: 1.0000 - val_loss: 2.9999 - val_accuracy: 0.3443\n",
            "Epoch 19/50\n",
            "32/32 [==============================] - 0s 15ms/step - loss: 0.0094 - accuracy: 1.0000 - val_loss: 3.1027 - val_accuracy: 0.3353\n",
            "Epoch 20/50\n",
            "32/32 [==============================] - 0s 11ms/step - loss: 0.0082 - accuracy: 1.0000 - val_loss: 3.0910 - val_accuracy: 0.3683\n",
            "Epoch 21/50\n",
            "32/32 [==============================] - 0s 15ms/step - loss: 0.0071 - accuracy: 1.0000 - val_loss: 3.2943 - val_accuracy: 0.3323\n",
            "Epoch 22/50\n",
            "32/32 [==============================] - 0s 10ms/step - loss: 0.0071 - accuracy: 1.0000 - val_loss: 3.1850 - val_accuracy: 0.3623\n",
            "Epoch 23/50\n",
            "32/32 [==============================] - 1s 16ms/step - loss: 0.0061 - accuracy: 1.0000 - val_loss: 3.2895 - val_accuracy: 0.3563\n",
            "Epoch 24/50\n",
            "32/32 [==============================] - 0s 10ms/step - loss: 0.0057 - accuracy: 1.0000 - val_loss: 3.3616 - val_accuracy: 0.3533\n",
            "Epoch 25/50\n",
            "32/32 [==============================] - 0s 14ms/step - loss: 0.0057 - accuracy: 1.0000 - val_loss: 3.5031 - val_accuracy: 0.3323\n",
            "Epoch 26/50\n",
            "32/32 [==============================] - 0s 10ms/step - loss: 0.0053 - accuracy: 1.0000 - val_loss: 3.4258 - val_accuracy: 0.3533\n",
            "Epoch 27/50\n",
            "32/32 [==============================] - 0s 11ms/step - loss: 0.0051 - accuracy: 1.0000 - val_loss: 3.4878 - val_accuracy: 0.3533\n",
            "Epoch 28/50\n",
            "32/32 [==============================] - 1s 17ms/step - loss: 0.0050 - accuracy: 1.0000 - val_loss: 3.5065 - val_accuracy: 0.3563\n",
            "Epoch 29/50\n",
            "32/32 [==============================] - 0s 10ms/step - loss: 0.0042 - accuracy: 1.0000 - val_loss: 3.5575 - val_accuracy: 0.3533\n",
            "Epoch 30/50\n",
            "32/32 [==============================] - 0s 11ms/step - loss: 0.0042 - accuracy: 1.0000 - val_loss: 3.5958 - val_accuracy: 0.3533\n",
            "Epoch 31/50\n",
            "32/32 [==============================] - 1s 17ms/step - loss: 0.0040 - accuracy: 1.0000 - val_loss: 3.6270 - val_accuracy: 0.3533\n",
            "Epoch 32/50\n",
            "32/32 [==============================] - 0s 14ms/step - loss: 0.0038 - accuracy: 1.0000 - val_loss: 3.6572 - val_accuracy: 0.3533\n",
            "Epoch 33/50\n",
            "32/32 [==============================] - 1s 17ms/step - loss: 0.0038 - accuracy: 1.0000 - val_loss: 3.6886 - val_accuracy: 0.3473\n",
            "Epoch 34/50\n",
            "32/32 [==============================] - 0s 10ms/step - loss: 0.0033 - accuracy: 1.0000 - val_loss: 3.7118 - val_accuracy: 0.3533\n",
            "Epoch 35/50\n",
            "32/32 [==============================] - 0s 11ms/step - loss: 0.0035 - accuracy: 1.0000 - val_loss: 3.7484 - val_accuracy: 0.3473\n",
            "Epoch 36/50\n",
            "32/32 [==============================] - 0s 14ms/step - loss: 0.0034 - accuracy: 1.0000 - val_loss: 3.7946 - val_accuracy: 0.3443\n",
            "Epoch 37/50\n",
            "32/32 [==============================] - 0s 11ms/step - loss: 0.0028 - accuracy: 1.0000 - val_loss: 3.8128 - val_accuracy: 0.3473\n",
            "Epoch 38/50\n",
            "32/32 [==============================] - 0s 12ms/step - loss: 0.0028 - accuracy: 1.0000 - val_loss: 3.8329 - val_accuracy: 0.3473\n",
            "Epoch 39/50\n",
            "32/32 [==============================] - 0s 11ms/step - loss: 0.0030 - accuracy: 1.0000 - val_loss: 3.8523 - val_accuracy: 0.3503\n",
            "Epoch 40/50\n",
            "32/32 [==============================] - 0s 10ms/step - loss: 0.0031 - accuracy: 1.0000 - val_loss: 3.8987 - val_accuracy: 0.3473\n",
            "Epoch 41/50\n",
            "32/32 [==============================] - 1s 18ms/step - loss: 0.0027 - accuracy: 1.0000 - val_loss: 3.9380 - val_accuracy: 0.3473\n",
            "Epoch 42/50\n",
            "32/32 [==============================] - 0s 13ms/step - loss: 0.0026 - accuracy: 1.0000 - val_loss: 3.9724 - val_accuracy: 0.3473\n",
            "Epoch 43/50\n",
            "32/32 [==============================] - 1s 21ms/step - loss: 0.0024 - accuracy: 1.0000 - val_loss: 3.9875 - val_accuracy: 0.3473\n",
            "Epoch 44/50\n",
            "32/32 [==============================] - 1s 30ms/step - loss: 0.0023 - accuracy: 1.0000 - val_loss: 4.0125 - val_accuracy: 0.3473\n",
            "Epoch 45/50\n",
            "32/32 [==============================] - 1s 17ms/step - loss: 0.0024 - accuracy: 1.0000 - val_loss: 4.0054 - val_accuracy: 0.3533\n",
            "Epoch 46/50\n",
            "32/32 [==============================] - 0s 10ms/step - loss: 0.0020 - accuracy: 1.0000 - val_loss: 4.0245 - val_accuracy: 0.3533\n",
            "Epoch 47/50\n",
            "32/32 [==============================] - 0s 10ms/step - loss: 0.0023 - accuracy: 1.0000 - val_loss: 4.0821 - val_accuracy: 0.3473\n",
            "Epoch 48/50\n",
            "32/32 [==============================] - 0s 13ms/step - loss: 0.0021 - accuracy: 1.0000 - val_loss: 4.1362 - val_accuracy: 0.3473\n",
            "Epoch 49/50\n",
            "32/32 [==============================] - 0s 13ms/step - loss: 0.0019 - accuracy: 1.0000 - val_loss: 4.1617 - val_accuracy: 0.3473\n",
            "Epoch 50/50\n",
            "32/32 [==============================] - 0s 15ms/step - loss: 0.0020 - accuracy: 1.0000 - val_loss: 4.1948 - val_accuracy: 0.3473\n"
          ]
        }
      ],
      "source": [
        "# fit network\n",
        "#lstm.fit(embedded_docs, response, epochs=10, verbose=2)\n",
        "bilstm_history = bilstm.fit(X_train_sm,y_train_sm,validation_split=0.25,epochs=50)"
      ]
    },
    {
      "cell_type": "code",
      "execution_count": 74,
      "metadata": {
        "colab": {
          "base_uri": "https://localhost:8080/"
        },
        "id": "gB3ciev56aKf",
        "outputId": "799aaa72-f468-40cf-c878-827d5a1b5ed8"
      },
      "outputs": [
        {
          "output_type": "stream",
          "name": "stdout",
          "text": [
            "22/22 [==============================] - 1s 3ms/step\n"
          ]
        }
      ],
      "source": [
        "#Predicting the test set result\n",
        "y_pred = bilstm.predict(X_test_sm)\n",
        "y_pred = (y_pred > 0.5)"
      ]
    },
    {
      "cell_type": "code",
      "execution_count": 75,
      "metadata": {
        "colab": {
          "base_uri": "https://localhost:8080/"
        },
        "id": "kv2470il6j3_",
        "outputId": "e485879b-a657-41e2-a148-6aa1df699f47"
      },
      "outputs": [
        {
          "output_type": "execute_result",
          "data": {
            "text/plain": [
              "array([[297,  53],\n",
              "       [212, 138]])"
            ]
          },
          "metadata": {},
          "execution_count": 75
        }
      ],
      "source": [
        "#Making the confusion matrix\n",
        "from sklearn.metrics import confusion_matrix, classification_report\n",
        "cm = confusion_matrix(y_test_sm,y_pred)\n",
        "cm"
      ]
    },
    {
      "cell_type": "code",
      "execution_count": 76,
      "metadata": {
        "colab": {
          "base_uri": "https://localhost:8080/",
          "height": 296
        },
        "id": "2vG7PbkE6qki",
        "outputId": "b144ca79-34fd-4970-f4b5-962ff0c5e4b3"
      },
      "outputs": [
        {
          "output_type": "execute_result",
          "data": {
            "text/plain": [
              "Text(33.0, 0.5, 'Truth')"
            ]
          },
          "metadata": {},
          "execution_count": 76
        },
        {
          "output_type": "display_data",
          "data": {
            "text/plain": [
              "<Figure size 432x288 with 2 Axes>"
            ],
            "image/png": "[encoded data removed]"
          },
          "metadata": {
            "needs_background": "light"
          }
        }
      ],
      "source": [
        "#from matplotlib import pyplot as plt\n",
        "#import seaborn as sn\n",
        "sns.heatmap(cm, annot=True, fmt='d')\n",
        "plt.xlabel('Predicted')\n",
        "plt.ylabel('Truth')"
      ]
    },
    {
      "cell_type": "code",
      "execution_count": 77,
      "metadata": {
        "colab": {
          "base_uri": "https://localhost:8080/"
        },
        "id": "-YtBh_5W6v9K",
        "outputId": "5cde28ff-bd61-4584-b2a0-48ee3139e1f7"
      },
      "outputs": [
        {
          "output_type": "stream",
          "name": "stdout",
          "text": [
            "              precision    recall  f1-score   support\n",
            "\n",
            "           0       0.58      0.85      0.69       350\n",
            "           1       0.72      0.39      0.51       350\n",
            "\n",
            "    accuracy                           0.62       700\n",
            "   macro avg       0.65      0.62      0.60       700\n",
            "weighted avg       0.65      0.62      0.60       700\n",
            "\n"
          ]
        }
      ],
      "source": [
        "print(classification_report(y_test_sm, y_pred))"
      ]
    },
    {
      "cell_type": "code",
      "execution_count": 78,
      "metadata": {
        "colab": {
          "base_uri": "https://localhost:8080/"
        },
        "id": "51oHsYnEQ21_",
        "outputId": "b325e6af-f7c7-4ec8-b701-163807729549"
      },
      "outputs": [
        {
          "output_type": "stream",
          "name": "stdout",
          "text": [
            "22/22 [==============================] - 0s 4ms/step - loss: 2.3065 - accuracy: 0.6214\n"
          ]
        },
        {
          "output_type": "execute_result",
          "data": {
            "text/plain": [
              "[2.3065261840820312, 0.6214285492897034]"
            ]
          },
          "metadata": {},
          "execution_count": 78
        }
      ],
      "source": [
        "bilstm.evaluate(X_test_sm,y_test_sm)"
      ]
    },
    {
      "cell_type": "markdown",
      "metadata": {
        "id": "f_gvnyjK7O6u"
      },
      "source": [
        "### **FFNN with Word Embedding Layer**"
      ]
    },
    {
      "cell_type": "code",
      "execution_count": 79,
      "metadata": {
        "colab": {
          "base_uri": "https://localhost:8080/"
        },
        "id": "hR0xkAki64cw",
        "outputId": "d6e48c73-7132-4fae-ef14-29e6c9fe731b"
      },
      "outputs": [
        {
          "output_type": "stream",
          "name": "stdout",
          "text": [
            "Model: \"sequential_3\"\n",
            "_________________________________________________________________\n",
            " Layer (type)                Output Shape              Param #   \n",
            "=================================================================\n",
            " embedding (Embedding)       (None, 31, 100)           150100    \n",
            "                                                                 \n",
            " flatten_3 (Flatten)         (None, 3100)              0         \n",
            "                                                                 \n",
            " dense_11 (Dense)            (None, 2000)              6202000   \n",
            "                                                                 \n",
            " dropout_9 (Dropout)         (None, 2000)              0         \n",
            "                                                                 \n",
            " dense_12 (Dense)            (None, 500)               1000500   \n",
            "                                                                 \n",
            " dropout_10 (Dropout)        (None, 500)               0         \n",
            "                                                                 \n",
            " dense_13 (Dense)            (None, 10)                5010      \n",
            "                                                                 \n",
            " dropout_11 (Dropout)        (None, 10)                0         \n",
            "                                                                 \n",
            " dense_14 (Dense)            (None, 1)                 11        \n",
            "                                                                 \n",
            "=================================================================\n",
            "Total params: 7,357,621\n",
            "Trainable params: 7,357,621\n",
            "Non-trainable params: 0\n",
            "_________________________________________________________________\n",
            "None\n"
          ]
        }
      ],
      "source": [
        "ffnn = Sequential()\n",
        "ffnn.add(Embedding(voc_size, dim, input_length=sent_length,name=\"embedding\"))\n",
        "ffnn.add(Flatten())\n",
        "ffnn.add(Dense(2000, activation='sigmoid'))\n",
        "ffnn.add(Dropout(0.3))\n",
        "ffnn.add(Dense(500, activation='sigmoid'))\n",
        "ffnn.add(Dropout(0.2))\n",
        "ffnn.add(Dense(10, activation='sigmoid'))\n",
        "ffnn.add(Dropout(0.1))\n",
        "ffnn.add(Dense(1, activation='sigmoid'))\n",
        "print(ffnn.summary())"
      ]
    },
    {
      "cell_type": "code",
      "execution_count": 80,
      "metadata": {
        "id": "srgB-ucP7UQn"
      },
      "outputs": [],
      "source": [
        "# compile network\n",
        "ffnn.compile(loss='binary_crossentropy', optimizer='adam', metrics=['accuracy'])"
      ]
    },
    {
      "cell_type": "code",
      "execution_count": 81,
      "metadata": {
        "colab": {
          "base_uri": "https://localhost:8080/"
        },
        "id": "Bl-q6AYb7YJy",
        "outputId": "2a65b4f8-ee62-4eee-b925-821b14a59585"
      },
      "outputs": [
        {
          "output_type": "stream",
          "name": "stdout",
          "text": [
            "Epoch 1/50\n",
            "32/32 [==============================] - 5s 89ms/step - loss: 0.6497 - accuracy: 0.6607 - val_loss: 0.9915 - val_accuracy: 0.0000e+00\n",
            "Epoch 2/50\n",
            "32/32 [==============================] - 2s 67ms/step - loss: 0.6375 - accuracy: 0.6667 - val_loss: 1.0771 - val_accuracy: 0.0000e+00\n",
            "Epoch 3/50\n",
            "32/32 [==============================] - 1s 36ms/step - loss: 0.6372 - accuracy: 0.6667 - val_loss: 1.1181 - val_accuracy: 0.0000e+00\n",
            "Epoch 4/50\n",
            "32/32 [==============================] - 1s 32ms/step - loss: 0.6385 - accuracy: 0.6667 - val_loss: 1.0754 - val_accuracy: 0.0000e+00\n",
            "Epoch 5/50\n",
            "32/32 [==============================] - 1s 23ms/step - loss: 0.6399 - accuracy: 0.6667 - val_loss: 1.0704 - val_accuracy: 0.0000e+00\n",
            "Epoch 6/50\n",
            "32/32 [==============================] - 1s 24ms/step - loss: 0.6112 - accuracy: 0.6667 - val_loss: 1.2411 - val_accuracy: 0.0000e+00\n",
            "Epoch 7/50\n",
            "32/32 [==============================] - 1s 26ms/step - loss: 0.4641 - accuracy: 0.7645 - val_loss: 1.2955 - val_accuracy: 0.2036\n",
            "Epoch 8/50\n",
            "32/32 [==============================] - 0s 14ms/step - loss: 0.2946 - accuracy: 0.9800 - val_loss: 1.5036 - val_accuracy: 0.2096\n",
            "Epoch 9/50\n",
            "32/32 [==============================] - 0s 13ms/step - loss: 0.2390 - accuracy: 0.9930 - val_loss: 1.6342 - val_accuracy: 0.2186\n",
            "Epoch 10/50\n",
            "32/32 [==============================] - 1s 21ms/step - loss: 0.2023 - accuracy: 0.9970 - val_loss: 1.7080 - val_accuracy: 0.2425\n",
            "Epoch 11/50\n",
            "32/32 [==============================] - 1s 26ms/step - loss: 0.1608 - accuracy: 0.9970 - val_loss: 1.6660 - val_accuracy: 0.2605\n",
            "Epoch 12/50\n",
            "32/32 [==============================] - 0s 15ms/step - loss: 0.1098 - accuracy: 0.9970 - val_loss: 1.6588 - val_accuracy: 0.2964\n",
            "Epoch 13/50\n",
            "32/32 [==============================] - 0s 14ms/step - loss: 0.0929 - accuracy: 0.9980 - val_loss: 1.7914 - val_accuracy: 0.2904\n",
            "Epoch 14/50\n",
            "32/32 [==============================] - 0s 14ms/step - loss: 0.0819 - accuracy: 0.9980 - val_loss: 1.9098 - val_accuracy: 0.2784\n",
            "Epoch 15/50\n",
            "32/32 [==============================] - 1s 17ms/step - loss: 0.0765 - accuracy: 0.9980 - val_loss: 1.9896 - val_accuracy: 0.2725\n",
            "Epoch 16/50\n",
            "32/32 [==============================] - 0s 13ms/step - loss: 0.0697 - accuracy: 0.9980 - val_loss: 2.0562 - val_accuracy: 0.2725\n",
            "Epoch 17/50\n",
            "32/32 [==============================] - 0s 13ms/step - loss: 0.0654 - accuracy: 0.9980 - val_loss: 2.1236 - val_accuracy: 0.2725\n",
            "Epoch 18/50\n",
            "32/32 [==============================] - 0s 10ms/step - loss: 0.0606 - accuracy: 0.9980 - val_loss: 2.1852 - val_accuracy: 0.2695\n",
            "Epoch 19/50\n",
            "32/32 [==============================] - 0s 13ms/step - loss: 0.0598 - accuracy: 0.9980 - val_loss: 2.2370 - val_accuracy: 0.2725\n",
            "Epoch 20/50\n",
            "32/32 [==============================] - 0s 15ms/step - loss: 0.0544 - accuracy: 0.9980 - val_loss: 2.2920 - val_accuracy: 0.2725\n",
            "Epoch 21/50\n",
            "32/32 [==============================] - 0s 8ms/step - loss: 0.0510 - accuracy: 0.9980 - val_loss: 2.3445 - val_accuracy: 0.2725\n",
            "Epoch 22/50\n",
            "32/32 [==============================] - 0s 14ms/step - loss: 0.0488 - accuracy: 0.9980 - val_loss: 2.3921 - val_accuracy: 0.2725\n",
            "Epoch 23/50\n",
            "32/32 [==============================] - 0s 8ms/step - loss: 0.0486 - accuracy: 0.9980 - val_loss: 2.4407 - val_accuracy: 0.2725\n",
            "Epoch 24/50\n",
            "32/32 [==============================] - 0s 7ms/step - loss: 0.0464 - accuracy: 0.9980 - val_loss: 2.4884 - val_accuracy: 0.2725\n",
            "Epoch 25/50\n",
            "32/32 [==============================] - 0s 8ms/step - loss: 0.0451 - accuracy: 0.9980 - val_loss: 2.5341 - val_accuracy: 0.2725\n",
            "Epoch 26/50\n",
            "32/32 [==============================] - 0s 10ms/step - loss: 0.0398 - accuracy: 0.9980 - val_loss: 2.5772 - val_accuracy: 0.2725\n",
            "Epoch 27/50\n",
            "32/32 [==============================] - 0s 10ms/step - loss: 0.0407 - accuracy: 0.9980 - val_loss: 2.6186 - val_accuracy: 0.2725\n",
            "Epoch 28/50\n",
            "32/32 [==============================] - 0s 7ms/step - loss: 0.0396 - accuracy: 0.9980 - val_loss: 2.6606 - val_accuracy: 0.2725\n",
            "Epoch 29/50\n",
            "32/32 [==============================] - 0s 12ms/step - loss: 0.0371 - accuracy: 0.9980 - val_loss: 2.6989 - val_accuracy: 0.2725\n",
            "Epoch 30/50\n",
            "32/32 [==============================] - 0s 7ms/step - loss: 0.0357 - accuracy: 0.9980 - val_loss: 2.7375 - val_accuracy: 0.2725\n",
            "Epoch 31/50\n",
            "32/32 [==============================] - 0s 11ms/step - loss: 0.0332 - accuracy: 0.9980 - val_loss: 2.7607 - val_accuracy: 0.2754\n",
            "Epoch 32/50\n",
            "32/32 [==============================] - 0s 11ms/step - loss: 0.0333 - accuracy: 0.9980 - val_loss: 2.7956 - val_accuracy: 0.2754\n",
            "Epoch 33/50\n",
            "32/32 [==============================] - 1s 16ms/step - loss: 0.0320 - accuracy: 0.9980 - val_loss: 2.8282 - val_accuracy: 0.2754\n",
            "Epoch 34/50\n",
            "32/32 [==============================] - 0s 16ms/step - loss: 0.0327 - accuracy: 0.9980 - val_loss: 2.8581 - val_accuracy: 0.2754\n",
            "Epoch 35/50\n",
            "32/32 [==============================] - 0s 8ms/step - loss: 0.0257 - accuracy: 0.9990 - val_loss: 2.8076 - val_accuracy: 0.2904\n",
            "Epoch 36/50\n",
            "32/32 [==============================] - 0s 12ms/step - loss: 0.0248 - accuracy: 0.9990 - val_loss: 2.8428 - val_accuracy: 0.2874\n",
            "Epoch 37/50\n",
            "32/32 [==============================] - 1s 18ms/step - loss: 0.0269 - accuracy: 0.9990 - val_loss: 2.8860 - val_accuracy: 0.2844\n",
            "Epoch 38/50\n",
            "32/32 [==============================] - 0s 12ms/step - loss: 0.0253 - accuracy: 0.9990 - val_loss: 2.9251 - val_accuracy: 0.2844\n",
            "Epoch 39/50\n",
            "32/32 [==============================] - 0s 16ms/step - loss: 0.0235 - accuracy: 0.9990 - val_loss: 2.9623 - val_accuracy: 0.2844\n",
            "Epoch 40/50\n",
            "32/32 [==============================] - 1s 23ms/step - loss: 0.0237 - accuracy: 0.9990 - val_loss: 2.9999 - val_accuracy: 0.2844\n",
            "Epoch 41/50\n",
            "32/32 [==============================] - 0s 15ms/step - loss: 0.0224 - accuracy: 0.9990 - val_loss: 3.0343 - val_accuracy: 0.2844\n",
            "Epoch 42/50\n",
            "32/32 [==============================] - 0s 15ms/step - loss: 0.0215 - accuracy: 0.9990 - val_loss: 3.0686 - val_accuracy: 0.2814\n",
            "Epoch 43/50\n",
            "32/32 [==============================] - 0s 9ms/step - loss: 0.0210 - accuracy: 0.9990 - val_loss: 3.1029 - val_accuracy: 0.2814\n",
            "Epoch 44/50\n",
            "32/32 [==============================] - 0s 7ms/step - loss: 0.0202 - accuracy: 0.9990 - val_loss: 3.1330 - val_accuracy: 0.2814\n",
            "Epoch 45/50\n",
            "32/32 [==============================] - 0s 8ms/step - loss: 0.0204 - accuracy: 0.9990 - val_loss: 3.1644 - val_accuracy: 0.2814\n",
            "Epoch 46/50\n",
            "32/32 [==============================] - 0s 7ms/step - loss: 0.0210 - accuracy: 0.9990 - val_loss: 3.1949 - val_accuracy: 0.2814\n",
            "Epoch 47/50\n",
            "32/32 [==============================] - 0s 12ms/step - loss: 0.0187 - accuracy: 0.9990 - val_loss: 3.2265 - val_accuracy: 0.2814\n",
            "Epoch 48/50\n",
            "32/32 [==============================] - 0s 10ms/step - loss: 0.0197 - accuracy: 0.9990 - val_loss: 3.2550 - val_accuracy: 0.2814\n",
            "Epoch 49/50\n",
            "32/32 [==============================] - 0s 7ms/step - loss: 0.0189 - accuracy: 0.9990 - val_loss: 3.2838 - val_accuracy: 0.2814\n",
            "Epoch 50/50\n",
            "32/32 [==============================] - 0s 12ms/step - loss: 0.0187 - accuracy: 0.9990 - val_loss: 3.3122 - val_accuracy: 0.2814\n"
          ]
        }
      ],
      "source": [
        "# fit network\n",
        "#lstm.fit(embedded_docs, response, epochs=10, verbose=2)\n",
        "ffnn_history = ffnn.fit(X_train_sm,y_train_sm,validation_split=0.25,epochs=50)"
      ]
    },
    {
      "cell_type": "code",
      "execution_count": 83,
      "metadata": {
        "colab": {
          "base_uri": "https://localhost:8080/"
        },
        "id": "_IUHvq5-7vBZ",
        "outputId": "9356603e-3541-4157-c915-0ce424cf4318"
      },
      "outputs": [
        {
          "output_type": "stream",
          "name": "stdout",
          "text": [
            "22/22 [==============================] - 0s 2ms/step\n"
          ]
        }
      ],
      "source": [
        "#Predicting the test set result\n",
        "y_pred = ffnn.predict(X_test_sm)\n",
        "y_pred = (y_pred > 0.5)"
      ]
    },
    {
      "cell_type": "code",
      "execution_count": 84,
      "metadata": {
        "colab": {
          "base_uri": "https://localhost:8080/"
        },
        "id": "VlvM-4du_LJy",
        "outputId": "ec404f25-2332-47fd-d214-a81b1014c69f"
      },
      "outputs": [
        {
          "output_type": "execute_result",
          "data": {
            "text/plain": [
              "array([[322,  28],\n",
              "       [213, 137]])"
            ]
          },
          "metadata": {},
          "execution_count": 84
        }
      ],
      "source": [
        "#Making the confusion matrix\n",
        "from sklearn.metrics import confusion_matrix, classification_report\n",
        "cm = confusion_matrix(y_test_sm,y_pred)\n",
        "cm"
      ]
    },
    {
      "cell_type": "code",
      "execution_count": 85,
      "metadata": {
        "colab": {
          "base_uri": "https://localhost:8080/",
          "height": 296
        },
        "id": "8Q5-OPk4_WxS",
        "outputId": "19159350-77ae-460f-9abb-e2c0c82f3db6"
      },
      "outputs": [
        {
          "output_type": "execute_result",
          "data": {
            "text/plain": [
              "Text(33.0, 0.5, 'Truth')"
            ]
          },
          "metadata": {},
          "execution_count": 85
        },
        {
          "output_type": "display_data",
          "data": {
            "text/plain": [
              "<Figure size 432x288 with 2 Axes>"
            ],
            "image/png": "[encoded data removed]"
          },
          "metadata": {
            "needs_background": "light"
          }
        }
      ],
      "source": [
        "#from matplotlib import pyplot as plt\n",
        "#import seaborn as sn\n",
        "sns.heatmap(cm, annot=True, fmt='d')\n",
        "plt.xlabel('Predicted')\n",
        "plt.ylabel('Truth')"
      ]
    },
    {
      "cell_type": "code",
      "execution_count": 86,
      "metadata": {
        "colab": {
          "base_uri": "https://localhost:8080/"
        },
        "id": "Ovk6L7gk_cX0",
        "outputId": "2a04b08e-3eb5-473f-ee79-6c7a0375bfb2"
      },
      "outputs": [
        {
          "output_type": "stream",
          "name": "stdout",
          "text": [
            "              precision    recall  f1-score   support\n",
            "\n",
            "           0       0.60      0.92      0.73       350\n",
            "           1       0.83      0.39      0.53       350\n",
            "\n",
            "    accuracy                           0.66       700\n",
            "   macro avg       0.72      0.66      0.63       700\n",
            "weighted avg       0.72      0.66      0.63       700\n",
            "\n"
          ]
        }
      ],
      "source": [
        "print(classification_report(y_test_sm, y_pred))"
      ]
    },
    {
      "cell_type": "code",
      "execution_count": 86,
      "metadata": {
        "id": "hxDTpcsV_pXS"
      },
      "outputs": [],
      "source": []
    }
  ],
  "metadata": {
    "accelerator": "GPU",
    "colab": {
      "provenance": []
    },
    "gpuClass": "standard",
    "kernelspec": {
      "display_name": "Python 3 (ipykernel)",
      "language": "python",
      "name": "python3"
    },
    "language_info": {
      "codemirror_mode": {
        "name": "ipython",
        "version": 3
      },
      "file_extension": ".py",
      "mimetype": "text/x-python",
      "name": "python",
      "nbconvert_exporter": "python",
      "pygments_lexer": "ipython3",
      "version": "3.9.13"
    }
  },
  "nbformat": 4,
  "nbformat_minor": 0
}